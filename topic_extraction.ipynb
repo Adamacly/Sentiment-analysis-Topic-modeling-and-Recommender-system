{
 "cells": [
  {
   "cell_type": "code",
   "execution_count": 1,
   "id": "707a3b92",
   "metadata": {},
   "outputs": [],
   "source": [
    "import numpy as np\n",
    "import pandas as pd"
   ]
  },
  {
   "cell_type": "code",
   "execution_count": 31,
   "id": "b4c1784c",
   "metadata": {},
   "outputs": [],
   "source": [
    "#import plotly.io as pio\n",
    "#pio.renderers.default = 'notebook_connected'"
   ]
  },
  {
   "cell_type": "code",
   "execution_count": 2,
   "id": "adada090",
   "metadata": {},
   "outputs": [
    {
     "name": "stderr",
     "output_type": "stream",
     "text": [
      "c:\\Users\\ADAMA\\Desktop\\Projet text mining\\env\\Lib\\site-packages\\tqdm\\auto.py:21: TqdmWarning: IProgress not found. Please update jupyter and ipywidgets. See https://ipywidgets.readthedocs.io/en/stable/user_install.html\n",
      "  from .autonotebook import tqdm as notebook_tqdm\n"
     ]
    }
   ],
   "source": [
    "#from sklearn.datasets import fetch_20newsgroups\n",
    "from sentence_transformers import SentenceTransformer\n",
    "from bertopic import BERTopic\n",
    "from umap import UMAP"
   ]
  },
  {
   "cell_type": "code",
   "execution_count": 7,
   "id": "6a6912f0",
   "metadata": {},
   "outputs": [
    {
     "name": "stdout",
     "output_type": "stream",
     "text": [
      "0\n"
     ]
    }
   ],
   "source": [
    "df = pd.read_csv(\"data/reviews_cleaned.csv\")\n",
    "df = df.dropna(subset=['Summary'])\n",
    "print(df[\"Text\"].isnull().sum())\n",
    "df[\"Summary_Text\"] = df[\"Summary\"] + df[\"Text\"]\n",
    "docs = df['Summary_Text'].head(1000).tolist()"
   ]
  },
  {
   "cell_type": "code",
   "execution_count": null,
   "id": "8a5a2f67",
   "metadata": {},
   "outputs": [],
   "source": [
    "#docs"
   ]
  },
  {
   "cell_type": "code",
   "execution_count": 8,
   "id": "4ead5244",
   "metadata": {},
   "outputs": [],
   "source": [
    "# Prepare embeddings\n",
    "#docs = fetch_20newsgroups(subset='all',  remove=('headers', 'footers', 'quotes'))['data']\n",
    "#docs = pd.read_csv('data/reviews_cleaned.csv')['Text'].tolist()\n",
    "sentence_model = SentenceTransformer(\"all-MiniLM-L6-v2\")\n",
    "embeddings = sentence_model.encode(docs, show_progress_bar=False)"
   ]
  },
  {
   "cell_type": "code",
   "execution_count": 9,
   "id": "ecb71f39",
   "metadata": {},
   "outputs": [],
   "source": [
    "# Train BERTopic\n",
    "topic_model = BERTopic().fit(docs, embeddings)"
   ]
  },
  {
   "cell_type": "code",
   "execution_count": 10,
   "id": "6422ea66",
   "metadata": {},
   "outputs": [
    {
     "name": "stderr",
     "output_type": "stream",
     "text": [
      "2025-05-27 19:07:12,445 - BERTopic - WARNING: When you use `pickle` to save/load a BERTopic model,please make sure that the environments in which you saveand load the model are **exactly** the same. The version of BERTopic,its dependencies, and python need to remain the same.\n"
     ]
    }
   ],
   "source": [
    "topic_model.save(\"my_bertopic_model.pkl\")"
   ]
  },
  {
   "cell_type": "code",
   "execution_count": 11,
   "id": "987cf7ba",
   "metadata": {},
   "outputs": [
    {
     "data": {
      "application/vnd.plotly.v1+json": {
       "config": {
        "plotlyServerURL": "https://plot.ly"
       },
       "data": [
        {
         "hoverinfo": "text",
         "hovertext": [
          "tastetest wine makerbought strawberry extract hoping spruce strawberry wine ended less flavor would original expected. (a common problem fruit wines.)<br /><br />this is, indeed, good strawberry flavor! add sugary concoction (be baking good, dessert drink) either give strawberry flavor (or add existing flavor), presto, everyone licking lips (and maybe fingers).<br /><br />for interested, found right addition liquid volume oz extract per gallon liquid.",
          "disappointspicy version ketchup bad, expensive. regular version sweet dessert. horrible. annie's organic much better flavor costs lot less. even heinz organic better deal. gave three stars instead two glass, plastic.",
          "great tast chiplooking pictures someone put showing crushed box, write review. bought chips numerous times amazon warehouse deals time came packaged perfectly. sale end summer received cases/boxes $. chips fresh hard eat one bag. hid garage remembered went there; way eat all. far pictures, person contacted amazon, made ok. amazon great handling complaints person given perfect customer service called amazon. thanks great tasting product, good price quick shipping. buy again...soon.",
          "goodgood sunflower seeds good price prefer unsalted variety, hard find.<br /><br />one thing keep mind though, expiration \"best by\" date. example, order april batch receive june \"use by\" date, may stretch consume bags seeds start going rancid you. since roasted oil unsalted, seeds may spoil readily salted variety, even refrigerated upon receipt.<br /><br />amazon seem specify \"use by\" dates food products sell, gamble purchaser. assuming amazon ship stuff \"expired\", probably ship oldest stock first, \"use by\" date item may would select choice.",
          "best chipkettle lightly slated chips favorite market. care \"fancy\" flavors salted right. thick, super crunchy full flavor, best!",
          "knowknow fresh supposed taste like did. checked expiration date current still tasted kind stale !!!",
          "tasti make sure gumspicy chips lot great flavor warned, left stanky breath afterwards! first time ate night even brushing flossing could taste mouth next morning. careful eat them, especially hanging people later day.",
          "delicifirst drink mother brought back visit home brittany france thought delicious! wish bit cheaper that, love product!",
          "wowordering sea salt chips year.i love them,but daughter picked local grocery store new favorite.will ordering them.",
          "heysay fantastic chocolate chip cookie! thing could improved offered bushel box would run fast. hope go way dinosaur!",
          "realemon juic amazongood frozen lemon juice, good. slightly odd flavor, perhaps preservative. sure wish could order frozen juice!",
          "alway freshhusband twizzlers addict. bought many times amazon government employees living overseas cannot get country assigned to. always fresh tasty, packed well arrive timely manner.",
          "burnlove spicy ramen, whatever reasons thing burns stomach badly burning sensation go away like hours! sure healthy .... buy walmart $, way cheaper amazon.",
          "caution kettl chip addictreally amazing chips. put one cheeses blue cheese...it subtle even blue cheese haters (like me)will enjoy these.",
          "love love lovepopchips good. following weight watchers lost pounds goal. popchips salty crunchy indulgence. taste good,",
          "love smaller bagyo kettle chip addict happy find snack size bags lunch!!! great quality much cheaper stores!!! definitely buying more!",
          "highli addicit chipadmit chips good highly addictive. cannot stop eating them!!! crunchy seasoned right amount flavor salt. perfect!!! believe me, chips salty, cannot finish small bag. one... keep eating!",
          "dum dumwork college financial aid keep bowl desk students. used buy grocery store learned could get less online ($ bag) thought good deal - found great deal!",
          "tast awesom look beautibest investment ever made ginger. unbelievable! fibrous like real ginger, spicy kick it, perfect sugar - calms down. worth $ it! getting soon - use topper ginger cupcakes cookies :)",
          "best stuff everused moroccan recipes, syrup brilliant mixed beverage swirled topping sliced oranges soaked orange water. wonderful, wonderful stuff!",
          "super superfood super easiwow! product impressive. bought blueberry pleased packaging, price shipping. powder dissolves instantly. even water! mixing tsp small glass water drinking tastes great!, add smoothies juiced fruit juices next. product economical compared purchasing fresh blueberries, especially waste due mold overripe berries thrown away. think could add baked unbaked foods well. excited add superfoods diet fast easy way. definitely trying flavors soon.",
          "perfect mix eggallergpancakes taste great without recipe adjustments son's egg allergy. also great camping time would like able make pancakes without fresh eggs available.",
          "crispi crunchi robustlong enjoyed brand chip, began think seriously limiting salt intake particularly pleased find these.<br /><br /> granted bought somewhat reluctantly confirmed salt-aholic, generously sprinkling everything eggs green beans. pleasantly surprised chips satisfying robust taste crispy boot.<br /><br /> nice able munch without worrying much salt.",
          "great good back day teenused love growing stopped drinking water lemon juice brand years ago. stuff used strong used pour mouth get alive feeling going. feels like product went changes added water something make strong. stronger less use well. product still really good taste quality cheaper brand names almost. thought would go fast hey lemon stuff love unless goes bad. good product wish still hit mouth chug sensation used like.",
          "yummifound crisps local walmart & figured would give try. yummy may never go back regular chips, big chip fan anyway. problem eat entire bag one sitting. give crisps big thumbs up!",
          "item awesomfirst all, love packaging making heatproof would problem ordered winter freakishly cold. also want thank veryasia free sample mi goreng...it delicious!!! love mi goreng.",
          "scottiholiday liquor cups exactly looking for. chocolate is<br />delicious holds well liquors",
          "messag ham baseused ham base. loaded message. realize ordered return food item",
          "spici goodlike spicy, you. like spicy, enjoyed these. also crunchy, kettle-cooked chips be.",
          "great productlemon juice must kitchen year-round. powerful flavor need much zest dish. add spritz water nearly every day.<br /><br />i buy product again.",
          "honey dijon leav bad aftertast ny cheddar pretti goodhoney dijon flavor: okay flavor, girlfriend thought left bad aftertaste. aftertaste sort like old cheese (presumably folks like this... fancy cheese eater), lingers least hour. would give flavor rating stars /><br />we also tried ny cheddar flavor ( stars), liked better, leave long-lingering bad aftertaste.<br /><br />i would give consistency chips stars. chips crunchy, also greasy enough keep napkin near wash hands eating kettle chips.",
          "faboo danger prone chip bingordered week organic foods delivery service. oh word! spicy (but burning spicy, like tongue-warming), sweetish, salty...a really strongly-flavored delicious chip. like barbecue flavor, nice sweet-mexi-fied barecue.<br /><br />i also like organic.<br /><br />i ate oz bag less minutes. bad. dang, sinfully delicious.<br /><br />granted, whole lot (it skimpy price, often case comes organic), calories pop. geesh.<br /><br />yes, cals per oz serving. par course fried chips.<br /><br />verdict: fattening, crispy, flavorful, delicious. best stick small servings side low-fat sandwich soup.<br /><br />enjoy.<br /><br />mir",
          "bit stale sideexpiration date . smashed and. stale. edible, real enjoyable price paid, one best pretzel's when<br />i purchased publix. stopped carrying them, must find another addiction.",
          "simpl goodnever heard safcol brand tired trying typical pouches; starkist chicken sea. really surprised thought bit better brands less seasoning.",
          "twizzler strawberriproduct received advertised.<br /><br /><a , strawberry, bags (pack >",
          "best chip everreceived chips gift basket absolutely loved them. searched high low, unable find saw here. immediately ordered case. chips light, crispy, flavorful, good you. love dip, chili, plain. try them, hooked!",
          "god love cookifattening good you, right? heard, least, admittedly unreliable person.",
          "hardgreat cutting back fat, resemble regular chips nothing like them. extremely dry hard.",
          "delicipotato chips delicious! potato chips approximately two years difficult find organic chips. amazon lowered price these, finally chance order them. definitely ordering again! family love them. pure void artificial flavorings. true flavor present, satisifies need something salty, sweet, spicy, crunchy. a++++",
          "never paid muchbought grocery outlet seattle tacoma $ case tweleve paying $ yes dollar. like taste great bad either low calorie buy whacked price.",
          "much flavor fart smell like sweet onionchips taste awesome. unlike flavored chips, actually make sure plenty flavory salty goodness gets individual chip. pass gas near pretty ladies consumption. totally know you.",
          "best waferthink favorite cookies ever. really light creamy. bad longer find anywhere less two-hundred count! think need many.",
          "good egg allergiglad found mix make pancakes without eggs son allergy.<br />they taste fine family- like many ways!",
          "best wide avail bbq chipthesedon't like hot food might bit much you. great balance sweetness spice. course, kettle chips good chips - use good oil make even plain ones tasty. also like ridged chips - usually crunchy hard chew - want work hard deliciousness. like spicy barbecue definitely like chips.",
          "tast goodpurchased mango flavor, take like mango all. hint sweetness, unfortunately hint aftertaste almost like licorice. consuming various sports nutrition products decades, familiar come like taste products tried. mango flavor one least appealing tasted. terrible, bad enough notice bad taste every sip take.",
          "love tartletnice alternative apple pie. love fact slicing dicing. easy prepare. also loved fact make fresh whenever needed.",
          "tast great love hot spici bad pricefan hot & spicy maruchan ramen long time. enjoy spice, love ramen, love product. bad way expensive amazon. $ per walmart.",
          "great good expens brandsaltwater taffy great flavors soft chewy. candy individually wrapped well. none candies stuck together, happen expensive version, fralinger's. would highly recommend candy! served beach-themed party everyone loved it!",
          "interest info bake sodaconcerned aluminum free product, product you. bad baking soda form contain aluminum. is, however concern baking powder can, depending manufacturer, contain aluminum. save hard earned money buy bob's red mill regular baking soda. arm & hammer great general cleaning purposes, natural beauty health care, brand perfect.<br /><br />just thought would like know. almost fell little digging around. :)<br /><br />p.s- let amazon.com-land feel one \"haters really know talking about\", love bob's red mill co. shall continue purchasing excellent products.",
          "furnitur polish tastterrible! artificial lemon taste, like pledge lemon furniture polish. yourself. use plain flake salt fresh grated lemon zest.",
          "goodsalt vinegar chips definitely favorite type potato chip. ones made kettle tasty enjoyed thoroughly. wish healthy option great taste.",
          "bag damag hole stainchips great...for first bags. however, first bag two, noticed remaining bags damaged. holes bag black, sticky stains outside. reviewers bought around time claiming found rodent holes bags chips.<br /><br />the chips came sealed kettle box, hard say screwed up. someone somewhere screwed up. chips health hazard holes bag. now? like game roulette.",
          "want gaain twenti pound control whatsoev buychips good, bad, create moral dilemmas constantly. wou strong will, large bbq go it, me, habit bringing new bag work every three days, put lot time treadmill make it. beware",
          "best chip anywherkettle chips thicker crunchier (though greasier times) chips, honey dijon flavor great. overwhelming salty taste cheaper chips have, size great adult size snack.",
          "rip pricesingles sell $ - $ store box singles. sure amazon selling $ box singles. hazelnut coffee creamer favorite, truly good buy.",
          "addict potato chipeat risk. would open bag could stop. good salty.",
          "drip oilpurchased low salt, indeed low salt. however, many, many chips bag literally dripping oil. never encountered problem potato chip brands. unappetizing, wants oil? never buy again, would recommend others.",
          "king season salthonestly best seasoning salt land. tightens dish; spicy, perfectly seasoned. perfect, hence, purchase oz. mamma jamma.",
          "favorit kettl flavor great valureading reviews, got nervous opened bag recent order expecting worst! worries here. bags great shape expiration dates june. chips, least first bag, taste like supposed good world! way, fifteen bags thirty dollars ton less expensive going price around local grocery store so, yay team!",
          "good sugarless gum stronger gum better bubbl blow sugarless gumbesides mentioned title, remarks price hard beat, taste akin flintstone strawberry vitamin (for tasted them), taste lasts long. would say, scale lasting extraordinary amount time would . also, taste really diminishes subdued sweet short amount time.",
          "miss saltsomeone brought party last month put buffet full think anyone would like saltless potato chips. last week friends pantry put out. oh gosh good! wrong think would bland; full real potato flavor, wonderfully crisp fresh tasting. amazon buy case, want dips. truly delicious!",
          "big tub saltthings huge! love way crystals crunch, flavor overpowering subtle. lemony flavor favorite--it good almost everything. plenty flavored salt long time buy this.",
          "like spice getbest spicy chips ever pleasure eating. start sweet, eat spice builds up. fantastic. want commit whole case, pick bag local whole foods first, stock realize amazing are. got case right here, loving every bite. side note, brand (kettle brand) many delicious varieties- personal favorite. also highly recommend: backyard bbq, honey dijon, sweet onion, buffalo bleu, salt pepper death valley chipotle. lays got nothin kettle brand!!!",
          "shrimp stir frilove bag shrimp pound, stir fry veges little onion chopped. hot tasty.",
          "handifast delivery good product. lemon juice concentrate find stores really handy around add sauces, dressings, etc. pain squeeze fresh juice everytime need it, nevermind lemons hand begin with.",
          "best white gravinothing easier. nothing better. even beats grandmother's white gravy recipe. already peppered you. nothing mix water. takes minute two. highly recommend gravy mix. disappoint.",
          "wonder gravigravy mix excellent ... except, use water called for, use milk instead, makes % better!!",
          "crunchi spicilove jalapeno chips kettle must try.<br />nice cruncy kick jalapeno.<br />delicious.<br />addicting.<br />recommended.",
          "tast great cheaper locallove flavor ramen! eat flavors anymore taste bland comparison. convenience delivered home (i prime, get two days pay shipping), price amazon bad all, still cheaper run pick case grocery store.",
          "fresh fruit dark chocolgot girlfriend birthday. fruit actually tasted fresh yummy! love dark chocolate, loved dark chocolate almonds. next time give organic version product... someone close share :)",
          "lovecoffee great organic ingredients! pesticides worry about, plus tastes good, healing effects ganoderma.",
          "burn skin lipadmit oversalted chip addictive, really think one gone far. skin literally peeled lips inside mouth eating these. surprised still market.",
          "pleas sell mexicolived us yrs now, miss twizzlers!! go back visit someone visits me, always stock up. say yum!<br />sell mexico faithful buyer, often able buy right now.",
          "gaaak extrem potato chipfirst time tried these, thought, \"wow!\" quickly found darn spicy tart... hard enjoy potato-chippiness mouth seige.",
          "great chipreason amazon would ship alaska!..so sent grandchildren got enjoy them. good chips! amazon rethink shipping alaska thing. would order groceries online.",
          "kettl potato chip fulli load bake potatonever met kettle brand chip like. chips great loaded potato flavor, flavorful. like sweet onion chips better, also top list great-tasting potato chips. kettle chips great chips f/the money!",
          "excel gfplease ignore one-star comments, check bag main ingredient fact whole grain brown rice second rice flower. anything gluten free add another \"binder\" corn flour comes in. someone celiac disease cannot sunchips, contain wheat (a key binder chip, cookie cereal) excellent product. spouse buy lot gluten free absolutely delicious!",
          "twizzlerbought husband currently overseas. loves these, apparently staff likes also.<br />there generous amounts twizzlers bag, well worth price. <a , strawberry, bags (pack >",
          "great buygreat could stop eating them.<br />lowest priced anywhere buy even next time.<br />cannot say enough these, shipped faster paid shipped also.<br />thank much.",
          "one best flavorkettle chips flavors hit miss. flavors terrible. simple delicious. probably one best flavors.<br /><br />pros: thick, crunchy potato chips light salt compromise taste, eco-friendly business giving us lip service<br /><br />cons: occasional burnt chip bag pain open. tab pull time end tearing entire side bag. use scissors instead.",
          "delici go help weight lossyahoo deems ok give give suck review stuff like taste, feel must assert -as matters taste- \"de gustibus non disputandem est\".<br /><br />i really love gum. ok really taste like strawberry, still delicious. wonderfully smooth consistency halfway through, gets tired, stuff, squeaky.<br /><br />you forgive squeaks perhaps find, did, stuff wonderful dietetic aid. obsessively chewing product filled gut odorless room air helped lose # months.<br /><br />also, lose flavor bedpost overnight.",
          "love weaver fantried (or heard of) till recently weavers favorite. running list types looking favorite found one yet, darned smooth. bite, taste, little pricy still worth it. worse price wise starbucks peets. keep running list see happens. love far.",
          "deliciperfect!! favorite season variety spices exactly suit tastes without salt!",
          "mcclure bloodi mari mixtook one two get used pickle taste. aim hooked keep bottle hand",
          "great strong flavoragree company motto \"a natural obsession\". tried small bag local store immediately bought bulk online save percent. flavor strong, best paired food mild flavor, like steamed vegetables plain whole grain bread. otherwise compete clash food.",
          "love chipbought chips little sandwich shop sonoma vacation. sure expect package, first bite know think...and flavors hit!<br />yum! bit spicy, nothing overpowering. lots crunchy, sweet, spicy goodness. sold everywhere though, still trying find somewhere close live.",
          "sourlove sour food one cannot bear. strong sour taste... even open bag, sour smell strong. like it.",
          "best everyday cookispent several summers italy. biscotti often given breakfast food mid-day snack. simple delicious sold us back then. good brought back two bags recent trip italy. great see may found amazon!<br /><br />note: great open bag, smell contents, pour glass milk, dip macines milk. great routine treat kids!",
          "kettl brand potato chip new york cheddarkettle branch potato chips new york cheddar: good like kettle fried potato chips waaaay salty, burnt side, taste rancid, either cheese flavoring oil fried already old. want like brand chips try new flavors every then. but, tried sorts brands kettle cooked chips, hit spot me.",
          "delicigood products fast shipping equals happy me. little pricey hand pick good flavors...a cannot find anywhere else def worth price",
          "acquir tastok,i read reviews ranged splendid awful. took plunge like salty, tangy flavors. no, never took leap ordered case super price. arrived quickly great shape sell date feb . umm, middle chips, ok something cannot live without. love crunch, color, trans fat. little vinegary taste, lot coming kid grew eating pickled hard-boiled eggs pickled pigs feet.<br /><br />i tried deli sandwich cold mug beer might improve experience :)",
          "wast vinegar cucumb shamefirst bought pickled asparagus amish market love first bite. hence, saw discount rack local safeway cleaned out. even better ones amish market. fantastic, jars bonus clove garlic bottom. going order six pack household one. go waste!",
          "yumlow calorie satisfying. soups nice fill want much want hungry hours.",
          "spicitried conventional kettle crinkle chip verson salt peper, cannot compare those! easily spicy chips ever eat, oompletely enjoyable. finish bag indside coated spices. great stuff.",
          "love kettl chip flavorreally looking forward trying chips since love cheese super disappointed! big fan kettle chips tasted somewhat stale almost plain! supposed cheddar taste cannot taste that...it annoying. recommend flavor..salt vinegar buffalo bleu favorite.",
          "coffeem creamerseller nice. price good. reason stop ording bacause went sugar free, time it. watch fat take, would get product them.",
          "firm qualiti chipgot order ok. bit light cheddar flavoring herb taste eludes me, there.",
          "good deal close expir datelove sea salt & vinegar flavor kettle. saw one daily deal $, put order without doubt. however, received case, found whole case expiring december got end august. tried one package definitely taste unfreshness chips. disappointed found item returnable! convenient! although love chips, order concern close expiration date...",
          "differ flavorlove chips. flavor plain. sweet spicy time. drawback tad bit much salt. but, still great flavor!",
          "much flavorthings darn cheesy. like lot flavor, love these. otherwise, overdose cheddary goodness.",
          "perfect sampler milka chocolmilka naps mix gift box fun, unique gift tired whitman's usual american brands. nothing wrong whitman's, sometimes change look flavor nice.<br /><br />as sampler, provides milka options. four flavors here: noisette, hazelnuts, alpine milk strawberry. delicious, though like strawberry/chocolate (in candy) personally, give away eager friends. naps box perfect coffee tables standalone dish work.<br /><br />milka famous purple cow, owned kraft, eastern european chocolate originally produced switzerland available germany, austria, hungary nearby countries.<br /><br />distribution still weak united states, found increasingly larger cities. usually, then, found international grocery stores, though pops eclectic grocers time time. around years. whether kraft change recipe yet seen. now, texture taste better hershey's nestle. smoother, creamier basic chocolate.<br /><br />i fully recommend milka naps mix gift box.<br /><br />anthony trendl<br />editor, hungarianbookstore.com",
          "weigh oz fluid ouncgood quality nectar. tasty.<br /><br />however, expecting fluid ounces, ounces weight.<br /><br />i find ounces weight makes fluid ounces.",
          "edibldisco dust edible made baking. purchase product purposes!",
          "bite sizemight mistaken, appears pieces bag reduced size. that, doubtlessly done make appear buyer got better deal, many pieces all. problem pieces certain size order enough flavor eating experience. is, use pieces match old piece size; same.",
          "famou reasonarrived time packaged green plastic wrap. cookies fresh boxes found local grocery store.<br /><br />i complaints also cookies. ate all!",
          "omaha appl tartletabsolutely scrumptuous! husband love them, however, another customer put it, expensive ship! cost shipping tartlets are!",
          "tast goodtaste like stale. order again. coffee year annerversery reception hall it. stuff tasted nothing, like douwe egberts hall. possibly stale coffee.",
          "pretti tasti decent spiceson bought package jalapeno potato chips couple weeks ago, become addicted.<br /><br />first, kettle chips appear somewhat better terms fats etc. many chips, one peruses dietary information.<br /><br />second, individual chips nice crisp good crunch value munch away them.<br /><br />third, jalapeno kick (not overly hot, course). many products labelled spicy not, kick, bland be. here, get slow noticeable burn jalapeno. preference? bit heat. understand consumers would prefer somewhat less would. still, decent spicyness.<br /><br />all all, pretty happy product, weeks since first bought it. purchase package week foray local grocery store. . . .",
          "smilesmiles... thank lord, found another healthy snack food unsalted, tastes great. almost gave finding potato chip like this. thing would ask kettle change texture. slightly hard/crunchy, problem all. would prefer softer. kettle make happen, please keep everything else same. thank you.",
          "huge hit offickeep case office always least tin two desk visitors help to. folks stop grab mints others pop like candy meet. find someone keeps coming back give tin! one co-worker asked save tins could use pillboxes safety pin boxes. like said, real hit. since would able keep hands candy dish, good alternative around nice around garlic lunch! gave item stars tasty sugar version mints sugar free item good full sugar counterpart?) fact tin wrapped plastic seems like waste irritating remove (although totally get wrap - still make easy deal with).",
          "excel qualiti product fast deliveriproduct high quality, rich full flavor.<br /><br />delivery unexpectedly fast.<br /><br />the negative would like see addressed product packed heavy paper sack. may commonplace, significant improvement would inner liner heavy weight, food grade, plastic bag sealed time open bag. could either zip-lock bag twist tie closure... make difference... need practical way preserve freshness product keep bugs it.<br /><br />this health spoilage issue... oatmeal lot product needs either repackaged consumer small food grade bags containers (very expensive hard find}. single senior likes buy staple goods bulk save money provide food security. long term storage big issue people like me.<br /><br />thom (missouri)",
          "cranberribought local specialty-item store adore chutney. higher price sold like gourmet item wrongly thought would better affordable brands sold supermarket. wrong. mostly gel (jelly) fruits sprinkled throughout tastes like cheap thickened jelly put sandwiches...i much better talking supermarket brands. disappointed. money buy quality.",
          "price cannot correcthey, description says grams - roughly ounces $ per can. way - approximate price gram can.",
          "delicicinnamon cake loaf wonderful natural flavor. moist tender great little sweet treat want something terribly bad diet. delicious!",
          "excel everyday oliv oilgreat stuff dependable, especially million brands \"out there\" choose from. love stuff. really high end desires, go apollo olive oils california. buy whole lot stuff buy again.",
          "great cookiitalian lived italy years. used buy cookies everyday breakfast italian espresso. could find anywhere bay area, great again.",
          "fabulchips best tasted. filled chemicals. taste tangy vinegar well potato. greasy. perfectly crispy. like salt vinegar tanginess, even bother try. definitely zip. love them. children friends love them. even year old loves them!",
          "dad realli likeordered dad fathers day ate whole box within two days.<br />he said tasted really good, want order myself, haha.",
          "greatest oil sinc slice breadused oil several years best eating bread cooking, love regular, use everything. sorry tired it, great dipping bread cooking omelet, green beans.",
          "lovelove these.........very tasty!!!!!!!!!!! infact, think addicted them.<br />buying packs bags - reasonable going target getting bag. savings $ bag. use subscribe save several product. love subscribe save!!!!!!!!!!!",
          "absot posilut delicichilling fridge seems boost flavor even more; using them, rather corn chips, make nachos tastebuds singing like janet jackson. (but without associated wardrobe risks. (-:) highly recommended.",
          "stale productarrived days stale could eat bags!!",
          "tast bottl mix vanilla true flavorgot tasted strait bottle, tasted like smoky flavored milk - yuck! depressed stuck bottles this. sat shelf forgot it. last weekend tasted zevia cream soda pleased flavor, tasted weird smokey like lorann oil gotten. tried doctor soda little sf vanilla torani syrup tablespoon heavy cream - tasted amazing!!! odd smokiness gone wonderful rich mouthfeel.<br /><br />so wanted see would help lorann oil too. put cup whipping cream bowl added teaspoon vanilla tasted it, tasted fine. added one drop oil, strong, stirred - tasted much better! whipped put fruit treat.<br /><br />now always whip drop vanilla desserts whip cream. happy accident find use it. added vanilla really adds new depth flavor tastes different bottle cream.<br /><br />it potent use drop increase tasting, add much ruin recipe use light touch.",
          "tastibest tasting tuna pack make opinion - make great go snack, really satisfying tomato",
          "best buy bbq chiptried many varieties bbq chips hands best market! r salty greasy. great crispy crunch. plenty good bbq flavor hint sweetness brands fall short of. every bag (after bag) mouth wateringly delicious !!",
          "excellike them:<br />) thick chips.<br />) trans fat natural, according info bag.<br />) flavor, subjective thing.<br />) bags, keep eating much one time. set limit bag.<br /><br />cons:<br />as another reviewer said, lot oil chips. place paper napkin plate pour chips them. wait mins eating napkin soak oil off. seems gross much oil chip napkin soak off, true! least way, get rid oil.",
          "glad find oz sizebuy mostly vending, size bag important. kettle's oz bag good size although seems bit less full. salt & vinegar flavor satisfying, .",
          "delicibought chocolate liquor cups party! big hit. high quality good buy.",
          "great chip low sodiumsodium per serving, chips crisp. sometimes dip low salt ketchup adds bit flavor.",
          "vanilla tootsi rolltry vanilla tootsie rolls! regular chocolate ones good, best ever!!",
          "right size tastfound much tastier plain tuna pouches there. excellent quality, need 'dress up'.<br /><br />i put micro % power minute shazam!<br /><br />i believe little heating brings flavor.",
          "made michigan sinclike \"vernor's\", drink time. old fashioned drink michigan, since , labeling known lovely green gold colors gnome character. look actually called ginger soda instead ale different typical ginger ale taste. vernors strong vanilla presence, smoother moist, sweeter ginger ale. closer cream soda ginger ale, good. ginger ale dry, higher carbonation, spicier bite it. vernors grams sugar per can, versus grams per schweppes ginger ale. neither caffeine.<br /><br />the recipe changed bit years mostly choice sweeteners. use high fructose corn syrup cost-cutting mega soda companies use, rather cane sugar used use. side corn syrup syrup drowns flavors. many microbrews using cane sugar again, although costs more, get better taste. vernor's still aged oak barrels years, doubt accounting smoothness. great soda anytime. soda also known, like ginger drinks, use home remedy upset stomach.<br />vernor's regional soda, many areas country cannot find in. sells here. may selling glass bottles soon, least page says day writing comment. search amazon asin: see mean. vernors quite history, two books amazon soda. first vernor's ginger ale (images america: michigan) : . second book \"the vernor's story: gnomes now\" : book company's marketing green gold packaging famous gnome, vernor's fans.",
          "drainwell, opened grayish sticky mess. mad wasting money, trying make scratch home. would probably end better cheaper. oh well, live learn!",
          "great kidlooking less messy version licorice children, sure try these! soft, easy chew, get hands sticky gross car, summer, beach, etc. love flavos sometimes mix chocolate nice snack! great item, great price too, highly recommend!",
          "kettl chipfound product, kettle chips unsalted fabulous. found accident amazon hunting local stores. crisp tasty without salt.",
          "chip addict<a tortilla chips, red beans 'n rice, ounce bag (pack > first tasted chips visiting relatives ky. available live, ordered amazon. wow! friends family addicted them. spicy flavor grabs first bite. bag open, gone!",
          "yummilove potato chip r soooo good! =) sweet spicy overwhelming enough work palate, salty enough balance sweetness ordering soon. love it!",
          "laxitem, werther's sugar free hard candy, consumed, give - friends, loose bowels. purchased bags discovered bowel problem: cannot return them. need laxative? ten unopened bags - free.",
          "kettl chip sea saltnothing good bad chips. like plain potato chips, would like these. thicker brands, fresh box, crunchy salty (for me). one bag lot, generally cannot finish myself. part reason oily (some chips almost look transparent, know mean). taste oil bit overwhelming me. used spicy chips may like since spice, except salt, name says. think buy again. \"best by\" date bags march ordered end october.",
          "happi facedelicious. cannot get australian ginger live. compares favorably australian ginger purchased cities. enjoy without traveling.",
          "kettl chipgot kettle chips sea salt & vinegar ( bags) impressed. tasted kind flat. eating bag, looked bag noticed hole bag size sesame seed. started looking unopened bags many type hole. bags multiple holes. one bag hole size dime bottom bag like rodent got it. box shipped holes packed way. much quality control ever let ship fired. needless say never eating anymore kettle products expect full refund kettle amazon.<br />m. martin",
          "realli want likeproduct must qualify sort deceptive packaging award. box contains bars wrappers smaller normal, least % interior box air. unwrap bar find % length \"normal\" snack bar. rest empty air inside wrapper. include wrappers bars would occupy less % space inside box.<br /><br />as far taste goes so-so. dry side hint berry flavor. celiacs, used inferior products, disappointed taste one.<br /><br />i also cookies suffer sort deceptive packaging. picture side box shows us would consider normal sized cookie. open box find mostly contains plastic tray holding cookies size quarter.<br /><br />i really want like company. seem trying hard coming new products keeping allergens production process. continued try products. bought granola many times, always wanting like it, worst food ever had. \"clusters\" hard partially popped kernels bottom bag popcorn fitting gerbils people.<br /><br />all would recommend enjoy life foods.",
          "freshfresh scent taste. easy eat one tin hours. use favors everyone loved them.",
          "orgasmkettle chips best potato chip god ever invented. give lord thanks every day delivering unto incredulously delicious blend ginger spice, veritable cornucopia flavor. actually changed diet strict regiment spicy thai & sea salt vinegar flavors, alternating days. already lost lbs, mention myriad health benefits experiencing. get life back - kettle chips.",
          "oldest soft drink still bestdetroit, raised vernor's ginger ale. moved california, though, found difficult find vernor's. would pop there, disappear. guess without advertising, never found home.<br /><br />i prefer plastic bottles, ideal size oz ( ml) one liter. problem two liter size takes one person (me) long drink it, letting go flat.<br /><br />in case, vernor's unique aged oak three years, think. imparts great, unique flavor.<br /><br />i wish would catch again, become available widely.<br /><br />(recently see sale redwood city california's bay area, south san francisco. next day, gone!",
          "tast neutral quantiti deceittaste white cheddar flat breads like regular cracker - bad, except bought wanted cheese taste.<br /><br />what huge disappointment? misleading packaging box is. photo box (i bought store) makes look like full long flatbreads (expanding length width box). wrong! plastic tray holds crackers \" smaller around - leaving small flatbreads.<br /><br />what also bad company states use biodegradable eco-friendly packaging. fail! used huge box ridiculously small amount crackers. ecofriendly all.<br /><br />would buy again? - feel ripped off. crackers (like sesame tarragon) give little<br />more bang buck flavor.",
          "jelloawesome!!! yummy flavor got healthy alternative desserts normally eat glad many things jello desserts still taste good good you. definitentally purchasing product flavor wonderful.",
          "greatest tastalways purchased star-kist tuna thought would try brand change pace. taste tuna pleasant, much basil spices me.",
          "great tastlooking missing it. taste exactly taste one made india loved remember days back india. definitely recommend it.",
          "potato chipsalt-free product purchased this, chips quite greasy.",
          "salt kettl chipgood wish also baked. found baked salt potato chips anywhere. wish someone would post.",
          "thank review scottthought great buy, noted scott d., molasses content par. loved higher molasses content \"sugar raw\". unfortunately purchased recently higher molasses content twelve ounce bags. guess watch next crop.",
          "tartcrust tarts perfect. husband loves these, crazy them. sour/tart taste. eat crust hubby takes filling. kids think great, maybe me.",
          "fresh tastinuts arrived fresh tasty. broken dirty looking like cashews sometimes can.",
          "garbonzo bean flourgreat stuff. made really tasty banana bread. good quality lowest price town.",
          "great valu conveni ramengot sale roughly cents per cup, half price local grocery stores, plus rarely stock spicy flavors. things great snack office time constantly crunched sometimes cannot escape real meal. one favorite flavors instant lunch back buy every time goes sale.",
          "slight tast jalapenoone best chips buy...and tried kettle varieties, many others. slight taste jalapeno, delicious. perfect sandwich alone.<br />if like addicted, chip you. ...see addicts anonymous...",
          "valentin gift winnerbought boyfriend really likes honey roasted pecans salads couple restaurants. plus, likes nuts, pecans, almonds peanuts. loved these. actually ordered cans instead gift tin, could take one work, place, stay fresh longer. although think freshness issue, last long......lol",
          "excel tastone best tasting crisps ever eaten! buy special occassions know eat whole bag.",
          "idea good diet foodpresently diet fresh easy neighborhood grocery looking possible diet foods. wanted things tasty, non-fat low calories. came home dozen items. discovered tillen farms pickled crispy asparagus. well, always liked asparagus anyway enjoyed several brands pickled asparagus. tillen farms brand really, really good! best recall. excellent flavor big clove garlic bottom jar looking forward eating. cannot believe good asparagus tastes right front says \"only calories per jar!\" idea good diet food!<br /><br />gary peterson",
          "best everoh gosh, good! like people, eating ketchup whole life never really thought anything it. hubby brought jar home. tomato flavor amazing. never buy store ketchup every again.",
          "best casebuy these! order case. cannot even remember first time tasted anchovy stuffed olive tried several brands online brand favorite.",
          "smokinnice amount heat smoke. tasty chip goes great brew.",
          "love kettl chipfavorite home. like ones sea salt. also like barbeque flavored. ruffly chips ridges. thickly cut plain slice potatoes. thick crunchy great texture mouth. also great taste. sea salt ones, favorite, enough salt salt much feel like drink gallon water chips.<br /><br />enjoy.",
          "simpli bestkeep trying brands.... cheaper brands. stupid me! ginger soooo worth money. tender, moist never let down.",
          "franch bestalways pleasure find french's products web. markets area made bargain carry nothing mccormacks bland tasteless seasonings.<br /><br />this flavorful cooking bag mix ever find.",
          "great flavor jellowent grocery stores looking flavor jello green tomato jam recipe finally found here. jello wonderful! evidently carried stores summer harvest time fall, could find anywhere town. jello tastes like watermelon jam recipe made takes like watermelon jam! great made regular jello too. yummy!",
          "caramel fantasteaten (and re-eaten) way though das caramel range, remains all-time favorite, one usually gets rave reviews share (which easy thing - try one see mean). caramel fan ages, werthers butterscotch pinch, nothing come closer mother used make these. chewy, buttery, little crunches salt spectacular (ok mother put salt hers, improvement).",
          "ok miss vicki bettermiss vickies better unfortunately less widely available. sure tough right word noticeable difference two brands miss vickie's better imho.",
          "thing ever addict toothes chipnever addicted anything life...until tasted chips. tried brands sea salt vinegar flavor same. got stick blue bag chips!",
          "tast fresh<span class=\"tiny\"> length:: mins<br /><br /></span>the expiration date months day bought product. tuna, tomato combination delicious. one many items re-order amazon every month so.<br />edit: added short video, see combination looks like.<br /><br />i wearing one headlamps, good job focusing tuna.<br />i film over, look like many people view product anyway.",
          "lot popwell worth money. calculations different bags dollar amount excellent value. approx pops box. far half box found without wrappers. pretty good considering. need dum-dums go product. enjoy.",
          "lightli salt heavili delicibest potato chips money buy. enough salt taste it, much masks lingering potatoey awesomeness wolfed bag beauties. chip perfect thickness - teeth get excited every time put one mouth! everything chips perfect, like made god delivered gabriel himself. know amazon carries these, even leave house buy them! may never eat anything else again!",
          "amaz tast best chip evercannot believe wonderful chip is! slightly spicy taste gives chip extra punch flavor. family offically addicted.",
          "spice growfirst think chips spicy, spice grow bite. really good!",
          "forget molecular gastronomi stuff rock coffe creamerknow product title says molecular gastronomy, let scare off. looking now, food science, something earth. use make coffee creamer.<br /><br />i coffee blonde sweet - flavored creamers full bad kinds fat, honestly, hate use manufactured \"food\" items. really think good body. hand, hate using cold milk cream, like hot coffee.<br /><br />i stumbled across amazon one day got idea making creamer. also bought low-fat (non-instant) milk powder regular milk powder. non-instant lowfat milk little sweeter tastes fresher regular instant low-fat milk, dissolve good cold water - problem hot coffee. play ratios - would heavy cream, made coffee rich. also, think powder expensive use own. like mixing together.<br /><br />for flavoring, bough cocoa bean powder, vanilla bean powder, caster (superfine) sugar. mix small batches along spices like cinnamon nutmeg make flavored creamers. wanted, could use fake sweetner powder instead. make small amounts store jelly canning jars. also use little food chopper/food processor blend everything, sugar heavier sinks bottom. let settle bit opening top though.<br /><br />this stuff tastes way better storebought creamers fun experiment come flavors. going try using essential oils next see get good chocolate/orange mix.<br /><br />all ingredients mentioned online. take time experiment. maybe use low-fat milk. add flavorings. you. also, would make great housewarming/host(ess) gifts.<br /><br />i sure molecular people able tell it, sure experiment cooking - main reason bought make creamer worked great.",
          "great product weak packagcannot say anything bad sugar raw. like better \"natural\" sugars. better consistency - know matter - better color. unfortunately, one \"natural\" paper bags got torn bit box. look like box damaged cannot tell happened, sort pain clean half bag spilled inside box kitchen opened it. sure solution would order again, happens again, would switch one brands ship unnatural plastic bag.",
          "best ever latic tartordered two two raspberry latice tarts directly fantasicakes website dinner party hosting. arrived fresh intact. good size. froze half later use. pastry lover best ever tasted. pastry soft, jam really good taste great. gone time. guests really impressed.",
          "ham basegreat ham soup base. used ham beans seasoned greenbeans. great flavor",
          "price surpris\"nantucket blend coffee one favorites. suprised single box. every time ordered pack. fault reading closer. order price ( count)",
          "thing need knowyes, good. however, absolutely inundated flavoring stuff, initially satisfying becomes \"too much\". certainly good waistline general nutritional issues.<br /><br />and package cannot opened without sharp implement. could pull apart top used doing. normally carry knife scissors rodent teeth. well, hungry able rip bag using car key. even then, bag *wow* thick tough.<br /><br />on package says \"krinkle cut\" chips. turns means corrugated kind, wanted. eat ripple/ridged style chips take skin roof mouth. information important.<br /><br />these good brands problems.",
          "lovesatisfied twizzler purchase. shared others enjoyed them. definitely ordering more.",
          "french roastn baglove product cannot find locally. sometimes little way stores it.but also love chicken,pork chop bags.every store go look lastplace found meat market.",
          "badfamiliar safcol brand tuna addict, gave shot. tuna tastes like good quality found tomato basil flavor bit bland. better something plain pack punch hoping for. still great option low calorie, low fat meal.",
          "lovekettle chis best ever! used favorite flavor tried salt pepper kind sure personal preference.<br /><br />crunchy, real potato chips!",
          "perfectexactly looking bake chouquettes (puffs small sugar pearls top). works great, yum!!",
          "yumbought box chips father's day gift dad loves them. yummy substantial regular chips.",
          "great glutenfre lifestylshipped sister follows gluten-free eating plan reports versatile easier grinding almonds crispy crust chicken fish filets. also uses place bread crumbs meatloaf meatballs. stays moist added place wheat flour baking, too. good product, good value.",
          "chocol liquor cupdelicious chocolate cups, aluminum holder. could find local store, happy find on-line.<br />most people unaware them, impressed serve little cordial liquor chocolate cup. sipping the<br />liquor, eat cup. could nicer? excellent product.",
          "arrowhead mill whole grain buttermilk pancak easihey! great waffles pancakes! add % mix, though, recipies bag thin. lot fun arrowhead mills buttermilk pancake & waffle mix! serve \"as is\" fried eggs real maple syrup, <a mountain farm vermont pure maple syrup, grade dark amber, pint jug</a>, warm strawberry jam whipped cream, cool whip, add brown sugar mix change flavor make crispy waffle, add cup sugar cup malted milk powder <a malted milk, original, jars (pack >, awesome gourmet pancakes waffles like serve hilton! handy extra bags hand, too, cannot beat subscribe save price. mix % organic, too!",
          "outstand productsaw made, interesting process.<br />decided give try, really enjoy flavor adds.<br />looking forward trying several dishes.<br />thanks brewed it!",
          "even like kettl chip lovefriend mine brought work claim , \"these change life!\" life fairly unchanged, cannot get enough chips . . . . even like kettle chips. part, find kettle chips thick greasy, flavor chips amazing! type hot refreshing. enjoy spicy hot things . . . try anyway, may convert you.",
          "yum falafeltrouble finding locally - delivery fast, hunting flour aisle local grocery stores.",
          "addictok. want get addicted, try plocky's red beans rice tortilla chips! husband started one seemingly anodyne bag store. now, received second case. last long. beware.",
          "goodcandy described. middle almost hard silky smooth filling described.<br />looks tastes like way past expiration date.<br />would never reccommend this. paid good chunk cash nothing",
          "reek like chemicwish would read review purchasing two gallons oil health issues. reeks like chemical rubber smell. smell coming black rubber gasket lid. called report situation company, sabrina told would pay send sample tested lab. unbelievable. good customer service would indicate would pay product returned give full refund, including shipping. product faulty. period. never order anything company recommend anyone based horrible customer service lack responsibility ownership.",
          "order cold weathertaste great, berries melted. may order winter. order cold weather enjoy flavor.",
          "wowexpecting like cookies much do. like chocolate chip cookies well enough, really prefer soft cookie crisp ones. say famous amos cookies pertty much turned around. cookies rich depth flavor comes quality ingredients. chips real chocolate melt redilly mouth creating moist experience chewing. truly great cookies.",
          "quit goodenjoy chips. got instead usual jalapeno ones company bit flavor change. think better slightly, like jalapenos great amount flavor without overpowering. small bag size prevents overeating larger bag.",
          "amaz servicpackage arrived double boxed, wrapped, inside box(that holds goods) perfect single dent rough mark, outstanding packaging.<br /><br />the product?<br /><br />these best chips planet, salt 'n vinegar flavor beyond among best chips ever had. might, actually sure probably like first bite 'if' never before. try again.<br /><br />not mention, particular flavor held numerous surveys comparisons manufactures.",
          "expensall,<br /><br />the actual product good - would rate item own. however, one dollar local grocery - @ twenty eight+ dollars per twelve pack - running almost two half dollars each.<br /><br />as said, expensive. [*sigh ...*] really hoping get something approaching local cost.<br /><br />take care,<br />lee",
          "best sour cream onion chiprecently tried flavor/brand surprised delicious chips are. best thing lot \"brown\" chips bsg (my favorite), bought amazon shared family friends. little disappointed not, far, many brown chips bags, flavor still good. like better yogurt green onion flavor seem salty, onion flavor better. eaten kettle chips before, recommend try bag buying bulk. thicker crunchier lays fresh bag.",
          "great taffigreat taffy great price. wide assortment yummy taffy. delivery quick. taffy lover, deal.",
          "great mixarrowhead mills buttermilk pancake mix favorite mix. tastes great, cooks light fluffy super easy make. although made using water, think better made milk. love pure organic maple syrup.",
          "asparagu blisslove asparagus. recently, never pickled asparagus. oh goodness, friend introduced exact brand, could believe great stuff tasted. loved much bought six pack. got jars left. going need more!!",
          "gone hilloriginally produced england best chips ever tasted unfortunately since bought us conglomerate taste plain nasty. hard rather crispy, much thinner used lacking flavour , real shame.",
          "cheaper ingredi lower qualitiextremely disappionted opened shipment enjoy life go bars (very berry, carmel apple, cocoa loco). boxes plain, generic design..you know, kind brands change want make products look cheaper. compared ingredients new shipment older boxes still home. guess what?! cheaper ingredients! next, taste-tested, let year old help. would eat new ones...and cannot blame him. oily bland. thought enjoy life brand actually cared using quality ingredients make good-tasting product. wrong. summary, way expensive made low-quality, unpalatable ingredients.",
          "barbequ perfectbarbeque flavor chips really perfect! spicy enough, hint sweetness, little smokey. chips extra crunchy thick enough substantial, hard. makes wonderful snack great accompaniment burgers, hot dogs brats, chicken casual entree.",
          "price chip lack rice tastpaid $ ounce pkg lunch today. bought brown rice \"good\" carb. soon tasted one tasted like corn chip checked ingredients. name deceptive - \"masa corn flour\" listed ingredients overwhelms taste. buy - get sunchips less money similar taste.",
          "pervers tastwatered perversion acai berry.<br /><br />this juice comes strong harsh. tart aftertaste texture.<br /><br />that mostly apple juice, grape juice, pomegranate juice, blackberry juice, blueberry juice, tart cherry juice. oh yeah acai berry juice mixed concoction.<br /><br />you shall find distinctive smooth chocolaty acai flavor here. milky mouth pleasing texture neither. exotic unique acai experience try zola samzon brands.<br /><br />i saying lakewood juice product nutritious. point. saying juice blend taste anything like real acai juice.",
          "omg best chocol jelli bellifresh,a great way get little chocolate life without million calories. taste like chocolate pudding.",
          "sodaold chemist spectrophotometer pleased chemical say advertized",
          "fantasticy beat tast resist one spice loverfantastic!you beat taste resist one spice lover",
          "best bloodi mari mixerthink tried every bloody mary mixer market one time other. much sugar worst, corn syrup. mixer natural ingredients tasty. little kick. enjoy.",
          "pioneer gravi greatused pioneer gravy number years. easy make tastes great, also. goes well mashed potatoes, meats, etc. try it!",
          "favorit kettl chipfavorite, everybody. way, sort taste like oriental flavor ramen, kick. me, one go wrong combination jalapeno ginger? bit rich, everydayforamonth snacking. case purchase, recommend trying single bag buying entire case. size seems longer available, shame; eat entire bag.",
          "tasteless low caloriseriously product tasteless come. much better tasting products calories better special k bar cookie snack pack. season combine something else share flavor.",
          "star price tastgot sea salt vinegar chips kettle. used salt vinegar chips white bag allowed say that. anyways, first impression wow chips get price. got x bags wow many price. tell high quality chips packaging, also. well used cheaper chips expecting mellow things are. ones used really sour taste mind tons flavor. chips sour all, taste like lot less strong aftertaste. want try salt vinegar chips suggest try first. so, price many get, chips definately worth it. thick crunchy like expensive chips get high quality restaurants. recommend these, stars.",
          "favorit chiplike potatoe chips. hot, sweet, overwhelming taste garlic. also bit salty.",
          "kettl chip make great mous foodwaiting ridiculous amount time case bags arrive, upon opening box noticed every bag chewed open mouse. know still box, outside porch. son gets home, going pictures taken email amazon. outside amazon box intact, either kettle chips people amazon warehouse, know which. never buy amazon. cannot tell disgusted purchase. makes sick think it!<br /><br />i included pictures top page. poor little mousie must high cholesterol now.<br /><br />update: forgot mention offered email pictures mouse damage amazon told want them.",
          "look elsewher whole grainvile, miserable pancake. put front toddler one morning actually cried. know flat anemic appearance salty bitter taste. whole wheat flour organic mix. buttermilk, baking soda (sls) sea salt not. going back nature's path buttermilk pancake mix. one went straight garbage.",
          "flavor godflavor lasted longer does, would probably die starvation lack wanting take mouth.",
          "stuff sooooo goodread pomegranate molasses try it! made anything yet, eaten little bit time wow decadent! dark, syrupy, sour, little sweet. dab forget dessert. really unique flavor pleasing metallic undertone. yum!! going try making fesenjan next :-)",
          "delisi pancakdiscover mix amazon always bought whole food store.<br />i like mix pancakes came delicious fluffy.<br />just one small secret: try add seltzer water instead regular one.",
          "bestlike creme brulee. loved easy. sprinkle sugar came broil. look amazing taste great. guess thought really went way really took minutes. ordering more!",
          "awreceived items timely manner. upon receipt, removed pack consume. pop-tart stale left awful taste mouth.",
          "best matcha qualiti pricepreviously tried matcha products generally satisfied quality price. decided give pure matcha green rooibos try price seemed competitive. quality pure matcha's products surpasses others tried- stays fresh, consistent texture tastes great. quality price better others purchased quantity. highly recommend pure matcha continue purchase.",
          "good tangiagree review, chips sore mouth tender gums. chips hard taste delightful enjoy salt/vinegar combo. unfortunately, every bag received case cooked! dark golden brown chips bag. definitely need improve that!",
          "good chip cheesgood need cheese wish krinkle cut. much prefer salt & pepper krinkle cut - better texture. around brand much better frito-lay good price amazon get free shipping. similar tim's zack's chips crispy.<br /><br />on side note, hardest bags open hand. use knife scissors everytime.",
          "om nom nom nomchips delicious. like salt & pepper flavored chips solid crunch, cannot go wrong these--they tastiest bag come across. sea salt easier palette regular salt, fact trouble cutting mid-bag even though normally enjoy low sodium diet. would feel like less lush bags.",
          "delicieveryone family except one really likes taste this. addicting. includes year old.",
          "low saltchips tasty expected \"low salt\" item. seem salty \"regular\" potato chip, also seem excessively greasy. comparison, cape cod reduced fat chips less salty least much potato flavor far less greasy.",
          "madhous munchidefintely tasty madhouse munchies family's favorite. kettle's dark/burnt,more broken bits, taste greasy-oily light crunch. oh well.",
          "banana head banana runtitem fine, banana heads like banana runts alot smaller. also received item, packaging great. banana heads come open shipping packing envelope.",
          "heinzridiculous. best gourmet ketchup ever tasted. pricey, wow..love stuff. would make great gift someone hard buy loves ketchup. yummy!",
          "delicimakes tasty, super easy meal, fast. high calories.<br /><br />the instructions say saute veggies first recommend cooking chicken first. chicken takes longer cook raw chicken ontop veggies makes slimy mess. made snow peas carrots only. like little corn. added red pepper flakes heat served ontop rice. came wonderful! dinner table less .",
          "favorit flavorglad able find site. love flavor crunchy. box packed inside another box still bags end crumbs. bags survived tact.",
          "delici els expectseriously, now. tasty, tasty, tasty. fresh, too!<br /><br />the problem pack lend wanting make multiple trips cupboard helpings! or, grabbing multiple bags begin with. pace yourself! keep saying.<br /><br />you cannot go wrong fan salt vinegar classic flavor.<br /><br /> bags double size kid's bags; size ones small gas station racks. really good size adult.<br /><br />it somewhat healthier snack typical bag fried chips, calories per bag. again, bad, something think about.<br /><br />bottom-line: delicious!",
          "lot twizzler expectdaughter loves twizzlers shipment six pounds really hit spot. exactly would expect...six packages strawberry twizzlers.",
          "stale bewar buy specialbought local supermarket enjoyed although salty leave tongue roof mouth burning. keeps eating many! occasionally get really stale items amazon.com one. unedible. beware quality food items website special close due dates case, expired stale unedible same.",
          "delici additlove chips, even like black beans. tasty. yum!! plus, good you!",
          "delici healthiused buy local supermarket, longer carried there. finding amazon purchased box found fresh delicious remembered. chips also healthy. definately buy again.",
          "pok choppork chops omaha steaks tasty time exceptionally dry. pork usually dry meat extreme. possibly shipping frozen keeping frozen partly problem.",
          "delicifirst thinking, \"cheese flavored chips?\" love them. herbs used delicious. cheese overpowering. yummy crispy!!",
          "excel lemon juicone best lemon juice tried. recurring customer due high quality product. season fresh lemos out, one supplement need citrus kitchen refreshments.<br /><br />i continue buying it.",
          "crunch wowsalty like regular supermarket chips, snack overwhelm guilt! got chips, kettle chips lightly salted chips searching for.<br /><br />there cholesterol, trans fats, artificial anything -- manufacturing process, actually seem kind home-made quality.<br /><br />this excellent product!",
          "organ label mislead\"yeast extract\" listed ingredient. sounds harmless, right? specifically, chips contain autolyzed yeast extract, is, chemical level, monosodium glutamate. derived different source, toxic properties. kettle still advertises products containing \"no message\" acknowledge chips safe people message sensitivities.",
          "cute item expirwhole idea spongebob ginger bread pineapple really great, sticker says \"use by\" jn date it. - good! think would fun make cute decoration, son going want eat it. least seller could check expiration date! right front box! happy all!!!",
          "expir stocksent week past \"fresh date\" stock. chips noticeably fresh taste. order again.<br /><br />edit: add dangers expired stock one bags rat hole it, black marks inside hole obviously rat. unfortunately put chip mouth saw hole.<br /><br />very bad form amazon.",
          "highest qualiti good pricealthough several \"shriveled\" ones, taste fine. mostly use make vegan sauces recipes call running food processor look perfect anyways. price, great deal (about half find store)",
          "good chipknow say others covered. like potato chips like these. get sale limit intake...if can...",
          "delicibiscuits delicious, sweet, enough crunch. love them. quick delivery. would order again. satisfied.",
          "best kettl chipprofessional potato chip muncher, see thee best market. rich taste flavor!! almost impossible finish entire bag.the true meaning decadence!",
          "excel chipaunt gave bag immediately addicted. actual pieces beans chips overly salty like chips. love zip, agreed awesome without salsa, trans fat!",
          "thinwould quality product thin. nearly consistency soup. makes much mess matter careful try be.",
          "goodlooking strong s/v flavor definitely you. mild comparison many others. live tx tell tried s/v chips get ahold of. best best heb (storebrand) world market. bob's zapp's bad. chip standpoint typically great kettle crunch, looking s/v flavor \"just touch.\"",
          "kettl potato chip sweet onionwow! eaten quite potato chips day. kettle chips best non-baked chips eaten. decided try sweet onion chips, since never them. favorite!! like onions, must buy! definitely reorder these, mentioned above, best ever eaten! flavor great.",
          "poptart work artfound new spring pop-tarts bought whim. kids amazed delighted fun, colorful, amazingly detailed artwork pop-tarts. fantastic school snacks, lunch boxes, school treats. tie ribbon bright \"thinking spring\" gift. challenge finding stores. way go kellogg's - fantastic product!",
          "tastoffer great price great taste, thanks amazon selling product.<br /><br />staral",
          "toast sesam oilorder arrived advertised. chances use it, awesome. flavor exactly hoped for! may take finish entire gallon, definnantly order again!",
          "prefer flavortook one said good russet potato chip found flavoring subtle taste, bit oily overcooked. may use eating great tasting <a chips spicy thai, bags (pack >. perhaps chips bags received overcooked overpowered seasoning. obvious chips flavored, read bag would never thought cheddar flavor. love new york cheddar. flavoring included parmesan, cheddar, blue cheese, garlic spices. good chip even overcooked, plan buy again.",
          "yum want snack someth realli goodfound new taste treat. big one potato chips, sure come late discover these. think really good. processing & ingredients list actually pretty good-no trans fats, etc. so, want indulgence, a+ ! thicker & tasty mass produced potato chips come know. much flavorful. never honey-dijon potato chip before. incredibly good & flavorful combination sweet, tangy, salty. also overly hot spicy. excellent!<br /><br />if want snack, something really good. got worth calories-and are!",
          "penguin poopertoy typical quality expected. got taken major ride shipping!",
          "broken creamercreamers come packs . taken one work opened one home far, found single broken leaking creamer yet. usually way much cream sugar coffee, easy cut sweetness allow creamers per cup. think definitely best option buying creamers amazon since listings lot complaints creamers breaking shipping!",
          "amaz last bitealways fan ramen quick easy meal, finding amazon decent price delivered door case amazing situation anyone find in.",
          "specialti parti itemsmall chocolate cups specialty party item never able find past wanted them. amazon provides link. used commonly called \"jello shots,\" provide solid edible alternative small paper cups.",
          "simpli bestfirst introduced red rice & beans chips hometown bethlehem, pa. moved north carolina unable find chips local area. trips back home, would buy bunch bags bring back nc. discovered could order on-line life great. chips time favorite everyone serve loves same. got try ... hooked !!! ..... nancy walsh",
          "awesom chipbest chips there.. nothing beat taste. like honey mustard definitely like this.. eat stop..addicting stuff",
          "best unsalt chipbest unsalted chips around tried many. best potato flavor. came said would.",
          "delici extra crunchipotato chips excellent.there trans fats.<br /><br />they taste absolutely delicious.whenever mood potatoe chips, kettles brand buy.<br /><br />a great product anyone enjoy highly recommend them!<br /><br />enjoy!",
          "fresh lightlysp crunchi kettl chip good valu good productbuying bags one time (at hefty markup) nearby stores, decided try bulk ordering snack foods amazon. pleased price products.<br /><br />these jalapeno kettle chips overly spicy; slow-building spice starts subtly grows eat whole bag, embarrassed say quite times.<br /><br />the chips arrived well-packed fresh. nearly year time expired, pretty impressive chips.<br /><br />most importantly, price-per-bag much, much better local store could do, although live near expensive city, may play role price difference.<br /><br />i would hesitate order another box run out.",
          "pretzelsooooo deliscious bad ate fast gained pds! fault",
          "tasti bewarlong story short - tasty. purchased number flavors brand, favorite.<br /><br />but... noted another reviewer - contain message form \"yeast extract\".<br /><br />it become popular means hiding message lately calling different things, person finds use caution consume find whole process hiding plain site bothersome.<br /><br />also, bag large, half air. may well help shipping, paying premium price 'organic' seems deceptive.",
          "potato chip yummitry good, feel like indulging delicious, gourmet potato chips, new york chedder potato chips first flavor like go for, see natural food store. chips tangy crunchy satisfy potato chip fix like brand.",
          "great valudespite coming extremely large box, found great value. bags preserved reasonable expiration date months away. would definitely recommend.",
          "aw tastpurchased read natural cure hives..um, not. nothing hives tastes awful. luckily, co-worker mine loves stuff (reminds grandmother) gave him. yucky, yucky stuff.",
          "kettl organ chipotl potato chipbest potato chips ever best price ever paid. service respectable shipping free.",
          "tast greattaste really good. purchasing different brand similar taste texture. agree reviewer regarding ordering summer. insulating packaging ice packs melt warm weather like chocolate food items. order cold weather buy enough last!!!",
          "poor tastlove eating good watching tv looking movies! sweet. like transfer zip lock baggie stay fresh take time eating them.",
          "sad outcomfive minutes in, one tentacle bitten off, ball inside cracked half. durable enough dog toy. disappointed :(. dog :(.",
          "great tast sea salt iodinperfect size sea salt table picnic basket. love it. shakes well, clumping flows freely.",
          "favorit chip kettlright amount spice make hot also sweet! hard find new jersey. one bag around!!",
          "kettl chipkettle chips taste \"good , crispy & crunchy \" ! enjoy also! moreover,it thinly cut & sliced!",
          "delici scrumptiousir kensington's great job updating classic ketchup wonderful product. refreshed taste ketchup great update, leaves disappointed given heinz restaurant.<br /><br />for heinz die hard fans there, ketchup you. wish always knew ketchup could without chemical aftertaste found heinz, sure give ketchup try.<br /><br />do forget spiced variety. purchasing pack classic spiced variety first sir kensington experience definitely way go.",
          "keep dentest chairused daily basis keep gums healty teeth clean free plack.",
          "best chipnew favorite! always fan salt vinegar honey dijons replaced new number one! strong taste loving honey mustard flavor must hope like these.<br /><br />price wise...i see much deal here. purchased $ grocery shipping. would given product stars (easily) price. taste fabulous -- disappointed.",
          "unparallel tastpurchased pack big ass soda got . immediately like \"oh man, going suck!\". regardless quantity error though, sure kicked red.<br /><br />everyone town absolutely loves it. highly recommend along soda, voltages.<br /><br />-malcom",
          "mehguess telling tickle palate. huge tabasco fan, love unconventional snacks. taste even remotely like wonderful sauce made from; find much kick all. practically bland, fact. even strong aversion wasting food, throw give away case. favor find bag locally taking chance .",
          "ingredi take second readsimple product simply good. extra ingredients hard pronounce scouring internet finding are. bit thinner consistency usual syrup, use caution first time go squeeze out. great people like mint, much stronger mint flavor chocolate. use coffee bit half half, tastes great. sometimes simple better.",
          "porcini mushroom excel productusing porcini mushrooms cooking twenty plus years. roland extra fancy porcinis purchased best ever used, including mushrooms bought italy transported back usa.",
          "indulg biteokay, eat potato chips, anyone.<br />but spicy, would find hard eat<br />very many. makes indulgence that<br />rescues people overindulgence.",
          "absolut deliciindividually wrapped pieces delicious (although wish more). mildly sweet sugar-free aftertaste, even traditional \"marzipan-aholic\" enjoy these.",
          "marley mellow mood lite half tea half lemonadgreat product. taste great, works exactly described. superb natural sleep aid. amazing!",
          "better jalapeno kettl chipnasty, greasy rich blood, plus lacked major flavor, spicy jalapeno flavor all. dissapointed chips, always hearing great things chips telling you, yuck yuck yuck. give pain chips day. maybe better kettle chip brand staying clear chips. wish could give zero stars could.",
          "look differ flavororder olives lot. un-like olives there. subtle flavors brine go great cheeses. one favorite appetizer treats guests.",
          "great supportarrived slightly thawed. parents would accept it. however, company helpful issued full refund.",
          "delicipeppermint stick delicious fun eat. dad got one christmas remembered similar one little girl. love it!",
          "delicilove chips, buy pack month. bags right size snacking prevent eating way much larger bags. jalapeno spice subtle enough overpowering still gives great amount flavor.",
          "fantasteaten brands unsalted potato chips always terrible. expect much bought these. tasted amazed. never enjoyed unsalted potato chips these. natural potato flavor thick, crunchy chips. bad thing bag pain open. use scissors save aggravation.",
          "kind blandflavorful enough taste. seems seasoning falls chips sinks bottom bag. bad, really liked idea healthier potato chip. would buy again.",
          "realli good stufftomatoes star classic flavor. clean really fresh! perfect avocado chicken sandwich.<br /><br />the spicy flavor complex best ketchup ever tried. good used foods would make seem crazy!",
          "lightli salt yet tastibags difficult open aid tool, scissors, even try without scissors.<br /><br />they crispy taste like chips advertised salted. definitely healthy, feel grease fingers eating them, see grease bottom bag, too.<br /><br />they high-quality chips, deserve put table.",
          "strawberri twizzler yummistrawberry twizzlers guilty pleasure - yummy. six pounds around son i.",
          "excel flavor mostli larg piecpretty pleased mushrooms. mostly large pieces, re-hydrated well good flavor. would estimate % contents broken medium small pieces, likely due shaking transit. problem since sometimes break large pieces smaller ones recipes. small amount (perhaps ounce so) small/minced-size/dust-like pieces. still useful add gravies like. nothing gets wasted!<br /><br />the label says product china italy. nothing specified proportion country.<br /><br />i quite fond dried mushrooms. may lack texture get using fresh ones, convenience always hand big plus. additionally, find broth used re-hydrate adds wonderful flavor soups stews. save time add flavor, sometimes add dried mushrooms directly soup stew without re-hydrating them. really helps meld flavors together. also fond adding cooking water boiling pasta. pasta picks wonderful earthy flavor cooks mushroom-infused water.<br /><br />this first time used roland brand (got price dip amazon warehouse), would certainly buy again. highly recommend.",
          "better packagbesides obvious convenience portability individual creamers, liked item specifically packaging. could believe many reviews read coffee creamer cups; many amazon creamer options (both coffeemate international delight) multiple negative reviews due shipment arriving broken cups thanks sloppy packaging.<br /><br />that issue here. shipment arrived four dispensing boxes (as shown photo); boxes tightly packed thick cardboard box could take good beating damaging inner boxes. thus, none cups broken, waste sloppy drippy mess. plus four boxes means could put one kitchen, one bathroom (we moved mini keurig upgraded kitchen keurig - best idea husband ever had), one work, reserve whichever runs first.<br /><br />if looking mini creamers deterred like negative packaging reviews options, best bet. bonus, auto delivery price reasonable.",
          "bake soda bombrecently started using bob's red mill baking soda. pleased performance sure contaminated aluminum. thanks, bob!",
          null
         ],
         "marker": {
          "color": "#CFD8DC",
          "opacity": 0.5,
          "size": 5
         },
         "mode": "markers+text",
         "name": "other",
         "showlegend": false,
         "type": "scattergl",
         "x": {
          "bdata": "f1zWQPsdXEBxQWlAdehJQBFJhkBTckBAJcvSQEq1t0Bw0oVA/ANvQO765EC4EqRAJgEMQRgjbEDstoBAuTdQQGWLj0CIC39Aet3TQLBW4EA/Hs9Ad9FCQJK/akCTSeZA1nd0QBRMYkCDD7RAE5qxQGtor0Cr0uRA4O6NQPmtgkAaqkFA96HFQA81pUAQzXxAVhXfQJxmbEB735NAjFCgQLymgUApM2FAN7VDQFnek0Bq1NBAy106QFttqEDitNVAT+8JQfkT40A8U4xAflFJQDuKdEC42YlA3on3QGiIf0BPM2BAKo20QOuOTEBtWdZA0/N8QAY3kUDMJJ9AUL3IQOGk5UAERtJAmVLTQILEo0A9N6ZA/BGeQJXaCEHiEYBAVy6WQCIsgED1OoJAaThqQFSIcUC1O6VAvi6JQG/9g0C1n9NANmDDQLs7tEDHZ8tAE0DHQONhh0CoVoNAKg6wQPOta0BXE59AdQWcQLOPukCbdcdArEywQFfOaUBsNPdAlFqmQOAQSkBrXpFAkdeXQE7E8EDRQKdAjHqTQKU3hUDcxm1A55s5QEqWQEBCbqVAag90QNYMrUDktndAGiO+QB1rpEA0/p5AX5PdQJCmr0Cby4RA7WCaQFkY3UCBTIhATjylQBj2Q0DAH/ZA/QnDQDTYiEAxb2lALlRPQGcLs0Cpll5AXUdZQKjOwkAVHwxBKPlGQG5UhUBADWZA5VaLQH+yjEAOquxADldmQA051EA3j0tAMlR1QMd/hUDt1pdAEc0LQe46dEBqwb9AbxHEQOe4zkB0zHFAtbBnQHF86kD1rThA2z6DQMmckkC506ZAd46kQBEqkUArmnRAtVy+QHdBXEBRsJxAHSuEQHapZ0C8B9RAhaipQMEswUCa7r5A+r6tQA2oikCPBsNAohZ4QCM7jEBmLodAeCGzQIRT90DIy+lA5yM6QGz4tkDN7/ZAEr5rQJfDpEAl4KlAChbFQBBkjEATG0hAg+GFQLiedUBO77NAM7dFQJZI4EAbz5hACBeLQBPqjEDFvEBAnktqQG4tX0AIRYBAqLKkQCDNZ0BIdZ5ALgN8QKIH3EBEREJASMe8QHpfdEA6taRAjUuUQE5sU0DMauRALnG1QIlPCUE8X7VAMMHNQJ7J0UCtn6VALZGQQBIWcUBla41ADJFKQF3eQkAqOedAHDrfQEC2QkBBn79AOLtCQNADp0DeXoxAa2l5QNIedkDLRcJAmV1mQEdOm0CXsZdAFAhcQCp0nUAouldAJTSdQKdYpUDUK0FAhSuZQOEba0D+GIJA4smVQPf25EBqHGxA/zyZQOV8h0BbRUlAn9KmQE6/Y0CFXZ5AftprQMWDjEB1j8hAyUd9QHchakAc30pAp9bdQOy520C/z4RAYFmLQLgoikDmIPdABNikQBORskCjboxAk4SJQN/sd0B7aW5AZpdYQPZbSECmDZxAbLiAQKBHUECi/3BAVCl6QCL0X0CQWnFA3vdqQKrBj0BUz59AdOeCQPj+W0AfvdNAiCCOQOuuC0FLaplAk3bYQPCetECpQKBALn6fQHv8DUEohKNAN2KaQEi6XkByJrVALq+jQFo9fEA8t4NAOOBbQJ1KjEC5baVA3nK2QCld+EDBAApBYPecQA==",
          "dtype": "f4"
         },
         "y": {
          "bdata": "aolSvFZBl8AuMKW/NCcQwK9RcsAt8eq/SRfoPvQGQL57l5nA3iDYPbDqvL+5ozI/gTXmP3wYg8AbFB7AbbkwwHmxRcBXnxC/W/UNwNp90780Ify+xFu4PyjXLcCJEru/4a8jwI45677p0zs+ZESsvwgVdMCghL2/gSBrwFiGOMBZTeu/kI0YwN/cMz/wBtq/tmf2vwcEP8Ag1izAQ8Fqv0OUVMAA354+CzK4P06acsDuPBS+hPPMvYDOrb/zPru+h/XAP0r6xb8PZ5HAebRKwLHB7r+SfHfAIhSiPt/0U8At+3fAMmRkwF+PEcC+Cpk9teGTwLpgpsAi5nDAM2hPwLjZvr9l8em/uoXov+2wY8CUTqe/8tsKP7B9hj8DUXLAVdv4v5KQWsDNLpK/QReCwK3/rT9aHTU/QkaKv75GZsC67xo/WgiYvpf9ZMA8Ul6/1+VMv4ZXH8D/9onACbkiwDQ2g8BYOIi/9kG5v7dSR8AVDfm/I21wwCFhg8BX9zM/yGYAwOtCE8Anj03Afxg7wPlU/j5ei1y/O2i3PxcWXj2TKw0+lp0CvlDY57/HG1zAG0R2wCHYAz8O5ie/+qOsv51hV788mSPAmW0AwCJvIsCS0D7AOIuQv1eGAsBKqZG/cyNSwK9a67++Oxs/NZcPwEdsa8BFKkDAsxUzwBmNBT7Nq5DAC+6MP24LD8CDA5U/F1xGwMGdpz5PPoLAc/YcwHZGSsBBVM8/ZTeIwNeTDcBHy0vAixkmPrFP+r+1fnjAozuPP8QFBLxMGIe/M8ESwK3fNb6B8lbAf6CEwFRBvz8RGdq9YxBivhqxqD+3HKm/JQpewLcOLj8DbRrAXzo+wNt+l8BJtLe/a502wCqehMComg3A9YwiwKJTl7/+v1U9jXi6v32iZ8C1ORDApbdnv/1ITcBvPzHAEyRlwEtzLj8y6b0/yRP6vej0rr8o2VI+oB8YwAAxOz85LCDAl2wXwE9gbMDI11A+l7YfwLSgrD+zhzA+Mze0P/C/3r+5dH/Ackpav60oFsC82ee/yv28virbob5Ory/AvXlVwE6QoL+NjWO/nvSDwJl52b5oibg/cMxAwEmrGsAoapm/2kRuwM7yVsDFGbO/mpVNPi8avT+KFmLAGG9kv7uk7r8zUVPAFrRWwEyViMApWlDAw+1MwGWBuD/rcL+/T/LVv5X5tj8sRr2/ifPkvzTR8r+AvoHAAe80wPGhkMA4sqi+KcdywIDZc8Dyz68/x3CXwK9fKsC/NgTAlcRGwB0JNz/05Om/ekQxwA2WDMDAgUDAsZ82wCG0vr/vOj7Ad12IwE4Y6j2g8Q/AsIf6v+L2HMDBWibAe5NgwG+qG8DMWvq/B4hSwAnAg8DwRKw/Eufvvp8ECcBzAnPAwFdFwFKNor7Mu/s+IeWovwfiOz4RixvAmMJgwAZdVsBUwEDAVY8ewFo9+r/55YfAWOJwwK///L+cysI/rvI/wMXkpb4eGR7Ac1DvPTVGpMAZDWDAFap4wBRHl8CA9g0/eDhxwMGcmD/N5nPAKTVWP090GcDwOXTAE6AnwFqprj/9C1/A704+wLSiRr3XtRW+UWxQwCGcUcDz51bA5FmXwMB3TcBCdjQ/kgAVwOcM1T7Y674/bjfovw==",
          "dtype": "f4"
         }
        },
        {
         "hoverinfo": "text",
         "hovertext": [
          "ador basketmak nice presentreceived quickly extremely well packaged. since smaller sized basket, would adorable present anyone likes tea, self hand. nicely assembled attention detail.",
          "home deliv twizlercandy delivered fast purchased reasonable price. home bound unable get store perfect me.",
          "go wrongchocolate, say. great variety everything family loves. family six goes fast here. perfect variety. kit kat, reeses, take five more.",
          "awsom kid neighborhood love usgreat product, nice combination chocolates perfect size! bags plenty, shipped promptly. kids neighborhood liked candies!",
          "great dealhalloween but, sent bag daughters class share. chocolate fresh enjoyed many.",
          "issuknow everyone else got broken, received came wrapped plastic bubble wrap, single jar broken. son loves price great issues all.",
          "awesom dealdeal awesome! arrived halloween indicated enough satisfy trick treaters. love quality product much less expensive local store's candy.",
          "great productbought daughter's grad party well strawberry. loves things. great product.",
          "bestpeanut lover, you. much larger cocktail peanuts. six people christmas gift list ask every year!!",
          "tasti fruitsent basket father birthday. said fruit fresh sweet. happy healthy purchase!",
          "great sweet canditwizzlers, strawberry childhood favorite candy, made lancaster pennsylvania & candies, inc. one oldest confectionery firms united states, subsidiary hershey company, company established young smylie, also make apple licorice twists, green color blue raspberry licorice twists, like all<br /><br />i keep dry cool place recommended put fridge. according guinness book records, longest licorice twist ever made measured feet ( m) weighted pounds ( kg) made & candies, inc. record-breaking twist became guinness world record july , . product kosher! thank",
          "great gag giftput husbands stocking christmas hit.",
          "tast great arriv daytastes great, gives energy without jitters. love product.<br />however, wish came sort resealable jar hard plastic container instead zip-lock pouch zip-lock ripped quit working awhile. product fantastic, crazy packaging.",
          "candibought dad surprise birthday present could find else!!",
          "chocol heavenmother father recipient wonderful pieces chocolate heaven. believe deserved receiving these, know deserve receive these!",
          "never arrivcancelled order. cancelled without problem. positive note...",
          "disappointunfortunately ordered quite previously, neglected look word: \"supreme\" offer since receiving free shipping delivered. (that husband, guests me)knew immediately different previously enjoyed. but, currently amazon featured \"supreme\" babka awaiting receive these. future, read carefully.",
          "seriou buckpeople really paying bucks chocolates??? ummmm go grocery store bag..wow",
          "good moneycashews nice big, vast majority whole. number small pieces bottom bag, pretty expected many cashews. made absolutely excellent cashew brittle.<br /><br />my order took week arrive, pretty decent considering shipped across country. came double bagged clear plastic bags, two lb portions. highly convenient since could throw one bags freezer ready work it.<br /><br />great value price.",
          "much would pay bag chocol pretzelimpulsive like me, $ ok. get wrong, quality babies good complaints. retrospect, price little ridiculous (esp. add shipping).",
          "arriv fastamazed quickly arrived! cute stocking stuffer, ok far user appeal. get pay for.",
          "overpr even gold boxreally disappointment. products included fine, real disappointment travel mug. cheap plastic cup nutritional information cookies it! basically cookie package! yeah, really want use travel mug. agree review looks like came dollar store. product description says polka dot tumbler \"definitely keeper.\" what? simply cheap packaging! something quality enjoy. known would purchased set. really looking forward using cute looking mug daily basis. like products inside basket ok, really appeared be.",
          "ship greateven though international delight fans completely dissapointed product. problem shipment, creamer thinner international delight. happy :d",
          "good licorictwizzlers brand licorice much better well known brand.<br />if get $ $ package free s/h good deal.<br />the black cherry good taste; strawberry taste delicate barely",
          "fabul amazonprice product certainly raises attention compairing amazon price local stores. get rotel local kroger $. dissapointing!",
          "great candiwonderful candy, hard find. got huge bag put freezer. came shipped nicely sturdy box heavy plastic. great!",
          "beauti fresh came easrlyv yeyfruit gift really perfect gift! everything fresh, well packed tasty looking! people received assured quite tasty tasting too. tried chocolate covered cherries ad surprised delicious were! thank you! needed something pinch came even earlier expected!so thank again! dharana,san francisco",
          "quantitiwould even think buying product unless know price per unit. compare items online store?",
          "great chocolcourse, know delicious ghirardelli chocolate is!!!! unfortunately, purchased two gift bags online, found local store half price. lesson learned???!!!",
          "better price targetwatch prices this. assortment good, get gold box purchase, price was<br />$ less target.",
          "poor item packagmix poorly packaged breaks open easily shipping. nearly full bag order spilled shipping box. bags come unsealed top. tears packages.",
          "wonderlove love love deal - way fun pick many! teas chocolates ciders well many coffees. outfits assemble samplers boring - choosing, much narrower range. sellers nice, also, answer questions via email slightly confusing ordering method (it easy). want great packaging, forget - ship fast, kups tossed loose box. cares?",
          "greatgreat gift ages! purchased giant canes recipients loved much, kept would eat them.",
          "product great price linepurchased dozens bags pancake mix (which great product, way). highest price seen. whole foods carries item sale $ (that canadian dollars, too, canada). even cheaper baker's box's website, company selling product amazon. two-pack charging $ less. gives? thought amazon could find competitive prices.",
          "delici productremember buying candy kid quality dropped years. still superb product disappointed with.",
          "great stufffood daughter eat consistly. really enjoys it. packaging great. never broken (having ordered times).",
          "great productthank product - use time appreciate promptness price excellent. thanks again.",
          "fresh greasigood flavor! came securely packed... fresh delicious! love twizzlers!",
          "speedi shiphappy quick shipping needed school product daughter came roof broken corner house broken. could send back needed project.",
          "quick arriv great basketpurchased gift mother lightning deal. happy loved basket. enjoyed cookies flavors tea included. shipped quick arrived expected.",
          "pretti expensbag candy online pretty expensive, cheaper order compete grocery stores, that, good combination favorite candy",
          "work greatpurchased giveaway baby shower jungle theme! worked perfect small bags candy. purchased #. want small bags, would purchase larger bag.",
          "greatgot kids christmas stocking stuffers. love them. far delivery, product came good condition, timely, terrific. definitely good buy.",
          "love product disappoint shiplove flour however amazon sent book broke bag made mess. customer sevice took care problem however foolish way ship product.",
          "tast wise star itemmouth says, \"how love thee, let count ways...\"<br />if like apple products must item. draw back, shipping cost. heavy.",
          "test truckerdrive otr...over road truck helps keep alert. sugar high & crash. autoship like. price good. seen bucks store.",
          "rudolph gingerbread houspleasantly surprised find item delivered day order, speediest delivery date. probably helps location near. everything looks described pictured happy done business seller. gingerbread house carefully packaged harm fragile pieces inside. excited give item gift.",
          "excelgreat service! items arrived faster expected. efficient! use seller again. highly recommend seller! thank excellent service!",
          "disappointexpecting terms company's reputation excellent home delivery products",
          "excel exactli expectproduct exactly advertised fresh. unfortunately, keep candy dish office going fast. need reorder keep \"demand\"",
          "great gummialbanese gummi bears rings good tasty high quality. bears even little faces. local candy store type gummi stuff (bears, rings, snakes, balls, worms, whatever) $. twin packs pound bags screaming deal far concerned. probably pounds deep friggin' things. consumed!",
          "great bargain priceglad amazon carried batteries. hard time finding elsewhere unique size. need garage door opener.<br />great deal price.",
          "nice snackbought office give people something sweet snack on. bite size easier people grab couple pieces rather entire licorice stick. complaint one bags broke open shipping.",
          "horribl cannot believterrible! cannot believe this, received item every single bag opened !!!! stationed afghanistan going snack team going missions. embarrassed bags opened spilt box, gross! box filled grease stains. know airplane ride way here, box insulated bubble wrap used instead paper. unhappy stale crusty chips bag us soldiers cannot enjoy now.",
          "great candi famili lovegreat candy family loved it. smaller imagined thought expensive small was. however, germany get easier here. shipping usa makes expenive. great product fun usa family receive.",
          "best way buy kcuptried random sampler packs (and overloaded decafs,extra bolds, teas), great way get exactly brands style want. received order couple days exactly ordered. second order ordering item again.",
          "twizzlerlove candy. weight watchers cut back still craving it.",
          "noth specialokay. would go way buy",
          "one twice came brokenpreschool teacher g gingerbread unit every january. vacation christmas got back gingerbread kit found. odd. needed one preschool class needed less week. looked everywhere could find ont. one overnighted amazon nye came yesterday. pick one rudolph theme. gingerbread came broken. like unable use would need glue gun get work broken. non returnable. called amazon, nice enough order second one since spend ton money year them. one also came broken. order lot amazon things come broken. think one time returned something broken orders. two thing row?! think kit nothing shipped. say come ups overnight comes fed ed. bubble wrapped well. think gingerbread good cracks shipping breaks off. rest kit cute. first kit candies spilled mess box. second kit gingerbread broken candies bags. bad. would try something else, stay away one.",
          "chocol go wronggreat serving chocolate liquor. adds touch class event elevates host supreme. able eat cup afterwards icing cake.",
          "great itemchocolate treat great gift arrived right expected to. gave girlfriend surprise gift absolutely loved it.",
          "horribl buyladdoos turned bad days received it. item inside fridge turned bad.",
          "excel chipbought office one put down. ordering today weeks. shop either, amazon brought door!",
          "amazwell big red fan am, bought this. first let tell price amazing, mean else get type deal saudi arabia. everyone village loved it, course wondering next shipment get it.",
          "broken bottl bottomsalsa smelled delicious, think probably - but, unfortunately, person, amazon, packer (there probably several) little \"stuffing\" work with, especially bottoms. therefore, bottoms broken three bottles. reached computer; told returns (because food item). looked customer service tag; found \"none\" new face lift. seem proud new face lift but...they least place contact emergencies! like: buy lot \"stuff\" comes styrofoam boxes. never would ship things<br />especially salsa - cardboard box stripe large bubble wrap it. matter much carrier (fed ex) careful, going break somewhere along line. especially glass container! barbara l. s.",
          "fresh whole perfectordered fair bit searching online - even ordering smaller bags. admit, bit sceptical ordered since cheap idea good (or bad) cashews would be...<br /><br />the order came pretty fast - like days. cashews fresh whole - like broken pieces. bags sealed clear tape.. first found odd turned good deal; considering second pack stayed fresh till opened them. trick actually keep air-tight box stay fresh longer.<br /><br />the negative think price went $ since bought them.",
          "delight sayconfection around centuries. light, pillowy citrus gelatin nuts - case filberts. cut tiny squares liberally coated powdered sugar. tiny mouthful heaven. chewy, flavorful. highly recommend yummy treat. familiar story c.s. lewis' \"the lion, witch, wardrobe\" - treat seduces edmund selling brother sisters witch.",
          "time deliverigood job shipping order quickly....nothing like ace hardware took week ship",
          null
         ],
         "marker": {
          "opacity": 0.5,
          "size": 5
         },
         "mode": "markers+text",
         "name": "0_broken_came_great",
         "text": [
          "",
          "",
          "",
          "",
          "",
          "",
          "",
          "",
          "",
          "",
          "",
          "",
          "",
          "",
          "",
          "",
          "",
          "",
          "",
          "",
          "",
          "",
          "",
          "",
          "",
          "",
          "",
          "",
          "",
          "",
          "",
          "",
          "",
          "",
          "",
          "",
          "",
          "",
          "",
          "",
          "",
          "",
          "",
          "",
          "",
          "",
          "",
          "",
          "",
          "",
          "",
          "",
          "",
          "",
          "",
          "",
          "",
          "",
          "",
          "",
          "",
          "",
          "",
          "",
          "",
          "",
          "",
          "",
          "0_broken_came_great"
         ],
         "textfont": {
          "size": 12
         },
         "type": "scattergl",
         "x": {
          "bdata": "ZvKhQMTtkkCK4J1AqFeSQET5lkBpPW5AnBWQQLNZokB74p5AT9ifQPyjm0AUyJ5AT3uIQPcWjkBU6phA9YmWQMdtoUBIvpNAteOCQDdkkUAd8JZAOI+pQPN0iEAaNKZAI2CdQL/HkEArS6BAyB6eQJeflECMXptAJn93QHEQokAuJpRAo4meQOXxkEBilXBA2d6RQH3Xo0CNyoFAt9OeQBcRkkB/pYxAv8qVQOOudUBwGKNATDGZQCY7h0Ay05BAwKyXQHS5kED7q5NAOdSbQDE2h0Dtw3FA6JSUQLFBk0D4NIxAHaWkQA8scEDyFLVAQRWdQE4MbkDnQZJARVejQMtIbkBcSIBATIOOQGMxjEA7Z5NA",
          "dtype": "f4"
         },
         "y": {
          "bdata": "77elvBZIFr/zYq09KHQXvVYibj3GCIm+qocVPt1g/z5pm4w9v6IJP1Q3oz6kkEk9rnEVvv2iEj7/iKo9b5gAv0ksjr68AsW9zW+wvllIEb4vI9O+XEEVPudHCr+o3xw/pKhWv/pStr39GOw+cHdev8bzc7x/8y6/a9U2v1b/FL3MjwO+4ohsvzBZNT7dj4m+ClASv/25Jz8Ojxq/+daCvUfTzj35Mba9+a2CvmYJU7/Vsao94BwIvzkNdb7LWiS/f9DJvnq0Kr89k+29hOw/v2iMqb3UCVy/JMKSvTxfkr9/gYA+JRUHvx6AfL6/fkM+ivrJPS+7t76CXCu/HyEfvy+Asb5gkuS+V4GFPvB5Lr8ZoF2+",
          "dtype": "f4"
         }
        },
        {
         "hoverinfo": "text",
         "hovertext": [
          "wowtried find israeli couscous number upsacale grocery stores luck. decided try good ole amazon.com selected product. good..add herbs great side dish, add make \"pasta type\" salad.so good. hooked. great flavor easy prepare!",
          "favorit rameneating ramen noodles since little kid, never found better flavor hot & spicy chicken! hot chilihead like me, sure good!",
          "great productordered product time kirkland signature salmon. raincoast trading co. salmon tasty, equally good quality salmon kirkland. however, raincoast arrived perfect condition, kirkland cans dented badly. recommend product anyone likes boneless skinless canned salmon.",
          "hothot all. like low star reviewer, got suckered seeing 'habenero' name oz size. people might like flavor, citrus-y fish sauce mix (according ingredient label), looking hot",
          "rotel save daili basiuse rotel mild love product much--it saves daily basis. trying cook lower fat, healthier foods hurry, stuff makes much easier. ever notice canned tomatos weird \"tin can\" taste make spagehetti sauce whatever? reason product that. tastes good dump beans, heat eat.<br /><br />or add chili powder chili soup. also make indian dishes this, spicey spaghetti sauce. also prefer canned salsas, works things like quesadillas drain liquid off.<br /><br />none local grocery stores carry all, carry anything like it. pay amazon's inflated price order case. like paying higher price, love love love product.",
          "fridg want meatpretty good canned meat. sausage used dirty rice, hamburger used taco salad, chicken wild rice, pork stuffing. turkey gave neighbor eat it. various meats pretty good quality enough large portions can. large chunks fat gristle cans, experienced plenty brands canned meats. proportion liquids meat fair too, one spoonful meat rest liquid either, though need cooked shrinks quite bit due high fat content meat. none meat seasoned, all. helpful meat used flavoring. mild \"spam\"-like texture taste meats(but way better spam day), almost brine something, heavily seasoned it. plan frying anything fat meats, gave everything slightly rancid, soury taste...no idea why! due higher calories higher price, stock emergency food. buy reason.",
          "hot flavorblack market hot sauce wonderful.... husband loves habenero sauce, flavorful nice kick it. fact love medium sauce- taste yummy bit zing behind it. used everything use meal.<br /><br />i like fact many different levels spicyness. love medium & habenero. kind like \"his & package\". thank hard work guys! keep hard work.",
          "hothot! love it, tasty little sweet. usually scoff salsas labeled hot, one lives billing.",
          "love stufflocal diner eat regularly. use kinds foods love it. hot, without flavor. like sauces burn taste. burn awesome flavor. surprised find amazon (just stumbled across it). would highly recommend anyone likes good hot sauce.",
          "best around hot saucfar habanero medium sauces amazing. fiance use nearly daily picked more. goes really well sorts dishes add extra kick.<br /><br />the sauce lasts lot longer appears. thick bottle last us couple weeks heavy use. love use breakfast eggs burritos dinners soups added spice.",
          "surpris findreally like pineapple shortcakes sold here. unlike mass-production pineapple shortcakes use artificial flavoring, tasselfield's pineapple shortcakes use real pineapples makes whole world difference. even taste fibers pineapple.<br /><br />i opted traditional pineapple time. interested trying longan mango variety next time.",
          "ass kickinused spicy foods south texas spicy. doubt much habanero used all. could take notch two.",
          "great productlove panang curry would rather avoid white rice restaurants serve it. decided try making own, product, get exactly want, hot tasty panang curry adding lots fresh veggies, tofu brown rice. hot, add spices all. great product, purchase again.",
          "yummieat mustard everything, hands best mustard ever tried, fact everyone tell try some, falls love well. spicy, tasty, real quality.<br />if like spicy mustard, love this.",
          "oyster saucuse frequently like asian dishes least week. love product. fast shipping, usual. would buy again.",
          "need salsa chip tast goodbest tasting tortilla chips ever had! become allergic tomatoes, love tortilla chips. much flavor chips longer miss pico de gallo. prefer eat plain. also right amount heat make flovorful, overpoweringly spicy.",
          "great hot sauc peopl runman say, salsa bomb!! different kinds. almost every meal. owner cool dude, dropped free bottles mailbox. stole first bottle friends fridge tasted hooked since. sleep hot sauce!!",
          "though kikkoman goodenjoy flavor soy really like this.<br /><br />plus hand made good ole usa.",
          "fantast chicken noodl soupfantastic chicken noodle soup, best ever eaten, large hearty chunks chicken,and vegetables nice large noodles. soup full bodied, seasoned right. glad amazon carries product. cannot find vermont.",
          "hot good came backgot free package bottle bloody mary mix bought seller, advertising worked..lol, tried them, shared buddies, loved them... buy more, noticed reviews yet,... well is. hot, \"burn mouth forever hot\" nice temp... perfect us..",
          "best soy sauc eversoy sauce best ever had. thanks amazon, able find again. makes big difference using product. thanks",
          "dissapointpackage came label torn cooking instructions. know normally cook couscous tried cup water cup couscous-brought boil let sit, covered . mushy tasteless.we thrown rest container.",
          "wast moneycondiments overpriced terrible. classic disgustingly sweet. spiced tastes like bad spicy marinara sauce chain restaurant.",
          "easi usebest paste tried! easy use. saute meat, add veggies, paste, tin coconut milk. quick tasty! weight watchers tried using light coconut milk instead full fat. works panang paste especially add heaping tablespoon crunchy peanut butter.. yellow, green, red spicy need full fat coconut milk balance out.",
          "disappointperhaps worst bottle wine ever had. even sure would cook this. thin, body, transparent color characteristic good pinot. taste bitter - complexity expect pinot noir price. looking even low mid price pinot noir. maybe bottle sealed well went vinegar - reviews wine favorable.",
          "awesom stuffworks chicken fish beef pork. fast easy makes taste excellent. plus buying bulk % box stores",
          "yummitasted good. spicy. like spicy stay away this. price paid, good buy.",
          "fantasttri-color couscous really good...full flavor fun eat. love texture. cook chicken broth add minced garlic chopped herbs (parsley, cilantro,) along red pepper flakes. end cooking, add olive oil makes wonderful side dish...highly recommend",
          "best hot sauc worldknow cactus tequila unique combination ingredients, flavour hot sauce makes one kind! picked bottle trip brought back home us totally blown away! realized simply could find anywhere city bummed.<br /><br />now, magic internet, case sauce ecstatic it.<br /><br />if love hot sauce..i mean really love hot sauce, want sauce tastelessly burns throat, grab bottle tequila picante gourmet de inclan. realize taste it, never want use sauce.<br /><br />thank personal, incredible service!",
          "favoritsoft smooth texture - little one devours one...it one best meat/veg dinners found!",
          "sauc shiznitsauce good anything, like adding asian food anything egg noodles, good burn strong flavor. hoping see flavors like pineapple experiment soon. buy regret",
          "swiss chaletservice great, meant buy swiss chalet chicken sauce marinade :)<br /><br />love sauce - yet try marinade",
          "great past way overpr likepurchased friend loves cook find paid times be. $ cans highway robbery know purchase one around $. far item itself, brand panang paste excellent. beef panang dish friend made using paste good ones thai restaurant. would recommend paste price.",
          "yeeeee hawwwsouth, live sofla; sometimes get southern influence. gravy mix reviewing, pioneer country gravy de-licious!!! tried others publix brand, mc cormick, ect, best! far! chose mix water milk, + cooked, chopped sausage links, phenomenal [...]. bisquick cheese garlic bisquits (like red lobster's), served small side watercress scrambled eggs. super easy make thick! finger lickin! mmmmmmm. heard put potatoes/veggies chicken, make soups add seasoning. pioneer brand name says homestyle, american classic!",
          "good great tast easi singl guysurprised good family friends laughed told bought this. ready mix little salt, pepper, spinach, cheese great easy meal!",
          "great saucdelicious soy sauce ever tasted. surely order again. deep flavor.",
          "fantastson made this. patience precise water temperature when, half hour done, appeared risen all--i feared worse. determined polite, agreed sandwich using bread. amazing. apparently rises baking something.<br /><br />great tangy flavor (perfect meat sandwich imho) heavy all. fortunately lots deli meats, since whole loaf disappeared within hour.<br /><br />we sourdough peasant bread far; sure delicious well.",
          "best sauc aroundbrowsing around amazon looking gifts pleased see favorite sauce here. order shipped friends. habanero favorite, love heat tangy spiciness. also love pineapple. go wrong ordering up.",
          "fantast healthi productgrande item ! delicious fish ultimate flavor, best ever purposes ! sent case mother recently diagnosed diabetes, loves main entree cooking patties !",
          "moor marinad gluten low sodium messag freegreat product looking message gluten free product, also lower sodium marinade soy sauce there! compromise taste either, use soy sauce substitute found superior taste looks acts like good marinade should. celiac gluten intolerant, even watching salt intake, product way steak marinade too!",
          "hot habaneroadmit, sucker large quantity, oz, shopping hot sauces ...but seeing size bottle, reminds wing-sauce bottle sizes. plastic bottle. convenient squirt top. overall, hot tasty, made mostly jalape&ntilde;os. seen ingredients list would bought it:<br />jalapenos<br />water<br />vinegar<br />brown sugar<br />lime juice<br />fish sauce<br />cilantro<br />habanero<br />garlic<br />spice blend<br />salt<br />potassium sorbate<br />xanthan gum",
          "love hot saucnever much hot sauce fan tasted black market hot sauce. listning radio one morning creater/owner giving interview, sounded interesting. d.j.'s sampling sauce raving it, picked bottle local grocery, good ! keep bottle kitchen extra bottle hand gifts taking potlucks,barbecues party's. happy see buy online amazon.",
          "bestmight little spicy some, stuff rocks. use milder version , best bloody caesar!<br />half mix ,half clamato!",
          "great marinadfabulous marinade! love use chicken, either baked oven grill. enough flavor & flair, even used dinner parties, receive rave reviews guests!! definitely worth price! super cheap super easy! love it!",
          "best roast everbest way cook roast. local grocery went buisness could find product till looked here. please continue keep product available!",
          "awesom sauchot sauce one favorites. perfect balance tasty spicy. smell flavors immediately open bottle. mix garlic, habanero, spices. put everything tend go one bottle week. highly recommend anyone likes hot sauce.",
          "good soy sauc special mainli good uniqu giftpretty good regular style soy sauce. super-wonderful-better good quality soy sauce buy asian market. main value unique gift.<br /> japanese soy sauce world, types: regular, mild (usukuchi), raw fish (sashimi) light colored. bluegrass soy sauce regular style. compared kikoman (a good commercial brand widely available) bluegrass starts saltier, flat middle, ends complex & interesting flavor. kikoman less salty initially round, full flavor middle. complex ending flavors. me, initial saltiness bluegrass minus kikoman's full middle flavor plus. prefere kikoman, especially dipping sushi flavor direct. lived japan many years used standard japanese flavor. tried bluegrass blended food background flavor, soy sauce usually used.<br /> bluegrass perfectly good soy sauce. brand different flavor everyone favorite. want unique kentucky gift asian friend, different standard bottle bourbon box chocolate.",
          "one favoritt foodtry might like it. quite addicted, easy prepare, tastes great absorbs flavors cook with. price really good well worth purchase. like type couscous like do, give one try.it eaten hot, room temp cold salad variety greens flavors, takes flavors well mixed. cooked couscous broth oilive oil added flavor rocked taste buds big time. back more.",
          "great hot saucfavorite hot sauce! liketo use give anything extra flavor. loved going favorite resturants town seeing offering great product.i really enjoy putting breakfast burritos!",
          "hotspici mccormick brandhusband kind wimpy comes hot things seasoning bit spicy us. definitely makes sweat bit eating it. still edible us adding good sized dollop sour cream think would buy due heat. prefer milder mccormick's brand fajita mix. also fajitas couple different restaurants spicy mix is.<br /><br />if like super spicy burning hot might want keep mind. medium hot much.<br /><br />i gave three stars pretty easy make versatile could vary veggies put it. take plastic bag, couple tbs vegetable oil, cup water mix seasoning, water oil together add chicken strips bag let marinate minutes. meantime, says stir fry veggies (peppers onion) found easier cook chicken veggies together think affected quality taste. also used extra virgin olive oil rather vegetable oil.<br /><br />i one package use next time going add veggies maybe chopped tomato cut heat bit more.",
          "love salsaone best salsas found long time stay away variety pack. two come worth money.",
          "great around mixappreciate fact buy product online free shipping. great around mix good wonderful texture. thanks amazon.",
          "non gmosoy sauce japan problems radiation soy bean fields. sure long contamination last. like idea product claims gmo seeds. yea pay decided take chance japan.",
          "awesom cornmealbest cornmeal. made regular cornbread hot water cornbread meal outstanding. also fried oysters meal, gave great texture flovor.",
          "great spici flavorreally loved spicy flavor had. found liking broth noodles usually opposite. used heat might bother like hot hot foods might enough.",
          "surpriswatched episode \"how things made\" discovery channell saw bluegrass soy sauce featured. whim, ordered bottle. took several weeks arrive, - surprise. teenage son wanted try it, did. loved immediately. puts many things. wife pleasantly surprised liked much. past, made many trips far east developed real liking soy sauce (where virtually made). treat find handmade american product, competes (and wins), japanese/chinese national staple!",
          "tasti hot saucfavorite hot sauce. buy locally love flavor have. hopefully flavors show amazon people enjoy! favorites medium pineapple flavored ones far. thank making flavorful hot sauce!",
          "better anyth supermarketrecently acquired bottle immediately impressed. good flavor without excessive saltiness supermarket brands. used marinades dipping sauces addition straight use cases added little something extra. quite surprise find american made soy sauce tastes good!",
          "best hot sauc aroundabsolutely love habenaro sauce...use eggs, sandwiches anything good kick! watched progessing popularity theis homegrown product...have nothing highes accolades chef product..get try it!",
          "get votebottle arrived time sushi dinner game night planned friends. three soy sauces choose from. sampling using bluegrass! everyone enjoyed light smoothness subtle sweetness. splashing right every piece, rather dunking/dipping. friends wanted know found it. going back order right now, ordering extra bottles going make great little gift affordable unique; instead traditional bottle wine common boring.",
          "best hot sauc worldknow cactus tequila unique combination ingredients, flavour hot sauce makes one kind! picked bottle trip brought back home us totally blown away! realized simply could find anywhere city bummed.<br /><br />now, magic internet, case sauce ecstatic it.<br /><br />if love hot sauce..i mean really love hot sauce, want sauce tastelessly burns throat, grab bottle tequila picante gourmet de inclan. realize taste it, never want use sauce.<br /><br />thank personal, incredible service!",
          "tast goodgot brother jorge cruise diet decided try one myself. actually tastes pretty good.",
          "mild enough lolnothing wrong product, sure mix *lots* ingredients make edible me. (in texas called \"baby-mouth\" - spicy-hot foods.)<br /><br />for comparison, comfortable tostitos medium chunky salsa. milder rotel, mixed slightly larger cans diced tomatoes, still way hot use salsa chips. used make sort southwestern cornbread good though.",
          "sweet nice kickfan newman's pineapple salsa quite while, looking comparable salsa. one best tasting salsas ever had. daughters love too. like super chunky salsa berry mango nice smooth texture small mango pieces. salsa sweet, sweet enough although mild, nice little kick it. price, steal!",
          "hot deliciconsume jar every two weeks this, either adding fajitas using corn chip dip. hot, awhile medium salsa suprema mild me; thought maybe would cut much ate going hot salsa ranchera. hot enough people used say \"that hot!\".<br /><br />flavor: bright forward. similarly hot salsa victoria duller taste me, guess earthy. salsa much brighter mouth. like go hotter sauces tried lose resemblance yummy salsa taste hot (this happens tabasco sauce, example).<br /><br />a drawback la victoria make larger bottle salsa ranchera salsa victoria, sell [...] sam's club. get good deal watch sales.",
          "tasti tasti tastilike lot sesame oil use salads regularly. great quality, flavor aroma. cannot beat organic!",
          "bestbest marinade buy far concerned---of course, everyone tastes, all, think anyone like it---i give five stars...",
          null
         ],
         "marker": {
          "opacity": 0.5,
          "size": 5
         },
         "mode": "markers+text",
         "name": "1_sauce_hot_bottle",
         "text": [
          "",
          "",
          "",
          "",
          "",
          "",
          "",
          "",
          "",
          "",
          "",
          "",
          "",
          "",
          "",
          "",
          "",
          "",
          "",
          "",
          "",
          "",
          "",
          "",
          "",
          "",
          "",
          "",
          "",
          "",
          "",
          "",
          "",
          "",
          "",
          "",
          "",
          "",
          "",
          "",
          "",
          "",
          "",
          "",
          "",
          "",
          "",
          "",
          "",
          "",
          "",
          "",
          "",
          "",
          "",
          "",
          "",
          "",
          "",
          "",
          "",
          "",
          "",
          "",
          "",
          "",
          "",
          "1_sauce_hot_bottle"
         ],
         "textfont": {
          "size": 12
         },
         "type": "scattergl",
         "x": {
          "bdata": "jwbQQLriykBohMNASNzdQFWoyUBlc8RA/OHcQCuE2EBfZdxAJUnfQH7V5kAw595At7jWQA4q10BnD95A0LLUQMFx3EA38edAqkPJQBR02UB6GedA0ofOQJlW2UAvsNZA5G7WQBZWxkCAFddAD+XOQG/f4EB/N8hAb9blQNOg2kCihddAL1TRQMK4yEBP6OZAavS8QGiG5UBKtsZAGG/bQGjG3kBu9dtA1VbWQOJH20DmA95Ao7XjQBqF6EAC1M1AHW/fQP5FzEBLbtZAuxTHQCWT6EDLWbVAtA3MQFSK6EA+heRAmsDlQPe73UDxtelA9q7gQFf9w0CBWNRAfVrYQCqc1kCTz9hA2tDaQEN810A=",
          "dtype": "f4"
         },
         "y": {
          "bdata": "vXY2wGfCUMDyqy3AttFXwFLyPMBb0C7Ay3lWwCn3ZMA8yVTAIptTwHYxTsDSzlTAwz0SwCniU8Dq5EHASHxmwJeiXcAv1DzAfowKwPbUYMDirkDA4x81wHWQM8DQmRDAhxnIvfuBIMBQNDvApI82wI4aWcB8eB/A7kRGwOmuL8BWwxDAr17yv4DOUcDDnULARCYmwO+MScD0+B7A9dQuwAUDVcAr7l3ApB9OwIaCLcBdIPW/vzNQwA9PPMD6LTfAB+xawO9gUcCBi2bAL8UcwPBGPsCmJiDA8HxUwKvQPMDqoVPA5Io6wMMuVcB8QjvArl5cwOGoHMC5sF7AuKJlwIKUY8DbCDnApOsswLKwPMA=",
          "dtype": "f4"
         }
        },
        {
         "hoverinfo": "text",
         "hovertext": [
          "ridicul goodcannot say much love kettle brand potato chips. kettle brand large variety unique flavors, quality chips blows potato chips water. ingredients list printed bag thing really bad oil frying chips in. love filled nasty chemicals. ordered cheddar sour cream krinkle cut ones great torn <a brand potato chips fully loaded baked potato, (pack > jalapeno flavor. know jalapeno flavor good way better. include liquid smoke instead actual bacon fine since vegetarian. ordered give guests coming town wedding spring cannot guarantee many left. fiance love these. packaging perfect anyone giving kids take school lunches, handing gift bags, even portion control.",
          "best chip evertitle says all. great flavor, hint spice, excellent crunch. eat kettle chips truck load house, like flavors one far away favorite, never enough bags get us next shipment. wish amazon could get larger bags subscribe save! buy make sure enough everyone otherwise may get enough yourself!!!",
          "garbagwaste money kettle brand potato chips. bought case these, case cheddar sour cream. cases ended garbage can.",
          "chang chip tast horriblloved chips chips would buy. discovered england back quickly became fan. year ago picked bag sale local supermarket. finding odd sale much took advantage it. opening bag found chips even close kettle chips used to. uniform whitish yellow color, flavor way off, lovely extra crisp brown chips gone completely disappointed. e-mailed kettle following: \"what happened? bought bag chips day different taste; tastes \"cheaper\". know else put it... also noticed chips seemed less cooked see browner colored chips flavor. hoping nothing changed ingredients process used produce product. get weird batch? buying kettle chips years wondering.\" receive reply: \"thanks letting us know experience kettle brand® chips. sounds like may received bag slipped inspections, apologize.our potatoes vary seasonally could account variation color-but chips still taste great!thanks providing us \"best before\" code bag. really helps passing comments staff.<br />we sending coupons replace purchase kettle brand® flavors nut butters, believing great experience next purchase! case buy product again, suggest avoiding best date (if still it) rare instance another bag case slipped inspections time.<br />thanks letting us know expect coupons arrive within weeks. please let know help.\" well next bag good. since time picked bags chips like \"bad\" bag pretty sure changed product reduce cost. research found kettle bought private equity company. cookie cutter management processes probably employed kettle. acquire company high quality brand recognition, sell product mass merchants, lower quality/cost product increase margin finally sell company customer base starts realize brand longer quality brand. increased profits make company valuable paper make nice profit investors. customer employees lose course unsuspecting buyer exploited brand. stay away kettle chips longer same...",
          "puckerlove kettle brand chips!<br />i love honey dijon years decided try flavors.<br /><br />sea salt & vinegar chips tangy, sour, make lips pucker eat many time. got big bags steal amazon ($ what?!?).<br /><br />personally, flavor much me, mom & aunt love hate potato chips.",
          "best chiptried herrs, utz, wise, pringles, lays etc....but kettle tasted best. quantity salt used optimum required.<br /><br />although say serving size ounce, finish whole packet time. total calories ounce bag. slightly higher side. still ok, compromised taste.<br /><br />only issue packets burnt chips, taste bad. kettle take care packing ensure burnt chips there.<br /><br />thanks amazon get bags bucks free shipping using coupon.",
          "crunchi tastichips right amount crunch enjoy taste. chips consistent fairly even distribution seasoning. like size bags, right amount chips.",
          "best chipsperiodneed salt hide taste potato chips. chips prove it. taste potato comes through, instead masked. ok, still snack food, salt trans-fats mean healthiest potato chips get. low-salt diet (like am), available means eat chips, kettle best.",
          "tang pack punchdaughter autism craves hot, spice pungent foods. absolute favorite chips! calls sour chips wants lunch time. love crispy kettle way cooked.",
          "disgustchips nasty. thought someone spilled drink bag, chips soaked grease. nasty!!",
          "greatlove chips. eaten alone, since crisp tasty dip. every one introduced chips to, loves them. expiration date months now, ordering bags come near going stale.",
          "delicinow, done side-by-side comparison, chips still taste like real deal. snack sized bags well regular brand grocery store work for. portion control reduced fat? yes, please! subscribe & save much cheaper grocery store.",
          "chipchips greasy taste burnt-there grease bottom bag chips saturated (especially bottom bag. even trans fat free, need lot less greasy.",
          "sweet salti tangi way snackkettle brand chips probably best potato chips tasted thus far. thick, bite love creative flavors. favorite kettle chip happens honey dijon. think great combination sweet, salty tangy, perfect one snack attacks know exactly want. especially love curled chips extra texture crunch. bags perfect anyone problem controlling portions (like me!).",
          "awesom deliciamong best chips ever eaten! first came upon visited costplus world market store opelika, al, tiger town mall, . big fan dijon-flavored anything, decided give chips try. hooked. probably ended buying dozen bags within months' time. searched part alabama (the northwestern part state) could find them. later tried find world market hoover, patton creek shopping center, carry flavor. however, learned available amazon.com, also available prime shipping - bought soon read \"kettle chips honey dijon, bags (pack /><br />you get pretty big box, filled bags delicious morsels. last quite while, re-order, very, soon! suggest buy them, bulk form, enjoy - disappointed! go great hamburgers hot dogs - perfect spring coming summer's outdoor activities cook-outs!<br /><br />take word it, chips hidden gem lost world snack foods! buy today, fall love like me!",
          "one bite becom chippoisseuroregonian, make point sharing oregon-made snacks friends visit state. tell kettle brand potato chips microbrew beer.<br /><br />kettle brand potato chips unmistakable--a light gold color, rich flavor amazing crunch. kettle brand chips also healthier snacking option major chip brands. kettle brand chips trans fats, message artificial flavors colorings. company also line organic potato chips products certified kosher.<br /><br />annette solomon, reporter salem statesman journal noted glass wine goes nicely spicy thai chips. solomon wrote, \"...you could missing wonderful pairing. chips spicy, would want select semi-sweet white wine. also, moderate amount acid subdue strong flavors ginger, lime, garlic cilantro without over-powering them. classically, german-style riesling fits parameters perfectly.\"<br /><br />i also recommend <a chips honey dijon</a> <a chips sea salt & vinegar</a>.<br /><br />the honey dijon chips bring terrific balance salty, tangy, sweet crunchy. brands tried use much mustard flavor, overpowers honey dijon pairing. honey dijon chips make great side dish bbq plate baked beans, coleslaw potato salad grilled meat. naturally, also go great beer.<br /><br />the sea salt & vinegar chips perfect complement vegetable trays cucumber, carrot, celery cherry tomatoes. skip dip; balance tangy chips alternating bites raw vegetable.<br /><br />in summary, highly recommend kettle brand chips, great buy amazon.com.",
          "chip snob alertfeels strange review chips, compelled absolute favorite chips. kettle lots flavors always go back regular lightly salted.<br /><br />they thicker sometimes greasy bottom bag, plus often looked burned. actually burned. something much sugar potato makes dark. love open bag find browned chips.<br /><br />lays wise place become chip snob thanks kettle.<br /><br />like edy's breyer's ice cream, products worth money. best best.",
          "bestchips okay. personally, find flavor combination greasy chip somewhat strange. necessarily bad kind chip going able three four chips flavor loses novelty.",
          "one bite becom chippoisseuraddicted salty tangy flavors, opened first bag sea salt & vinegar kettle brand chips knew perfect complement vegetable trays cucumber, carrot, celery cherry tomatoes. skip dip; balance tangy chips alternating bites raw vegetable.<br /><br />as oregonian, proud share delectable snacks friends, especially living outside state experienced gourmet chips. tell kettle brand potato chips microbrews beer.<br /><br />kettle brand potato chips unmistakable--a light gold color, rich flavor amazing crunch. kettle brand chips also healthier snacking option major chip brands. kettle brand chips trans fats, message artificial flavors colorings. company also line organic potato chips products certified kosher.<br /><br />i also recommend <a chips honey dijon</a> <a chips spicy thai</a>.<br /><br />annette solomon, reporter salem statesman journal recently noted glass wine goes nicely chips. solomon wrote, \"...you could missing wonderful pairing. chips spicy, would want select semi-sweet white wine. also, moderate amount acid subdue strong flavors ginger, lime, garlic cilantro without over-powering them. classically, german-style riesling fits parameters perfectly.\"",
          "stale rancid oil tast like even tiniest bit salt flavor chip...you absolutely forget these. confirmed reviewers, chips total garbage. like chewing styrofoam packaging \"peanuts\". positively awful, hyperbole exaggeration. never buy anything kettle brand ever again! reportedly great \"premium\" brand, literally mass market chip ever tried tastes better these. stale rancid tasting, virtually salty taste whatsoever. completely awful!",
          "yummi chipdelicious. oz bags bit big school lunches, definitely serving.",
          "bestwrite many reviews say kettle brand chips best ever tasted. every flavor dynamite. feeling iffy honey dijon, would recommend cheddar beer, absolutely amazing. healthy! (besides lil fat) eaten lot chips day kettle takes cake. enjoy, eat fast.",
          "creami chiveyreally love kettle brand chips, rather disappointing. little sour cream onion flavor.",
          "c h pc h ph r b c k r db r b e c egetting worried, read reviews here. specifically, \"one star\" reviews, always go, see faults reviewers find merchandise would prevent buying it.<br /><br />wow! sure seemed hate kettle chips, backyard barbecue bags, (pack ), bought ounce bags, liked lot, decided subscribe....and then, good measure, got orders ounce bags.<br /><br />yes...i love potato chips....especially kettle chips, backyard barbecue flavour....but others seemed really hate them...or least, hate changed.<br />but realized talking flavours! amazon, deep wisdom, obviously seen fit put comments concerning flavours kettle, (and brands of?????) potato chips, together!<br /><br />of course, advantages, potato-chip lovers, (like me!), enjoy eating several flavour, brand varieties. so, comparisons made easily. also, potato-chip lovers, person favourite flavour reviewing, are, sort \"united nations potato chip lovers\"....all different, united love potato chips! (the rest world really benefit example tightly-knit, ever...er,...expanding...group here, think! : ) -- first realizing these<br />different flavour reviews together, little confusion dismay.... least begin with.... (amazon mentioned \"kettle potato chip review forum\"! : )<br /><br />i happy report kettle chips, backyard barbeque flavour, totally delicious! (at least one-ounce bags...hopefully product ounce bags taste same!) definitely chips adults, however -- and/or children whose stronger-than-adult taste buds withstand strong flavour chips. strongest flavour ever had...that jalapeno pepper chip far strong even me!<br />these backyard barbeque chips kettle, however, right amount sweetness, (with honey powder, onion sugar), take edge stonger flavours<br />(paprika, chili pepper, cayenne pepper, natural smoke flavour), less, (they come list ingredients sweeteners.)<br /><br />the complete list ingredients kettle backyard barbecue chips, (in bags, hopefully, ounce bags well), follows:<br /><br />potatoes<br />vegetable oil, (safflower sunflower oil),<br />honey powder, (dried cane sugar, honey),<br />rice powder<br />sugar<br />salt<br />onion powder<br />tomato powder<br />paprika<br />torula yeast<br />garlic powder<br />chili pepper<br />citric acid<br />cayenne pepper<br />paprika oleoresin, (colour)<br />natural smoke flavour<br /><br />naturally cooked, natural ingredients. combination true taste treat!<br /><br />of course, ptato chips, moderation key.<br />potatoes contain lot potassium....which gives energy othr good things....but much damage kindneys. vegetable oil great -- much oil, (as well much starch, potatoes), hurt eyes. natural smoke flavour yummy....but it, (as well sugar), -- large amounts -- linked cancer production<br /><br />as far starch potatoes oil go, this<br />can ameliorated, (a bit), drinking tea...which good eyes. far potassium, (energy - good, much -- bad kidneys), sugar natural smoke flavour, (too much leading cancer production) -- thing good everything.....m e r n...!<br /><br />twice three times month, allow go call \"potato chip diet\". eat one large bag, (or equivalent small ones), potato chips day. supplement tea, coffee, lemonade, well several servings carnation instant breakfast essentials, (i like dark chocolate flavour) adds fewer calories would normally eat, normal three meals day plus snacks. also teaches eat s-l-o-w-l-y, one big bag, (or many little bags), never lasts long would like. anyway, excercise sensible eating, rest month, (and keeping scale nearby, weighing least twice day, every day), taken ten pounds last three months! : )<br /><br />these backyard barbeque flavour potato chips kettle,<br />are totally scrumptious. except jalapino chips, (which tasted good, far spicy taste buds), yet meet potato chip like eat. kettle backyard barbeque flavour potato chips, combination potatoes, sweetness, spices, truly become one top five favourites....if first favourite, all!<br /><br />flavoured potato perfection!",
          "crunchi salti sweetfin superbowl snack scooorhoney dijon chips bring terrific balance salty, tangy, sweet crunchy. brands tried use much mustard flavor, overpowers honey dijon pairing.<br /><br />these chips make great side dish bbq plate baked beans, coleslaw potato salad grilled meat. naturally, also go great beer.<br /><br />as oregonian, proud share delectable snacks friends, especially living outside state experienced gourmet chips. tell kettle brand potato chips microbrews beer.<br /><br />kettle brand potato chips unmistakable--a light gold color, rich flavor amazing crunch. kettle brand chips also healthier snacking option major chip brands. kettle brand chips trans fats, message artificial flavors colorings. company also line organic potato chips products certified kosher.<br /><br />i also recommend kettle chips flavors: <a chips sea salt & vinegar</a> <a chips spicy thai</a>.<br /><br />annette solomon, reporter salem statesman journal recently noted glass wine goes nicely chips. solomon wrote, \"...you could missing wonderful pairing. chips spicy, would want select semi-sweet white wine. also, moderate amount acid subdue strong flavors ginger, lime, garlic cilantro without over-powering them. classically, german-style riesling fits parameters perfectly.\"",
          "one bite becom chippoisseuraddicted salty tangy flavors, opened first bag sea salt & vinegar kettle brand chips knew perfect complement vegetable trays cucumber, carrot, celery cherry tomatoes. skip dip; balance tangy chips alternating bites raw vegetable.<br /><br />as oregonian, proud share delectable snacks friends, especially living outside state experienced gourmet chips. tell kettle brand potato chips microbrews beer.<br /><br />kettle brand potato chips unmistakable--a light gold color, rich flavor amazing crunch. kettle brand chips also healthier snacking option major chip brands. kettle brand chips trans fats, message artificial flavors colorings. company also line organic potato chips products certified kosher.<br /><br />i also recommend <a chips honey dijon</a> <a chips spicy thai</a>.<br /><br />annette solomon, reporter salem statesman journal recently noted glass wine goes nicely chips. solomon wrote, \"...you could missing wonderful pairing. chips spicy, would want select semi-sweet white wine. also, moderate amount acid subdue strong flavors ginger, lime, garlic cilantro without over-powering them. classically, german-style riesling fits parameters perfectly.\"",
          "best chip everlove kettle chips lightly salted feel guilty eating them! used buy whole foods buying amazon saved us money. purchased least times happy chips delivery.",
          "use favorit chipkettle brand chips used good...oily, crunchy, flavorful. suspect company bought recipe changed worse. better big name brand chip. try good health kettle style olive oil chips instead. good kettle brand was. r.i.p., kettle brand chips. :(",
          "bite backwant like kettle contain corn oil soybean oil (which gmo, also kids allergic corn soy), darnit, things bite back! plus side, sharpness may keep mindlessly enjoying many. minus side, mouthful cuts scratches worth it. hard crunchy? wrong simply light crispy? vastly prefer lay's texture, suffer kettle due absense gmos corn/soy. wish would come something less harsh mouth, though.",
          "eat yearfound years ago health food store. bought one bag found stopping store week get chips. new york cheddar flavor good, hard time eating whole bag.",
          "quit bestpast couple years eaten reviewed several kinds styles chips, best ever big disappointments. eaten lantchips varieties, way best group; kettle chips rightly salted irritated pringles products. kettle good flavor small size overwhelming oiliness takes away flavors. all, good choice--amazon stock lantchips time days choice.",
          "great dealbackyard bbq kettle chips great deal promo code. nice larger size bag. kettle chips grocery store ounces polish one family lunch! arrived fresh crumbles chips amazon grocery been. great flavor natural!",
          "delici alwayoh, love chips! hard find am, find them, usually $ per bag less. great cheap amazon.",
          "tastichips come large box individually wrapped bags chips. bags strong - much thicker than, say, lay's potato chip bags. inside tasty kettle cooked chips, salted right. appear cooked actual kettle fashion, cooked others, gives authentic, non-manufactured feel. people may like that.<br /><br />i reccomend them!",
          "made mistakmay sound rediculous, actually ordered wrong brand potato chips ordered kettle-brand jalapeno chips. time placed order, could remember name jalapeno chips recently discovered liked, kettle-brand chips packaged similarly-colored bag. but, worked best really like kettle-brand jalapeno chips, happily munch away upcoming tv football games. run (probably sometime next year!), likey purchase miss vicky brand jalapeno chips, plan try flavors kettle-brand chips. imho, kettle-brand chips excellent recommend potato chip 'affection-ados'.<br /><br />sincerely,<br /><br /> § homiedog §",
          "yummi tumminew york cheddar flavor favorite kettle brand potato chips. flavorful crunchy make mouth happy. unfortunately, may opposite backside, mom eat entire bag empty stomach may spend afternoon bathroom.<br /><br />i still give stars.<br /><br />also, online price amazon better anywhere else seen them. combined amazon prime getting great deal chips.",
          "complet ripopening numerous bags found none chips flavoring them. completely plain gross. even happen?",
          "one bite becom chippoisseuraddicted salty tangy flavors, opened first bag sea salt & vinegar kettle brand chips knew perfect complement vegetable trays cucumber, carrot, celery cherry tomatoes. skip dip; balance tangy chips alternating bites raw vegetable.<br /><br />as oregonian, proud share delectable snacks friends, especially living outside state experienced gourmet chips. tell kettle brand potato chips microbrews beer.<br /><br />kettle brand potato chips unmistakable--a light gold color, rich flavor amazing crunch. kettle brand chips also healthier snacking option major chip brands. kettle brand chips trans fats, message artificial flavors colorings. company also line organic potato chips products certified kosher.<br /><br />i also recommend <a chips honey dijon</a> <a chips spicy thai</a>.<br /><br />annette solomon, reporter salem statesman journal recently noted glass wine goes nicely chips. solomon wrote, \"...you could missing wonderful pairing. chips spicy, would want select semi-sweet white wine. also, moderate amount acid subdue strong flavors ginger, lime, garlic cilantro without over-powering them. classically, german-style riesling fits parameters perfectly.\"",
          "love first bite tonguepuck tang crunchfirst discovered kettle chips sea salt vinegar shopping trader joe's daughter mindy. could believe tasty were; best chip ever eaten. love first bite, munching ever since.<br /><br />other things favor: thicker chips, crumble devouring them; delightfully crunchy; salt-and-vinegar combination heavenly. tried create original line describe palate-pleasing taste treat, could beat manufacturer said: tongue-puckering tang crunch. poetic?<br /><br />as health values, since kettle chips peeled preparation, getting nutrition, potassium vitamin c. mother would approve that, fact hand-cooked small batches.<br /><br />i often enjoy kettle chips afternoon snack favorite soda iced tea, also delicious tuna sandwich hot dog lunch. well, actually kettle chips go perfect everything ... except \"sweets,\" course.<br /><br />my problem delicious cannot stop eating them. reason chose smaller packets; figured could last almost month, good girl, kept appetite control--and hid kids! sake fewer calories, try hard succeeded far. easy, ...<br /><br />have told much love them?<br /><br />reviewed by: betty dravis, />millennium babe: prophecy",
          "mayb worst chip everperhaps worst chips ever gone mouth.<br /><br />for entire life sour cream & onion (and case \"& chive\") chips favorite. recently kettle brand honey dijon mustard took slot. found sour cream & onion try them.<br /><br />as soon opened bag chips smelled powdered milk. indeed chip coated powdered sour cream awful. tastes like rancid milk. sour, like sour cream rancid. powdery texture also extremely unappealing. basically hated chips. would recommend chips anyone unless particular affinity powdery, chalky texture chip, rancid (and onion flavor) hard time believing person exists.<br /><br />i plan contacting kettle sharing thoughts them. hopefully reassess seasoning otherwise wonderful kettle style chips.",
          "awesomlooking probably already know like chips.<br />this great deal problems going stale.<br />the bags great size snack help avoid over-eating.",
          "addictbest potato chips ever tasted. easy go half bag without stopping. texture/crunchiness perfect, salt vinegar combination. know taste much better chips ever had, do. and, judging nutrition facts, seem healthier, too. somewhat fibrous good bit potassium vitamin c, could skin potatoes chips bit thicker normal.<br /><br />and like these, kettle chips great.",
          "wrong flavor got countri bbq instead chili chipotlexcited thinking favorite discontinued kettle flavor, disappointed opened box found substitution. keeping would ordered bags flavor. good bbq chip could get flavor grocery store. oh favorite food items always get discontinued??? one star substitution. country bbq start chip, chip longed for.",
          "deliciseriously delicious, especially like plain potato chips. concern oily. understand \"kettle chips\" \"fried\" (small batches all) open bag (that another thing, strong bag! need scissors!) coating oil inside bag chips themselves. suggest blot/shake paper towels consuming. either way, yummy potato taste, satisfying crunch. delicious!",
          "bad littl hard get usehusband likes lot. bit different get used less greasy salty taste usual chips buy. browner would like see chips pretty sturdy texture. bad, though. takes getting used eating chips better health. calories fat, however.",
          "overfribought brand trial since tired pingos.<br /><br />it claims natural. argument this. point % bag over-fried brown color. really suffer eating over-fried chips. open bags looks like same. throw away them. know bad luck every bag selling same. sure never buy brand more.",
          "yummikettle foods, inc. makes best tasting potato chips ever eaten. variety flavors, classic barbeque unique spicy thai find right flavor mouth. taste wonderful, all-natural chips cooked safflower sunflower oil zero cholesterol.<br /><br />but gogreenmart&more product week? kettle foods, inc. \"green giant\", company highlighted environmental practices. convert waste oils biodiesel power company cars. roof-top solar panel system creates annually production offset % additional you.s. energy usage buying renewable energy credits. efforts future care present rejuvenate neighboring acre wetland eco-system. recent building construction, earned gold rating leadership energy environmental design (leed).<br /><br />now mouth thank environment.",
          "buy eat happiachieve potato chip nirvana? simple: buy chips, get tomorrow, eat them!<br />repeat.<br /><br />why?<br /><br />best \"old school\" bbq flavor there<br />kettle quality<br />incredible price amazon<br /><br />did mention delicious terrific bargain?",
          "aw sometim awproblem. order case - good, half time best kettle chip, best! get case worse - potatos mealy old throw order again, expensive made good fresh potatos best - last case prompted write - potatos weird - like almost sour going bad - even wrote company makes - want best kettle chip try ones get best try again!<br />i, done ordering creeping using soured potatos either noticing caring.",
          "chip make fatenjoy ever step. gained lbs within month buying pack full sized bags. damn it! warn this! tastes awesome though. finish crash diet order another box (case?). :-)",
          "burntbags lot overcooked brown pieces. also felt greasy. keep wiping fingers napkin.",
          "great tast chipsecond purchase kettle potato chips love much first time tried them. bought carton bags. kettle chips bag enough single size serving snack meal. chips delicious, baked fried lightly salted sea salt. fat, preservatives, nothing artificial use real food ingredients. could ask great tasting chip!",
          "excel balanc tast crunchi moistursimply fell love chips refused share friends. :)) experience lot cheese-favored chips salty little greasy side. ny cheddar kettle really changed mind. thanks amazon great discounts buy store anymore.",
          "love chip thick crunchichips thick crunchy. absolutely love them. taste perfect. like buy smaller bags cannot trust large bag taste good.",
          "tastinice case chips quite tasty. definitely enjoy kettle sea salt black pepper. wish bigger bags :)",
          "conveni low costsubscribed - one case every three months. comes $ month convenience favorite chips handy whenever want. seems frito-lay managed crowd every chip vendor pretty much local stores best way ensure steady supply items want rather items frito-lay wants have. two ounce bags larger might used buying subway (for example) find works well - large enough good snack own, even share single bag lunch. size perfect ensuring fantastically crunchy chips always fresh - chip clip needed!<br /><br />the problem? subscribed four cases year yummy chips always pantry makes really easy increase ones kettle chip consumption. definitely hide case kids!",
          "delici crisp chip good flavoralways fan kettle chips. open bag kettle chips know going get quality. chips exception live name printed package.<br /><br />the new york cheddar chips subtle flavor them. taste cheddar them; smack face like supermarket brand chips might. taste lingers well definite plus!<br /><br />another aspect kettle chips fact every chip nice crisp, crunch mouth. top burnt chips bags since purchase. negative might flavoring chips uneven. chips might pack nice cheddar punch another might taste rather plain. big flaw happens getting seasoned ruin bag all.<br /><br />overall quality chips fantastic. flavor great not' disappointed , especially cheddar lover!",
          "chip make weak kneechips remind long obsolete brand chips could get middle school. far tastiest chips impossible walk past aisle without picking trademark blue bag putting bag clip bag!",
          "pretti good could betterglad find one ounce size bag seems bit less full. hard find single serving chip bags vend well. sometimes wide. plump air. bag size good. bbq flavor .",
          "chip bag cooklike kettle chips really disappointed order cooked. bought bigger sized bag costco chips cooked perfectly. know different.<br />will never buy chips again.",
          "bag salt chip adknow case chips received what, everyone allowed sample chips (in buffet style setting) agreed slightly salty side.<br />one person jokingly stated would terrific melting ice snow, due amount salt these.<br /><br />we ordered expectations would similar lay's kettle mesquite potato chips, kettle brands outback bbq chips exact opposite.<br /><br />sorry folks, better expectations chips little salty side.<br /><br />we still looking forward amazon finally getting lay's kettle mesquite potato chips stock.<br />these got star, bbq powder used flavorful enough unique.",
          "tastigreat price excellent chip. cents ounce bag bargain well tasty chip. everyone let try impressed commented good taste. yet find kettle chip disappointed!",
          "great chipkettle chips, really careful. flavors nauseating. said, make fantastic plain chips. thick cuts potato, fried dark golden brown. crunchy lightly salted sea salt. cannot recommend chips enough. regret it.<br /><br />some people say burnt not. website: \"take quick look see immediate difference: kettle brand® potato chips beautiful tawny gold. cooking, natural sugars select potatoes caramelize, creating chips light gold deep amber. results flavors deep rich colors, artisanal display every bag\"<br /><br />some also said chips oily, true. explain website: \"at kettle foods exclusively use expeller pressed high monounsaturated sunflower and/or safflower oil make kettle brand® products. oils naturally free trans fatty acids hydrogenated way. taken extra step sending products independent third party labs test presence trans fats results indicate \"trans fat free\" meaning none detected. see zero trans fats listed packaging.\" oiliness natural happens quality oil used.<br /><br />you find chips natural potato flavor. also fan unsalted potato chips. us watching salt intake, unsalted chips best get. period.",
          "disappointordered kettle chips following flavvors<br />salt & fresh ground pepper<br />tuscan cheese<br />n.y. cheddar hers<br /><br />they tasted me. variety pack suggest order ordering large size.<br /><br />i wish could return unopened bags.",
          "best chip ever tastfantastic tasting potato chips. love individual bags, great kids adults too. trans fat, cholesterol, artifical stuff.<br />low sodium high potassium, great people like hbp.<br />only problem amazon stock times price high.",
          "yowzahme, kettle best brand market. really know turn humble potato something fit gods! think anything could top salt pepper chips, new favorite. flavors pure real. go great everything highly addictive! hope come low fat version; low fat chips excellent need flavors.",
          null
         ],
         "marker": {
          "opacity": 0.5,
          "size": 5
         },
         "mode": "markers+text",
         "name": "2_chips_kettle_potato",
         "text": [
          "",
          "",
          "",
          "",
          "",
          "",
          "",
          "",
          "",
          "",
          "",
          "",
          "",
          "",
          "",
          "",
          "",
          "",
          "",
          "",
          "",
          "",
          "",
          "",
          "",
          "",
          "",
          "",
          "",
          "",
          "",
          "",
          "",
          "",
          "",
          "",
          "",
          "",
          "",
          "",
          "",
          "",
          "",
          "",
          "",
          "",
          "",
          "",
          "",
          "",
          "",
          "",
          "",
          "",
          "",
          "",
          "",
          "",
          "",
          "",
          "",
          "",
          "",
          "",
          "",
          "",
          "2_chips_kettle_potato"
         ],
         "textfont": {
          "size": 12
         },
         "type": "scattergl",
         "x": {
          "bdata": "slZ3QEEiVECVt1xAlUJgQCitiECqb1tAetBiQMlEaEBYhpRA5A1wQBnNV0DFkGtA73VyQFtfj0DMRFtAWZaNQD0LaECDvHZAB7WKQCV4ZEAxnXhAaHyOQGrgeEAvXmNAs1+LQKzyikCTkGdAtOBvQP38gkAirWJAoRZnQJ5QUECQnGlA6exTQO1DcUDjHndAKfdcQNJHikCnhYxA34h6QAlnYkBaFG5AW8xVQKe7ZUAdcG1AffpaQJnrjEDBS2BAs3lcQLeoY0AG5GlAmc9lQJbxdEA4g2JA6qJWQKiGYkAQ2GpAtVtfQOi1VEBGY1JA1LdfQIsrUkDPYYpAWbdPQADpX0AXsIdAlhdvQA==",
          "dtype": "f4"
         },
         "y": {
          "bdata": "5+JrwGN+LMCXL2vA+5RmwG6pfcBK+FjAoBQkwJPvbMDRDIDAWZFQwLapGMCTJyfAsqNPwHcEh8C6syHA5t2EwB0XbcDZ+FrAoE6GwCmqb8DelS3A0uR5wLQTfMBRW2rAwVODwFYvh8C+PmTAJrl1wMqqesDx3xrAwABqwJPnPMCpQBHAvMBZwPkfasBlb3PAikIkwMI9hsDyG4PAYVNxwP5sHcCVrHHAVetTwNiRY8DDNEnA/iRawE+1hcApfGbAcTJnwK4ZGMBbEEzAz1NrwDfFc8D0YBrA0UBiwGLVHMCiDG/Ah8hhwDoGKcA40lLANy54wEkEV8BrTIbAnLxFwK4OY8A12oDAM1BcwA==",
          "dtype": "f4"
         }
        },
        {
         "hoverinfo": "text",
         "hovertext": [
          "greatbaby loves rice lentil one favorite things eat. going somewhere able warm food eat one cold.",
          "love fresh food feederproduct amazing. know people little ones use love them!! super easy clean use. ordering these, impression per package...fyi-they not!! one per...",
          "toss jarthree jars came form edible babies. rest filled clump spongy mush would mix water. also brown color yellowish brown like jars good mixture.<br />pretty disappointing waste money.",
          "babi favorit dinnersix month old baby loves earth's best sweet potato chicken dinner - favorite. seems love earth's best foods - fruits, vegetables, dinners. consistency food makes easy eat - thick, thin.",
          "banana runtbesides smaller runts, look consistency. unfortunately, taste nothing like banana runts...nor even taste good. yucky stuff. trying return vendor.",
          "babi likeusually make baby's food.... easy, steam fruits & veggies puree.... sometimes enough time cook buy earth's best baby foods....baby likes fruits veggies far like one. refused eat it. tried understood why, would eat either... tastes nasty.... poor baby.... immediately made homemade potato, zucchini, & asparagus puree loved it. would recommend flavor!",
          "plastic foodwow, shocked find clear plastic pieces jars. posters say notified earth's best august still selling without checking recalling!! earth's best little guy. taking business elsewhere sad organic company selling baby food plastic bpa jars. got better get business.",
          "son loveson loves rice lentil jars. liquid consistency peas brown rice jars. order subscribe save + amazon mom always arrives nicely packaged.",
          "great eat whole food clean veggi brushslightly different version - different brand. son started using around six months, really enjoys it. get messy eats something sticky juicy like banana watermelon, whatever... anyway, also trouble cleaning it, tried scrubbing nail vegetable brush. works pretty well. takes time, much would take run food food mill blender, cut up, clean him, chair, floor, dog, me, well get picture.",
          "protein vitaminearth's best turkey vegetable dinner hits spot apples turkey. add cranberries want take next level. cannot find non-sweetened non-dried cranberries even better food stores.<br /><br />apples, carrots turkey taste good old growing twin girls. babies love carrots since sweet taste, made great addition. whole barley flour absorbs water give acceptable consistency.<br /><br />the ingredients per label: water, organic apples, organic carrots, mechanically separated organic turkey, organic whole barley flour.<br /><br />in addition % protein % vitamin a, % calcium % iron.<br /><br />i pleased babies like food introduced many foods earth's best. informed percentage daily needs met based adult.",
          "babi favorit dinnerrice lentil dinner son's absolute favorite. know gobbles every time. enjoys earth's best foods found couple eat (anything much apple) personal taste issue brand particular combination. varieties tend runny one great consistency right jar.",
          "antioxid smoothibear amazon's work copy lakewood website:<br />---------------------------------------<br />nutrition facts<br /> upc /><br />serving size oz<br />serving size ml<br />amount per serving<br />calories calories fat />% daily value*<br />total fat />saturated fat />trans fat />cholesterol />potassium />sodium />total carbohydrate />dietary fiber />sugars />protein /><br />omega , omega , omega , vitamin %, vitamin c %, calcium %, iron %, vitamin e %, vitamin (thiamin) %, vitamin (riboflavin) %, niacin %, vitamin %, folate %, magnesium %, zinc %, phosphorous %, vitamin k />*percent daily values based calorie diet<br /><br />ingredients<br />certified organic juice blend (organic acai, organic apple, organic concord grape, organic grape, organic pomegranate, organic blackberry, organic blueberry, organic red tart cherry, organic acerola cherry concentrate); organic goji berry, natural fiber (organic guar, xanthan, carrageenan, sodium alginate organic locust bean), organic rose hip.<br /><br />gluten free* casein free gmo free*<br />% fruit juices gluten-free<br />---------------------------------------<br /><br />this excellent lakewood juice- call juice thick odwalla drink like smoothie. it, good value. considering pay much one ingredients it. personal use add kombucha, maximizing longevity way, tried many one best kombucha. say glass servings fruit lakewood website. quite tasty sweet, thick textured even tiny bits seed reminiscent banana smoothie. ingredient list somewhat confusing note acerola cherry concentrate, everything else fresh pressed. acai high orac scale anti-oxidants, rose hips also high, everything else mid high range fruit. pomegranate many beneficial properties beyond anti-oxidants well, noteworthy fighter heart disease alzheimer's type dementia. considering price goji berries really like inclusion drink, albeit lesser level.<br /><br />by way: amazon day wait shipping.",
          "organ tastimonth olds time write great review, like flavors, textures great, jars open easily. great go snack.",
          "good best flavorlove earth's best organic baby food, tastiest one. tried think pretty gross. daughter still eats it, much enthusiasm flavors. got decent amount protein, important us vegetarian family.",
          "love love lovebought set two son months, started taking us whenever went eat. cut cantaloupe, apple, banana (even used sweet potatoes times)-- whatever could get restaurant-- would keep son busy long enough could actually eat! great overly worried choking big chunks, got try new foods. would hesitate buy again.",
          "earth best rice lentil dinnerdaughter's favorite first foremost. love get lentils, many stage vegetarian choices.",
          "could useloved mold! wished could used one occasion, last. use make + suckers daughter's first birthday. going way mold could salvaged that. would liked kept use occasions, price matter much. served main purpose :)",
          "repeat deliveri broken jar great product thoughliked getting one twin olds interesting ingredients, particularly zucchini garbanzo beans. like fact vegetarian yet believe complete protein since also brown rice. list ingredients looks excellent green color naturally.<br /><br />the babies liked it. liked everything carrots.<br /><br />i subscription one really like ingredients fact giving babies food naturally green.<br /><br />ingredients per label: water, organic corn, organic zucchini, organic green beans, organic brown rice, organic carrots, organic garbanzo beans, organic canola oil.<br /><br />this calories, % protein, % vitamin a, % vitamin c, % calcium % iron. informed percentage daily needs met based adult.",
          "runnibaby loves sweet potatoes. essentially mix food sweet potatoes eat them; case could good bad thing depending wanted mix there... horribly runny, like spooning formula mouth. ick.",
          "good foodchocolate moose & mickey moose,<br /><br />our nice owner bought great food us. love much, gained lbs. eat mickey's food looking! skin fur much better too. :)",
          "favoritdaughter outgrowing baby food still eat this. tried foods like texture them. really good likes it, keep buying it.",
          "twin love one subscript price fairtwins love one right start loaded lentils (see ingredients below). introduced months old months. glad eating something green could get eat one peas tried months, got eat peas later months.<br /><br />their favorite vegetable sweet potato also tried sweet potato cinnamon. love fruit varieties.<br /><br />i glad love one lentils brown rice form complete protein, although view ingredients shows lentils one prime ingredients.<br /><br />this one also carrots heard babies like carrots. know would like without carrots. seen one - lentils brown rice - local stores, glad get here. along others, get one subscription. course, twins one forced buy bulk busy great get delivered.<br /><br />the packaging excellent. ordered unbelievable number cases jars different types one jar arrive broken.<br /><br />ingredients per label: water, organic apples, organic carrots, organic brown rice, organic lentils, organic canola oil.<br /><br />this calories, % protein, % vitamin a, % vitamin c, % calcium % iron.<br /><br />i informed daily intake percentage based adult.",
          "yumalways try food feed daughter one actually pretty good. daughter loves it. gets excited make",
          "acquir tastthing marmite like hate it, love cannot live without it. much \"an english thing\" language even adopted trade name metaphor (as \"victoria beckham marmite\" meaning like her...etc.). amazon done world favor making weird wonderful stuff available affordable price. last time looked, $ jar british stores l.a.county, costs england. amazon supplier quick efficient, enough marmite last end year (or would have, decide send one two jars son japan!). good job, amazon!",
          "son favorit dinnerson's favorite dinner! best seems best combo protein (%) , vitamin (%) c (%). runnier dinners great start solids protein it. love love love brand flavor. think purchased jars far.",
          "babi likeeat baby liked it. said savory sweet reminded fine dining tuscany. also like jarred foods know recycle never become waste. learned telling everyone - glass recycles forever. recycle nothing common stop reading here. even hard thing anymore. nobody else building recycles drives crazy. rinse put different bin still put trash day. stop lazy.",
          "highli recomendgreat taste. great ingredients. great texture. absolutely delicious! little smaller may still hungry meal. give one year old son breakfast still little hungry more. either taste good wants more.",
          "good iceproduct impossible wash actually get cleaned. could get food pieces save life. tried scrubbing even washed dishwasher suggests.",
          "awawful! thought food supposed taste good! eat ice cream afterwards get taste mouth, bad.",
          "daughter favorit jar foodmonth old absolutely loves one...by far, favorite jarred baby food. like lentils add bit protein average baby food, ready introduce meats yet.<br /><br />i subscribe & save, brings price $. fair price - amazing deal, roughly equivalent sale prices grocery store. bigger issue particular blend hard find - go whole foods. regular grocery store target carry earth's best, blend. daughter likes much, though, would still buy even price bit higher store prices. good one!",
          "garbanzo bean give horribl gafair one twins got gas horrible. night screaming gas pains. garbanzo beans ideal food young babies.",
          "lovetwin girls, loved vegetable turkey dinner. one favorite baby foods. great price.",
          "littl wateri food eblittle baby picky eat sometimes. one watery others, keep mind. reviewing baby food objective since children different, hope letting know consistency texture help.",
          "wonder ideadifficult cleanlove, love, love idea product little one loves, loves, loves use it. gets fresh fruit tasty things worry choking. drawback bits food get stuck mesh seams impossible get out. granted, foods difficult others much problem. bananas however, pretty much destroyed couple them. love product, think next time get one removable replaceable mesh bags.",
          "runni oddtasttriplets eat this, eventhe one eat anything. consistency way runny well stay spoon.",
          "babi love plasticdaughter's favorite baby food far. ones eat rarely eat kinds. however, taste bland, adult least. put unfinished portion fridge, may become sort watery point throw out. unique others combination vegetables has, especially zucchini.<br />i update review today, saw little pieces thin stretchy plastic two jars baby food. plastic baby food? notified earth's best sending pieces plastic testing, giving baby food more, even though likes it, us.",
          "meh daughter eat everyth els thingintroduced daughter earth's best organic turkey vegetable dinner months. bit early, advanced, weeks overdue. loved first. but, bought every kind least favorite. tried well. them, also least favorite.",
          "babi likewhatever reason, son really likes flavor. fan myself, one eating it. time get variety vegetables baby one sitting, happy mom.",
          "babi like oneearths best eats most, one little thicker original chicken/sweet potato favorite runny.",
          "great tast picki babi thin compar otherdaughter big fan baby food, especially proteins, love one! flavor right, sweet savory, strong chicken flavor. almost like plain sweet potatoes sharp, thus good first protein offer, good picky eaters. nephews niece also liked flavor, pretty safe bet keep hand know particular baby's preferences.<br />something wish known quite bit runnier stage earth's best, especially chicken. added quite bit rice cereal thicken daughter gotten tired runny texture, liked fine, extra step. however runnier texture makes workable younger babies gagging/texture problems.",
          "yummi earth best flavorreceived dinner variety pack tried first time today. always try baby foods make sure right temperature (i put bowl microwave seconds) taste ok. tasted this, made face yucky! added sweet potatoes dash cinnamon. credit, ( month old) daughter ate bites, nearly enthusiastically flavors. like mixture organic vegetables beans protein.",
          "fun paintcookies fun paint tasty eat!<br />the kids really care much, might been<br />more fun could eaten them.<br /><br />they really fun coloring them!",
          "found shred plastic babi foodnormally love earth's best products (as son). however, tonight would given half jar thought would try since new flavor realized little pieces soft shredded plastic it. appalled! first child experience kind thing, called poison control. said would ok knew fine, got really angry. looked online found earth's best actually known plastic time still selling it. buy earth's best! really disappointing.",
          "organ tastiwould continue buy moving home made finger foods away glass jars...shattered many. like flavors though. great textures too.",
          "make best babi fooddaughter loved stuff. natural made well. good mix things get older too! beats gerber.",
          "anni homegrown organ whole wheat shell white cheddar macaroni chees ozproduct made annie's inc. berkely, ca--made usa. product maintains excellent organic integrity, stored % recycled paperboard packaging.<br /><br />the manufacturers also support family farms - use organic milk, butter, yogurt. product takes approximately min. prepare. product contains dairy wheat, exposed equipment also processes egg soy products.<br /><br />the ingredients include organic whole wheat pasta, organic valley organic cheddar cheese (organic cultured pasteurized milk, salt, non-animal enzymes), organic whey, salt, sodium phosphate.<br /><br />this mildly flavored whole wheat macaroni & cheese dinner. mac cheese wonderful comfort food. pasta firm, excellent flavor.<br /><br />there artificial flavors, synthetics colors, preservatives. pasta produced without antibiotics, synthetic hormones, persistent pesticides.<br /><br />this pasta simple make wonderful texture. servings per box ( oz). serving contains cal., g fat, sat. g fat, mg cholest., mg sodium, g carb., g fiber, g sugars, g protein.<br /><br />however, cheese envelop exactly sufficient even add butter, milk, yogurt. add wonderful rich smooth cheese flavor accompanies mac cheese, add organic cheese.<br /><br />the cheese packet falls flat flavor contain sufficient amount coat pasta. give mac cheese packaging, maintain organic integrity, texture, flavor.",
          "best babkanever life tasted good babka crazy good! real babka! gram mother use make",
          "one son favoritson started eating around months old; months old one favorites. unfortunately, carry local grocery store (they carry varieties earth's best; one favorites, spinach/potatoes spaghetti cheese); carry whole foods buy there. glad find amazon! get tired ringing gazillion little jars store.<br /><br />we use base mix things - bits cooked broccoli, small pieces meat. also started adding spices introduce new flavors.",
          "son loveson really enjoys earth's best lentil! eats entire jar dinner always wants more. product shipped quickly.",
          "son favorit dishlove fact turkey offered. son's favorite dish. issues good balance nutrients.",
          "one favoritone son's favorite baby foods. bit sweetness, sweet. runny flavors, use deeper spoon one, add little rice cereal thicken up.",
          "jar babi food son atemonth month, son barely ate solid food. picky. tried many different flavor various brands baby food would actually finish whole jar. expect like since green vegetable scent it, guessed wrong.<br />now month old pretty healthy eater. current favorite seems tofu, still loves corn, zucchini, brown rice carrot ingredients this. highly recommend try baby food.<br /><br />also, earth's best makes best baby foods toddler foods fabulous well. son really like snacks gerber brand, likes products earth's best. foods taste great(even us adult) good too.",
          "impressmunchkin fresh food feeder okay product, kind like sucking food cloth. daughter interested little while, eventually lost interest. may introduce back see reacts.",
          "great teethloved product fruits food want new baby choke on. also used put ice baby teething. worked great this, well food. like bananas though-impossible get clean!",
          "great place startwould love say time make son's food everyday. case. honestly, make time, days, time/energy get done. enter product. bought baby food, read reviews people saying fruit it, like dessert, yadda yadda yadda. truth is, yes, bit fruit it, sweet all. fruit merely brings flavors naturally add anything else. great product enter proteins baby's diet. consistency smooth enough wanted add cereal also, baby choke it. highly recommend.",
          "geat productson loves best earth's baby food favorite seems vegetable turkey. smiles every mouthful.<br /><br />i would recommend product anyone looking healthy feeding organic way. food feed son earth's best.",
          "babi lilli say thumblittle girl cannot get enough this! like organic contains fruit, veggies, protein grains one tasty meal. wish came larger portions since month old always wants jars.",
          "dessert nutrit enoughtwin old babies treat one dessert. first earth's best jar loved straight sweet potatoes. water, sweet potatoes first ingredient one, followed apricot puree. dessert right there. comes chicken brown rice flour (not good brown rice though).<br /><br />this meal babies around age mine probably almost going love instantly. almost babies love sweet potatoes starters. add apricot puree really much one could discourage babies that. recommend flavor brand.<br /><br />ingredients per label: water, organic sweet potatoes, organic apricot puree, mechanically separated organic chicken, organic brown rice flour.<br /><br />the rice flour absorbed water gave real nice consistency, sweet potatoes gave nice color.<br /><br />nutrition per label: calories, % protein, % vitamin a, % vitamin c, % calcium % iron.<br /><br />this one vitamin earth's best jars tried. informed percentage daily needs met based adult.",
          "good flavor runni thoughbaby loved one, progressed cut one runny move spoon quickly way grabby hands, over! think could use little less water maybe little potato make consistency turkey dinner one.",
          "babi favorit stage food far great constiplike earth's best baby food line organic ingredients. amazon great prices (especially subscribe) free delivery doorstop, convenient busy mom. daughter like lot baby foods, eat one. reviewers stated, bit runnier eb's stage foods, add oatmeal it. also bit bland, add dash cinnamon heating up. added bonus, works wonders digestive tract! problems constipation months, sometimes going days give suppository, discovered food makes poop every time (i also started giving sippy cup water meals day help fiber). rated instead stars main ingredients sweet potatoes apricots rather sweet potatoes chicken. wish chicken protein.",
          "mom dad bewar plastic foodwanted post found small bits plastic food feeding month old. plastic!!! food!!!! baby food!!! please careful buy considering it.<br /><br />my daughter loves food-- actually favorite. first time noticed plastic months.",
          "absolut lovegreat idea!!!! daughter love it.<br />i think difficult wash, mean, like toss water it... but, come on!!!!<br />absolutely recommend it!",
          null
         ],
         "marker": {
          "opacity": 0.5,
          "size": 5
         },
         "mode": "markers+text",
         "name": "3_organic_baby_food",
         "text": [
          "",
          "",
          "",
          "",
          "",
          "",
          "",
          "",
          "",
          "",
          "",
          "",
          "",
          "",
          "",
          "",
          "",
          "",
          "",
          "",
          "",
          "",
          "",
          "",
          "",
          "",
          "",
          "",
          "",
          "",
          "",
          "",
          "",
          "",
          "",
          "",
          "",
          "",
          "",
          "",
          "",
          "",
          "",
          "",
          "",
          "",
          "",
          "",
          "",
          "",
          "",
          "",
          "",
          "",
          "",
          "",
          "",
          "",
          "",
          "",
          "",
          "",
          "3_organic_baby_food"
         ],
         "textfont": {
          "size": 12
         },
         "type": "scattergl",
         "x": {
          "bdata": "ttOeQB9XlUB/xptAVLycQPjomEAcf5tATsGWQCJ1oUDJzqBA0+aiQKDQnEAv565AgEeeQDEao0Crg55AqHSgQAoYm0AX4aVAKZOYQARZhkB6r59AFBGkQKein0A4XJlAU+idQGd3lUDTyZ5AElOiQCZ9qkByvp1AKp+jQHLMnkDUt5tAhYmcQCS0l0B6PJpACC+hQGchnEDqJJtA1QyeQH6sokBr9oFAoSaWQOEOnkCXjptAJT2kQIQnmkCy9ptAzKagQOIHoEA05p1A96ObQK2qmkBm1qBA9lufQM8koUB/H6VA95SiQGvrmEBxJqJAUSqaQGCLnUAngJ1A",
          "dtype": "f4"
         },
         "y": {
          "bdata": "Sho1QIZDCkAiLA5ADnEjQEU70j8H3x1AqRgCQDpWNEDr8wtAqp8xQPryL0Bo6zRA3UMFQIZZI0AOEQ5ABPQ3QMK4BUCv2y5AvlApQHmvEEBHvBJAFi0yQCG+E0CPxvk+/sctQPSO5D+HzBxAdOgGQJoICEAKKRJAWr8pQLlLPECcWxtAHDnnP/1oLUBuORtA3dw2QAZyIUB13CdAOOsdQBqEIEArpuo/lx7rP8auCEDIvxtAS3snQACHKEA13xJAnU03QJJGNkAtyBRACkgcQNXHDkDlsAhAWjcMQJ2RN0A8UypAlLEoQNoGL0DxBihAexwMQJGkCEAKeBlA",
          "dtype": "f4"
         }
        },
        {
         "hoverinfo": "text",
         "hovertext": [
          "sass teacare product all, thought tea sisters use drink elementary school. found tea use drink actually came root particular type tree.",
          "new rooibo teagave tea try add variety tea habit. glad did. somewhat sweet almost minty taste wonderful aroma. nice reddish color. tea probably taste factor wonderful japanese green matcha tea had, look forward experiencing purported health benefits rooibos read about.",
          "nice tealove strong, full bodied quality tea typically drink assam, irish breakfast early grey tea, reviewer noted price per pound discouraging. searching quality full bodied tea bitter palatable price point, certainly fits bill. unlike teas tend better one form another, i.e. iced vs. hot, tea excellent forms. would certainly recommend anyone prefers smooth full bodied quality tea cost arm leg.",
          "best teaalways amazes dozens reviews extolling fine qualities tea. drunk pretty much every day last five years never get tired it. excellent morning tea, smooth without insipid, almost impossible ruin oversteeping. use decent water. like little stevia it, wimp. brings natural sweetness malty, slightly floral style. bought another two pounds.",
          "wonder tealove tea. helps curb eating day. mom given friends try.",
          "realli nice tasttrying several wu yi teas. like one particularly subtle citrus taste. also natural sweetness.<br /><br />the ingredients include organic wu-li cliff oolong tea ( mg), organic black tea ( mg), organic green tea extract ( mg), proprietary blend ( mg), plus ginseng (panax), orange peel, lemon grass, guarana. ingredients: natual orange citrus flavors.<br /><br />my goal drink tea less coffee. enjoying trying different kind tea every day. coming back one.",
          "ahmad teaahmad tea excellent looseleaf tea eith hot making iced tea. great flavor lingering aftertaste.",
          "everyday cup teahi, black tea everyday. done past years habit mine. ahmad tea one favorite brands highly recommend like black tea. think going remain favorite next years :)",
          "good tasten teaordered on-line received days (). tea excellent price right me.",
          "bestknow cannot make tea good. granted, south know never enjoyed tea sweet without sweet. tastes crisp.",
          "hard find teapurchased tea neighbor present, looking sassafras tea long time, realize hard find! absolutely loves it, made great surprise christmas gift.",
          "excel loos tealike ceylon tea variety, certainly enjoy appreciate tea.<br /><br />i happy find ahmad teas available (thanks amazon!) surprised negative review + years drinking ahmad teas even disappointed. superb quality ahmad teas remained consistent throughout years.<br /><br />the current deal pack good (cheaper find locally).<br /><br />highly recommended.<br /><br />note: listing's description confusing. packet tea weighs grams, equals pounds ounces.",
          "excel teatea tastes almost good tea would get indian restaurant. much better getting teabag making english way, lot water bit milk. creamy tasty. criticism enough sachets box. . since directions say use one sachet water (approximately half cup), enough good cup tea, use two. means one box good enough five cups tea. delicious after-dinner drink! would buy sachets box.",
          "horridpossible give product zero stars, would done so. huge fan twinings teas, excited try new blend. arriving home grocery, immediately started kettle enjoy cup prepping dinner. sorting, washing, chopping items, hot water added bag steep. preparation continued, distinctly odor hit me. thought one ingredients must rancid! hunted around almost four minutes realized tea. even cleaning up, airing kitchen, roommate later came asked smell. save money purchase twinings product.",
          "best earl grey everpros:<br />- extremely fragrant<br />- full bodied<br />- steeped twice<br />- nice air-tight container<br />- organic<br /><br />cons:<br />- price<br /><br />the tao tea, blue flower earl grey black tea best earl grey ever tasted, would recommend anyone.<br /><br /><a tao tea, blue flower earl grey black tea, loose leaf, tins (pack >",
          "favorit teatried literally dozens teas since introduced russian custom preparing drinking tea, ahmad imperial blend probably favorite due fact equally delicious hot iced. buy three-packs needed amazon go rapidly. family loves friends homes too, try one box love too.",
          "better tast expectheard great things sassafras wanted try it. worried taste turned lot better anticipated. actually going order continue drinking time. trust fda!!",
          "everi day green teadrinking royal king % natural organic green tea ( tea bags x each) every day tea several years now. buy boxes time save shipping. many years used drink coffee morning till night. finally realized drinking much coffee healthy me. finally resolved improve health stopped drinking coffee together. tried many alternative drinks replace coffee habit. found green tea good tasting also health benefits. green tea one drinks actually makes healthier (coffe drinks not) - healthier drink quality cold water. opinion, price, royal king % natural organic green tea one best tasting teas. green tea beautiful golden color, taste bright fresh. recommend adding tiny amount y.s. organic bee farms raw honey tea add sweetness health benefits too. also give treat much expense tea (tribute xi hu long jing) fantastic tea practical drink every day tea (although would could afford it).<br /><br />cons: latest shipment package shown amazon page different one shipped. one shipped displays \"naturally high polyphenol catechins\" (a key contributive element possible health effects tea), whereas amazon package displays \"caffene free\". sure green tea caffene free not. con sometimes tea bag rips open unwrap string around tea bag. string seems stuck tea bag put bag hot water unstick it.",
          "fine tast full lea great valuread reviews purchasing pleased did. purchased numi teas gave generally happy theri products.",
          "tast better loos leaf rooibotried normal red tea waited review. flavor still rings head earthier rooibos tea less frity. color muddy water, grittiness viscosity well. well worth every penny.",
          "sweet soothwonderful warm flavored tea, especially colder weather.<br />this tea sweet,soothing chamomile fragrance. subtle sweet.it one better chamomile teas.<br />if find hard sleep times, cup sweet chamomile tea may help.<br />if really like sweet taste try bigelow chamomile mango herbal tea.<br />i highly recommend both.",
          "tea flavortea flavor all. whole brunch artifial flavors. returnable. wasted + bucks.",
          "love teastarted drinking power slim tea hcg diet help curb cravings. since liked well, tried others hooked! satisfying drink time. energy gives extra pick-me-up afternoons helps keep going day, matter long.",
          "real teaherbal additives blend destroy real tea taste. people like herbal taste. not.",
          "lovebought dad. years would complain tea since . finally, many nights drinking tea annoyed, bought tea would shut up.",
          "best tea ever freah bright cleanone best teas ever tasted... clean, bright, fresh...<br /><br />great delivery...again quality... try it...",
          "tao tea getkind tea good ....!taste smell wear like tea ,and feel like thing chemical.",
          "great deal great teafirst taste tea saved trip home santa cruz, hotel restaurant stale powder tea bags. needed fix! tourist stop giant artichoke beckoned, chinese breakfast / yunnan black tea set straight.<br /><br />other reviewers said tastes odd. flavor strong bit smoky, like darjeeling, earthier. like darjeeling earl grey, enough flavor -- milk sugar needed. expensive box teabags. finding loose large quantities price fantastic! arrived promptly, well-sealed, true label -- unlike \"loose\" tea actually cut up, whole leaves unfurl. ahhh.",
          "favorit earl grey tealifetime tea drinking, honestly say best earl grey ever tasted. ordered number times, batch consistently excellent. even given gift, container superb keeping loose tea fresh. metal canister inner lid lifted attached knob, tea stays dry fresh length time takes use up. favor, like earl grey, treat tea.",
          "best breakfast tea evertea surpassed breakfast teas tea-drinking household. love really starts morning right. perhaps caffeine old favorites?? taste wonderful without additions remain tea choice morning often throughout day.",
          "even seem littl overprlooks pretty, contents minute seem high quality. plastic cup tea looks like came dollar store. basket nice, though.",
          "sassafrass teagrew ohio lived woods sassafrass trees plentiful. would dig tender roots \"bark\" trees delightful tea. purchased breezy morning sassafrass tea although quite good expensive average size tea bags shipping much product. good bargain. switched pappy's extract.",
          "mediocr cheaptaste harsh lesser grade yunnan. ok drink, really enjoy. make hurry able fully enjoy tea anyway.",
          "could give rate onestartea carries flavor one would expect smell: terrible. invigorates like puncture wound, revival that, drinking, discover still alive.<br /><br />well, one tea bag enough me. mother-in-law said, \"oh, smells kind like wine.\" okay, kind like wine, hint rot moldy aftertaste. likes it, whole box.",
          "delici consist good qualitiused maybe half dozen bags tea last year delicious, consistently good quality black tea. mainly use several numi teas tea blends making kombucha.",
          "love tea tast budlove aroma taste fruit vanilla combo, addition ginseng added energy boost rounds tea nicely me. sweet tea, makes wonderful healthy alternative desert dinner.<br /><br />i see others like it, really matter personal taste...different courses different horses!",
          "tea reviewlove, love green tea. hard find area places internet charge big price usually get many boxes merchant. definitely order seller again!! thanks!! depend green tea fix everyday!",
          "great well balanc earl greytea tin guarding aroma well.<br />the taste beautiful: malva flowers soften taste amount bergamot right.<br />the first time used much tea soaked long (i used reference darjeeling ftgfop first flush).<br />since save quantity tea leaves soak tea two minutes.<br />a delight: best earl grey ever had. price competitive.",
          "best tea everexcellent tea. one best ever had. especially great prepare samovar.",
          "delicitea best tea ever had. first tasted norway, find states. every morning.",
          "delici teadrinking tea long time now. used purchase doctor's office available elsewhere. glad buy amazon.com. drink tea throughout day like folks drink coffee. wonderful taste.",
          "beauti present pretti good tealooking exotic tea drinking experience like white jasmine tea, numi's flower jewel worth look. size gum-ball, jewels slowly open water form flower shape around central amaranth flower. meant decorative glass teapot must preparing tea.<br /><br />decorative mean tasteless. white tea, flavor mild, rich soothing. jasmine wonderful overpower tea. stronger jasmine teas, one quite balanced tasty. used small glass pot preparing able get yummy infusions jewel flavor scent began fade. white tea tips plentiful high quality get bitter seeped long periods.<br /><br />i must deduct points though high price tea ratio fragility flower jewels. pouring hot water directly cause pieces fall infusion flower starts fall apart, though fair main flower shape remains fairly intact. even come box starting missing central flower bits leaf. better packaging might solve this.<br /><br />if want tea experience looks good tastes smells, entertaining want conversation piece, numi tea flower jewel short list.",
          "good english sellbetter england. know why. maybe nostalgia part.",
          "good anytim hot teaenjoying tea years. tea good mornings, afternoons evenings. local store went buisiness....thanks amazon! use bodum tea press prepare pot.",
          "kfirst tasted sassafras tea local restaurant really liked it. started looking grocery stores online teabag form. several weeks investigation called restaurant asked used make tea. told pappy's sassafras concentrate. looked online found amazon.com. ordering also saw sassafras teabags. thought would order box try. dissapointed. taste like flat rootbeer expecting. like black licorice, hate, mild rootbeer undertone. also distinctive red color get steeping sassafras root.<br /><br />i never real sassafras tea made root know teabags like real thing not. bottom line: buy teabags again.",
          "get storetried despite review found exactly tea buy either russian italian groceries.",
          "break easilifirst ball worked pretty well, looked little beaten up. since then, ~half fallen pieces hot water (all sitting bit). mind rate failure, tea pretty good fairly tolerant steeped long time (especially considering white tea).",
          "nice flavor tea purist black tea addictgrew yunnan tea child - always mother's favorite - happy find economical source quality great \"large volume\" habitual tea drinker like me. tea daily regular tea. yunnan nice brew dark need much time. aromatic flavorful without additives. want something flowery yet subtle earl grey yunnan keemun may nice option explore.",
          "wonder teanumi winner tea! husband, son often share wonderful tea dinner. pleasant reason love it, turn bitter longer steeping, like teas do!",
          "best ahmad teatried variety ahmad tea. particularly like brand, easier come across. imperial blend, believe, complex yet well balanced ones tried. full body like good cup assam, means overpower delightful, clean taste darjeerling, complete long lasting note bergamot. enjoy best evening. gives satisfying relaxing finish busy day.<br /><br />for interested specifics: use teaspoons lose tea stainless steel infuser oz mug, let steep water min, take infuser out, drink without sugar milk savor sophistication.",
          "great tast green tea great dealdelicate green tea smooth light taste subtle floral tones bitter aftertaste.<br /><br />in + years drinking ahmad teas even disappointed. superb quality ahmad teas remained consistent throughout years.<br /><br />i happy find ahmad teas available (thanks amazon!) stores carry area quite miles away. current deal pack superb (much cheaper find locally).<br /><br />this great tasting tea, happy recommend.",
          "great tast diet tea natur ingredipoland spring driver gave us new tea try and<br />our family really enjoyed it. looked ingredients quite pleased<br />with natural ingredients calories.",
          "great organ tea great price<a organic tea chinese breakfast yunnan black tea, loose leaf, oz bag (pack brew iced tea refrigerator half-gallon tea. excellent. resealable bags work well, unopened protect large stash, making easier manage subscription.",
          "sassafra tea bagchild facorite memory drinking sassafras tea made fresh sassafras granddad. never seen tea bag before. found get taste remember needed bags per cup. bags rather fragile really great product buy again. plus shipping time great.",
          "great productgreat tasting tea looking good sassafras tea forever.finally. ordering product .<br />thanks kim:d",
          "disappointdrinking tea past years, usually buying box two visiting large metropolitan areas, many middle-eastern stores carry loose ahmad teas, usually $ pound box. always considered unremarkable robust tea, enough aroma taste, beautiful reddish color, perhaps good enough tea drink own, decent base mixes.<br />this tea, however, nothing sort. freshly opened package almost characteristic tea smell, brewed tea weak, flat tasteless. somehow seem product anymore. so, get lot tea money, quality might well drink lipton bags, much worse.",
          "great tea pricedelicious tea!<br /><br />i becoming tea geek really exploring stuff like, earl grey amongst top, especially bergamot.<br /><br />the problem find amount bergamot added usually little, much.<br /><br />this one perfect! really like balance flavor. add anything tea, part teaspoon cup minutes ready.<br /><br />tastes like expensive tea priced like lipton. definitely recommend fans earl grey kick!",
          "great teahardly ever write reviews tea quite excellent. decided try without sweetener added taste enhancers. flavorful without overpowering. great pleasure fine tea like loose reasonably priced. first try continued drink comes. see leaves soaked premium tea.",
          "delicibought tea alternative pricey teavana black teas. cup every morning, smooth refreshing tea.",
          "best tea everdinner friends & family \"the saloon\" \"rte entertainment complex\" sanford fl. besides awesome staff (ask keith) fabulous food (the escargot must) serve china mist tea. time chose tropical organic green -- doubt best flavored tea ever had.",
          "fragrant teadrink tea plain (without sugar milk), pleasant aroma.<br /><br />the price amazon cheaper local grocery store. one reviewer right, think herbal smell make aroma. label \"imperial blend\" kind implied herb.<br /><br />i exactly black tea drinker, tea surprise, affordable too. usually prefer white chinese tea, like white peony, expensive, requires lower temperature water. black tea, aroma kind remind 'softness' white tea.",
          "ahmad loos imperi blend tea great pricefriend would drinking tea years introduced tea months ago. even took store bought pound. $. retail store little $ shipping online merchant, think great. drinking earl grey, english breakfast, irish breakfast, lapsang souchong, assam, etc. $. shipping. aside lapsang souchong, think great replacement rest. everything looking strong, full-bodied black tea enough character keep becoming boring. current favorite afternoon tea. unless extremely jaded tea snob, love it.",
          null
         ],
         "marker": {
          "opacity": 0.5,
          "size": 5
         },
         "mode": "markers+text",
         "name": "4_tea_teas_earl",
         "text": [
          "",
          "",
          "",
          "",
          "",
          "",
          "",
          "",
          "",
          "",
          "",
          "",
          "",
          "",
          "",
          "",
          "",
          "",
          "",
          "",
          "",
          "",
          "",
          "",
          "",
          "",
          "",
          "",
          "",
          "",
          "",
          "",
          "",
          "",
          "",
          "",
          "",
          "",
          "",
          "",
          "",
          "",
          "",
          "",
          "",
          "",
          "",
          "",
          "",
          "",
          "",
          "",
          "",
          "",
          "",
          "",
          "",
          "",
          "",
          "",
          "",
          "",
          "4_tea_teas_earl"
         ],
         "textfont": {
          "size": 12
         },
         "type": "scattergl",
         "x": {
          "bdata": "ANUiQfWOIkGqOCBBsL4eQbqhG0G+DCJBKiUjQcUrIEGVJSJBQF8eQfUzI0ErtSRB7+QeQTFoHUG0xB1Bj9kjQYNgIkGARx1BS10gQQLHIUHLSyBBtOQaQaQGHEGNCxxBlbgeQWfIH0FrwR5Bo+gfQU08HUG1Nx5B4MgZQTfgIkGzjR9BS1gaQQOkH0EwEhxBJh4hQXunHEFTvCBBjx4fQaZXIEHGkB1B6XisQHGNIEEiPyNBfuEkQdoxH0GzLx9BsIkeQfgAJEGTdCNByXkcQcH7I0GlsSJB/S0jQaPQJEEqAh1BM7AfQQgUH0HGKR5BkxkfQYWNIEF3sh5B",
          "dtype": "f4"
         },
         "y": {
          "bdata": "smFtQCiuiECFSIdApPaEQKNDdkDCtIxAMO6LQOGQhUAG931AcY6AQJRNbEAomoxAuKeEQLW4hUBK7Y1AwdCKQAlubEA4CXxAxCKAQGN1h0BRMIpANiGBQLK5d0BJLIRAPCmCQPs0gkDB54tAtPSAQEAvjUDiG4FAUjSDQKutbkAaFYpALJKGQFaphEA0eoFA5e2BQPbljEDUg31AqFuCQG64gkCg+YZAGEszvuxMhUDriGxAQ86IQOb7hEAACIxAdyCBQK2Si0Co3IpAnKyBQOOFi0B5VG5AmE5zQFMPjEAFrYxAE2+DQKevhEBbb39AgwmMQIEIhkAs34FA",
          "dtype": "f4"
         }
        },
        {
         "hoverinfo": "text",
         "hovertext": [
          "good tast cup joebold blend great taste. flavor comes bursting through. usually brew & drink organic sumatra mandeling bj's. use blend exclusively, get cup rivals complex flavor tassimo brewer fantastic. come amazon add subscription service.",
          "good coffelooking replacement timothy's kona blend longer carried amazon. coffee green mountain nice, strong enough me. like milder coffees, one you.",
          "great tast health benefitlike people mentioned, coffee great taste. tried different instant coffees before, one one better ones. another one favorites, want try (though organic), 'africafe pure instant coffee'",
          "bad instant healthi coffebought coffee much cheaper ganocafe organic reishi mushroom well healthy antioxidants. expect taste good, actually does! days $ totally worth it. sisters take ganocafe introducing less expensive similar coffee. follow product weeks. :)",
          "make dayalways strict peet's coffee lover, reticent switch brands weaver's heart!! taste clean strong, ethos correct (organic, baby) even packaging zen appropriate. still caffeinated heart!",
          "guest loveroast large cast iron pan grill (about bag time). smell wonderful roasted beans taste delicious too. importantly, coffee smooth; bitter aftertaste. numerous occasions, send roasted beans home friends like much.",
          "nantucket blend kcupone green mountains best blends coffee opinion,love everyday blend, perfect stregnth, excellent blend!",
          "ye real excel coffeyes, cup right now. went town looking coffee invited non profit organization banquet besides delicious food top amazing delicious coffee. paid extra bucks get right way worth money. highly recommend.",
          "strictli bestbest coffee ever had. light taste full bodied. pleased packaging, resealable keeps stay fresher much longer unlike brands construction stays intact. must say displeased purchase, must buy!",
          "good stuff\"these delicious! chocolate excellent espresso bean perfect roast purpose. crunchy bitter.\"<a covered espresso beans pounds</a>",
          "okcoffee finely processed flavor alright. nescafe mount hagen better - bought try something two, probably get again. slight \"vitaminy\" taste, overwhelming. also bit pricey get.",
          "tastilove coffee. wish came already ground grinder use blender instead. worth it. many flavored coffees tried seem flavored odor reach coffee, one manages both.",
          "best tassimotried many tassimo flavors. far favorite. normal cup coffee starbuck's house blend cuisinart pot one two days week use tassimo. coffee rich stong. understand current price $ disks hope lowered amazon. now, buy elsewhere.",
          "good coffelove ordering whole bean coffee amazon. like much first product review. say usually big fan flavored coffee, thought would give try. husband started grinding up, could smell throughout house. sometimes flavored coffees, smell taste not. however, one. going order another flavor company give try.",
          "expens onlincoffee fanatic always stayed away never liked instant coffee assumption would similar. really enjoy starbucks via instant coffee - drink much, rather expensive thought would give try. wife pleasantly surprised taste. think equals fresh brewed acceptable. bought first pack local grocery store $. seemed little high figured would check online find best price. started calculating online prices, charging $ bucks count. would suggest check local grocery stores might able find cheaper. / = . per single. online price $ / = . (shipping calculated in). looking supposed discount coffee supplier, get case boxes $, sales tax free shipping...sounds like great deal?? x = singles $ / = . per single - expensive all.",
          "delishfast, easy definitely delicious. makes great cup coffee easy make. good purchase. continue order here.<br />thanx...",
          "treat best coffego ahead drink brands served neighborhood cafe must make sure stash weaver's peru organic whole bean home serve friends family deserve best coffee. go back corner cafe people drink average coffee know better, take along travel mug filled weaver's coffee home enjoy real cup joe. er, weaver's.",
          "roast smooth brewroast home stove-top popcorn popper (but outside, course). beans (coffee bean direct green mexican altura) seem well-suited method. first second cracks distinct, roasted beans medium slightly dark great results every time. aroma strong persistent. taste smooth, velvety, yet lively.",
          "one better tdisctried % available t-discs, kona blend one best regular/unflavored coffees tassimo. nice smooth flavor overpowering, pleasant aroma. personally, would enjoy stronger/bolder. however, bit mild, goes well breakfast and/or (gluten-free) baked goodies. find mildly perplexing product available tassimodirect, subscription service available. originally found (dead bats from) beyond, used % coupon, happy final price.",
          "fantast coffe best everbrother bought pound coffee christmas. told \"weaver\" original roaster pete's coffee, eventually split started roaster. well let tell stuff delicious! never married brand coffee, usually would buy starbucks lb bag costco, whatever looked good trader joes, weavers class own. subscribing guarantee stuff delivered regularly. try it!!",
          "coffeem coffe creamer hazelnutlove convenience singles. best creamer around.taste like big bottle. stick purse take work.",
          "wast moneyfelt energized within five minutes, lasted minutes. paid $ drink. could drunk cup coffee saved money.",
          "bitterbitter tasting coffee even enhanced cream and/or honey. definately cup coffee. oh, say bitter?",
          "great coffe terribl priceone best choices, opinion. also adore amazon, need negotiate better price tassimo disks. available bedbath & beyond $. always get % brings $ --- $ (before % readily available coupons) months ago. again, excellent blend full flavor - bitter - think favorite.",
          "bavarian creme flavor oilmake coffee creamer part commercial coffee creamer, vanilla, butter creme, almond bavarian creme flavors rest milk. tastes wonderful half price store-bought!<br /><br />it excellent!",
          "drink love latin america aromalearning latin american south american coffees distinct \"coffee\" caramelish finish. peets coffee fanatics learned weavers roaster roaster peet's hooked ! already reviewd french organic blend, must say coffee perfect afternoon drink.<br />met weavers team warner brothers party gave half pound french roast. since fans.<br />you dissapointed !",
          "citi steam much steam brewhusband disappointed coffee, weak, watery cup coffee. definite waste $.",
          "excelnice flavor, bitter. really like coffee. searching coffee pleases whole family's tastes one.",
          "nopot fresh coffekeep regular bags decaf bags home times.<br />never drink old coffee. best way make iced coffee.",
          "kona tassimocoffee's available tassimo kona richest flavor fantastic aroma by<br />far favorite.",
          "simpl convenilive dorms without kitchen making cup coffee really easy this. especially need stay late study wake hours sleep. like making tea tastes decent enough. starbucks good enough sugar cream.",
          "perfect workpurchased coffee mate singles use work along coffee \"tea\" bags. great require refrigeration.",
          "note rate coffe sellercoffee good but, me, nothing special. buy nice, mellow blend, favorite daily coffee, nabob, must shipped canada. however, first order canadian company, taking long time delivered (still gotten it).<br /><br />the reason three stars quality coffee fact description product mention fact \"kona coffee\" actually % kona. look carefully photo disc, see information, legal disclaimer saying product may match exactly description. fault reading carefully, happy see thought % kona careful. bought % kona local store know product tassimo discs, read product title ordered.<br /><br />as said, coffee tastes good, amount coffee usual amount, neither small cups european coffees extra large size, would recommend coffee. aware blended coffee % kona. expect come flash, amazon prime delivered it.",
          "brew excel cup coffe quickli easiliprimary point review note packaging less expensive size offered folger. get coffee less money.<br /><br /> recently started drinking coffee lapse many years. since know many cups day would use, wanted avoid fuss coffeemaker. particularly like instant coffee. delighted find folger's bags.<br /><br /> brew nice tasting cup coffee. kind coffee expert, know special terms might used. know let bag seep bit minute, sure tastes good. thanks much better half, also learned bags produce least two good cups coffee.<br /><br /> convenient, easy, tasty. intend take travel alternative in-room coffee makers (yeck!) vending machines.<br /><br />jerry",
          "great beanordered coffee themed wedding. arrived fight friends smelled tasted good. literally hide box wedding! big hit wedding day none left put tables. great tasting product lowest price seen!",
          "save grace green mountain coffereceived keurig elite christmas, excited break open sample pack pods try different blends flavors. pods box, four green mountain coffee brand. would never tried anything company before, researched online, largest range keurig pods even bought competitors produce coffee brand names well.<br /><br />unfortunately, immediately disappointed quality coffee. tried dark magic, decaf breakfast blend underwhelming, say least. almost completely set writing green mountain altogther.<br /><br />we one gm pod left mindset waste-not-want-not, figured would give one last go around forgetting completely. glad did.<br /><br />the nantucket blend perfectly pleasing cup coffee. nice flavorful without thick pungent (unlike gm blends tried). added flavored creamer almost measures go-to caribou blend pods. almost. all, standard cup coffee which, anything new exciting, pleasing definitely one better keurig options able test out. run pods accumulated, probably pick box well.<br /><br />now know green mountain completely disappointing definitely open trying coffees (with promotion getting bewer ordered <a mountain coffee golden french toast, k-cup portion pack keurig k-cup brewers, > try well) see goes there.<br /><br />if looking go-to choice, cup!",
          "favoritgreen mountain favorite brand. nantucket favorite coffee green mountain. smooth flavor. strong weak.",
          "great machinnever huge coffee fan. however, mother purchased little machine talked trying latte macciato. coffee shop better one like products, (as usually non-coffee drinker!).<br />the little dolche guesto machine super easy use prepares really good coffee/latte/cappuccino/etc less minute (if water heated up). would recommend dolce gusto anyone. good price i'am getting one myself! :)",
          "bestchocolate covered espresso beans wonderful! chocolate dark rich \"bean\" inside delightful blend flavors enough caffine really give zing.",
          "great tastgreat work, pop instant bag minute make coffee. best tasting coffee. easy make without mess.",
          "convenicannot kind coffee maker work, forced buy in-house coffee shop starbuck's across street. economy, one wants pay high prices, started coffee club. us buy coffee bags separate creamer enjoy fresh, hot, tasty coffee every day without paying coffee shop prices. thanks folgers!!!",
          "excel coffebrand coffee available local stores time -- believe company local. drinking quite time tired it. particularly fond turtle sundae flavors good. cannot say bad one.<br /><br />as turns out, less expensive order amazon show front door run local walmart get it. brainer. try it, like rich, flavored coffee, like it.",
          "ricor forevdrunk ricore since mother allowed drink caffeine. love stuff milk.<br />it much smoother tastier instant coffee milk. french live us,<br />and bring back boxes ricore every opportunity. savora another hidden gem bring<br />back. check out.",
          "best coffebest coffee ever had. run american pavilion cannes weaver's far away popular coffee sponsor! hundreds people come pavilion every day looking american coffee disappointed. booming business year! buy it! happy did! julie",
          "besttrue seattle coffee addict, never better coffee candy.",
          "conveni far better instant coffethink coffee bags good fresh ground fresh brewed coffee, taste far better instant coffee. work, water cooler hot water dispenser. brewed hot water like tea bag making tea tastes far better instant coffee. highly recommend coffee lover access hot water access coffee maker. individual wrapped sealed bags allow take one tiny tea like bag pocket purse early morning meetings.",
          "smooth coffe highli recommendgreen mountain \"nantucket blend\" k-cups make good cup coffee <a elite gourmet single-cup home-brewing system</a>. smooth tasting brew wife prefers <a people, donut shop k-cups keurig brewers (pack ) [amazon frustration-free packaging</a>] generally drink morning.<br /><br />these good \"small\" \"large\" cup settings well.<br /><br />highly recommended!<br /><br />cfh",
          null
         ],
         "marker": {
          "opacity": 0.5,
          "size": 5
         },
         "mode": "markers+text",
         "name": "5_coffee_blend_cup",
         "text": [
          "",
          "",
          "",
          "",
          "",
          "",
          "",
          "",
          "",
          "",
          "",
          "",
          "",
          "",
          "",
          "",
          "",
          "",
          "",
          "",
          "",
          "",
          "",
          "",
          "",
          "",
          "",
          "",
          "",
          "",
          "",
          "",
          "",
          "",
          "",
          "",
          "",
          "",
          "",
          "",
          "",
          "",
          "",
          "",
          "",
          "",
          "",
          "5_coffee_blend_cup"
         ],
         "textfont": {
          "size": 12
         },
         "type": "scattergl",
         "x": {
          "bdata": "E6QBQRJDA0HfKglBUTkKQS85BUHbaABB6goEQe2VA0GmoQBB8k3/QBXTAUEJnwFBpvD6QCVZAUHJ1/1ANbIDQUr3AUFfpv9AMbb7QFDzA0EDivdAl+4DQTA/BUF4kPlABL71QJsHAUHL0wJBE6YBQeVcBkF0wvtAhEUFQRZLBkHOPANBa8sFQdqG/kAfyANBNSkEQRB1BUGclv1AEI8FQRa7A0GkggJBOnr5QOW/AkF/0AJB//wFQblHBEE2UgJB",
          "dtype": "f4"
         },
         "y": {
          "bdata": "bil9vvcNgb77sxA/cIFIP0VloT1705a+ihCuvi2air2o5aK+WCaUvrrD177FBh++/carvnA5Br76xSc+H5dxPDL1/L2pF5a+PXO0vpMi1zxxkQY/5d2uPBgYdT7qDbK+fN8FPwm93b0PaYG+nSZdvrq19z3Dd76+8d5dPdhXLT5iB6e+DIYWPi5fHr6XorC+fp+3vtfmvT2c7Mm+XwIVPljGZj3z9ei9sRDYPooW4L0NTB2+ZykTPjcerL4FNX69",
          "dtype": "f4"
         }
        },
        {
         "hoverinfo": "text",
         "hovertext": [
          "awesom sugarlove sugar. tastes much better overly sweet tasting \"regular\" sugar. used quite baking items always turn good. price amazon set good makes easy use everyday stuff.",
          "best price agav nectar foundlow glycemic index diet help control blood sugar hormone levels. nutritionist recommended agave nectar sweetener since gi index low opposed honey low sugar . tried supermarkets, health food stores wholesale clubs. prices usually around $ bottle $ . used like honey - substitute every sugar reduce liquids /><br />i also use carrot cake recipe (equal substitution) instead sugar substitute whole wheat flour instead white flour decrease liquids. delicious would never know actually good you.",
          "sugar rawreally enjoy product. hard time finding affordable store. found look further, sugar use. thanks much.",
          "yummigot mum diabetic needs watch sugar intake, father simply chooses limit unnecessary sugar intake - one sweet tooth - loved toffees, would never guess sugar-free great eat pretty much guilt free! impressed ordered (w dark chocolate) take office eat instead snacking sugary sweets.<br />these excellent!",
          "good product terribl agricultur practic\"sugar raw\"(tm) please harvest cane w/o burning<br />to delivered to: hc&s<br />dear \"sugar raw\" folks,<br /><br />we buy product care environment. would like know care too. burn cane fields maui, adds worsens climate change. smoke burning damaging lungs workers, workers' children residents maui.<br /><br />we love product want change no-burn harvesting continue buy it, knowing contributing global warming lung disease.<br /><br />[...]",
          "healthi stuffstuff great low glycemic. substitute sugar body great favor. size economical shipping fast, too. got mine soon.",
          "never use white sugarsugar good. use coffee, cereal, etc week never go back white sugar, white sugar taste terrible. plus read, raw sugar contains lot minerals missing diets.<br /><br />the product delivered fast well-packaged. complaint price. wish could find raw sugar cheaper. would happy buy bulk, cheapest found.",
          "healthi sweetenordered product two times happy delivery product. works great cooking, baking substitute sugar chai lattes.",
          "good contain could betterused buy wholesome sweetners agave like little better, switched became expensive. cheeper option. taste same, seems little less sweet find use get right sweetness coffee. like container. pour well, pour better squeeze bottle, sticky mess counter every day. fine price. continue shipped every month.",
          "caramel flavor excel bake top tip use agavwant find good flavor substitute maple syrup, barley malt, brown rice syrup, nicely. use madhava's agave nectar baked goods time, always pleased results. time writing this, amazon stock vendor. however, stock, priced well /><br />other baking, used top waffles, pancakes, small doses ( teaspoon) added oatmeal. little goes long way.<br /><br />using agave nectar: use less agave nectar would another sweetener (depending taste recipe. recipes dried fruit need much less), cut heat oven degrees f; oil recipe, cut (alternately, use tablespoon two sifted coconut flour absorb liquid -- use much recipe dry). additionally, baking, make sure mix wet ingredients prior adding dry. bakers might already know this, remember read recipes first sugar typically added dry ingredients (unless beaten butter first).<br /><br />agave nectar crystalize like sugars do, able substitute corn syrup making hard candy. however, highly recommend baking. makes everything moister.<br /><br />if looking less caramel flavor, need use light version product (equally good applications).",
          "sugar rawlove sugar. also get muscavado sugar great use place regular white sugar. recommend!",
          "great way replac sugarreally like product taste great coffee tea, lost weight cutting sugar replacing honey agave nectar.",
          "excel sweetnersweetner best, brings true flavors ever add to. great health benefts.",
          "lieused buy sugar years. eat much sugar, still. sugar called turbinado sugar, misleading. picked brand says real turbinado sugar, brands (in local food store) sugar brown colored caramel something.<br /><br />how find out? needed sweet water days ago. put sugar raw glass. water became brown bottom glass got pure white sugar crystals!!!!! shame producer! try put sugar mouth seconds spit pure white crystals well.<br /><br />i wondering consumers hold company liable practice.",
          "manufactur problem diminish productused liked sugar raw many years, introduced starbucks. recent purchase, however, disappointing. sugar lighter color crystal size maybe regular size. large crystals something always really liked sugar raw. enhanced quality mixed drinks lattes. called hotline complain told problem recent sugar crop result less molasses sugar. many complaints similar nature. this, claimed, also reduced crystal size. said problem go away newer crop. representative said new-crop sugar digit date code (without spaces) ends \"\" letters. trailing digits date code using julian calendar. (my recent bad-purchase space initial sequence numbers ended \"\"). bottom line: current product much better much cheaper products. get better crop, go back purchasing sugar raw.",
          "great stufflove using sweeten tea, coffee, etc. tastes much better low glycemic sweeteners - bitter aftertaste.",
          "excel perfectdelicious sugar. pretty light brown color delicious aroma. granules quite big, however -- bigger plain refined sugar. makes difficult cream butter sugar together. use recipe melt sugar first baking it, use brew beer plan boil melt it, great product. would perfect sugar granules bit finer.",
          "agav nectarsave little money buying larger quantities, opposed smaller bottles. like taste agave, cross honey/maple. good pies, cereal, frozen yogurt, etc.",
          "greatreally love sugar price-wise much cheaper buy amazon compared anywhere else.",
          "sugarsugar raw, flavor profile much better white sugar suppose better something. wish bags resealable.",
          "go sweetnerglad introduced brand sweetner replace sugar, much better. really like sweetens herbal sweet teas without use much, used place pancake syrup too. learning use first thing learn, learned use it, became hooked. would even look sugar more. highly reccomend want clean fresh taste feel foods.if purchase sweetner, take advantage ship save, save lots money long run.",
          "cough medicinlooking secret ingredient robitussin believe found it. got addition root beer extract ordered (which good) made cherry soda. flavor medicinal.",
          "bestlove product! best natural sweetener ever tried, tried many. use also pancake syrup substitute honey peanut butter honey sandwich. last long time, good value.",
          "sugar rawproduct exactly advertised. savings! least half retail price. easy store individual packaging.",
          "great substitut sweetenusing diet guided low-glycemic eating months, fair success. amber agave nectar become primary sweetener low glycemic effect blood sugar. taste mellow,and sweetening power higher sugar [so use less], without \"twang\" honey. one thing tried (still using sugar) making kombucha - still use sugar, sure would good idea introduce raw element kombucha. actually, may over-caution nothing related actual chemistry circumstance.<br /><br />our primary uses sweetening yogurt, using little baking do, use salad dressings, fruit desserts, etc. limiting sweets consumption,we use lot this, nice need it. plan try using homemade jams later season. buy subscription, cost % less local walmart % less health food store brand. \"best by\" date bottles received may .",
          "eco sugargreat able get sugar way.its good eat going use sugar least processed unhealthy state top sugar body,and helping fair trade farmers.it good thing around.i happy get amazon.",
          "great buyfirst time ever used agave nectar -- great. keeps blood sugar stable. great buy also!",
          "stuffstuff buy big box stores. nothing healthy it. carbs sugars. save money get something least taste.",
          "yummiusing agave nectar several months found staple home. madhava agave nectar good tasting, good buy!",
          "warn warn alcohol sugarbuyer beware please! sweetener everybody. maltitol alcohol sugar undigestible body. know short time consuming one unsuspecting many cannot digest extreme intestinal bloating cramping massive amounts gas person experience. nausea, diarrhea & headaches also experienced. learned lesson hard way years ago fell love sugar-free chocolates suzanne sommers used sell. thought would found sugar-free chocolate nirvana first taste bliss short lived terrible side effects maltitol kicked in. discomfort unlike anything ever felt before. blew like balloon painful abdominal cramping. symptoms passed, unpleasant. though hard believe low calorie sweetener could culprit, symptoms gone stopped eating chocolate. hunch something maltitol unfortunately confirmed year later purchased delicious sugar-free popcorn local market. taste amazing looking label wondering could possibly make yummy, new sugarfree treat taste good, heart sank followed little asterisk next sugarfree sweetener* bottom label read \"maltitol\" tiny little letters! thank goodness would eaten little. still ended side-effects much shorter duration. people use maltitol heart's content others, like me, bad reaction it. case like me, ... ...it maltitol!",
          "could gooddisappointed product could see many calories time ordered it. received see calories per tablespoon. granulated sugar calories per tablespoon. could agave nectar better sugar?",
          "low carb angel food puffdiappointed flavor texture mix. usually like low carb things tried, diappointed specific one.",
          "sugarfrecareful eat many one day, one chemicals laxative!!! lololol!!!",
          "great littl treatgreat - described. used bee-themed party, use \"to go\" packs honey coffee tea.",
          "sugar substitutfinally found natural sugar substitute added benefit low glycemic index. agave delicious! recommended many friends, economical purchase bottles.",
          "sweet successawesome product ordered many times. honey-like flavored, lower glycemic sweetener great coffee tea.",
          "good productuse raw sugar, seem little smaller normal crystals still good. buy again.",
          "agav syruplove stuff. sweetens without affecting blood glucose levels. could figure make tequila would set. kidding.",
          null
         ],
         "marker": {
          "opacity": 0.5,
          "size": 5
         },
         "mode": "markers+text",
         "name": "6_sugar_agave_use",
         "text": [
          "",
          "",
          "",
          "",
          "",
          "",
          "",
          "",
          "",
          "",
          "",
          "",
          "",
          "",
          "",
          "",
          "",
          "",
          "",
          "",
          "",
          "",
          "",
          "",
          "",
          "",
          "",
          "",
          "",
          "",
          "",
          "",
          "",
          "",
          "",
          "",
          "",
          "",
          "6_sugar_agave_use"
         ],
         "textfont": {
          "size": 12
         },
         "type": "scattergl",
         "x": {
          "bdata": "CgbyQKl1+0CEge9AqU/yQO5S7kApsvVAftfxQNrPAEHOIPxAzqn6QIpY8kCsYvtAJxgAQf9V70ChL+5A5EIBQfR48kAlCPxAKHbvQJlo7EB1FPxAllgFQbBG/UCkX+1AGkj9QKom8UDJOftAaWbzQPJz+0C0r/xANK36QI5o80DA2PRA5MkCQYua+kCegwJBFzLuQEw2/UCRAPhA",
          "dtype": "f4"
         },
         "y": {
          "bdata": "DMixP71nxD9dKrY/PSW4P2uhtz/NIaA/aYy/P3I4nT+Jyas/NaC6P0YguD8IjMA/qnenP4S7tj+d8LQ/SjKhPwuztj/qHcA/IoavPwFIvz/08rM/ywi1P6yUuD/Ls7U/uQO8P669uT9r7cM/gO6dP9FPwT9HCMA/cXfFP0oSiz+mXsc/90elP3ZFxD8OHag/sgG3P3+6wD/GJbU/",
          "dtype": "f4"
         }
        },
        {
         "hoverinfo": "text",
         "hovertext": [
          "yummigreat healthy chew wk old beagle, rio. loves taste sure beats arm.",
          "ferret loveferret loves rabbit; nice high protein treat addition regular evo ferret diet. price reasonable compared local pet store, often item stock.",
          "dog love foodspaniel tried several foods years, one eat without \"people food\" added (of course, still treat occasionally). went month tooth-cleaning appointment, vet told us take home teeth need cleaning another months, least. specially designed teeth health needs, loves it. actually cheaper fancy pet store! could ask?",
          "convenifood get pet store. delivered door! price slightly less.",
          "better life dognatural balance dry dog food lamb meal brown rice recipe wonders jack russell. awful food allergy's food last hope last food could find something allergic to. problem eating dry normally mix natural balance dry lamb brown rice natural balance wet lamb brown rice.. seems like better. started feeding dog (a bichon) loves it. dog allergy's stomach issue.. want dog eat better food-- it! see difference pet.",
          "fast great servicfast great service, cavashon loves low fat dog food. thanks. arrived great condition, thank thank thank",
          "great foodthree dogs love food! bought specifically one dogs food allergies works great him, hot spots tummy problems.<br />i love ships right door free shipping.",
          "buster love dog foodtired many different dog foods yrs cocker spaniel. came upon breed specific dog food & figured would try it. dog loves food always finishes food. used yr & tired it. seen significant change (for better) him, active well.<br /><br />i buy brand food now.<br /><br />buster gives paws & give stars.",
          "healthi dog foodhealthy dog food. good digestion. also good small puppies. dog eats required amount every feeding.",
          "bestexcellent, lo-fat, lo- calorie treat dogs. german shorthair pointer-and treats favorite( organic peanut butter cookies smaller dogs, loves them-and weight-control like them!)",
          "great foodgreat food! love idea one food ages & breeds. ît's real convenience well really good product. dogs eat less, almost gas, poop regular perfect consistency, else mom ask for!!",
          "ehhhremind dog treats made using pumpkin cinnamon. kind bland favorite back nature product. finace really loves three stars come from.",
          "mmmmm mmmmm goodfood great - ages dogs. year old puppy. soft hardly ever get sick. food good especially amazon prime shipping :)",
          "great dog foodyear old basenji/jack russell mix loves dog food. noticeably healthier energetic since switched standard dog foods earlier year. despite higher cost natural dog foods, find eats significantly less natural balance dog foods still stays happy full. normal dog foods, would eat cups dog food day (the recommended serving size), whereas eats cup cup natural balance dog food day. take account, actually getting \"bang buck\" natural dog foods since buy much last long normal dog foods... healthier, happier dog, boot! add fact get free, shipping amazon prime... sold!!",
          "dog loveconvinced human animal crackers. look taste exactly like human ones (yes, tasted it) contain sugar, one last ingredients nutrition facts either. ill give dog small amounts.",
          "high qualiti gave dog wick garecommendation bought puppies (lhasa/bichon mix lhasa/poodle mix) continue food since weaned. somewhat expensive food cannot say terribly pleased loaded stuff headed home.<br /><br />let say this, small dogs before. never seen gas issues. consistently foul gas. consistently. usually sitting laps but, know. dogs.<br /><br />when got first bag stuff, purchased amazon. great price since got lb bag price (i think) lb bag petco. but, continued gas. mean, loved food, get wrong loved would mix water would like soft food. somehow made gas worse think give responsible speed chowed down- cannot blame food gluttony.<br /><br />eventually, switched food. farting. think due high fat content undoubtedly necessary small puppies. need diet. think advised keep much longer useful (they said year). yeah right, try dealing gas long. around mos age switched puppychow. much better. granted, like much, humans like whole lot better.",
          "happi dogyear old cocker spaniel loves food good -- needs lose pounds trick. glad found amazon. hard find elsewhere.",
          "perfect english bulldog allergienglish bulldog skin allergies summer got age . vet recommended wean food previous owner gave (iams lamb rice) onto new kind. second one tried, working ever since. dogs need limited diet sensitive additives proteins commonly found commercial dog food (like chicken beef).",
          "perfect cockerfather could longer take care beloved year old cocker spaniel, decided take family. brought nyc ear eye discharge. also slightly overweight. check vet ruled infection, decided try royal canin based numerous good reviews.within week ear eye problems gone dropped good amount weight. going food feeding her!",
          "increas dog itchawesome dog food. however, given \"boston\", severe reactions food ingredients; itching increased violent jumping bed night, scratching. soon changed different formula, scratching stopped. glad natural balance choices. guess try each, find best pet.",
          "royal canin cockerbest dog food market today. numerous ear problems cocker spaniel cleared since taking food.",
          "dog lovehealthy mixed llasa, tibetan terrier adores them. healthy breath smell teeth good shape products. great healthy product.",
          "great food dog sensit stomachstandard poodle pomeranian wonderful food. switched different food (due price) couple times end going right back natural balance.",
          "great foodfood especially designed cocker spaniels range health issues...i using product three dogs happy it. also packaged well result stays fresh long period time. great product!",
          "great dog allergidog ton allergies environmental food. prescription dog food tested see allergies has. got test back, learned allergic something prescription brand. finally found dog food done well this! still environmental triggers, happy finally eat something know pain.",
          "good healthi dog foodpleased natural balance dog food. dogs issues dog foods past someone recommend natural balance grain free since possible allergic grains. since switching issues. also helpful different kibble size larger/smaller sized dogs.",
          "eukanuba puppi small breed dog foodultimate puppy food. kibbles great small breeds. high digestible nutrients opposed fillers companies use. less waste results high quality ingredients. hunting, training, showing handling various breeds dogs nearly years, multiple national champions. highly satisfied eukanuba's quality results obtained feeding foods. recent purchases wag, amazon.com. prices best found good shipping immediately items stock.",
          "great dealroyal canin recommended dog, since line dog food specific breed, difficult find stores. petsmart petco carried cocker spaniel formula smaller bags much expensive per ounce ratio. finding larger bag great deal. cocker loves food too!",
          "great stomach problemshepherd/collie mix ibs. vet recommended limited ingredient food. really helped symptoms likes it. always buy amazon...it $ cheaper free shipping!",
          "badfed golden retriever hated it. would eat it, did, gave terrible diarrhea. buying again. also super expensive.",
          "huge successmale maltese dog enjoying old roy's puppy biscuits walmart. could find them. desperate find treat would measure up. ordered six bags peanut butter crossed fingers.<br /><br />they arrived, little guy loves them. gets one heart-shaped biscuit bedtime. sleeps crate. hears touch bag treats, beats path crate high excitement. big hit him. well worth price. high quality even smell peanuts them.",
          "great dog foodgreat dog food, dog severs allergies brand one feed him.",
          "good qualiti dog foodbought several vitality canned dog food products found good quality. product looks like stew processed meat smells better. labrador finicky appreciates product better most.",
          "happi dogbought one year old cocker. however dogs love it. coats look better, would less, eat less, use bathroom less, cocker used one chronic ear since time puppy gave problems. seems cleared up, smell. eyes give less problems. old yorkie eats less, used throw time sensitive tummy. black lab mix, hot spots would lick fur off. great changes matter month. mix roughly naturals dog food blend. great.<br /><br />sept />i love breed specific food, however went place next bi-monthly order shocked price hike month! paid<br />$ aug bag sept price $, difference $ price! huge amount go considering assuming price gouge; due speculation crops :( look local vet product. get large bag less petco well discounts offer. order larger bag ask.",
          "great dog foodgolden retriever one picky dogs ever met. experimenting various types food, found loves natural balance. really like natural balance fact multiple flavors dry wet varieties. mix dry food little wet food golden loves it. furthermore, like mixing flavors time think meal day day might get little boring, figured not. tend stay away fish type though smells...<br /><br />additionally, started purchasing amazon petco wet food box couple cans. came home surprise realized could save $ time bought dog food buy amazon.<br /><br />all all, definitely recommend give stamp approval natural balance dog food. never eaten it, dog seems love it.",
          "great allergi sensit dog food dog lovepup experienced allergies forms hotspots itching dog foods. cheap 'you buy anywhere' food crazy preservatives cause health problems pets. food works wonders reducing allergies dog loves food.<br />this message ramsey frankenstein approved.",
          "natur balanc lamb ricedogs like flavors tried dog food, reason itching increased tried lamb rice. itchy dogs giving limited ingredient dog food try help. duck sweet potato cut itching significantly, tried lamb rice started itching again. like natural balance quality ingredients.",
          null
         ],
         "marker": {
          "opacity": 0.5,
          "size": 5
         },
         "mode": "markers+text",
         "name": "7_dog_food_dogs",
         "text": [
          "",
          "",
          "",
          "",
          "",
          "",
          "",
          "",
          "",
          "",
          "",
          "",
          "",
          "",
          "",
          "",
          "",
          "",
          "",
          "",
          "",
          "",
          "",
          "",
          "",
          "",
          "",
          "",
          "",
          "",
          "",
          "",
          "",
          "",
          "",
          "",
          "",
          "7_dog_food_dogs"
         ],
         "textfont": {
          "size": 12
         },
         "type": "scattergl",
         "x": {
          "bdata": "HuYNQOfdGUAtzQxArIMgQK3lDUDiUg9ARWMOQFsQEkBpKw5AW4UPQAX9EEDEGRFAGroVQHvEDUCDnxNAnmITQM0dFkA05wxAiUMaQDxyCkDPUxxA5ToLQL7eD0As/htAgrcNQBkZC0BhIA1ATe4eQFfyB0CA0BVALOIdQG/oDUArxg5AS30dQPEUD0C/iwpAYPwHQN3ZEUA=",
          "dtype": "f4"
         },
         "y": {
          "bdata": "qt+kQKSPoECghKdAy7SdQPRvqUC1pKdAaqWoQOvOpkDh2KhAR9mnQAlNp0CbNKdAWVekQOZpqUBEzqZABCulQCX8o0CFn6lAM8ihQFyZqkDE6KBA4POlQF3sp0BM9KFAG0qpQIfHqkD+MKpAnVCfQKPbrUAUKaRA0tmfQJoDqUALmahAqBehQKxnqED77qpA4wqsQDF/pkA=",
          "dtype": "f4"
         }
        },
        {
         "hoverinfo": "text",
         "hovertext": [
          "flavor get better energi greatbuying drinking year now, energy boost excellent, continuous, ~ effect. recent shipments seem improved flavor slightly well, perhaps getting used it. drink flavor, heinous fake flavors found other, non-organic energy shots.",
          "great energi drink without artifici ingrediuse product daily, provides steady stream energy. get jittery crash. also helps practice portion control acts slight appetite suppressant.",
          "great product help sleeplooking \"natural\" ways help us sleep since always seem overloaded stress busy schedule. yes, would probably better served taking yoga class, good second choice. helps fall asleep stay asleep. drank half first night plenty me. minutes, ready bed! woke refreshed sleepy-drug hangover, huge bonus.<br /><br />i gave product stars (instead deserves) packing job marginal best. product arrived broken bottles, price $ loss! bottles glass wrap one layer small-bubbled bubble wrap around case placed larger box extra room move around box. big packing fail, product awesome.",
          "great natur energifantastic product, wish readily available stores. taste greatest, oz. shot, gone second. tastes, less, like concentrated sweet tea. record, hour energy, tastes far worse. put taste results. got caffeine, equivalent big red bulls monsters. cannot stand sucralose sugar substitutes, one shot sized energy drinks sugar it. sugar , horrible. used drink . red bulls day caffeine, gives far better energy, much subtle. preference black coffee, cannot drink cups day anymore. overall, steaz right; real organic ingredients moderate amounts, create big results.",
          "tast good provid energipurchased sale. terms energy provides, works, taste leaves something desired. tried mixing water make drinkable.",
          "healthproduct great job clearing kidneys. helped make husband feel lots better even though early renal failure.",
          "great energibought husband said best energy shots there. takes one mornings works hard day. good stuff!",
          "excel productlif saverson acid reflux since birth every medication available improvement, older gentleman came work place told product automatically ordered him. really expecting better results things tried. surprise! heartburn symptoms since day starting eating one piece ginger morning. eat anything actually enjoy it. product god send him. thank it!",
          "kleri tea work greatproduct works wonders stomach issues. would buy need more. :)",
          "cannot handl caffeinyes, probably healthier energy starbucks shots looking avoid caffeine overload, still you. energy drinks cannot made w/ high dosage caffeine. believe caffeine content guayaki shot ml - probably lower un-healthy energy shot drinks believe people avoid top brands b/c contain much caffeine and/or sugar. react well caffeine, guayaki good buy either. definitely feel energy boost w/ full guayaki shot w/ caffeine side effects - irritability, nervousness, mood-swings. caffeine overdose stopped drinking coffee. looks even organic energy drinks still safe.<br /><br />now sensitive caffeine, great buy. loaded w/ sugar. taste easy pleasant. loaded w/ bunch chemicals like shots starbucks drinks. energy boost lasts hours. takes minutes kick probably depends body/weight.<br /><br />side note - want feel energized day, protein drink first thing morning stay away heavy, fattening foods day make feel sluggish sleepy!",
          "great sourc electrolytproduct serves well source electrolytes long run bike ride.<br />i tried flavors really like grapefruit flavor... after-taste actually like slight carbonation.<br />i use hammer products really like whole product line.",
          "sureenergy junkie sure works not, know taste greatest. drink steaz energy drink think get results. like products natural others.",
          "best energi shot smooth organwant organic energy shot, choices one steaz assorted flavors guayaki. guayaki yerba mate actually steaz energy shot energy drinks, use sambazon acai, similarities ingredients.<br /><br />great energy burst + hours steaz energy shot, withdrawals headaches afterwards. plan drinking one every day lunch work. help cut iced coffees, helping calorie intake.<br /><br />already ordering subscribe save, per month. great value.",
          "rocket bottlfeeling extremely tired around late afternoon. software engineer, entirely unacceptable! so, asked nice lady counter local whole foods market, something give extra energy need get day.<br /><br />she excitedly returned suspicious little green bottle. three hours drinking whatever was, brain still working unnatural speeds. summarize experiences: believe works.<br /><br />she explain needed drink plenty water it, personally feel helped energy level. feeling tired day hate coffee, give shot - preferably eat anything.<br /><br />woot!",
          "besttried energy shots one one really makes feel good energized without sides effects all, also best taste, others taste like medicine, one tea fresh taste. love it.",
          "good stuffproducts takes pretty good, leave gittery. subscibe save well prime membership pay $ shot. wife tried drinks like going style. moderate mine make effective use weight training. recommend product anyone looking healthier alternative high sugar unnatural products everywhere still gives results awesome energy drink.",
          "like stuffget really early work work get super tired middle afternoon. drinking one hour energy, usually extra strength, day. worked well, gave jittery feeling, almost headachy quite. husband got try skeptical, works well better hour energy give jittery almost-headache feeling.<br /><br />i mind taste--it reminds inside fig newton (mmm). price ok, amazon anyway. grocery store almost $ each, yike!<br /><br />and organic--so feel good it, right? feeling good!",
          "fantast natur energilooking natural energy shot works, found it. steaz energy shot favorite!<br /><br />i recently gastric bypass surgery, tons sugar no-no. also allergic sucralose (splenda) energy drinks out.<br /><br />i tried bazi energy shots work well steaz, definitely taste well. taste almost like coca-cola--not bad all.<br /><br />if looking natural energy, give try.",
          "aluminum freebaking soda works great cooking health reasons. take acid indigestion heart burn. tsp half glass water gone. use make body alkaline, great changing ph level body!",
          "natur energi boostlooking energy boost without artificial sweeteners chemicals, great option. taste decent nice smooth uplift without jitters.",
          "way better guayakitried guayaki energy shots like taste either them! one natural caffeine tastes much better. like cold sure. husband take road trips little cooler ice waters make stops coffee! especially turnpikes way expensive. worth $[...] per shot. normally split them. really sensitive caffeine, even natural kind get little weird drink whole thing coffee me. husband drinks whole shot gets nice wake boost. would recommend sinthetic shots there. feel good putting body! ordering soon sure =)",
          "stuff workenergy shot truly work! terrible after-taste first, know expect, getting used it. always water handy chaser...which helps! glad found something gives energy need without chemicals found beverages. helped kick addiction diet coke aspartame-laced caffeinated beverages. yay!!!",
          "hammer nutrit fizz rockused endurolyte product several years pill powder form. long desert rides dirt bike always found camelbak water heavily laced endurolyte powder, overly tasty, quite effective, never got cramp several hundred mile rides. desert racing buggy, camelbaks always laced powder. fizz...what great product! firstly, hammer's endurolyte product great, endurance athlete's world use products. second convenient, handly tablets dissovle fizz. third tastes great! imagine getting nice cool drink body starving hydration electrolytes rather getting \"salty\" taste, get refreshing lemon-lime mango! camelbaks always get fizz now. also drop tablet bottled water whenever exercise nice flavored water chock full electrolytes. cannot recommend product hammer product highly enough.",
          "aw bare describfirst time really misled reviews amazon. like energy, find rain ok thought would try product based reviews. boy sorry! gagged getting one bottle even nose pinched (really). leaves worst medicinal taste mouth afterwards. tic tacs get rid it! worst all, within hour yawning drowsy. unless really like things taste weird tea-flavored cough syrup work, buy this! know bottles. big fail",
          "great prevent crampstuff really works preventing cramping middle latter stages rides. pop water bottle set. flavor fine goes easy.",
          "allday energipretty good product. taste best definitely worse either. gives pretty smooth energetic kick.",
          "best energi shot ever tastfirst found steaz berry energy shots local organic market. bought two bottles, cost three dollars each. fell love instantly. drink delicious -- taste yerba mate acai juice, like slightly bitter fruity chocolate honey tea. sensitive sucralose (splenda) many energy drinks days; also hate taste. love steaz actual sugar artificial sweeteners. rush gives slow even. several medical conditions, including fibromyalgia, saps energy causes intense pain. like steaz helps clear away fatigue fog get things done. caffeine jitters, even though mg caffeine bottle.<br />it becoming expensive buy bottles separately stores, started looking online bulk price. thrilled found pack amazon. signed amazon prime specifically product, hah!",
          "best energi shotchemical sensitive well sugar-free. using product year. use maybe week most. drink bottle boost energy hour two depending feel. going replace a.m. coffee sweet early afternoon start fade. drink full bottle workout. drinking guayaki yerba mate teas years. compared many toxic energy boosters highly recommend this. product clean leave nasty chems behind body. try judge review - everyone body reacts differently.",
          "favorit energi shot naturtried energy, red rain, nos, energy shots. favorite terms taste effect. plus, somewhat reassuring know natural ingredients used. sometimes wonder really putting body brands. purchase box every months past years.",
          "low carb altern gatoradus low carb diet little tablets thing.<br /><br />two years ago started cycling many years heart arrhythmia longer rides high heat. drinking plain water little research thought electrolytes might issue. gatorade option loaded carbohydrates looked around low-carb alternative. \"zero carb\" sports drinks help do? one day ran across bike shop tried tube them.....voila!...problem solved!!<br /><br />i shared two friends particular whose problems leg cramps resolved using these.<br /><br />these guys got right -- superbly formulated simply work.....",
          "relax almost like someth smokecould believe told relaxing beverage was. seriously, drink getting ready nap bedtime. plans drive perform activity recommended.<br /><br />i feel arms legs almost tingle relaxation. short time eyes start get droopy another place.<br /><br />love stuff.",
          null
         ],
         "marker": {
          "opacity": 0.5,
          "size": 5
         },
         "mode": "markers+text",
         "name": "8_energy_shot_caffeine",
         "text": [
          "",
          "",
          "",
          "",
          "",
          "",
          "",
          "",
          "",
          "",
          "",
          "",
          "",
          "",
          "",
          "",
          "",
          "",
          "",
          "",
          "",
          "",
          "",
          "",
          "",
          "",
          "",
          "",
          "",
          "",
          "",
          "8_energy_shot_caffeine"
         ],
         "textfont": {
          "size": 12
         },
         "type": "scattergl",
         "x": {
          "bdata": "hh8VQQdIFkEFpRBBqUwUQcU2EUHkFRVBBc8VQWi3C0ElTQxBnOwUQVsuEUEEhBFBhioWQaZCEkGrqxVBJoMRQRnqEUEW7BFBZmULQYgrFkG+jRVBDhsSQXEQEUHrHxNBITURQZXpFEEx7RVBiy0WQSLnFkHMEBFBEywSQZ7hEkE=",
          "dtype": "f4"
         },
         "y": {
          "bdata": "Wb6gPwyRmj/XVLc/srOWP9CNqz8q2ac/b+6fPzao5D8zUeU/ch2jPwLyvD9y+bY/MOCeP1ersz/wF54/kZy4Pw7VtT92z7Q/ywHMP5Immz8aS5c/rzi2P7fbwz8vfaE/OW7EP79xkj+LL50/ataaPxIimD+8P8Q/kL6xP9O6rj8=",
          "dtype": "f4"
         }
        },
        {
         "hoverinfo": "text",
         "hovertext": [
          "cannot go wronglooking great gluten free snack sorry chose product. favorite flavor apple nut.",
          "berri wariok, husband eats car. keep celiac snack. (hard find roaming around.) eat otherwise. definitely raspberry, kind dry.<br /> never tried snack bars, honesty may norm. know.<br /> like enjoy life's products.<br /> gf, message related products aspartates.",
          "someth changdaughter extensive food allergies infant/toddler bought bars consistently. still nut egg allergy like trust manufacturer know food safe. unfortnately last times purchased bars (all varieties) hard rock daughter eat them. tried thought might break tooth. subscribe save; cancelled several boxes one family eat. agree previous post. want love bars love everything company stands (and actually really like cookies), something changed bars even appetizing. hope address issue certainly try something enhance taste address issue texture. total bummer - better past something changed taste, along new packaging!!",
          "absolut vileimagine taking kids' playground chalk, perhaps tan colored one grinding powder plenty chunks. scoop put mouth.<br /><br />that disgusting bar is.<br /><br />i idea rating flavorful, none. done nutritional coaching years watched healthy foods progress painfully bad barely edible excellent.<br /><br />this neanderthal-era gluten free bar bad want go local grocery store, take boxes shelf hide different part store (perhaps, trash compactor?) protect people experience daughter product.<br /><br />save money ridiculously expensive spend anything else.<br /><br />\"enjoy life\" bars? ill better putting garbage mouth.",
          "pretti good overalnew food allergies. son diagnosed severe fa since still breastfed, drastically alter diet.<br /><br />before learning brand, stuck eating chicken breasts potatoes every meal. stumbled upon local whole foods, excited try it.<br /><br />overall, really like them. got pretty good texture, taste heft. dense want gag two bites also light eat whole box (which really big).<br /><br />i know alot people complain size/packaging agree somewhat. bar ounce calories... par many breakfast bars. like berry flavor best, closest real, non fa specialty flavor. overally, grateful bars tote several diaper bag car know really need quick snack, left stranded.",
          "yum yummi yummiernature valley nut lovers variety pack perfect. although sure peanut butter bar, excellent. loved roasted almond, roasted pecan peanut butter.<br /><br />i definately buy seller again. quick shipping fresh.",
          "child loveson severe allergies. item loves convenience me. feel good giving taste great!",
          "miraclscotties full hot spots used within week hot spots gone. smell kind strong, bad. tolerablel.",
          "cannot find anywher elsfiance loves dark chocolate nut granola bars grocery stores around us carry anymore! again, amazon came could happier.",
          "perfect glutenfre chocol chip cookimade chocolate chip cookies brm garbanzo bean flour results fantastic! brown sugar chocolate mask bean taste reviews mentioned. friends could discern difference classic cccs. texture, body, elasticity (meaning reduced tendency fall apart occurs gluten-free flours) nice chewy -- cccs made regular flour. added bonus -- high protein fiber level (i calculate g fiber/cookie) fills satisfied smaller servings glycemic index significantly lower.<br /><br />i highly recommend flour even cccs thing make it.",
          "good berri flavor excel pricefirst peanut free product bought son. thought tasty. kids liked too. reason think strawberry bars. love soft texture non crumbly state. makes clean car rides. since like apple chocolate bars best. berry always left last. amazon wonderful price wish could subscribe item.",
          "cannot take smellproduct says gave stars. however, issues product, namely, family members cannot take smell. taste horrible put lotion cream rubbed skin. weeks ago though since changed sheets, scent still bed. ultimately, stopped using made smell way like. smells like indian spice work me, scent-wise, may work fine someone else.",
          "chocol one much betterrecently stopped eating number allergens (dairy, soy, nuts) one snacks fit dietary restrictions. unfortunately, pretty gross - miserable texture cardboard flavored berry. threw away. would recommend cocoa ones much tastier also allergen free.",
          "great bar glutenfre dietwant really good snack bar try these, healthy taste good granola bar, without gluten!! buy regularly.",
          "great tast size smallerlove them. sweet right. allergy free food great book. hope non ingredients contains corn...that too. however appreciate fact opened new box cut off. size less charge. effect decision buying again. toddler need real size bar please",
          "good berri flavorson multiple food allergies really enjoys bars. find good berry taste. also nice chewyness.",
          "new granola barbuying quaker oats granola bars nature valley chewy bars better tasting, make great snack go. chocolate, peanuts raisins...it get better.",
          "best barfavorite bars ever. combo raisons dark choc wonderful! filling! hard find stores. thankful subsrcibe save!",
          "perfect sizeallergies family, ended working great. negative reactions ingredients though buy many pre packaged foods, work 'on-the-go'. family tried several varieties prefer cocoa loco bars; almost like tootsie roll me-though cannot eat tootsie rolls, great substitute occasional craving. family prefers berry bars eat miss breakfast, need healthy snack, son take cross country running meets. dense filling-not 'soft bar' always eat liquid drink time.",
          "berri snack barrecently diagnosed gluten-intolerant, looking products allow resume semblance former life. snack bars fit bill. mouth-feel traditional snack bar, pleasant tart-sweet fruit flavor.",
          "go nut asskickin peanutstock last time looked. go vermont country store weston find along jaw harp, cranberry horseradish sauce, fartless black bean salsa, apple cider jelly, newton's cradle art motion staple vermont maple syrup.<br /><br />back ass kickin peanuts. hot. activate perspiration glands behind ears arms. requires beverage advertised, glass cold milk, box kleenex since make nose run. look like ordinary peanuts already giving ideas work. suspect people hitting goodies absence, especially colleague greg. going take work earliest opportunity empty contents ordinary planters peanuts can, see whose crying whose nose running return.<br /><br />the shaken ensure spices evenly distributed. important wash hands consumption touch eyes.<br /><br />you go nuts ass-kickin' peanuts.<br /><br />p.s. sharing peanuts, deliberately, probably give greg jaw harp christmas. insulted.",
          "great snacklike eating whenever need energy boost.<br />it everything searching a, \"to go snack\".<br />fiber plus chocolate never bad thing!!!",
          "advertisproduct arrived labeled jumbo salted peanuts...the peanuts actually small sized unsalted. sure error vendor intended represent product \"jumbo\".",
          "great snackson loves \"fruit bars\" smaller typical wheat fruit bars. suggestion get child like first try chocolate ones... son favors (chocolate) ones berry ones...",
          "small goodtasty, convenient bars people celiac disease. seem gotten smaller time, taste convenience outweigh reduction size (and price).",
          "fanrefer picture posted above. bar half size think going be...it literally two-bite bar. deceptive advertising. fact ridiculously expensive reason one star. year old son ate one like them. ate one agreed husband. could give away! everyone different tastes tasty treat far concerned.",
          "omg buyomg would love cookies except chocolate mixed makes taste medicinal. degusting even strong enough word. horrible horrible mistake...an expensive mistake....they advertised peanut butter cookies bought since everyone else peanut butter chocolate cookies wanted plan peanut butter cookies....however received found chocolate peanut butter ones thought okay try omg almost threw taste. horrible, horrible, disgutingly, medicinal taste. buy!!! zero stars would rate zero instead star.",
          "yummi smallbrand granola bars really good. berry favorite. however, bars almost ridiculously small. yeah, gluten free, food lot dense food, honestly, normal sized, good tasting granola bars? really tiny. so, taste great bar small.",
          "love snacksure review something subjective taste, suffice say like chocolate graham cracker, like (it taste exactly like either those, closest analogy me). sticks cracker kind, dipped chocolate, one end left normal cracker get fingers covered chocolate eating.<br /><br />here nitty gritty details - boxes contain two individually sealed packets, contain probably sticks. packets really cleverly designed, little slit cut folded part, grab sides pull, opens package without hassle - got love japanese product design! :) another nice design touch open properly grabbing-side stick right top.<br /><br />each packets calories ( fat), sodium - terms snacks pretty good option. contain milk, wheat, soybeans sheanut - issue you, want pass. also says packaging facility manufactured also processes eggs peanuts - product use either them, disclosure nice particularly sensitive either.<br /><br />overall great snack great price - pack really packets, quite snacks. one note, live hot climate, order summer melt together (in shipping)! duh! :)",
          "fun poppingcrispi stick dip chocol special treat manga fan find local wait till fallpocky plain fun eat. discovered snacks anime convention (though would heard seen manga characters eating them). very, slim sticks biscuity stuff (the flavor cross waffle cones pretzels) charming tiny popping crispness. chocolate flavor, nice non-bitter, non-dark, generically pleasing choco-taste, seems popular (given fast sell cons), prefer flavor strawberry like strawberry ice cream. nice.<br /><br />this means health food (it category cookie, got fat sugar non-healthful ingredients). hey, junk food. know supposed occasional habitual diet. unless really prone binge-eating cannot stop whole one smaller boxes huge calorie splurge stick reasonable number. chocolate pocky sticks set back calories grams fat, saturated. would recommend scarfing multiple boxes. fact, nibble slowly fun cool texture effect.<br /><br />if love flavor coconut-chocolate together (like almond joy) try coconut chocolate ones. really good, oh man. hubby says taste reminds girl scout 'caramel delights\" cookies are, turn, similar old yes yes cookies (from seventies so).<br /><br />anyway, read manga seen anime young folks eating stick-looking treats, seen footage cute japanese girls nibbling skinny little stick treats, eating. :) fun treats.<br /><br />however, crazy hot summer, would recommend look local retailer wait fall's cooler weather. might get sticky, clumped mess pocky sticks deep summer weather. (look local stores specialize japanese anime manga likely carry japanese snacks like these. south florida, tate's comics variety flavors..and fresh melted).",
          null
         ],
         "marker": {
          "opacity": 0.5,
          "size": 5
         },
         "mode": "markers+text",
         "name": "9_bars_bar_chocolate",
         "text": [
          "",
          "",
          "",
          "",
          "",
          "",
          "",
          "",
          "",
          "",
          "",
          "",
          "",
          "",
          "",
          "",
          "",
          "",
          "",
          "",
          "",
          "",
          "",
          "",
          "",
          "",
          "",
          "",
          "",
          "",
          "9_bars_bar_chocolate"
         ],
         "textfont": {
          "size": 12
         },
         "type": "scattergl",
         "x": {
          "bdata": "672BQL1UfEAA5npAAumEQBRgfUAVK4pAGTlyQCDhcEAH3YtADpGBQI8ii0BAhXBAOTZzQLKdhUDjcoBA/+SDQEUnhkB8qIxAsPl+QBHSgkDc14BAyV56QDmyf0DakYVAZWuFQCUNg0A3AHBAJxGGQDqydEDvQm5AHx+BQA==",
          "dtype": "f4"
         },
         "y": {
          "bdata": "4kyNP/sohD/rMZs/3/aMP/X0gD9cO1k/VXe9P8EQwj8ayGo/uwmdP8zmZT9tE78/KRpoPyhzkz/iooc/wrmNP3pEiz9ZKH8/yZuKP7PgjD/Kgj0/+TtdP9JlHD8R1MI/9d+RP1alfj/op14/tBKPP3dyRz+cNDQ/1iOHPw==",
          "dtype": "f4"
         }
        },
        {
         "hoverinfo": "text",
         "hovertext": [
          "love oatgood quality oats. package came time. oats worked well recipes. admit, single person bought oats boyfriend breakfast food- lasted us year.<br /><br />otherwise excellent buy.",
          "hearti oatmealseems little wholesome supermarket brands, somewhat mushy quite much flavor either. pass muster kids, probably buy again.",
          "rave review roll oathoneyville rolled oats delicious product. using make product designed increase enrich milk production lactating mothers.<br />the oats shipped timely fashion amazing thing paid $ shipping oats! encourage anyone likes oats order honeyville rolled oats. flavor rest.",
          "oatmealelse need know? oatmeal, instant (make half cup low-fat milk add raisins;nuke seconds). expensive kroger store brand oatmeal maybe little tastier better texture something. still oatmeal. mmm, convenient!",
          "great irish oatmeal hurriinstant oatmeal become soggy minute water hits bowl. mccann's instant oatmeal holds texture, excellent flavor, good time. mccann's regular oat meal excellent, too, may take bit longer prepare time morning. best instant brand ever eaten, close second non-instant variety.<br /><br />mccann's instant irish oatmeal, variety pack regular, apples & cinnamon, maple & brown sugar, boxes (pack )",
          "love gluten free oatmealus celiac disease product lifesaver could better getting almost half price grocery health food store! love mccann's instant oatmeal - flavors!!!<br /><br />thanks,<br />abby",
          "funni tastcannot eat oats, funny taste them. kids also think taste funny. husband thinks ok, pounds oats eat own!",
          "goodgood oatmeal. like apple cinnamon best. though would follow directions package since always comes soupy taste. could since like oatmeal really thick add milk top of.",
          "would buy oatmeal mcann tast greatvariety packs taste great!<br /><br />i every morning. $ cents per meal, understand everyone earth buying stuff up.<br /><br />maple brown sugar terrific, followed apples cinnamon, followed regular. get tired ole thing, taste great.<br /><br />i boil water small pot, empty packet bowl, pour boiling water, watch expand size!<br /><br />taste really good takes minutes prepare.<br /><br />not sure everyone earth this. convenient, healthy, quick, excellent quality, extremely cheap...",
          "oatmeal oatmeal lovermccann's makes oatmeal every oatmeal connoisseur, whether one likes raw pellet state cooks half hour, sloth addled instant, done microwave three minutes. good, sure, beauty instant variety available different flavors well regular.<br /> variety pack allows different tastes explored, well giving chance experience difference mccann's well-known oatmeals. personally like mccann's cooks thicker body top brand america. apples & cinnamon, though, tends little liquidy may want experiment amount water add. microwave oatmeal cooks one minute twenty-seven seconds, also watch get handle much time water use.<br /> bad thing -- consider bad thing -- offering buy lot end six ten-count boxes. good whole family oatmeal-eaters, single person alone -- well, love oatmeal.",
          "mm mm oatproduct fresh, good getting complaints anymore.<br /><br />that worth large quantity shipping charges.<br /><br />hey, oatmeal. favorite!",
          "foodgreatmccann's oatmeal every morning ordering amazon able save almost $ per box.<br />it great product. tastes great healthy",
          "good oatmeal second baghappy quality product price. like reviewer, would prefer plastic liner preserve freshness. however, continue buy product regardless quality oatmeal good price.<br /><br />edit: bag, quality continues high.",
          "good qualiti deliv time human ediblbetter organic oats advertised elsewhere. takes lots water. minute oats, oatmeal cookies come right, crumbly soggy. (instant oats place, cookies).",
          "wife favorit breakfastordered wife reccomended daughter. almost every morning likes flavors. happy, happy!!!<br /><a instant irish oatmeal, variety pack regular, apples & cinnamon, maple & brown sugar, boxes (pack >",
          "good way start dayvisiting friend nate morning coffee , came storage room ( packet mccanns instant irish oatmeal .) suggested try use ,in stash . sometimes nate dose give chance say , ended trying apple cinn . found tastefull made water powdered milk . goes good o.j. coffee slice toast ready take world...or day least.. jerry reith...",
          "great tast convenireally like mccann's steel cut oats find cook often.<br />this tastes much better grocery store brands convenient.<br />anything keeps eating oatmeal regularly good thing.",
          "mushiflavors good. however, see differce oaker oats brand - mushy.",
          "satisfimccann's instant irish oatmeal, variety pack regular, apples & cinnamon, maple & brown sugar, boxes (pack /><br />i fan mccann's steel-cut oats, thought would give instant variety try. found hardy meal, sweet, great folks like (post-bariatric surgery) need food palatable, easily digestible, fiber make bloat.",
          "best instant oatmealmccann's instant oatmeal great must oatmeal scrape together two three minutes prepare it. escaping fact, however, even best instant oatmeal nowhere near good even store brand oatmeal requiring stovetop preparation. still, mccann's good gets instant oatmeal. even better organic, all-natural brands tried. varieties mccann's variety pack taste good. prepared microwave adding boiling water convenient extreme time issue.<br /><br />mccann's use actual cane sugar instead high fructose corn syrup helped decide buy product. real sugar tastes better harmful stuff. one thing like, though, mccann's use thickeners. oats plus water plus heat make creamy, tasty oatmeal without need guar gum. convenience product. maybe guar gum why, sitting bowl while, instant mccann's becomes thick gluey.",
          "good next time order varieti packreally like maple brown sugar flavor. regular fine brown sugar added. apples cinnamon flavor ok. quick, easy satisfying breakfast order brand again, variety. get maple brown sugar.",
          "good hot breakfastmccann's oatmeal good quality choice. favorite apples cinnamon, find none overly sugary. good hot breakfast minutes, excellent.",
          "anoth husband favorithard get husband eat breakfast school. takes two bars happy so. often hard find flavor local grocery stores. again, amazon.com came reasonable price. now, came keep husband's breakfast ready runs door mornings. often like bar evening night snack.",
          "great way orderbag oatmeal seemed like way much, time went found uses it. many recipes make weekly running out! high quality oatmeal much cheaper better anything found grocery store.",
          "good instantgood instant oatmeal best oatmeal brand. uses cane sugar instead high fructouse corn syrup, better sweetness, doctors say form sugar better you. great cold morning time make mccann's steel cut oats. apple cinnamon best maple brown sugar regular good too. plus require doctoring actually tell three flavors apart.",
          "likeoatmeal good. mushy, soft, like it. quaker oats way go.",
          null
         ],
         "marker": {
          "opacity": 0.5,
          "size": 5
         },
         "mode": "markers+text",
         "name": "10_oatmeal_oats_instant",
         "text": [
          "",
          "",
          "",
          "",
          "",
          "",
          "",
          "",
          "",
          "",
          "",
          "",
          "",
          "",
          "",
          "",
          "",
          "",
          "",
          "",
          "",
          "",
          "",
          "",
          "",
          "",
          "10_oatmeal_oats_instant"
         ],
         "textfont": {
          "size": 12
         },
         "type": "scattergl",
         "x": {
          "bdata": "sVgoQKRXJ0DgMydApHwrQKCvL0CSECxAUNY2QPaNM0AUSDJAnI0sQKCUJkDYKChA6qEiQCwvK0DXCzxAXPozQPYZK0AZ4S9AIH8wQEZBLECQnjhA6Vw1QKC8VkCWTCVAOSYxQILgLkC3mi9A",
          "dtype": "f4"
         },
         "y": {
          "bdata": "sSUKQFRHC0AwCQhAFX0LQDV6B0BVcQlA44EDQCgiA0CaZQRA3Q0MQLq9CkBnrgtA0tMNQAg0CkDTtvs/TP0CQCxiDUCE7ARAMxAGQJigCkAtF/4/LK4BQOra8z+IxA1AgIsFQGIiB0A8FwdA",
          "dtype": "f4"
         }
        },
        {
         "hoverinfo": "text",
         "hovertext": [
          "tast terribl way strongunless like salt vinegar chips salty eating actual pinches salt drinking actual vinegar, doubt like chips. saltiest & sourest chips ever had, reason stops throwing away paid full boxes like waste food. brown chips especially bad, besides salty sour, also taste overcooked burnt. unless rare kind take kind extreme taste, like chips.<br /><br />i actually high tolerance sour taste, bag chips bit difficulty. normal people, please try home.",
          "best salt vinegar chipsalt & vinegar chips favorite flavor think tried every brand there. far best. also like sodium content high like others excessively greasy. seem right balance salt vinegar taste.",
          "salt vinegar chipgreat value like package size vinegary enough me. order brand again. great chips otherwise.",
          "salti vinegaristrongest tasting salt vinegar chips had. could still vinegar flavor, think close going get without dousing vinegar powder myself.<br /><br />i side side cape cod salt vinegar twice flavorful. additionally, reviewers said, quite good bit potassium (somewhere neighbor % rda per serving).",
          "best glutenfre dairyfre chipfavorite gluten-free dairy-free flavored chips. many salt vinegar chips contain dairy nice find ones eat. vinegar flavor really intense good.",
          "boulder salt malt vinegar chip way betterdecent, want realllly good salt vinegar chip, try boulder's salt malt vinegar chips. awesome.",
          "gourmet power salt vinegar chipkettle brand chips crunchy. would say regular plain old lays potato chips \"soft\" end \"soft/crunchy\" spectrum. ruffles brand potato chips used considered crunchiest, kettle brand chips far crunchy. tender mouth bad teeth (dentures) might want steer clear kettle brand. otherwise, love chips. sea salt & vinegar chips super tangy. enjoy taking swigs vinegar bottles time time. dissapointed salt & vinegar chips either chips soft and/or vinegar taste whimpy and/or chemically. rest assured kettle sea salt & vinegar gourmet flavor. vinegar flavor chemical flavor could never called whimpy!",
          "heavi vinegarusually love kettle chips, love salt & vinegar, chips way vinegary me! typical kettle chip crunch, aggressively flavored taste.",
          "suprem salt vinegarhands-down absolute best salt & vinegar chips buy. great, strong flavor left addicted. certainly favorite chips. highly recommend trying them!",
          "defacto standard salt vinegar chipalways liked salt vinegar chips time stronger flavor bottom bag. these, vinegar overflowing right first chip stop finished bag. addictive. like salt vinegar, ultimate chips. nothing else compares.",
          "best salt vinegartried lot s&v chips best! real sea salt real vinegar! mouth-watering flavor & crispiness. faint heart - flavor authentic! :)",
          "far favorit chipfar favorite chips, extremely crunchy (similar kettle style chips), extreme vinegar flavor differentiates lesser fried potato snacks. tried several brands salt vinegar none come close.",
          "deliciloved kettle brand sea salt vinegar chips since first time tried them. fact able find on-line great price, wonderful. would definitely make purchase again. quick simple snack lunch goes great cold sandwich.",
          "vinegar tastfirst time tried sea salt & vinegar chips. taste. make sure like salt & vinegar ordering. may suprise never tried before. stick salt black pepper chips.",
          "tangi delici snacklove salt vinegar potato chips, one choose. flavor zippy tart, unpleasant chemical aftertaste like less \"natural\" versions snack. bags right share lunch. chips little greasy, given stars instead .",
          "love sea salt vinegar alreadihappen to, like me, better sea salt vinegar chip found country.",
          "aw tastunless really really really like vinegar - avoid! chips called \"vinegar sea salt\" - \"sea salt vinegar\".",
          "give watermelon citron sea saltcannot live without citron falksalt, wonderful watermelon, fish, almost food requiring salt world does. try red juicy watermelon, wonderful experience.",
          "great price tangi expectchips tangy hoped expected. poore brothers better choice \"hard-core\" salt n vinegar fans.",
          "deliciousyet companion touchgreat chips, great price. odds yourself. like fish chips soaked malt vinegar, love these. best salt vinegar chips ever (and love flavor, mind you). spectacular deli sandwiches own. since found s&v palatable intelligent species know afternoon snack mine, unless course run another heavy brained, hearty breathed like mind. -summary- like taste bitter sweet salty vinegar crispy chip boot pucker sight handily bagged morsels. first time committed whole case chips again. mmmmm... vinegar...",
          "great dealdeal healthiest salt use. box last family year problem. iodized sea salt raise blood pressure regular salt will.",
          null
         ],
         "marker": {
          "opacity": 0.5,
          "size": 5
         },
         "mode": "markers+text",
         "name": "11_vinegar_salt_chips",
         "text": [
          "",
          "",
          "",
          "",
          "",
          "",
          "",
          "",
          "",
          "",
          "",
          "",
          "",
          "",
          "",
          "",
          "",
          "",
          "",
          "",
          "",
          "11_vinegar_salt_chips"
         ],
         "textfont": {
          "size": 12
         },
         "type": "scattergl",
         "x": {
          "bdata": "8KaDQKG5lUBafJVA7YyVQJMJlEB035VAyeaNQBBUjUAgWZVAE46WQGqPlkBYwI5AoOyQQFSwlkA5QJRAMeqWQGYnlkAlYZZAkgOUQF+UkUCs+ZZAP12TQA==",
          "dtype": "f4"
         },
         "y": {
          "bdata": "NImMwFHMqMCUeKjAoNeowLd7o8BfhKnAPRWVwB8wlMC816jAiDmpwDcfqsCIbpLAFxmgwHuRqsCVQZPAf8mqwMkwqsDuvqrAUEyVwMa+msCP0qrAfbehwA==",
          "dtype": "f4"
         }
        },
        {
         "hoverinfo": "text",
         "hovertext": [
          "yay barleyright mostly sprouting cats eat grass. love it. rotate around wheatgrass rye",
          "good felin utiyear old male cat chronic urinary tract infections. feed dry food combination wet food (with water added it) uri ease. combination seems keeps uti's control. switch another type dry food, uti gets worse. cats seem enjoy food well. expensive seems best solution me.",
          "cat fan new foodcats happily eating felidae platinum two years. got new bag shape food different. tried new food first put bowls bowls sit full kitties touch food. noticed similar reviews related formula changes past. unfortunately, need find new food cats eat.",
          "great fooddone lot research find best food cat, excellent food. also according holistic veterinarian. put probiotics kibble last step, important me. best thing cat loved immediately stop mixing old food would eat holistic select.",
          "best cat foodstarted buying noticed year old cat already starting lose \"spunk\" decided time start buying \"real\" cat food...not garbage super markets. found pet store million choices, sure brands good one went try first great purchase. cat past months active kitten coat became sooo soft. mainly, loved taste even more! highly recommend brand friends family animals!",
          "cat love diet food better regular foodone boys needed lose weight not. put food floor chubby guy, protein-rich, by-product food higher skinny boy jump. higher food sits going stale. really go food. chubby boy losing ounce week.",
          "cat go nearcat go day, probably longer, tryed it, walk right stuff every time, even know hungery. absolutely interest. swear would rather die starvation even take wiff it!!",
          "better averag expens averagfed cats lot stuff. boy cats picky eaters. loved purina. loved nutro. loved iams. love whatever feed them.<br /><br />this review based we, affectionate owners love. certain age, instructed vet consider senior foods- lower carb foods, catties fatties. tried types food. evinced change. made litter super-stink. small kibble cats barfed chew swallow it...<br /><br />this felidae done trick. problems speak of. consistent litter bearable nose. cats love it. kibble sized appropriate chewing. kicker:<br />after feeding cats felidae, demeanor improved. coats super soft lush- new improvements directly attribute food. loyal felidae consumers.<br /><br />additionally, absence corn product feed seems lessen remove reactions friends cat-allergies.",
          "palat healthieducated feline nutrition, allowed cats become addicted dry cat food. always offered canned dry, wish would fed premium quality canned food limited dry food. two year old cats two year old cats. good quality dry foods eat wellness innova. innova's manufacturer recently purchased procter&gamble. began looking replacement. offering several samples (from local holistic pet store) holistic select one (other usual wellness innova) would eat. finicky cats, recommend trying holistic select. good quality food palatable finicky eaters.",
          "healthi loveholistic vet recommended this, along brands. tried all, cats prefer (especially sardine version). best part coats soft clean eyes clear. (and want rude, say delicately can) waste far less odorous cats eat mcdonalds junk found stores, definite plus me! health benefits obvious - highly recommend holistic select!",
          "great fat cat senior citizenthree cats, youngest eleven years old, another fifteen oldest is, well ancient. vet told us ten years ago. youngest blob. lays down, looks like footstool. two arthritic skinny.<br /><br />since success canidae platinum senior dogs, figured would give try cats. would low ash purina one urinary tract formula entire lives thankfully ut problems.<br /><br />buster, youngest, still blob six months plus felidae senior overweight cats. however, two much active tell really \"feeling better\" since changed food felidae. even prissy, ancient one started play tease dogs getting chase her, purina one, wanted sleep.<br /><br />i think get cat fairly early weight problems, effective.<br /><br />however, glucosamine certainly help older fur balls happier life.",
          "nearli kill catmuch good thing? worked kibble time, slowly shifting percentage felidae national junk-food brand bowl natural. time, cats could keep down. mess. moved on.",
          "perfect cat food older catcat food recommended vet year old cleo cat trouble keeping food loosing weight. stopped problems. eat much since seems satisfied eating helps justify added price. aids digestion since the...ok sorry...smells gone ya know mean. add anyone experiencing problems cats see lot benifits cat food.",
          "simpli wild chick brown rice catgot free another order placed. could believe much cats loved it. buy sure.",
          "far goodheard little product local pet store, tried small bag cats years respectively. female, younger one took right away, older male, unfortunately weaned junk cat food corn meal etc... it, would usually refuse diet change, actually liked too. older male overweight trying switch soft food doctor's request, totally refused it. posh cat all. still consumes many calories, fatty, least know eating good food. course, know product seems cost feline food market, cannot see feeding animals lousy alternatives there, marketed healthy. commercials show cats eating vegetarian diet mostly corn meal? right? stay now, stay tuned.<br /><br />i updating review months using cat food two cats. upgraded stars really good food two them. garfield still eats little much, big cat exercise much, let us face it. female cat years old couple months healthy. tiny, happy agile. tried chicken version holistic select, garfield seemd miss sardine version went back one. ordered duck version update try it.",
          "holist select cat foodcats thrive extremely well dry cat food. definitely much less hair ball throw ups fur great. fit weight. vendor ships extremely fast. one top amazon suppliers book!",
          "wonder food perfect allerg kittione cats allergic fish beef. formula one eat, much better ingredients prescription diets available vet. kitties active, soft shiny fur, neither fat. dry food reduces tartar buildup teeth, also.",
          "calori yummitastes good apparently cat thinks -- constantly poking furry face around every time pop open one these. absolutely nothing bad say these. know people complained poor packaging believe must fixed b/c problems -- fact, securely bubble wrap these, place air-cushioned box arrives perfectly every time.",
          "chang formula make cat sickcanidae, felidae also changed formula. cats like change comes food. change without putting label. noticed color food changed smell. (as notice also reviewd canidae, happened time dogs issues.)<br /><br />prior change food almost lost two cats moved new home. cats get \"upset\" change enviorment, loud noise stop eating. depends cat. two stopped eating lost lot weight. took vet took months get back normal. year since better. formula food changed.<br /><br />we started noitce eating much started bug us. asked shop owner feed store knowledge change food. customers yelling dogs food making dogs sick. right away changed cats food started chowing suffered one bit like dogs have.<br /><br />cats sensitve animals changes thier food could cause stop eating. anyone thinking purchasing food it! rescued fixed cats, none picky eaters change formula could death found change formula.<br /><br />i urge anyone problems go consumer affairs website also fda website write letter let know affected animal. canidae care change affected animals, tell buy it. horrible!",
          "cat lovestarted cat felidae platinum weeks ago loves it. older cat, somewhat overweight, grouchy temperament. first mixed previous food figured -- ate felidae left old food! felidae ten days now, old food entirely, much sweeter, happier cat. think must agree better easily digested, something. case, happy purchaser felidae. agree previous reviewer cats like it. clearly, mine does.",
          null
         ],
         "marker": {
          "opacity": 0.5,
          "size": 5
         },
         "mode": "markers+text",
         "name": "12_cats_cat_food",
         "text": [
          "",
          "",
          "",
          "",
          "",
          "",
          "",
          "",
          "",
          "",
          "",
          "",
          "",
          "",
          "",
          "",
          "",
          "",
          "",
          "",
          "12_cats_cat_food"
         ],
         "textfont": {
          "size": 12
         },
         "type": "scattergl",
         "x": {
          "bdata": "iaShP9P9pD9ZlKQ/4xejPwX8oj/SkKU/aTSnP596qT8C1p8/8x+jP456rD+MWaY/6SSlP8I3pD9w76U/Cp2fP8gtoj9D5Z4/kbqhP0ikpD8tL6Q/",
          "dtype": "f4"
         },
         "y": {
          "bdata": "1vemQNPNqEA5oKhAO+uoQJQVqUBfgqhAFQGoQE54p0CalalAeKKoQAUbp0AufKhA3I6oQDm7qEBakqhAYnmpQGInqEDjT6ZAfJCpQEGKqECtZ6hA",
          "dtype": "f4"
         }
        },
        {
         "hoverinfo": "text",
         "hovertext": [
          "realli good chipchips salty hint sweet. crisp crunchy. best chips ever had!",
          "awesombest chips ever had... sure beat anything else even cooked way better name brands. tangy crisp satisfy craving time! chips buy thank amazon letting buy online bulk save money time!",
          "oooh yummilove chips! little weird review potato chips. chips great. crunch right, plus right amount salt. salty bland. little oily ok. best thing oz package. buy larger bag harder resist eating all. oz package allows little \"portion control\". sure use scissors open, chips packaged freshness open easily. enjoy!",
          "great chipeat many chips, love. great buy arrived quick packed great. expiration date ways away, awhile enjoy great natural potato flavor. love brown russet, hardy flavor fit description tee.",
          "great healthi snackgood tasting light chip value nutrition. everyone get munchies....is good alternative eating potato chips!",
          "fanfreakintastchips fanfreakintastic. doubt best chips ever had. nice sweet smoky flavor little bit-o-heat. oh ya baby.",
          "chip tast goodchips good. ended eating whole bag day good. glad dextrose like lays do.",
          "pretti good tast chiptook get used chips pretty good healthy you. sure eaten family friends.",
          "tasti chipmany \"healthy\" products taste good. taste good first try go downhill. chips one occasion tasty. served guests twice times wanted know get them. also nice something gluten-free friends borderline diabetic...but would eat anyway.",
          "yummi chipbest chips ever eaten. everyone family loves them. sweet spicy- crispy....really good. delivery perfect, crushed chips. fantastic overall.",
          "chip kiss saltchips delectably delicious. low sodium diet. give totally something truely love snack. chips bursting flavor, cannot really tell missing salt. kiss worth chip, beleive me, total makeout!!!",
          "surpris differkettle chips look, feel taste like lays. chips used favorite crinkle cut hefty. now, longer favorite.",
          "yolilove chips whole family hooked them. chips eat",
          "goodchips good!! could stop eating them. last long.<br /><br />the reason gave stars, instead , think bags little hard open. sure need make potato chip bag sturdy, may need scissors hand open much easier.",
          "yumhusband love chips! personally think flavor perfect. try yourself!",
          "amaz chiprarely eat chips saw tried them. really amazing. love cheddar too, chips really thin crunch delicious flavor. recommend them.",
          "organ yummi chip askchips great snack want junk assiciated chips. try like them.",
          "huge fan chiplove chips unique taste incredible crispy texture. used get henry's san diego, ca moved ordering amazon since. running constantly!",
          null
         ],
         "marker": {
          "opacity": 0.5,
          "size": 5
         },
         "mode": "markers+text",
         "name": "13_chips_them_good",
         "text": [
          "",
          "",
          "",
          "",
          "",
          "",
          "",
          "",
          "",
          "",
          "",
          "",
          "",
          "",
          "",
          "",
          "",
          "",
          "13_chips_them_good"
         ],
         "textfont": {
          "size": 12
         },
         "type": "scattergl",
         "x": {
          "bdata": "/MmAQASZgEB0vn9A6aN5QKzhgkCSKYJA9AeAQL4ogkBpvYJAoF6FQK9aaUASdYtA+NmEQH84e0ADkYdAD9qGQL1IgEA8cn9A/LCBQA==",
          "dtype": "f4"
         },
         "y": {
          "bdata": "Q98owKZ/K8DKVDnATb8owCcoN8BcgC7Aum0xwE1sMMBEhTDADgItwKQkV8D4kD7AQVIswFfzMMAwATfAuE0vwO42OsCCLyHAMa0ywA==",
          "dtype": "f4"
         }
        },
        {
         "hoverinfo": "text",
         "hovertext": [
          "plocki three grain tortilla chiplove these. cannot always get local stores, keep stocked even though always buying out. strong enough dip condiment, great flavor grain texture.",
          "plocki tortilla chipstasti healthichips ones found tasty healthy. fewer fat calories plus higher fiber want good taste nutrition--the perfect blend!",
          "tastichips perfect snacking without salsa. texture brittle thin, like plocky's chips.<br /><br />the downside: spice minimal.",
          "black bean never tast goodfantastic chips ever had! could eat whole bag myself! made lots whole grain beans, make complete protein, qualms feeding kids snacks. great! problem them: bag small!!! need bigger bag!! :)",
          "plocki tortilla chip red bean n riceordered black beans rice,which really. really love, stock. week, finally opened package kicked tried earlier. little kick swallow let know hint hot pepper sort. took pot luck night came home empty bag. used them, another bag, garnish salad took pot luck came home empty salad bowl!<br />we definitely order again.<a tortilla chips, red beans 'n rice, bags (pack >",
          "music palatlike plockys<br />they like us.<br />plockys plockys.<br />mean fuss.<br />taste good.<br />and healthy too.<br />plockys plockys.<br />grab bag two.<br />thank plockys!!",
          "best tortilla chip ever eatencannot say enough good things plocky's chips!! purchased flavor black bean flavor <a tortilla chips, black beans 'n rice, bags (pack > love them! taste better well known brands satisfying. never eaten tortilla chip make feel guilty afterwards. plocky's...i always eat less feel satisfied. actually prefer eaten themselves..no dips...and keep bag desk work. even lunch time grab something. bring work share friends love too. fan plocky's chips continue purchase amazon.",
          "excel tortilla chipchips truly amazing. all. light, crisp, great tasting, nice texture, natural... low fat sodium! need say more? recently bought bag regular grocery store, could belive taste buds. excited saw amazon, decided buy case!",
          "plocki sweet smokey chipotl whole grain tortilthink plocky's brand whole cut quality found lack taste somewhat little greasy.",
          "low qualitiknow long sat back shelf somewhere, old would cook. throw half out, skins damaged, clear sign dried beans past prime. cannot even return ask refund, food returnable. find different brand use. now, fifty servings beans throw away.",
          "plocki rice bean tortilla chipbought chips, wanted try tasty. sure is! unique different flavor right thickness.<br /><br />it remains crunchy, spicy flavorful hint tabasco paprika sauce heat. rice granules embedded tortilla chips. however, spices lacking chip. liked much.<br /><br />i would recommend anyone wants try red beans rice tortilla chips. go ahead-- put ingredients nachos except cheese. maybe el pastor, shredded meat, tomatoes, etcetera.",
          "best kept secretlove product. different flavors fantastic. family likes grain best. corn tortilla chips house!",
          "delici chipplocky's chips made several whole grains touch sweetness. little lower fat sodium regular tortilla chips. flavor performs tortilla chip ever eaten. hold great salsas dips. nothing wimpy them. wish company made bigger bag! love them. usually found organic foods section grocery, seem difficult obtain shelf always empty. order case. glad disappear fast.",
          "best tortilla chip everlike chips salsa quacomole better cips market. even great themselves. order long available. thank making accessable.<br /><br /> shelly kenyon",
          "uniqu schrumshist tasti tortilla chipplocky's red beans rice tortilla chips really tasty. shared bags daughter iraq. said ummm good. good too. artificial stuff.",
          "perfect tortilla chip goodhusband (who, mexican, picky tortilla chips) absolutely love these! texture light crispy, rather thick crunchy. actually usually prefers hearty, cruncy chip (like el ranchero), flavor fantastic thilled them. bean, rice corn base makes incredibly flavorful, touch onion garlic addition that. go embarrassing amount them. never, ever like plain chips, eat without anything else, although particularly amazing fresh salsa. highly recommend these!",
          null
         ],
         "marker": {
          "opacity": 0.5,
          "size": 5
         },
         "mode": "markers+text",
         "name": "14_tortilla_plockys_beans",
         "text": [
          "",
          "",
          "",
          "",
          "",
          "",
          "",
          "",
          "",
          "",
          "",
          "",
          "",
          "",
          "",
          "",
          "14_tortilla_plockys_beans"
         ],
         "textfont": {
          "size": 12
         },
         "type": "scattergl",
         "x": {
          "bdata": "2tGYQMYrmEAj8J1A1J+RQJkmkkAm8JZAxEuWQHX2kkDM9ZZA6TiSQGVil0Czcp1AUICVQOylmkA/s5ZAcMqWQOTolkA=",
          "dtype": "f4"
         },
         "y": {
          "bdata": "tkEQwNxZEcAA0hnAtn8QwFtYDsBN+BLAz5sRwLGGFMDy8BXASssNwIPHFMCnawjAytYdwPDNCMCasw7AqE0RwF2vEcA=",
          "dtype": "f4"
         }
        },
        {
         "hoverinfo": "text",
         "hovertext": [
          "worst frost everproduct disappointment! reviewers said, gluey, sticky texture akin elmer's glue edible food product. flavor sickening sweet. actually thought frosting spoiled. bad! save time $$ (i paid $) make frosting go another brand. cherrybrook cake cookie mixes good. hard believe even sell this.",
          "swedish pearl belgian pearlsugar sweet, denied. advertised, melt baked either. however, liege waffles/gaufres larger pebbles belgian pearl do. grains smaller, think pretzel salt, seed pearls.",
          "spongetastson sb fanatic excited find holiday season every year version gingerbread. knew reading reviews would enough yellow frosting whipped edible glue (water confectionery sugar) hold levels gingerbread make pineapple save yellow frosting outside - worked great. really fun idea enjoyed creating. licorice worthless though...",
          "perhap someth wrong batchopened immediately became concerned saw looked like dried white crust, rather fluffy frosting. package recommended stirring use, gave try crust indescribable gelatinous goo. best equate white version blue goop mother serves dinner \"better dead\" (no raisins though!).<br />i tried stir together end result gelatinous goo white crusties it. lifting knife spread long strings goo trailed knife.<br />i opted making frosting instead - easy! little sprectrum palm shortening, lot powdered sugar, tiny splash vanilla, tiny bit salt, rice milk needed consistency, beat minutes, fluffy 'butter' cream frosting thought would get cherrybrook.<br /><br />i wonder overheated store (whole foods) something...<br />i read positive reviews frosting mix, maybe try next time.",
          "fluffi soft delici sugari sweetcould wait try ; cinnamon coffee cake made fresh eggs, creamy sour cream, madagascar bourbon vanilla topped filled cinnamon streusel. ; cinnamon coffee cake available online $. now, fair share cinnamon coffee cakes, but, let tell fantasicakes cinnamon coffee cake really \"takes cake\" size, price, quality taste.<br />the cake arrived fast carefully packaged arrived almost perfect condition. also comes large tub white icing drizzle top, serving. could believe large size actually fed family us enjoy breakfast, three days. cake thick almost solid sponge cake type consistency really moist filling. flavors die sticky cinnamon outside sweet cinnamon vanilla swirled throughout inside cake. icing really tops beautifully gives moist sticky sweet flavor. pair cake morning coffee got perfect breakfast treat!",
          "easi lookeasy looks, came enough yellow frosting, frosting stick well. year old like making though.",
          "doubl pleasurlike oreo's oreo cakester, got try double stuff cakesters!!! best!! side note: shipping slow, maybe chances better.",
          "buy frosthonestly say worst frosting ever bought. kind generous call frosting, consistency rubber cement. since time crunch, luxury going back store different frosting, forged ahead decorated cake it. horrible experience, bad enough put us cake decorating forever. spread easily chewing gum, stuck everything came contact with, got crumbs cake mixed it. top this, even taste good. time done decorating, knew way could feed mess family. ended going store anyway buy pre-made cake. cake, took twice long decorate stuff gooey, used centerpiece. really ugly centerpiece, cracked peeled frosting dried.",
          "disappointdisappointed product thought would bigger.<br />also, come enough icing. use own.",
          "son love make easi enough adult supervis age neat projectreally easy project family fun anytime christmas. put icing cookies stack. ice outside decorate. great ages. strawberry licorice rope looks like stuck together find end unwind.<br /><br />* caution ** small hard candy decorations swallowing hazard.<br /><br />comes everything need except bowls spoons.<br />contains :<br />cookie pieces<br />large bag yellow colored icing ( east mix fork, add water slowly get thin)<br />small white icing bag (you add water slowly)<br />green color add small amount white<br /> clear decorator<br /> plastic decorator tips ( save reuse)<br />small bead candy decoration hazard)<br />strawberry licorice rope<br /> small tube orange writing icing<br />hard candy wreath decoration \" diameter<br />gummy spongebob \" tall<br />gummy patrick \" tall<br /><br />icing set hard go eat pried apart pieces. cookies get little softer middle.<br /><br />make anytime year. leave wreat patrick cut spongebob's head look like chirstmas.",
          "big disappointlove cherrybrook kitchen tried almost products. excited try ready spread frosting, usually keep needed ingredients hand box frosting. picky eater, especially item contains sugar... horrible! consistency absolutely nothing like regular canned frosting. light fluffy. gooey. cannot even imagine trying spread cake - would rip pieces thick gooey. even try cake, taste texture off-putting. seriously, waste money!",
          "cute cute cutesurprised find taiwan-shaped pineapple cakes, cute!<br />i never found pineapple cake like local asian supermarkets, ordered here. lovely pastries made dragon boat festival party much fun. friends think good idea order mid-autumn festival party.",
          "cherrybrook kitchen vanilla frostrecently purchased sale local grocery store... know sale!<br /><br />this fluffy, creamy white frosting would expect find opening jar. now, expecting like betty crocker, pretty bad. like others said, gluey/tacky mess would completely ruin cake tried spread on. reminds taffy quite hit right stage candy making process. taste great either, sickeningly sweet (even frosting). thing might used frosting cinnamon buns? still think would right consistency...",
          "make fresh fruit tart light beautipacket glaze secret making european style fresh fruit tarts. make one pie auction church, friend requested something \"strawberry\" offered. make amazing relatively \"healthy\" fruit tarts baking base, layering uncooked, fresh, sliced fruit, pouring made-up contents one packets. harden room temperature, hold fruit together slice tart, let beauty arranged fruit show through. also seen glaze used cheesecakes, hold fruit topping place. personally, like cheesecake (too rich me) fruit glazed cheesecake gorgeous, admit. this, slice fruit layer cheesecake still springform pan. pour glaze, let set remove springform. clear layer fruit top cheesecake. cherries, strawberries sliced mangos nice, best one ever used thin slices lemons, gently poached sugar syrup layered cake.<br /><br />i use base sponge cake, baked shallow form, bases pate sucre (a kind french pastry bit like sugar cookie) works well fluted, straight-sided forms. also make mini-tarts muffin pan, pre-baking mold layer pie crust (even commercial crust works, though again, prefer pate sucre, holds shape better substantial better crumb.) blind-bake muffin tins lined pate, pop fill fresh fruits (berries great) pour glaze. people put layer creme patisserie, pastry cream like custard stabilized flour, fruit happen think taste best.<br /><br />if get baking, glaze must-have shelf. ingredients vegan: tapioca starch, carrageenan, dextrose, cream tartar, locust bean gum, looking make vegan tofu cheesecake, use top, well use fruit tarts nut crust base.",
          "worst frost everglad found reduced rack . taste bad way could frost cake. stuck knife,ran strings,what mess. thought gotten bad batch.my gds birthday cake looks like crap. would buy mess. horrible",
          null
         ],
         "marker": {
          "opacity": 0.5,
          "size": 5
         },
         "mode": "markers+text",
         "name": "15_cake_frosting_fruit",
         "text": [
          "",
          "",
          "",
          "",
          "",
          "",
          "",
          "",
          "",
          "",
          "",
          "",
          "",
          "",
          "",
          "15_cake_frosting_fruit"
         ],
         "textfont": {
          "size": 12
         },
         "type": "scattergl",
         "x": {
          "bdata": "g4NNQMgHPkDdElVA5lxMQKUMUEADgk9A4R99QFy9TUAmok9AHaBZQIQaTEAsKehA2UlKQOLsO0BDi0tAVf1gQA==",
          "dtype": "f4"
         },
         "y": {
          "bdata": "t3QSPvbKTjv2tQ8+HWYSPg26dT19qbY9jrssv75oyD2P48c9E/MqPplVxz1kzk3Arm/GPUyGMr1NJs09Dzk4vg==",
          "dtype": "f4"
         }
        },
        {
         "hoverinfo": "text",
         "hovertext": [
          "great hot new flavorgreat fan potato chips thai food. happy kettle chips decided meld two great loves together! (what concept.....) chips spicy enough, without burning hole tongue. also, nice hint sweetness makes habit forming (careful!). while, treat definitely worth indulging in.",
          "habit formtook one said good russet potato chip flavoring? sudden, within seconds, spread senses taste buds happy. close thai food potato chip get. chips spicy enough satisfy craving spice hint sweetness makes habit forming. flavoring included garlic, ginger, jalapeno, cilantro spices, felt great eat these. buy again. treat.",
          "spici thai chiptotally orgasmic. chips best spicy chip ever tasted. signed subscribe save option. case contained , full sized bags) chips. price per unit equals $ per package. even cost plain chips. add free shipping fast delivery, deal steal. run like stole something computer order spicy thai chips. p.s. even paid going price $, still ahead curve. enjoy",
          "kettl food spici thai chipspicy thai chips used best tasting chips market. however, kettle foods changed ingredients used, ginger important missing. notice removed \"ginger attitude\" bag. sadly, changing ingredients ruined chips me. good anymore spice level virtually non-existent.<br /><br />here original new ingredient listings:<br /><br />original ingredients<br />select potatoes, safflower and/or sunflower oil, honey powder (evaporated cane syrup, honey)salt, garlic powder, jalapeno pepper, ground ginger, onion powder, habanero pepper, dried parsley, citric acid, cilantro extract, ginger oil, cayenne pepper, white pepper, lime oil.<br /><br />new ingredients<br />potatoes, safflower and/or sunflower oil, sugar, dried cane syrup, salt, maltodextrin, yeast extract, spices, garlic powder, onion powder, dried parsley, jalapeno powder, citric acid, natural flavors, lime extract<br /><br />i assuming changed ingredients order cut costs new owner, blue diamond. might want get rid \"great taste naturally\" bags consider maltodextrin natural.<br /><br />great job kettle! way ruin great thing!",
          "happen recip changwho, like me, order kettle spicy thai chips amazon hard find locally, probably aggrieved know recipe changed. like regular potatoe chips. paid husband gets eat like spicy thai, fine him.<br /><br />yuck!!!",
          "tangi spici sweet ohkettle chips spicy thai potato chips perfect amount sweet, savory spicy-- everything would want good meal better yet...a potato chip. since kettle-cooked, chips uniquely shaped sometimes bit over-browned. are, however, sliced perfectly, thick, thin, actually get great crunch bite without breaking tooth off. flavor tremendous, although would describe thai. vague, sweet tangy flavor kick, every get great big hit ginger. like spice all, really overly spicy, people handle them. fact chips absolutely artificial ingredients trans fat makes fabulous addition muncher's snack cupboard.",
          "uniqu flavor fan thai foodkettle brand potato chips spicy thai flavor really taste like food eaten thai restaurant. ingredients listed include garlic powder, onion powder, parsley, jalapeno, \"spices.\" sure spices are, sure tastes like lemongrass me...yum. chips thick cut crunch. come seriously heavy-duty bag. tried open like regular chip bags pulling two sides apart; way! bag thick wondered plastic. started looking scissors decided company put chips bag nice must provided way open it. sure enough, small slit top simple directions \"tear here.\" easy. think that.",
          "chip awesom bestthink chips awesome best along poor brothers salt vinager chips. buy spicy thai chips smaller bag might much flavor (at bottom bag) larger bag least experience last time bought amazon like . would suggest trying spicy thai bag bigger ounces.",
          "likeamazon's suggestion star review \"i like it.\" said, gave star review spicy thai chips. chips perfect people enjoy spicy chip, whose taste buds appreciate added sweetness ginger flavor. thing really dislike chips (along rest flavors) serving size half bag. really? eat half save rest later??? me...",
          "tangi goodtangy prevents eating many, handful two trick. crisp savory.",
          "excel thaiflavor chiphesitant buy local grocery store, lunds, sale, bought bag. found going beyond simply-flavored chips, like cheddar vinegar, usually results disappointment. tried thai asian-inspired chips target, archer farms, awful. kettle spicy thai chips awesome...so much so, considering buying bulk amazon. taste complicated stimulates different parts palate. taste sensations prevalent real thai food baked chip...sweet, salty, spicy. sour too? know, well-made well-balanced chip addicting.",
          "spici thaisaw spicy thai chips, knew try them. love spicy love thai food, not? first off, chips super spicy. actually taste sort sweet first, many degrees flavor. spiciness lingering taste bites afterwards. would say definitely good, unique chip. absolutely hate sweet chips, would try different flavor since little sweet.",
          "kettl sold chip horriblused eat spicy thai flavor time. message makes body unhappy one flavored chips message free. changed whole recipe make them. instead real food ingredients like used mostly processed chemical garbage, bunch salt message stuffed label \"yeast extract\". removed message label know well did.<br /><br />the worst part though taste horrible. instead crisp, oily full character...say cooked like...a kettle something instead color uniformity baked lays. spicy thai flavor tastes like sour cream onion ranch gone rancid.<br /><br />what shame, kettle chips me. seems slowly moving one flavor time new cheap ingredient list manufacturing method. fooled paying premium price chips premium product anymore.",
          "best chip evereasily best potato chip ever had. look ingredients: ginger types hot pepper. go wrong?<br /><br />obviously, like spicy food. but, like spicy food, probably love these. hot-with-a-hint-of-sweetness flavor combo prevalent lot thai food.",
          null
         ],
         "marker": {
          "opacity": 0.5,
          "size": 5
         },
         "mode": "markers+text",
         "name": "16_thai_spicy_chips",
         "text": [
          "",
          "",
          "",
          "",
          "",
          "",
          "",
          "",
          "",
          "",
          "",
          "",
          "",
          "",
          "16_thai_spicy_chips"
         ],
         "textfont": {
          "size": 12
         },
         "type": "scattergl",
         "x": {
          "bdata": "4G2mQEBVpkCOG6dA+P+hQAdGpECOBKdAjkmjQJVioUBM8qVAmc6eQEY9pkBIgadA6h2cQObFpkDnOqRA",
          "dtype": "f4"
         },
         "y": {
          "bdata": "/7+JwLpVisCpM4rA7X2KwH5HicA4v4jAmD6IwIzLhsDlConACJSNwNTZicCq3ojAyx6JwB/vicCulonA",
          "dtype": "f4"
         }
        },
        {
         "hoverinfo": "text",
         "hovertext": [
          "wintergreenhard find wintergreen smalls [sugar free] stores red smalls [peppermint --such common flavor]. wintergreen refreshing absolutely delicious. driving cross country, someone cuts off, turn daughter hand say \"wintergreen me!\" pulls one out, puts hand, right world.",
          "minti flavorone best mint chocolate syrup ever far. others pale flavor comparison. seven ingredients sauce, including organic natural mint flavor. past used ice cream heavy flavors like butterscotch, chocolate chips, oreo cookies, caramel et al, mint flavor mint chocolate sauces pale. buy plain vanilla chocolate ice cream minty flavor santa cruz organic mint chocolate syrup really stands overpower flavor ice cream. calories. mint flavor apparent taste, use sparingly, oz container last bit longer syrups used.",
          "altoid smalleven small containers, fill up. little tins less half filled price charged seems rip-off. exotic ingredient costly gold contained tiny squares? cereal ploy, filled factory settled transport.<br />can manufacturers honest dealings?",
          "love reusabl containlove, use empty containers medicine/advil purse, desk, suitcase. also line felt keep earrings. perfect little size disguise small valuables traveling love mints. tiny powerful without burning mouth.",
          "breath mintme, nothing like regular altoids breath mints. pleasant-tasting little candies cute convenient tin, far goes. mintiness strong, wintergreens definitely weaker peppermint minis. dragon-breath person, still, one mints small effect breath. four five freshen breath short - maybe minutes. point, think icebreakers frost mints best sugar free breath mints.",
          "altoidreceived shown. mother law likes walgreens quit carrying them. great could get amazon.",
          "altoid smallswintergreenpros:<br />+packaging, shipping, price<br />+sold year expiration date (enough eat/share boxes)<br />+not \"fresh\" like regular wintergreen powdery form. real mint!<br /><br />cons: none!",
          "altoid mini mint tinlittle tins sugar free mine mints great deal.there perfict go.fifty mints per tin right amount cary along.and safer teeth ones sugar.the price twelve dollars resonable.also great shareing.if looking mint try ones.you glad did.",
          "mint awesomhuge supply them. still working plenty spare. much effective buying one grocery store every time want mint.",
          "nice littl mint priceylike better regular altoids, even costly, would better like them.",
          "loveloved wintergreen altoid smalls much, come write review. packaging small convenience, altoids smaller well square shape, blue hue, even delicious taste opinion. definitely prefer regular-size altoids continue purchasing them! highly recommended!",
          "love greattiny altoids great quick breath freshening small box great portability. full, compact.<br /><br />i run yet, probably couple months, cannot wait buy again.",
          "great lunchlittle guys tasty refreshing.<br /><br />i usually eat salads lunch terrible things breath. eat lunch (because small) find sufficiently resolves problem.<br /><br />they sugar free (sugar actually help smelly bacteria grow) great tasty enough almost think part lunch.<br /><br />this good bulk value buy would highly recommend mints themselves. cheers!",
          null
         ],
         "marker": {
          "opacity": 0.5,
          "size": 5
         },
         "mode": "markers+text",
         "name": "17_mint_mints_breath",
         "text": [
          "",
          "",
          "",
          "",
          "",
          "",
          "",
          "",
          "",
          "",
          "",
          "",
          "",
          "17_mint_mints_breath"
         ],
         "textfont": {
          "size": 12
         },
         "type": "scattergl",
         "x": {
          "bdata": "koTHQJTs0UATocdA7LCtQMc3yUBaFcNAKKzHQPHexkBpgcdAX7nHQL3bx0Bh2sdACtnMQKSRxkA=",
          "dtype": "f4"
         },
         "y": {
          "bdata": "8keDP3g/Yj9gIoY/CiHsPly6fj9s+G4/1J2DP/hJgD+qyoA/jn6CPw0bhD9cGIQ/so9gP2EXcz8=",
          "dtype": "f4"
         }
        },
        {
         "hoverinfo": "text",
         "hovertext": [
          "awsomlooooove pocky, got lucky's could stop, like chocolate laced crack. anywho, product good, sad thing shipped stored hot room chocolate melted together partially, take much effort take apart sticks.<br /><br />great product, great price merchant!",
          "disappointproduct strong after-taste crayola crayons!<br /><br />i process trying different brands coconut oils cooking purposes. upon opening plastic container, aroma crayons immediately fills room, flavor permeates food cooked it.<br /><br />i suspect source problem plastic used plastic container experienced brands purchased.<br /><br />to date, favorite coconut oil distributed barleans. flavor fantastic. however, supply gallon-sized tub,and dr. mercola best product size category.",
          "choclatfirst time ordered came melted amazon quick remedy situation sending another product great thank",
          "pocki stick togethindividual pocky sticks separately packaged melt stick together shipped.",
          "pockieveryone loves pocky say lying lol. pocky arrived good condition minimal melting broken pieces.",
          "yummipocky incredibly good snack, that, impressed asia's packaging. stupidly ordered something easy melt chocolate dead heat summer. top package dessert pocky ordered degree weather melted liquid goo. t_t course expecting pocky boxes melted away, took special care put pocky box reading \"protect heat\" pocky arriving perfect condition! (well, stick together bit). love asia anything now.",
          "chocol meltchocolate stick melted sticks stuck oneanother. product concept good better buying supermarket directly get someone visiting japan.",
          "tastthink pocky get stored rightly. chocolate falling biscuit stick, taste should. many stick together, whenever want split up, becomes messy. need clean desk every time it.",
          "good stuffbought pocky vacation enjoyed living asian stores shop internet. guys family seem like better ladies reason. bit insanity, search pocky commercials youtube!",
          "great tast snackif get japanes pockibought back january never got around reviewing them. heard many people rave japanese snack called pocky figured would try out. like description states, biscuit stick covered chocolate. would say taste mind boggling easy eat virtually mess, well, long chocolate melt. anyways, case anyone wondering, ordered seller named asia (). believe took around weeks actually get (maybe imported) did, came well packed damaged whatsoever. definitely considering re-stocking future cannot find local store<br /><br />edit: oct , /><br />*****inquire type pocky seller finalizing purchase*****<br /><br />so decided restock could fight craving anymore. unfortunately batch time good (ordered different seller cheaper amazon prime). received picture shown front page ( per pack japanese pocky), per pack pocky~ish thing thailand. opinion, giant pack compared smaller packs definitely step back. packaging fine ordered october weather bit cooler aka melted chocolate arriving front door. sticks coated type thick chocolate bit bitter taste, similar dark chocolate milk chocolate. original japanese pocky melted almost immediately mouth, one melts slowly sits mouth.<br /><br />personally like taste dark chocolate used pocky flavor. also terrible self control buy things come small portions order a) eat everything b) avoid making fridge mess cluttering tons opened items. honestly say overeating comes batch pocky stomach dislike much. change original rating still holds true japanese pocky rate thailand pocky would . taste \"terrible\" definitely liking. possible uploading pictures received.",
          "goodlooked like perfect snack trail mix. unfortunately, arrived solid mass melted chocolate. left pantry days, opened room temperature still gooey. fridge breaking hunks ever since. taste good me, chocolate grainy melting solidifying again. order online again, see store would pick up.",
          "happi pocki stickmany purchses made amazon past december, pleased pocky chocolate cream covered biscuit sticks (pack ). arrived time, 'hit' surprised gift. sure keep refridgerated.",
          null
         ],
         "marker": {
          "opacity": 0.5,
          "size": 5
         },
         "mode": "markers+text",
         "name": "18_pocky_chocolate_melted",
         "text": [
          "",
          "",
          "",
          "",
          "",
          "",
          "",
          "",
          "",
          "",
          "",
          "",
          "18_pocky_chocolate_melted"
         ],
         "textfont": {
          "size": 12
         },
         "type": "scattergl",
         "x": {
          "bdata": "8TxjQHGVX0D2GF9AQQFiQEaEYkAhTmNAI01jQIWaYUDmemJAC+llQNPNZUAmq2JATKBiQA==",
          "dtype": "f4"
         },
         "y": {
          "bdata": "7S32PiE12T5Aqbo+lvX9PlCo5D56PAU/MysKP9Kc/z4XFP8+8egJP4ae2T4sfwE/GOL0Pg==",
          "dtype": "f4"
         }
        },
        {
         "hoverinfo": "text",
         "hovertext": [
          "great gumlove flavor cannot find shelves anymore. gum tasted fresh actually way better used buy stores!",
          "wonder tasti taffitaffy good. soft chewy. flavors amazing. would definitely recommend buying it. satisfying!!",
          "cuttiest gum centurigum super sick.tatooes killin.flavor spankin'.this brings back bomb diggity memories yo.peace out.",
          "odd fake flavor recommendtrident \"strawberry twist\" sugarless gum disappointing, taste consistency. strawberry flavor artificial tasting and, though guess good thing, long lasting. gum also gets \"stringy\" fairly quickly.<br /><br />i chew lot gum, buying flavor again.<br /><br />not recommended!<br /><br />cfh",
          "nasti flavorcandy red , flavor . plan chewy . would never buy",
          "amazbest flavor ever! addicted! good far best. could live these! need anymore say....",
          "bigger brandgrape gummy bears hard find area. fact pretty much anyone talk grape gummy bears think lying. bought ... : ) bears little bit bigger brands kind sour kick, nothing strong. love grape flavored candy/soda pretty good. another company makes grape gummy bears little bit better opinion, well worth price. like use gummy bears home made popsicles flavored sports drink. salt sports drink makes softer popsicles, gummy bears awesome frozen. delicious!",
          "tastimints really strong great taste. also convenient size carry pocket purse.",
          "nice taffigot wild hair taffy ordered five pound bag. taffy enjoyable many flavors: watermelon, root beer, melon, peppermint, grape, etc. complaint bit much red/black licorice-flavored pieces (just particular favorites). me, kids, husband, lasted two weeks! would recommend brand taffy -- delightful treat.",
          "great flavorbought allot different flavors happens one favorites getting soon",
          "good flavorstrawberry twist long-lasting pleasant flavor sweet-but, excessively so. delivery timely price right. supieror trident flavors! though, spearmint bad either. next pick would blueberry",
          null
         ],
         "marker": {
          "opacity": 0.5,
          "size": 5
         },
         "mode": "markers+text",
         "name": "19_bears_gummy_gum",
         "text": [
          "",
          "",
          "",
          "",
          "",
          "",
          "",
          "",
          "",
          "",
          "",
          "19_bears_gummy_gum"
         ],
         "textfont": {
          "size": 12
         },
         "type": "scattergl",
         "x": {
          "bdata": "Q/TVQEoy2kDg4NdARMHWQOcizUCzEslAybrTQJpZ2UDW3dlAWYjJQKply0D2/NJA",
          "dtype": "f4"
         },
         "y": {
          "bdata": "tsyJPTwY2b6ikqW+GM1mPXviKb8rQyG/0+s0vVSjzL5hity+h1cev7RH2r5jlbK+",
          "dtype": "f4"
         }
        },
        {
         "hoverinfo": "text",
         "hovertext": [
          "good buyreal good product.i love chips customers cannot go wrong wit best",
          "good chip great pricechips quite tasty price right. packaged well, would buy again.",
          "great chipalways pleased amazon's packaging. chips never crushed broken, always fresh. really liked brand/flavor chips. tasty!",
          "good chipbought sale amazon. nice crispy thick chips. definitely great buy catch sale.",
          "broken chip tastilove chips ordered florida. case chips came without packing inside. bags box cushioning all. needless say chips broken would order again. great item cannot package aid minimal chip breakage one wasting money.",
          "stop carri chipfirst time ate chips aruba . could find area (ct) imagine joy found amazon. love hope continue carry them. prices terrific too. pay $ aruba run $ bag buy case amazon. good job!!!! problem is, everybody wants steal bags case comes in, ok...sharing good.",
          "boxochipchips great deal. kettle special deal case chips. hard find vegas favorite flavor. shipping fast, sooner expected.",
          "best deal everbest deal ever. delivery fast, chips delicious fresh. love it:)",
          "great dealknew family already liked chips brainer take advantage great price good chips. price per bag cannot beat order subscribe save good thing always change delivery interval notice go quicker slower anticipated.",
          "crisplove chips, bought them, stock entire school year. chips taste great, packages sealed good condition arrived. box hand tatters, holes complely squished... know result customs voyage, receive bit disgruntling given falling apart. luckily, victims within. chips be.",
          null
         ],
         "marker": {
          "opacity": 0.5,
          "size": 5
         },
         "mode": "markers+text",
         "name": "20_chips_deal_good",
         "text": [
          "",
          "",
          "",
          "",
          "",
          "",
          "",
          "",
          "",
          "",
          "20_chips_deal_good"
         ],
         "textfont": {
          "size": 12
         },
         "type": "scattergl",
         "x": {
          "bdata": "jw52QFO3cUCmg2pArIB6QBCHaUAIBHBAOStwQFdtd0ATT3VAhVJpQItBcUA=",
          "dtype": "f4"
         },
         "y": {
          "bdata": "zPjVvzW4yr/BqLG/bWfav8d7rb/IXtS/F/zSv43Ezr9KNte/BV63v3h+yb8=",
          "dtype": "f4"
         }
        },
        {
         "hoverinfo": "text",
         "hovertext": [
          "amazingli true flavorpleased these- sure would able replicate autumn classic flavors caramel apples, figured werther's good bet. diabetic, wolfing real caramel apple mood strikes cannot happen often would like so. tasty enough get 'carb budget' real thing. made sugar alcohols, wise limit many eaten day unless going near home turbo-flush toilet. (tmi???) pack last while, definitely 'will reorder'. :)",
          "great caramelalthough enjoy flavor ordered tiny bit more, chocolate walnuts one, still enjoyable flavor. wonderful service ms. das, including hand signed coupon discount future orders, along samples couple caramel flavors. would order chocolate walnut flavor sure, along das food's gourmet salt.",
          "none greaterbest chocolate world, critic's humble opinion, made united states. best chocolate united states made california, ghirardelli chocolate company. surely best chocolate one find many stores, malls, etc. throughout united states. actual stores rare, kroger, wal-mart, martin's (formerly ukrops) long list grocery stores many malls stock products.<br /><br />i never encountered milk chocolates caramel filling surpass quality these. chocolates deserving poetry. eat quickly, take time savor every moment eating every one. choice you.",
          "tradit caramel loveridea good caramel. flavors ginger pistachio dominated. chocolate walnut orange honey varieties. missed mix rich, buttery, dairy flavor caramelized sugar expect caramels.",
          "heavenli actionbest caramel/chocolate combination ever tasted. caramel liquid complements ghiradelli chocolate perfectly. try brew attempting lose weight - end addict like me.<br /> ghiradelli product far better caramello/hershey product every way. caramello chocolate lacks refined taste ghiradelli squares, caramello caramel harder sublime taste. comparing two like comparing warren buffett terms wealth. unfortunately caramello bar regard.<br /> least try ghiradelli.",
          "like countri cadburicadbury chocolate uses different formula country manufactured. new zealand uses cream australia, etc. version hershey expect england, australia new zealand cadbury. melt tongue like countries tastes differently.<br /><br />if looking silky smooth easy melting chocolate find non hershey version.<br /><br />hershey missed opportunity introduce high quality cadbury chocolate usa.",
          "differ tast made uk made india versionus made version cadbury chocolate distinct taste uk version chocolate eating since childhood. like new taste. friends india -- buy chocolate either made uk india; otherwise disappointed was.",
          "creamimind, fine caramel creamy melting. grainy. flavor fine, although little sweet taste.",
          "candicertainly best caramels ever had. wish came bigger pieces. finished whole box one sitting! certainly buy again.",
          "caramel chocolgood quality brand chocolate many flavours one. tasty fast delivery",
          null
         ],
         "marker": {
          "opacity": 0.5,
          "size": 5
         },
         "mode": "markers+text",
         "name": "21_chocolate_caramel_ghiradelli",
         "text": [
          "",
          "",
          "",
          "",
          "",
          "",
          "",
          "",
          "",
          "",
          "21_chocolate_caramel_ghiradelli"
         ],
         "textfont": {
          "size": 12
         },
         "type": "scattergl",
         "x": {
          "bdata": "OSC/QKPBvkBlXspAmXq/QBA1x0DqVMtAO3XLQH7NvkCjqL1AUJq7QKb6wkA=",
          "dtype": "f4"
         },
         "y": {
          "bdata": "IJLCPbLjCz7+Kfs9HnzUPfM4Az5ZO/o97hGhPSzwAT7ewhE+A806PrCs/T0=",
          "dtype": "f4"
         }
        }
       ],
       "layout": {
        "annotations": [
         {
          "showarrow": false,
          "text": "D1",
          "x": 1.0551657676696777,
          "y": 0.054543495178222656,
          "yshift": 10
         },
         {
          "showarrow": false,
          "text": "D2",
          "x": 6.4529876708984375,
          "xshift": 10,
          "y": 6.248020172119141
         }
        ],
        "height": 750,
        "shapes": [
         {
          "line": {
           "color": "#CFD8DC",
           "width": 2
          },
          "type": "line",
          "x0": 6.4529876708984375,
          "x1": 6.4529876708984375,
          "y0": -6.138933181762695,
          "y1": 6.248020172119141
         },
         {
          "line": {
           "color": "#9E9E9E",
           "width": 2
          },
          "type": "line",
          "x0": 1.0551657676696777,
          "x1": 11.850810050964355,
          "y0": 0.054543495178222656,
          "y1": 0.054543495178222656
         }
        ],
        "template": {
         "data": {
          "bar": [
           {
            "error_x": {
             "color": "rgb(36,36,36)"
            },
            "error_y": {
             "color": "rgb(36,36,36)"
            },
            "marker": {
             "line": {
              "color": "white",
              "width": 0.5
             },
             "pattern": {
              "fillmode": "overlay",
              "size": 10,
              "solidity": 0.2
             }
            },
            "type": "bar"
           }
          ],
          "barpolar": [
           {
            "marker": {
             "line": {
              "color": "white",
              "width": 0.5
             },
             "pattern": {
              "fillmode": "overlay",
              "size": 10,
              "solidity": 0.2
             }
            },
            "type": "barpolar"
           }
          ],
          "carpet": [
           {
            "aaxis": {
             "endlinecolor": "rgb(36,36,36)",
             "gridcolor": "white",
             "linecolor": "white",
             "minorgridcolor": "white",
             "startlinecolor": "rgb(36,36,36)"
            },
            "baxis": {
             "endlinecolor": "rgb(36,36,36)",
             "gridcolor": "white",
             "linecolor": "white",
             "minorgridcolor": "white",
             "startlinecolor": "rgb(36,36,36)"
            },
            "type": "carpet"
           }
          ],
          "choropleth": [
           {
            "colorbar": {
             "outlinewidth": 1,
             "tickcolor": "rgb(36,36,36)",
             "ticks": "outside"
            },
            "type": "choropleth"
           }
          ],
          "contour": [
           {
            "colorbar": {
             "outlinewidth": 1,
             "tickcolor": "rgb(36,36,36)",
             "ticks": "outside"
            },
            "colorscale": [
             [
              0,
              "#440154"
             ],
             [
              0.1111111111111111,
              "#482878"
             ],
             [
              0.2222222222222222,
              "#3e4989"
             ],
             [
              0.3333333333333333,
              "#31688e"
             ],
             [
              0.4444444444444444,
              "#26828e"
             ],
             [
              0.5555555555555556,
              "#1f9e89"
             ],
             [
              0.6666666666666666,
              "#35b779"
             ],
             [
              0.7777777777777778,
              "#6ece58"
             ],
             [
              0.8888888888888888,
              "#b5de2b"
             ],
             [
              1,
              "#fde725"
             ]
            ],
            "type": "contour"
           }
          ],
          "contourcarpet": [
           {
            "colorbar": {
             "outlinewidth": 1,
             "tickcolor": "rgb(36,36,36)",
             "ticks": "outside"
            },
            "type": "contourcarpet"
           }
          ],
          "heatmap": [
           {
            "colorbar": {
             "outlinewidth": 1,
             "tickcolor": "rgb(36,36,36)",
             "ticks": "outside"
            },
            "colorscale": [
             [
              0,
              "#440154"
             ],
             [
              0.1111111111111111,
              "#482878"
             ],
             [
              0.2222222222222222,
              "#3e4989"
             ],
             [
              0.3333333333333333,
              "#31688e"
             ],
             [
              0.4444444444444444,
              "#26828e"
             ],
             [
              0.5555555555555556,
              "#1f9e89"
             ],
             [
              0.6666666666666666,
              "#35b779"
             ],
             [
              0.7777777777777778,
              "#6ece58"
             ],
             [
              0.8888888888888888,
              "#b5de2b"
             ],
             [
              1,
              "#fde725"
             ]
            ],
            "type": "heatmap"
           }
          ],
          "histogram": [
           {
            "marker": {
             "line": {
              "color": "white",
              "width": 0.6
             }
            },
            "type": "histogram"
           }
          ],
          "histogram2d": [
           {
            "colorbar": {
             "outlinewidth": 1,
             "tickcolor": "rgb(36,36,36)",
             "ticks": "outside"
            },
            "colorscale": [
             [
              0,
              "#440154"
             ],
             [
              0.1111111111111111,
              "#482878"
             ],
             [
              0.2222222222222222,
              "#3e4989"
             ],
             [
              0.3333333333333333,
              "#31688e"
             ],
             [
              0.4444444444444444,
              "#26828e"
             ],
             [
              0.5555555555555556,
              "#1f9e89"
             ],
             [
              0.6666666666666666,
              "#35b779"
             ],
             [
              0.7777777777777778,
              "#6ece58"
             ],
             [
              0.8888888888888888,
              "#b5de2b"
             ],
             [
              1,
              "#fde725"
             ]
            ],
            "type": "histogram2d"
           }
          ],
          "histogram2dcontour": [
           {
            "colorbar": {
             "outlinewidth": 1,
             "tickcolor": "rgb(36,36,36)",
             "ticks": "outside"
            },
            "colorscale": [
             [
              0,
              "#440154"
             ],
             [
              0.1111111111111111,
              "#482878"
             ],
             [
              0.2222222222222222,
              "#3e4989"
             ],
             [
              0.3333333333333333,
              "#31688e"
             ],
             [
              0.4444444444444444,
              "#26828e"
             ],
             [
              0.5555555555555556,
              "#1f9e89"
             ],
             [
              0.6666666666666666,
              "#35b779"
             ],
             [
              0.7777777777777778,
              "#6ece58"
             ],
             [
              0.8888888888888888,
              "#b5de2b"
             ],
             [
              1,
              "#fde725"
             ]
            ],
            "type": "histogram2dcontour"
           }
          ],
          "mesh3d": [
           {
            "colorbar": {
             "outlinewidth": 1,
             "tickcolor": "rgb(36,36,36)",
             "ticks": "outside"
            },
            "type": "mesh3d"
           }
          ],
          "parcoords": [
           {
            "line": {
             "colorbar": {
              "outlinewidth": 1,
              "tickcolor": "rgb(36,36,36)",
              "ticks": "outside"
             }
            },
            "type": "parcoords"
           }
          ],
          "pie": [
           {
            "automargin": true,
            "type": "pie"
           }
          ],
          "scatter": [
           {
            "fillpattern": {
             "fillmode": "overlay",
             "size": 10,
             "solidity": 0.2
            },
            "type": "scatter"
           }
          ],
          "scatter3d": [
           {
            "line": {
             "colorbar": {
              "outlinewidth": 1,
              "tickcolor": "rgb(36,36,36)",
              "ticks": "outside"
             }
            },
            "marker": {
             "colorbar": {
              "outlinewidth": 1,
              "tickcolor": "rgb(36,36,36)",
              "ticks": "outside"
             }
            },
            "type": "scatter3d"
           }
          ],
          "scattercarpet": [
           {
            "marker": {
             "colorbar": {
              "outlinewidth": 1,
              "tickcolor": "rgb(36,36,36)",
              "ticks": "outside"
             }
            },
            "type": "scattercarpet"
           }
          ],
          "scattergeo": [
           {
            "marker": {
             "colorbar": {
              "outlinewidth": 1,
              "tickcolor": "rgb(36,36,36)",
              "ticks": "outside"
             }
            },
            "type": "scattergeo"
           }
          ],
          "scattergl": [
           {
            "marker": {
             "colorbar": {
              "outlinewidth": 1,
              "tickcolor": "rgb(36,36,36)",
              "ticks": "outside"
             }
            },
            "type": "scattergl"
           }
          ],
          "scattermap": [
           {
            "marker": {
             "colorbar": {
              "outlinewidth": 1,
              "tickcolor": "rgb(36,36,36)",
              "ticks": "outside"
             }
            },
            "type": "scattermap"
           }
          ],
          "scattermapbox": [
           {
            "marker": {
             "colorbar": {
              "outlinewidth": 1,
              "tickcolor": "rgb(36,36,36)",
              "ticks": "outside"
             }
            },
            "type": "scattermapbox"
           }
          ],
          "scatterpolar": [
           {
            "marker": {
             "colorbar": {
              "outlinewidth": 1,
              "tickcolor": "rgb(36,36,36)",
              "ticks": "outside"
             }
            },
            "type": "scatterpolar"
           }
          ],
          "scatterpolargl": [
           {
            "marker": {
             "colorbar": {
              "outlinewidth": 1,
              "tickcolor": "rgb(36,36,36)",
              "ticks": "outside"
             }
            },
            "type": "scatterpolargl"
           }
          ],
          "scatterternary": [
           {
            "marker": {
             "colorbar": {
              "outlinewidth": 1,
              "tickcolor": "rgb(36,36,36)",
              "ticks": "outside"
             }
            },
            "type": "scatterternary"
           }
          ],
          "surface": [
           {
            "colorbar": {
             "outlinewidth": 1,
             "tickcolor": "rgb(36,36,36)",
             "ticks": "outside"
            },
            "colorscale": [
             [
              0,
              "#440154"
             ],
             [
              0.1111111111111111,
              "#482878"
             ],
             [
              0.2222222222222222,
              "#3e4989"
             ],
             [
              0.3333333333333333,
              "#31688e"
             ],
             [
              0.4444444444444444,
              "#26828e"
             ],
             [
              0.5555555555555556,
              "#1f9e89"
             ],
             [
              0.6666666666666666,
              "#35b779"
             ],
             [
              0.7777777777777778,
              "#6ece58"
             ],
             [
              0.8888888888888888,
              "#b5de2b"
             ],
             [
              1,
              "#fde725"
             ]
            ],
            "type": "surface"
           }
          ],
          "table": [
           {
            "cells": {
             "fill": {
              "color": "rgb(237,237,237)"
             },
             "line": {
              "color": "white"
             }
            },
            "header": {
             "fill": {
              "color": "rgb(217,217,217)"
             },
             "line": {
              "color": "white"
             }
            },
            "type": "table"
           }
          ]
         },
         "layout": {
          "annotationdefaults": {
           "arrowhead": 0,
           "arrowwidth": 1
          },
          "autotypenumbers": "strict",
          "coloraxis": {
           "colorbar": {
            "outlinewidth": 1,
            "tickcolor": "rgb(36,36,36)",
            "ticks": "outside"
           }
          },
          "colorscale": {
           "diverging": [
            [
             0,
             "rgb(103,0,31)"
            ],
            [
             0.1,
             "rgb(178,24,43)"
            ],
            [
             0.2,
             "rgb(214,96,77)"
            ],
            [
             0.3,
             "rgb(244,165,130)"
            ],
            [
             0.4,
             "rgb(253,219,199)"
            ],
            [
             0.5,
             "rgb(247,247,247)"
            ],
            [
             0.6,
             "rgb(209,229,240)"
            ],
            [
             0.7,
             "rgb(146,197,222)"
            ],
            [
             0.8,
             "rgb(67,147,195)"
            ],
            [
             0.9,
             "rgb(33,102,172)"
            ],
            [
             1,
             "rgb(5,48,97)"
            ]
           ],
           "sequential": [
            [
             0,
             "#440154"
            ],
            [
             0.1111111111111111,
             "#482878"
            ],
            [
             0.2222222222222222,
             "#3e4989"
            ],
            [
             0.3333333333333333,
             "#31688e"
            ],
            [
             0.4444444444444444,
             "#26828e"
            ],
            [
             0.5555555555555556,
             "#1f9e89"
            ],
            [
             0.6666666666666666,
             "#35b779"
            ],
            [
             0.7777777777777778,
             "#6ece58"
            ],
            [
             0.8888888888888888,
             "#b5de2b"
            ],
            [
             1,
             "#fde725"
            ]
           ],
           "sequentialminus": [
            [
             0,
             "#440154"
            ],
            [
             0.1111111111111111,
             "#482878"
            ],
            [
             0.2222222222222222,
             "#3e4989"
            ],
            [
             0.3333333333333333,
             "#31688e"
            ],
            [
             0.4444444444444444,
             "#26828e"
            ],
            [
             0.5555555555555556,
             "#1f9e89"
            ],
            [
             0.6666666666666666,
             "#35b779"
            ],
            [
             0.7777777777777778,
             "#6ece58"
            ],
            [
             0.8888888888888888,
             "#b5de2b"
            ],
            [
             1,
             "#fde725"
            ]
           ]
          },
          "colorway": [
           "#1F77B4",
           "#FF7F0E",
           "#2CA02C",
           "#D62728",
           "#9467BD",
           "#8C564B",
           "#E377C2",
           "#7F7F7F",
           "#BCBD22",
           "#17BECF"
          ],
          "font": {
           "color": "rgb(36,36,36)"
          },
          "geo": {
           "bgcolor": "white",
           "lakecolor": "white",
           "landcolor": "white",
           "showlakes": true,
           "showland": true,
           "subunitcolor": "white"
          },
          "hoverlabel": {
           "align": "left"
          },
          "hovermode": "closest",
          "mapbox": {
           "style": "light"
          },
          "paper_bgcolor": "white",
          "plot_bgcolor": "white",
          "polar": {
           "angularaxis": {
            "gridcolor": "rgb(232,232,232)",
            "linecolor": "rgb(36,36,36)",
            "showgrid": false,
            "showline": true,
            "ticks": "outside"
           },
           "bgcolor": "white",
           "radialaxis": {
            "gridcolor": "rgb(232,232,232)",
            "linecolor": "rgb(36,36,36)",
            "showgrid": false,
            "showline": true,
            "ticks": "outside"
           }
          },
          "scene": {
           "xaxis": {
            "backgroundcolor": "white",
            "gridcolor": "rgb(232,232,232)",
            "gridwidth": 2,
            "linecolor": "rgb(36,36,36)",
            "showbackground": true,
            "showgrid": false,
            "showline": true,
            "ticks": "outside",
            "zeroline": false,
            "zerolinecolor": "rgb(36,36,36)"
           },
           "yaxis": {
            "backgroundcolor": "white",
            "gridcolor": "rgb(232,232,232)",
            "gridwidth": 2,
            "linecolor": "rgb(36,36,36)",
            "showbackground": true,
            "showgrid": false,
            "showline": true,
            "ticks": "outside",
            "zeroline": false,
            "zerolinecolor": "rgb(36,36,36)"
           },
           "zaxis": {
            "backgroundcolor": "white",
            "gridcolor": "rgb(232,232,232)",
            "gridwidth": 2,
            "linecolor": "rgb(36,36,36)",
            "showbackground": true,
            "showgrid": false,
            "showline": true,
            "ticks": "outside",
            "zeroline": false,
            "zerolinecolor": "rgb(36,36,36)"
           }
          },
          "shapedefaults": {
           "fillcolor": "black",
           "line": {
            "width": 0
           },
           "opacity": 0.3
          },
          "ternary": {
           "aaxis": {
            "gridcolor": "rgb(232,232,232)",
            "linecolor": "rgb(36,36,36)",
            "showgrid": false,
            "showline": true,
            "ticks": "outside"
           },
           "baxis": {
            "gridcolor": "rgb(232,232,232)",
            "linecolor": "rgb(36,36,36)",
            "showgrid": false,
            "showline": true,
            "ticks": "outside"
           },
           "bgcolor": "white",
           "caxis": {
            "gridcolor": "rgb(232,232,232)",
            "linecolor": "rgb(36,36,36)",
            "showgrid": false,
            "showline": true,
            "ticks": "outside"
           }
          },
          "title": {
           "x": 0.05
          },
          "xaxis": {
           "automargin": true,
           "gridcolor": "rgb(232,232,232)",
           "linecolor": "rgb(36,36,36)",
           "showgrid": false,
           "showline": true,
           "ticks": "outside",
           "title": {
            "standoff": 15
           },
           "zeroline": false,
           "zerolinecolor": "rgb(36,36,36)"
          },
          "yaxis": {
           "automargin": true,
           "gridcolor": "rgb(232,232,232)",
           "linecolor": "rgb(36,36,36)",
           "showgrid": false,
           "showline": true,
           "ticks": "outside",
           "title": {
            "standoff": 15
           },
           "zeroline": false,
           "zerolinecolor": "rgb(36,36,36)"
          }
         }
        },
        "title": {
         "font": {
          "color": "Black",
          "size": 22
         },
         "text": "<b>Documents and Topics</b>",
         "x": 0.5,
         "xanchor": "center",
         "yanchor": "top"
        },
        "width": 1200,
        "xaxis": {
         "visible": false
        },
        "yaxis": {
         "visible": false
        }
       }
      }
     },
     "metadata": {},
     "output_type": "display_data"
    }
   ],
   "source": [
    "# Run the visualization with the original embeddings\n",
    "topic_model.visualize_documents(docs, embeddings=embeddings)"
   ]
  },
  {
   "cell_type": "code",
   "execution_count": 12,
   "id": "aa7bf704",
   "metadata": {},
   "outputs": [
    {
     "data": {
      "application/vnd.plotly.v1+json": {
       "config": {
        "plotlyServerURL": "https://plot.ly"
       },
       "data": [
        {
         "hoverinfo": "text",
         "hovertext": [
          "delicigood products fast shipping equals happy me. little pricey hand pick good flavors...a cannot find anywhere else def worth price",
          "delisi pancakdiscover mix amazon always bought whole food store.<br />i like mix pancakes came delicious fluffy.<br />just one small secret: try add seltzer water instead regular one.",
          "fantasticy beat tast resist one spice loverfantastic!you beat taste resist one spice lover",
          "lovesatisfied twizzler purchase. shared others enjoyed them. definitely ordering more.",
          "great chipreason amazon would ship alaska!..so sent grandchildren got enjoy them. good chips! amazon rethink shipping alaska thing. would order groceries online.",
          "addict potato chipeat risk. would open bag could stop. good salty.",
          "great cookiitalian lived italy years. used buy cookies everyday breakfast italian espresso. could find anywhere bay area, great again.",
          "love smaller bagyo kettle chip addict happy find snack size bags lunch!!! great quality much cheaper stores!!! definitely buying more!",
          "great glutenfre lifestylshipped sister follows gluten-free eating plan reports versatile easier grinding almonds crispy crust chicken fish filets. also uses place bread crumbs meatloaf meatballs. stays moist added place wheat flour baking, too. good product, good value.",
          "god love cookifattening good you, right? heard, least, admittedly unreliable person.",
          "bite sizemight mistaken, appears pieces bag reduced size. that, doubtlessly done make appear buyer got better deal, many pieces all. problem pieces certain size order enough flavor eating experience. is, use pieces match old piece size; same.",
          "best unsalt chipbest unsalted chips around tried many. best potato flavor. came said would.",
          "highest qualiti good pricealthough several \"shriveled\" ones, taste fine. mostly use make vegan sauces recipes call running food processor look perfect anyways. price, great deal (about half find store)",
          "greatest tastalways purchased star-kist tuna thought would try brand change pace. taste tuna pleasant, much basil spices me.",
          "spice growfirst think chips spicy, spice grow bite. really good!",
          "yumbought box chips father's day gift dad loves them. yummy substantial regular chips.",
          "absot posilut delicichilling fridge seems boost flavor even more; using them, rather corn chips, make nachos tastebuds singing like janet jackson. (but without associated wardrobe risks. (-:) highly recommended.",
          "delicifirst thinking, \"cheese flavored chips?\" love them. herbs used delicious. cheese overpowering. yummy crispy!!",
          "ham basegreat ham soup base. used ham beans seasoned greenbeans. great flavor",
          "hardgreat cutting back fat, resemble regular chips nothing like them. extremely dry hard.",
          "penguin poopertoy typical quality expected. got taken major ride shipping!",
          "realli want likeproduct must qualify sort deceptive packaging award. box contains bars wrappers smaller normal, least % interior box air. unwrap bar find % length \"normal\" snack bar. rest empty air inside wrapper. include wrappers bars would occupy less % space inside box.<br /><br />as far taste goes so-so. dry side hint berry flavor. celiacs, used inferior products, disappointed taste one.<br /><br />i also cookies suffer sort deceptive packaging. picture side box shows us would consider normal sized cookie. open box find mostly contains plastic tray holding cookies size quarter.<br /><br />i really want like company. seem trying hard coming new products keeping allergens production process. continued try products. bought granola many times, always wanting like it, worst food ever had. \"clusters\" hard partially popped kernels bottom bag popcorn fitting gerbils people.<br /><br />all would recommend enjoy life foods.",
          "love tartletnice alternative apple pie. love fact slicing dicing. easy prepare. also loved fact make fresh whenever needed.",
          "great tast chiplooking pictures someone put showing crushed box, write review. bought chips numerous times amazon warehouse deals time came packaged perfectly. sale end summer received cases/boxes $. chips fresh hard eat one bag. hid garage remembered went there; way eat all. far pictures, person contacted amazon, made ok. amazon great handling complaints person given perfect customer service called amazon. thanks great tasting product, good price quick shipping. buy again...soon.",
          "organ label mislead\"yeast extract\" listed ingredient. sounds harmless, right? specifically, chips contain autolyzed yeast extract, is, chemical level, monosodium glutamate. derived different source, toxic properties. kettle still advertises products containing \"no message\" acknowledge chips safe people message sensitivities.",
          "tasti make sure gumspicy chips lot great flavor warned, left stanky breath afterwards! first time ate night even brushing flossing could taste mouth next morning. careful eat them, especially hanging people later day.",
          "look elsewher whole grainvile, miserable pancake. put front toddler one morning actually cried. know flat anemic appearance salty bitter taste. whole wheat flour organic mix. buttermilk, baking soda (sls) sea salt not. going back nature's path buttermilk pancake mix. one went straight garbage.",
          "glad find oz sizebuy mostly vending, size bag important. kettle's oz bag good size although seems bit less full. salt & vinegar flavor satisfying, .",
          "favorit flavorglad able find site. love flavor crunchy. box packed inside another box still bags end crumbs. bags survived tact.",
          "banana head banana runtitem fine, banana heads like banana runts alot smaller. also received item, packaging great. banana heads come open shipping packing envelope.",
          "prefer flavortook one said good russet potato chip found flavoring subtle taste, bit oily overcooked. may use eating great tasting <a chips spicy thai, bags (pack >. perhaps chips bags received overcooked overpowered seasoning. obvious chips flavored, read bag would never thought cheddar flavor. love new york cheddar. flavoring included parmesan, cheddar, blue cheese, garlic spices. good chip even overcooked, plan buy again.",
          "slight tast jalapenoone best chips buy...and tried kettle varieties, many others. slight taste jalapeno, delicious. perfect sandwich alone.<br />if like addicted, chip you. ...see addicts anonymous...",
          "best casebuy these! order case. cannot even remember first time tasted anchovy stuffed olive tried several brands online brand favorite.",
          "love chipbought chips little sandwich shop sonoma vacation. sure expect package, first bite know think...and flavors hit!<br />yum! bit spicy, nothing overpowering. lots crunchy, sweet, spicy goodness. sold everywhere though, still trying find somewhere close live.",
          "tasti bewarlong story short - tasty. purchased number flavors brand, favorite.<br /><br />but... noted another reviewer - contain message form \"yeast extract\".<br /><br />it become popular means hiding message lately calling different things, person finds use caution consume find whole process hiding plain site bothersome.<br /><br />also, bag large, half air. may well help shipping, paying premium price 'organic' seems deceptive.",
          "disappointspicy version ketchup bad, expensive. regular version sweet dessert. horrible. annie's organic much better flavor costs lot less. even heinz organic better deal. gave three stars instead two glass, plastic.",
          "great mixarrowhead mills buttermilk pancake mix favorite mix. tastes great, cooks light fluffy super easy make. although made using water, think better made milk. love pure organic maple syrup.",
          "tastetest wine makerbought strawberry extract hoping spruce strawberry wine ended less flavor would original expected. (a common problem fruit wines.)<br /><br />this is, indeed, good strawberry flavor! add sugary concoction (be baking good, dessert drink) either give strawberry flavor (or add existing flavor), presto, everyone licking lips (and maybe fingers).<br /><br />for interested, found right addition liquid volume oz extract per gallon liquid.",
          "favorit kettl chipfavorite, everybody. way, sort taste like oriental flavor ramen, kick. me, one go wrong combination jalapeno ginger? bit rich, everydayforamonth snacking. case purchase, recommend trying single bag buying entire case. size seems longer available, shame; eat entire bag.",
          "pervers tastwatered perversion acai berry.<br /><br />this juice comes strong harsh. tart aftertaste texture.<br /><br />that mostly apple juice, grape juice, pomegranate juice, blackberry juice, blueberry juice, tart cherry juice. oh yeah acai berry juice mixed concoction.<br /><br />you shall find distinctive smooth chocolaty acai flavor here. milky mouth pleasing texture neither. exotic unique acai experience try zola samzon brands.<br /><br />i saying lakewood juice product nutritious. point. saying juice blend taste anything like real acai juice.",
          "faboo danger prone chip bingordered week organic foods delivery service. oh word! spicy (but burning spicy, like tongue-warming), sweetish, salty...a really strongly-flavored delicious chip. like barbecue flavor, nice sweet-mexi-fied barecue.<br /><br />i also like organic.<br /><br />i ate oz bag less minutes. bad. dang, sinfully delicious.<br /><br />granted, whole lot (it skimpy price, often case comes organic), calories pop. geesh.<br /><br />yes, cals per oz serving. par course fried chips.<br /><br />verdict: fattening, crispy, flavorful, delicious. best stick small servings side low-fat sandwich soup.<br /><br />enjoy.<br /><br />mir",
          "freshfresh scent taste. easy eat one tin hours. use favors everyone loved them.",
          "rip pricesingles sell $ - $ store box singles. sure amazon selling $ box singles. hazelnut coffee creamer favorite, truly good buy.",
          "favorit chiplike potatoe chips. hot, sweet, overwhelming taste garlic. also bit salty.",
          "goodcandy described. middle almost hard silky smooth filling described.<br />looks tastes like way past expiration date.<br />would never reccommend this. paid good chunk cash nothing",
          "pretzelsooooo deliscious bad ate fast gained pds! fault",
          "badfamiliar safcol brand tuna addict, gave shot. tuna tastes like good quality found tomato basil flavor bit bland. better something plain pack punch hoping for. still great option low calorie, low fat meal.",
          "drainwell, opened grayish sticky mess. mad wasting money, trying make scratch home. would probably end better cheaper. oh well, live learn!",
          "stale productarrived days stale could eat bags!!",
          "great good back day teenused love growing stopped drinking water lemon juice brand years ago. stuff used strong used pour mouth get alive feeling going. feels like product went changes added water something make strong. stronger less use well. product still really good taste quality cheaper brand names almost. thought would go fast hey lemon stuff love unless goes bad. good product wish still hit mouth chug sensation used like.",
          "excel everyday oliv oilgreat stuff dependable, especially million brands \"out there\" choose from. love stuff. really high end desires, go apollo olive oils california. buy whole lot stuff buy again.",
          "good chip cheesgood need cheese wish krinkle cut. much prefer salt & pepper krinkle cut - better texture. around brand much better frito-lay good price amazon get free shipping. similar tim's zack's chips crispy.<br /><br />on side note, hardest bags open hand. use knife scissors everytime.",
          "love weaver fantried (or heard of) till recently weavers favorite. running list types looking favorite found one yet, darned smooth. bite, taste, little pricy still worth it. worse price wise starbucks peets. keep running list see happens. love far.",
          "great taffigreat taffy great price. wide assortment yummy taffy. delivery quick. taffy lover, deal.",
          "shrimp stir frilove bag shrimp pound, stir fry veges little onion chopped. hot tasty.",
          "perfect sampler milka chocolmilka naps mix gift box fun, unique gift tired whitman's usual american brands. nothing wrong whitman's, sometimes change look flavor nice.<br /><br />as sampler, provides milka options. four flavors here: noisette, hazelnuts, alpine milk strawberry. delicious, though like strawberry/chocolate (in candy) personally, give away eager friends. naps box perfect coffee tables standalone dish work.<br /><br />milka famous purple cow, owned kraft, eastern european chocolate originally produced switzerland available germany, austria, hungary nearby countries.<br /><br />distribution still weak united states, found increasingly larger cities. usually, then, found international grocery stores, though pops eclectic grocers time time. around years. whether kraft change recipe yet seen. now, texture taste better hershey's nestle. smoother, creamier basic chocolate.<br /><br />i fully recommend milka naps mix gift box.<br /><br />anthony trendl<br />editor, hungarianbookstore.com",
          "valentin gift winnerbought boyfriend really likes honey roasted pecans salads couple restaurants. plus, likes nuts, pecans, almonds peanuts. loved these. actually ordered cans instead gift tin, could take one work, place, stay fresh longer. although think freshness issue, last long......lol",
          "never paid muchbought grocery outlet seattle tacoma $ case tweleve paying $ yes dollar. like taste great bad either low calorie buy whacked price.",
          "spicitried conventional kettle crinkle chip verson salt peper, cannot compare those! easily spicy chips ever eat, oompletely enjoyable. finish bag indside coated spices. great stuff.",
          "best chipkettle lightly slated chips favorite market. care \"fancy\" flavors salted right. thick, super crunchy full flavor, best!",
          "heysay fantastic chocolate chip cookie! thing could improved offered bushel box would run fast. hope go way dinosaur!",
          "tast awesom look beautibest investment ever made ginger. unbelievable! fibrous like real ginger, spicy kick it, perfect sugar - calms down. worth $ it! getting soon - use topper ginger cupcakes cookies :)",
          "delici extra crunchipotato chips excellent.there trans fats.<br /><br />they taste absolutely delicious.whenever mood potatoe chips, kettles brand buy.<br /><br />a great product anyone enjoy highly recommend them!<br /><br />enjoy!",
          "heinzridiculous. best gourmet ketchup ever tasted. pricey, wow..love stuff. would make great gift someone hard buy loves ketchup. yummy!",
          "good egg allergiglad found mix make pancakes without eggs son allergy.<br />they taste fine family- like many ways!",
          "firm qualiti chipgot order ok. bit light cheddar flavoring herb taste eludes me, there.",
          "idea good diet foodpresently diet fresh easy neighborhood grocery looking possible diet foods. wanted things tasty, non-fat low calories. came home dozen items. discovered tillen farms pickled crispy asparagus. well, always liked asparagus anyway enjoyed several brands pickled asparagus. tillen farms brand really, really good! best recall. excellent flavor big clove garlic bottom jar looking forward eating. cannot believe good asparagus tastes right front says \"only calories per jar!\" idea good diet food!<br /><br />gary peterson",
          "delicibiscuits delicious, sweet, enough crunch. love them. quick delivery. would order again. satisfied.",
          "excel tastone best tasting crisps ever eaten! buy special occassions know eat whole bag.",
          "expensall,<br /><br />the actual product good - would rate item own. however, one dollar local grocery - @ twenty eight+ dollars per twelve pack - running almost two half dollars each.<br /><br />as said, expensive. [*sigh ...*] really hoping get something approaching local cost.<br /><br />take care,<br />lee",
          "sad outcomfive minutes in, one tentacle bitten off, ball inside cracked half. durable enough dog toy. disappointed :(. dog :(.",
          "kettl chipfound product, kettle chips unsalted fabulous. found accident amazon hunting local stores. crisp tasty without salt.",
          "kettl chip sea saltnothing good bad chips. like plain potato chips, would like these. thicker brands, fresh box, crunchy salty (for me). one bag lot, generally cannot finish myself. part reason oily (some chips almost look transparent, know mean). taste oil bit overwhelming me. used spicy chips may like since spice, except salt, name says. think buy again. \"best by\" date bags march ordered end october.",
          "marley mellow mood lite half tea half lemonadgreat product. taste great, works exactly described. superb natural sleep aid. amazing!",
          "tast bottl mix vanilla true flavorgot tasted strait bottle, tasted like smoky flavored milk - yuck! depressed stuck bottles this. sat shelf forgot it. last weekend tasted zevia cream soda pleased flavor, tasted weird smokey like lorann oil gotten. tried doctor soda little sf vanilla torani syrup tablespoon heavy cream - tasted amazing!!! odd smokiness gone wonderful rich mouthfeel.<br /><br />so wanted see would help lorann oil too. put cup whipping cream bowl added teaspoon vanilla tasted it, tasted fine. added one drop oil, strong, stirred - tasted much better! whipped put fruit treat.<br /><br />now always whip drop vanilla desserts whip cream. happy accident find use it. added vanilla really adds new depth flavor tastes different bottle cream.<br /><br />it potent use drop increase tasting, add much ruin recipe use light touch.",
          "kettl chipkettle chips taste \"good , crispy & crunchy \" ! enjoy also! moreover,it thinly cut & sliced!",
          "omaha appl tartletabsolutely scrumptuous! husband love them, however, another customer put it, expensive ship! cost shipping tartlets are!",
          "best chip everreceived chips gift basket absolutely loved them. searched high low, unable find saw here. immediately ordered case. chips light, crispy, flavorful, good you. love dip, chili, plain. try them, hooked!",
          "best everyday cookispent several summers italy. biscotti often given breakfast food mid-day snack. simple delicious sold us back then. good brought back two bags recent trip italy. great see may found amazon!<br /><br />note: great open bag, smell contents, pour glass milk, dip macines milk. great routine treat kids!",
          "excel flavor mostli larg piecpretty pleased mushrooms. mostly large pieces, re-hydrated well good flavor. would estimate % contents broken medium small pieces, likely due shaking transit. problem since sometimes break large pieces smaller ones recipes. small amount (perhaps ounce so) small/minced-size/dust-like pieces. still useful add gravies like. nothing gets wasted!<br /><br />the label says product china italy. nothing specified proportion country.<br /><br />i quite fond dried mushrooms. may lack texture get using fresh ones, convenience always hand big plus. additionally, find broth used re-hydrate adds wonderful flavor soups stews. save time add flavor, sometimes add dried mushrooms directly soup stew without re-hydrating them. really helps meld flavors together. also fond adding cooking water boiling pasta. pasta picks wonderful earthy flavor cooks mushroom-infused water.<br /><br />this first time used roland brand (got price dip amazon warehouse), would certainly buy again. highly recommend.",
          "miss saltsomeone brought party last month put buffet full think anyone would like saltless potato chips. last week friends pantry put out. oh gosh good! wrong think would bland; full real potato flavor, wonderfully crisp fresh tasting. amazon buy case, want dips. truly delicious!",
          "quit goodenjoy chips. got instead usual jalapeno ones company bit flavor change. think better slightly, like jalapenos great amount flavor without overpowering. small bag size prevents overeating larger bag.",
          "thinwould quality product thin. nearly consistency soup. makes much mess matter careful try be.",
          "delici healthiused buy local supermarket, longer carried there. finding amazon purchased box found fresh delicious remembered. chips also healthy. definately buy again.",
          "want gaain twenti pound control whatsoev buychips good, bad, create moral dilemmas constantly. wou strong will, large bbq go it, me, habit bringing new bag work every three days, put lot time treadmill make it. beware",
          "wowordering sea salt chips year.i love them,but daughter picked local grocery store new favorite.will ordering them.",
          "jelloawesome!!! yummy flavor got healthy alternative desserts normally eat glad many things jello desserts still taste good good you. definitentally purchasing product flavor wonderful.",
          "deliciperfect!! favorite season variety spices exactly suit tastes without salt!",
          "flavor godflavor lasted longer does, would probably die starvation lack wanting take mouth.",
          "garbonzo bean flourgreat stuff. made really tasty banana bread. good quality lowest price town.",
          "yummilove potato chip r soooo good! =) sweet spicy overwhelming enough work palate, salty enough balance sweetness ordering soon. love it!",
          "excel qualiti product fast deliveriproduct high quality, rich full flavor.<br /><br />delivery unexpectedly fast.<br /><br />the negative would like see addressed product packed heavy paper sack. may commonplace, significant improvement would inner liner heavy weight, food grade, plastic bag sealed time open bag. could either zip-lock bag twist tie closure... make difference... need practical way preserve freshness product keep bugs it.<br /><br />this health spoilage issue... oatmeal lot product needs either repackaged consumer small food grade bags containers (very expensive hard find}. single senior likes buy staple goods bulk save money provide food security. long term storage big issue people like me.<br /><br />thom (missouri)",
          "mehguess telling tickle palate. huge tabasco fan, love unconventional snacks. taste even remotely like wonderful sauce made from; find much kick all. practically bland, fact. even strong aversion wasting food, throw give away case. favor find bag locally taking chance .",
          "best wide avail bbq chipthesedon't like hot food might bit much you. great balance sweetness spice. course, kettle chips good chips - use good oil make even plain ones tasty. also like ridged chips - usually crunchy hard chew - want work hard deliciousness. like spicy barbecue definitely like chips.",
          "delici additlove chips, even like black beans. tasty. yum!! plus, good you!",
          "orgasmkettle chips best potato chip god ever invented. give lord thanks every day delivering unto incredulously delicious blend ginger spice, veritable cornucopia flavor. actually changed diet strict regiment spicy thai & sea salt vinegar flavors, alternating days. already lost lbs, mention myriad health benefits experiencing. get life back - kettle chips.",
          "favorit chip kettlright amount spice make hot also sweet! hard find new jersey. one bag around!!",
          "item awesomfirst all, love packaging making heatproof would problem ordered winter freakishly cold. also want thank veryasia free sample mi goreng...it delicious!!! love mi goreng.",
          "excel gfplease ignore one-star comments, check bag main ingredient fact whole grain brown rice second rice flower. anything gluten free add another \"binder\" corn flour comes in. someone celiac disease cannot sunchips, contain wheat (a key binder chip, cookie cereal) excellent product. spouse buy lot gluten free absolutely delicious!",
          "best ever latic tartordered two two raspberry latice tarts directly fantasicakes website dinner party hosting. arrived fresh intact. good size. froze half later use. pastry lover best ever tasted. pastry soft, jam really good taste great. gone time. guests really impressed.",
          "oldest soft drink still bestdetroit, raised vernor's ginger ale. moved california, though, found difficult find vernor's. would pop there, disappear. guess without advertising, never found home.<br /><br />i prefer plastic bottles, ideal size oz ( ml) one liter. problem two liter size takes one person (me) long drink it, letting go flat.<br /><br />in case, vernor's unique aged oak three years, think. imparts great, unique flavor.<br /><br />i wish would catch again, become available widely.<br /><br />(recently see sale redwood city california's bay area, south san francisco. next day, gone!",
          "delici scrumptiousir kensington's great job updating classic ketchup wonderful product. refreshed taste ketchup great update, leaves disappointed given heinz restaurant.<br /><br />for heinz die hard fans there, ketchup you. wish always knew ketchup could without chemical aftertaste found heinz, sure give ketchup try.<br /><br />do forget spiced variety. purchasing pack classic spiced variety first sir kensington experience definitely way go.",
          "spici goodlike spicy, you. like spicy, enjoyed these. also crunchy, kettle-cooked chips be.",
          "big tub saltthings huge! love way crystals crunch, flavor overpowering subtle. lemony flavor favorite--it good almost everything. plenty flavored salt long time buy this.",
          "great chip low sodiumsodium per serving, chips crisp. sometimes dip low salt ketchup adds bit flavor.",
          "absolut deliciindividually wrapped pieces delicious (although wish more). mildly sweet sugar-free aftertaste, even traditional \"marzipan-aholic\" enjoy these.",
          "favorit kettl flavor great valureading reviews, got nervous opened bag recent order expecting worst! worries here. bags great shape expiration dates june. chips, least first bag, taste like supposed good world! way, fifteen bags thirty dollars ton less expensive going price around local grocery store so, yay team!",
          "made michigan sinclike \"vernor's\", drink time. old fashioned drink michigan, since , labeling known lovely green gold colors gnome character. look actually called ginger soda instead ale different typical ginger ale taste. vernors strong vanilla presence, smoother moist, sweeter ginger ale. closer cream soda ginger ale, good. ginger ale dry, higher carbonation, spicier bite it. vernors grams sugar per can, versus grams per schweppes ginger ale. neither caffeine.<br /><br />the recipe changed bit years mostly choice sweeteners. use high fructose corn syrup cost-cutting mega soda companies use, rather cane sugar used use. side corn syrup syrup drowns flavors. many microbrews using cane sugar again, although costs more, get better taste. vernor's still aged oak barrels years, doubt accounting smoothness. great soda anytime. soda also known, like ginger drinks, use home remedy upset stomach.<br />vernor's regional soda, many areas country cannot find in. sells here. may selling glass bottles soon, least page says day writing comment. search amazon asin: see mean. vernors quite history, two books amazon soda. first vernor's ginger ale (images america: michigan) : . second book \"the vernor's story: gnomes now\" : book company's marketing green gold packaging famous gnome, vernor's fans.",
          "wowexpecting like cookies much do. like chocolate chip cookies well enough, really prefer soft cookie crisp ones. say famous amos cookies pertty much turned around. cookies rich depth flavor comes quality ingredients. chips real chocolate melt redilly mouth creating moist experience chewing. truly great cookies.",
          "tastibest tasting tuna pack make opinion - make great go snack, really satisfying tomato",
          "kind blandflavorful enough taste. seems seasoning falls chips sinks bottom bag. bad, really liked idea healthier potato chip. would buy again.",
          "excellike them:<br />) thick chips.<br />) trans fat natural, according info bag.<br />) flavor, subjective thing.<br />) bags, keep eating much one time. set limit bag.<br /><br />cons:<br />as another reviewer said, lot oil chips. place paper napkin plate pour chips them. wait mins eating napkin soak oil off. seems gross much oil chip napkin soak off, true! least way, get rid oil.",
          "kettl chip make great mous foodwaiting ridiculous amount time case bags arrive, upon opening box noticed every bag chewed open mouse. know still box, outside porch. son gets home, going pictures taken email amazon. outside amazon box intact, either kettle chips people amazon warehouse, know which. never buy amazon. cannot tell disgusted purchase. makes sick think it!<br /><br />i included pictures top page. poor little mousie must high cholesterol now.<br /><br />update: forgot mention offered email pictures mouse damage amazon told want them.",
          "tast great love hot spici bad pricefan hot & spicy maruchan ramen long time. enjoy spice, love ramen, love product. bad way expensive amazon. $ per walmart.",
          "even like kettl chip lovefriend mine brought work claim , \"these change life!\" life fairly unchanged, cannot get enough chips . . . . even like kettle chips. part, find kettle chips thick greasy, flavor chips amazing! type hot refreshing. enjoy spicy hot things . . . try anyway, may convert you.",
          "yummifound crisps local walmart & figured would give try. yummy may never go back regular chips, big chip fan anyway. problem eat entire bag one sitting. give crisps big thumbs up!",
          "madhous munchidefintely tasty madhouse munchies family's favorite. kettle's dark/burnt,more broken bits, taste greasy-oily light crunch. oh well.",
          "famou reasonarrived time packaged green plastic wrap. cookies fresh boxes found local grocery store.<br /><br />i complaints also cookies. ate all!",
          "pleas sell mexicolived us yrs now, miss twizzlers!! go back visit someone visits me, always stock up. say yum!<br />sell mexico faithful buyer, often able buy right now.",
          "delicimakes tasty, super easy meal, fast. high calories.<br /><br />the instructions say saute veggies first recommend cooking chicken first. chicken takes longer cook raw chicken ontop veggies makes slimy mess. made snow peas carrots only. like little corn. added red pepper flakes heat served ontop rice. came wonderful! dinner table less .",
          "tast great cheaper locallove flavor ramen! eat flavors anymore taste bland comparison. convenience delivered home (i prime, get two days pay shipping), price amazon bad all, still cheaper run pick case grocery store.",
          "best stuff everused moroccan recipes, syrup brilliant mixed beverage swirled topping sliced oranges soaked orange water. wonderful, wonderful stuff!",
          "yumlow calorie satisfying. soups nice fill want much want hungry hours.",
          "twizzler strawberriproduct received advertised.<br /><br /><a , strawberry, bags (pack >",
          "kettl organ chipotl potato chipbest potato chips ever best price ever paid. service respectable shipping free.",
          "much flavor fart smell like sweet onionchips taste awesome. unlike flavored chips, actually make sure plenty flavory salty goodness gets individual chip. pass gas near pretty ladies consumption. totally know you.",
          "great tast sea salt iodinperfect size sea salt table picnic basket. love it. shakes well, clumping flows freely.",
          "wonder gravigravy mix excellent ... except, use water called for, use milk instead, makes % better!!",
          "great buygreat could stop eating them.<br />lowest priced anywhere buy even next time.<br />cannot say enough these, shipped faster paid shipped also.<br />thank much.",
          "delici els expectseriously, now. tasty, tasty, tasty. fresh, too!<br /><br />the problem pack lend wanting make multiple trips cupboard helpings! or, grabbing multiple bags begin with. pace yourself! keep saying.<br /><br />you cannot go wrong fan salt vinegar classic flavor.<br /><br /> bags double size kid's bags; size ones small gas station racks. really good size adult.<br /><br />it somewhat healthier snack typical bag fried chips, calories per bag. again, bad, something think about.<br /><br />bottom-line: delicious!",
          "perfect mix eggallergpancakes taste great without recipe adjustments son's egg allergy. also great camping time would like able make pancakes without fresh eggs available.",
          "crispi crunchi robustlong enjoyed brand chip, began think seriously limiting salt intake particularly pleased find these.<br /><br /> granted bought somewhat reluctantly confirmed salt-aholic, generously sprinkling everything eggs green beans. pleasantly surprised chips satisfying robust taste crispy boot.<br /><br /> nice able munch without worrying much salt.",
          "gaaak extrem potato chipfirst time tried these, thought, \"wow!\" quickly found darn spicy tart... hard enjoy potato-chippiness mouth seige.",
          "arrowhead mill whole grain buttermilk pancak easihey! great waffles pancakes! add % mix, though, recipies bag thin. lot fun arrowhead mills buttermilk pancake & waffle mix! serve \"as is\" fried eggs real maple syrup, <a mountain farm vermont pure maple syrup, grade dark amber, pint jug</a>, warm strawberry jam whipped cream, cool whip, add brown sugar mix change flavor make crispy waffle, add cup sugar cup malted milk powder <a malted milk, original, jars (pack >, awesome gourmet pancakes waffles like serve hilton! handy extra bags hand, too, cannot beat subscribe save price. mix % organic, too!",
          "specialti parti itemsmall chocolate cups specialty party item never able find past wanted them. amazon provides link. used commonly called \"jello shots,\" provide solid edible alternative small paper cups.",
          "franch bestalways pleasure find french's products web. markets area made bargain carry nothing mccormacks bland tasteless seasonings.<br /><br />this flavorful cooking bag mix ever find.",
          "star price tastgot sea salt vinegar chips kettle. used salt vinegar chips white bag allowed say that. anyways, first impression wow chips get price. got x bags wow many price. tell high quality chips packaging, also. well used cheaper chips expecting mellow things are. ones used really sour taste mind tons flavor. chips sour all, taste like lot less strong aftertaste. want try salt vinegar chips suggest try first. so, price many get, chips definately worth it. thick crunchy like expensive chips get high quality restaurants. recommend these, stars.",
          "wast vinegar cucumb shamefirst bought pickled asparagus amish market love first bite. hence, saw discount rack local safeway cleaned out. even better ones amish market. fantastic, jars bonus clove garlic bottom. going order six pack household one. go waste!",
          "best kettl chipprofessional potato chip muncher, see thee best market. rich taste flavor!! almost impossible finish entire bag.the true meaning decadence!",
          "great productlemon juice must kitchen year-round. powerful flavor need much zest dish. add spritz water nearly every day.<br /><br />i buy product again.",
          "edibldisco dust edible made baking. purchase product purposes!",
          "fresh tastinuts arrived fresh tasty. broken dirty looking like cashews sometimes can.",
          "potato chip yummitry good, feel like indulging delicious, gourmet potato chips, new york chedder potato chips first flavor like go for, see natural food store. chips tangy crunchy satisfy potato chip fix like brand.",
          "kettl chipgot kettle chips sea salt & vinegar ( bags) impressed. tasted kind flat. eating bag, looked bag noticed hole bag size sesame seed. started looking unopened bags many type hole. bags multiple holes. one bag hole size dime bottom bag like rodent got it. box shipped holes packed way. much quality control ever let ship fired. needless say never eating anymore kettle products expect full refund kettle amazon.<br />m. martin",
          "delicicinnamon cake loaf wonderful natural flavor. moist tender great little sweet treat want something terribly bad diet. delicious!",
          "smokinnice amount heat smoke. tasty chip goes great brew.",
          "ingredi take second readsimple product simply good. extra ingredients hard pronounce scouring internet finding are. bit thinner consistency usual syrup, use caution first time go squeeze out. great people like mint, much stronger mint flavor chocolate. use coffee bit half half, tastes great. sometimes simple better.",
          "happi facedelicious. cannot get australian ginger live. compares favorably australian ginger purchased cities. enjoy without traveling.",
          "super superfood super easiwow! product impressive. bought blueberry pleased packaging, price shipping. powder dissolves instantly. even water! mixing tsp small glass water drinking tastes great!, add smoothies juiced fruit juices next. product economical compared purchasing fresh blueberries, especially waste due mold overripe berries thrown away. think could add baked unbaked foods well. excited add superfoods diet fast easy way. definitely trying flavors soon.",
          "goodlooking strong s/v flavor definitely you. mild comparison many others. live tx tell tried s/v chips get ahold of. best best heb (storebrand) world market. bob's zapp's bad. chip standpoint typically great kettle crunch, looking s/v flavor \"just touch.\"",
          "barbequ perfectbarbeque flavor chips really perfect! spicy enough, hint sweetness, little smokey. chips extra crunchy thick enough substantial, hard. makes wonderful snack great accompaniment burgers, hot dogs brats, chicken casual entree.",
          "laxitem, werther's sugar free hard candy, consumed, give - friends, loose bowels. purchased bags discovered bowel problem: cannot return them. need laxative? ten unopened bags - free.",
          "honey dijon leav bad aftertast ny cheddar pretti goodhoney dijon flavor: okay flavor, girlfriend thought left bad aftertaste. aftertaste sort like old cheese (presumably folks like this... fancy cheese eater), lingers least hour. would give flavor rating stars /><br />we also tried ny cheddar flavor ( stars), liked better, leave long-lingering bad aftertaste.<br /><br />i would give consistency chips stars. chips crunchy, also greasy enough keep napkin near wash hands eating kettle chips.",
          "great supportarrived slightly thawed. parents would accept it. however, company helpful issued full refund.",
          "furnitur polish tastterrible! artificial lemon taste, like pledge lemon furniture polish. yourself. use plain flake salt fresh grated lemon zest.",
          "fabulchips best tasted. filled chemicals. taste tangy vinegar well potato. greasy. perfectly crispy. like salt vinegar tanginess, even bother try. definitely zip. love them. children friends love them. even year old loves them!",
          "fresh lightlysp crunchi kettl chip good valu good productbuying bags one time (at hefty markup) nearby stores, decided try bulk ordering snack foods amazon. pleased price products.<br /><br />these jalapeno kettle chips overly spicy; slow-building spice starts subtly grows eat whole bag, embarrassed say quite times.<br /><br />the chips arrived well-packed fresh. nearly year time expired, pretty impressive chips.<br /><br />most importantly, price-per-bag much, much better local store could do, although live near expensive city, may play role price difference.<br /><br />i would hesitate order another box run out.",
          "realli good stufftomatoes star classic flavor. clean really fresh! perfect avocado chicken sandwich.<br /><br />the spicy flavor complex best ketchup ever tried. good used foods would make seem crazy!",
          "simpli bestfirst introduced red rice & beans chips hometown bethlehem, pa. moved north carolina unable find chips local area. trips back home, would buy bunch bags bring back nc. discovered could order on-line life great. chips time favorite everyone serve loves same. got try ... hooked !!! ..... nancy walsh",
          "om nom nom nomchips delicious. like salt & pepper flavored chips solid crunch, cannot go wrong these--they tastiest bag come across. sea salt easier palette regular salt, fact trouble cutting mid-bag even though normally enjoy low sodium diet. would feel like less lush bags.",
          "best buy bbq chiptried many varieties bbq chips hands best market! r salty greasy. great crispy crunch. plenty good bbq flavor hint sweetness brands fall short of. every bag (after bag) mouth wateringly delicious !!",
          "best bloodi mari mixerthink tried every bloody mary mixer market one time other. much sugar worst, corn syrup. mixer natural ingredients tasty. little kick. enjoy.",
          "vanilla tootsi rolltry vanilla tootsie rolls! regular chocolate ones good, best ever!!",
          "alway freshhusband twizzlers addict. bought many times amazon government employees living overseas cannot get country assigned to. always fresh tasty, packed well arrive timely manner.",
          "outstand productsaw made, interesting process.<br />decided give try, really enjoy flavor adds.<br />looking forward trying several dishes.<br />thanks brewed it!",
          "goodsalt vinegar chips definitely favorite type potato chip. ones made kettle tasty enjoyed thoroughly. wish healthy option great taste.",
          "delici go help weight lossyahoo deems ok give give suck review stuff like taste, feel must assert -as matters taste- \"de gustibus non disputandem est\".<br /><br />i really love gum. ok really taste like strawberry, still delicious. wonderfully smooth consistency halfway through, gets tired, stuff, squeaky.<br /><br />you forgive squeaks perhaps find, did, stuff wonderful dietetic aid. obsessively chewing product filled gut odorless room air helped lose # months.<br /><br />also, lose flavor bedpost overnight.",
          "kettl potato chip fulli load bake potatonever met kettle brand chip like. chips great loaded potato flavor, flavorful. like sweet onion chips better, also top list great-tasting potato chips. kettle chips great chips f/the money!",
          "caramel fantasteaten (and re-eaten) way though das caramel range, remains all-time favorite, one usually gets rave reviews share (which easy thing - try one see mean). caramel fan ages, werthers butterscotch pinch, nothing come closer mother used make these. chewy, buttery, little crunches salt spectacular (ok mother put salt hers, improvement).",
          "amaz servicpackage arrived double boxed, wrapped, inside box(that holds goods) perfect single dent rough mark, outstanding packaging.<br /><br />the product?<br /><br />these best chips planet, salt 'n vinegar flavor beyond among best chips ever had. might, actually sure probably like first bite 'if' never before. try again.<br /><br />not mention, particular flavor held numerous surveys comparisons manufactures.",
          "yum falafeltrouble finding locally - delivery fast, hunting flour aisle local grocery stores.",
          "unparallel tastpurchased pack big ass soda got . immediately like \"oh man, going suck!\". regardless quantity error though, sure kicked red.<br /><br />everyone town absolutely loves it. highly recommend along soda, voltages.<br /><br />-malcom",
          "scottiholiday liquor cups exactly looking for. chocolate is<br />delicious holds well liquors",
          "tasteless low caloriseriously product tasteless come. much better tasting products calories better special k bar cookie snack pack. season combine something else share flavor.",
          "yum want snack someth realli goodfound new taste treat. big one potato chips, sure come late discover these. think really good. processing & ingredients list actually pretty good-no trans fats, etc. so, want indulgence, a+ ! thicker & tasty mass produced potato chips come know. much flavorful. never honey-dijon potato chip before. incredibly good & flavorful combination sweet, tangy, salty. also overly hot spicy. excellent!<br /><br />if want snack, something really good. got worth calories-and are!",
          "tast neutral quantiti deceittaste white cheddar flat breads like regular cracker - bad, except bought wanted cheese taste.<br /><br />what huge disappointment? misleading packaging box is. photo box (i bought store) makes look like full long flatbreads (expanding length width box). wrong! plastic tray holds crackers \" smaller around - leaving small flatbreads.<br /><br />what also bad company states use biodegradable eco-friendly packaging. fail! used huge box ridiculously small amount crackers. ecofriendly all.<br /><br />would buy again? - feel ripped off. crackers (like sesame tarragon) give little<br />more bang buck flavor.",
          "good deal close expir datelove sea salt & vinegar flavor kettle. saw one daily deal $, put order without doubt. however, received case, found whole case expiring december got end august. tried one package definitely taste unfreshness chips. disappointed found item returnable! convenient! although love chips, order concern close expiration date...",
          "huge hit offickeep case office always least tin two desk visitors help to. folks stop grab mints others pop like candy meet. find someone keeps coming back give tin! one co-worker asked save tins could use pillboxes safety pin boxes. like said, real hit. since would able keep hands candy dish, good alternative around nice around garlic lunch! gave item stars tasty sugar version mints sugar free item good full sugar counterpart?) fact tin wrapped plastic seems like waste irritating remove (although totally get wrap - still make easy deal with).",
          "bestlike creme brulee. loved easy. sprinkle sugar came broil. look amazing taste great. guess thought really went way really took minutes. ordering more!",
          "order cold weathertaste great, berries melted. may order winter. order cold weather enjoy flavor.",
          "dad realli likeordered dad fathers day ate whole box within two days.<br />he said tasted really good, want order myself, haha.",
          "cute item expirwhole idea spongebob ginger bread pineapple really great, sticker says \"use by\" jn date it. - good! think would fun make cute decoration, son going want eat it. least seller could check expiration date! right front box! happy all!!!",
          "greatest oil sinc slice breadused oil several years best eating bread cooking, love regular, use everything. sorry tired it, great dipping bread cooking omelet, green beans.",
          "handifast delivery good product. lemon juice concentrate find stores really handy around add sauces, dressings, etc. pain squeeze fresh juice everytime need it, nevermind lemons hand begin with.",
          "tast fresh<span class=\"tiny\"> length:: mins<br /><br /></span>the expiration date months day bought product. tuna, tomato combination delicious. one many items re-order amazon every month so.<br />edit: added short video, see combination looks like.<br /><br />i wearing one headlamps, good job focusing tuna.<br />i film over, look like many people view product anyway.",
          "good sugarless gum stronger gum better bubbl blow sugarless gumbesides mentioned title, remarks price hard beat, taste akin flintstone strawberry vitamin (for tasted them), taste lasts long. would say, scale lasting extraordinary amount time would . also, taste really diminishes subdued sweet short amount time.",
          "asparagu blisslove asparagus. recently, never pickled asparagus. oh goodness, friend introduced exact brand, could believe great stuff tasted. loved much bought six pack. got jars left. going need more!!",
          "tast greattaste really good. purchasing different brand similar taste texture. agree reviewer regarding ordering summer. insulating packaging ice packs melt warm weather like chocolate food items. order cold weather buy enough last!!!",
          "kettl potato chip sweet onionwow! eaten quite potato chips day. kettle chips best non-baked chips eaten. decided try sweet onion chips, since never them. favorite!! like onions, must buy! definitely reorder these, mentioned above, best ever eaten! flavor great.",
          "realemon juic amazongood frozen lemon juice, good. slightly odd flavor, perhaps preservative. sure wish could order frozen juice!",
          "awreceived items timely manner. upon receipt, removed pack consume. pop-tart stale left awful taste mouth.",
          "king season salthonestly best seasoning salt land. tightens dish; spicy, perfectly seasoned. perfect, hence, purchase oz. mamma jamma.",
          "like spice getbest spicy chips ever pleasure eating. start sweet, eat spice builds up. fantastic. want commit whole case, pick bag local whole foods first, stock realize amazing are. got case right here, loving every bite. side note, brand (kettle brand) many delicious varieties- personal favorite. also highly recommend: backyard bbq, honey dijon, sweet onion, buffalo bleu, salt pepper death valley chipotle. lays got nothin kettle brand!!!",
          "fantasteaten brands unsalted potato chips always terrible. expect much bought these. tasted amazed. never enjoyed unsalted potato chips these. natural potato flavor thick, crunchy chips. bad thing bag pain open. use scissors save aggravation.",
          "bake soda bombrecently started using bob's red mill baking soda. pleased performance sure contaminated aluminum. thanks, bob!",
          "addictok. want get addicted, try plocky's red beans rice tortilla chips! husband started one seemingly anodyne bag store. now, received second case. last long. beware.",
          "great flavor jellowent grocery stores looking flavor jello green tomato jam recipe finally found here. jello wonderful! evidently carried stores summer harvest time fall, could find anywhere town. jello tastes like watermelon jam recipe made takes like watermelon jam! great made regular jello too. yummy!",
          "poor tastlove eating good watching tv looking movies! sweet. like transfer zip lock baggie stay fresh take time eating them.",
          "stuff sooooo goodread pomegranate molasses try it! made anything yet, eaten little bit time wow decadent! dark, syrupy, sour, little sweet. dab forget dessert. really unique flavor pleasing metallic undertone. yum!! going try making fesenjan next :-)",
          "french roastn baglove product cannot find locally. sometimes little way stores it.but also love chicken,pork chop bags.every store go look lastplace found meat market.",
          "simpl goodnever heard safcol brand tired trying typical pouches; starkist chicken sea. really surprised thought bit better brands less seasoning.",
          "poptart work artfound new spring pop-tarts bought whim. kids amazed delighted fun, colorful, amazingly detailed artwork pop-tarts. fantastic school snacks, lunch boxes, school treats. tie ribbon bright \"thinking spring\" gift. challenge finding stores. way go kellogg's - fantastic product!",
          "coffeem creamerseller nice. price good. reason stop ording bacause went sugar free, time it. watch fat take, would get product them.",
          "pretti tasti decent spiceson bought package jalapeno potato chips couple weeks ago, become addicted.<br /><br />first, kettle chips appear somewhat better terms fats etc. many chips, one peruses dietary information.<br /><br />second, individual chips nice crisp good crunch value munch away them.<br /><br />third, jalapeno kick (not overly hot, course). many products labelled spicy not, kick, bland be. here, get slow noticeable burn jalapeno. preference? bit heat. understand consumers would prefer somewhat less would. still, decent spicyness.<br /><br />all all, pretty happy product, weeks since first bought it. purchase package week foray local grocery store. . . .",
          "stale bewar buy specialbought local supermarket enjoyed although salty leave tongue roof mouth burning. keeps eating many! occasionally get really stale items amazon.com one. unedible. beware quality food items website special close due dates case, expired stale unedible same.",
          "potato chipsalt-free product purchased this, chips quite greasy.",
          "perfectexactly looking bake chouquettes (puffs small sugar pearls top). works great, yum!!",
          "tast goodpurchased mango flavor, take like mango all. hint sweetness, unfortunately hint aftertaste almost like licorice. consuming various sports nutrition products decades, familiar come like taste products tried. mango flavor one least appealing tasted. terrible, bad enough notice bad taste every sip take.",
          "great product weak packagcannot say anything bad sugar raw. like better \"natural\" sugars. better consistency - know matter - better color. unfortunately, one \"natural\" paper bags got torn bit box. look like box damaged cannot tell happened, sort pain clean half bag spilled inside box kitchen opened it. sure solution would order again, happens again, would switch one brands ship unnatural plastic bag.",
          "lightli salt heavili delicibest potato chips money buy. enough salt taste it, much masks lingering potatoey awesomeness wolfed bag beauties. chip perfect thickness - teeth get excited every time put one mouth! everything chips perfect, like made god delivered gabriel himself. know amazon carries these, even leave house buy them! may never eat anything else again!",
          "broken creamercreamers come packs . taken one work opened one home far, found single broken leaking creamer yet. usually way much cream sugar coffee, easy cut sweetness allow creamers per cup. think definitely best option buying creamers amazon since listings lot complaints creamers breaking shipping!",
          "pioneer gravi greatused pioneer gravy number years. easy make tastes great, also. goes well mashed potatoes, meats, etc. try it!",
          "love kettl chipfavorite home. like ones sea salt. also like barbeque flavored. ruffly chips ridges. thickly cut plain slice potatoes. thick crunchy great texture mouth. also great taste. sea salt ones, favorite, enough salt salt much feel like drink gallon water chips.<br /><br />enjoy.",
          "bit stale sideexpiration date . smashed and. stale. edible, real enjoyable price paid, one best pretzel's when<br />i purchased publix. stopped carrying them, must find another addiction.",
          "great good expens brandsaltwater taffy great flavors soft chewy. candy individually wrapped well. none candies stuck together, happen expensive version, fralinger's. would highly recommend candy! served beach-themed party everyone loved it!",
          "omg best chocol jelli bellifresh,a great way get little chocolate life without million calories. taste like chocolate pudding.",
          "one best flavorkettle chips flavors hit miss. flavors terrible. simple delicious. probably one best flavors.<br /><br />pros: thick, crunchy potato chips light salt compromise taste, eco-friendly business giving us lip service<br /><br />cons: occasional burnt chip bag pain open. tab pull time end tearing entire side bag. use scissors instead.",
          "dum dumwork college financial aid keep bowl desk students. used buy grocery store learned could get less online ($ bag) thought good deal - found great deal!",
          "expir stocksent week past \"fresh date\" stock. chips noticeably fresh taste. order again.<br /><br />edit: add dangers expired stock one bags rat hole it, black marks inside hole obviously rat. unfortunately put chip mouth saw hole.<br /><br />very bad form amazon.",
          "simpli bestkeep trying brands.... cheaper brands. stupid me! ginger soooo worth money. tender, moist never let down.",
          "much flavorthings darn cheesy. like lot flavor, love these. otherwise, overdose cheddary goodness.",
          "better packagbesides obvious convenience portability individual creamers, liked item specifically packaging. could believe many reviews read coffee creamer cups; many amazon creamer options (both coffeemate international delight) multiple negative reviews due shipment arriving broken cups thanks sloppy packaging.<br /><br />that issue here. shipment arrived four dispensing boxes (as shown photo); boxes tightly packed thick cardboard box could take good beating damaging inner boxes. thus, none cups broken, waste sloppy drippy mess. plus four boxes means could put one kitchen, one bathroom (we moved mini keurig upgraded kitchen keurig - best idea husband ever had), one work, reserve whichever runs first.<br /><br />if looking mini creamers deterred like negative packaging reviews options, best bet. bonus, auto delivery price reasonable.",
          "caution kettl chip addictreally amazing chips. put one cheeses blue cheese...it subtle even blue cheese haters (like me)will enjoy these.",
          "pok choppork chops omaha steaks tasty time exceptionally dry. pork usually dry meat extreme. possibly shipping frozen keeping frozen partly problem.",
          "best white gravinothing easier. nothing better. even beats grandmother's white gravy recipe. already peppered you. nothing mix water. takes minute two. highly recommend gravy mix. disappoint.",
          "sourlove sour food one cannot bear. strong sour taste... even open bag, sour smell strong. like it.",
          "cranberribought local specialty-item store adore chutney. higher price sold like gourmet item wrongly thought would better affordable brands sold supermarket. wrong. mostly gel (jelly) fruits sprinkled throughout tastes like cheap thickened jelly put sandwiches...i much better talking supermarket brands. disappointed. money buy quality.",
          "burnlove spicy ramen, whatever reasons thing burns stomach badly burning sensation go away like hours! sure healthy .... buy walmart $, way cheaper amazon.",
          "highli addicit chipadmit chips good highly addictive. cannot stop eating them!!! crunchy seasoned right amount flavor salt. perfect!!! believe me, chips salty, cannot finish small bag. one... keep eating!",
          "excel lemon juicone best lemon juice tried. recurring customer due high quality product. season fresh lemos out, one supplement need citrus kitchen refreshments.<br /><br />i continue buying it.",
          "great tastlooking missing it. taste exactly taste one made india loved remember days back india. definitely recommend it.",
          "delicipotato chips delicious! potato chips approximately two years difficult find organic chips. amazon lowered price these, finally chance order them. definitely ordering again! family love them. pure void artificial flavorings. true flavor present, satisifies need something salty, sweet, spicy, crunchy. a++++",
          "knowknow fresh supposed taste like did. checked expiration date current still tasted kind stale !!!",
          "best chipnew favorite! always fan salt vinegar honey dijons replaced new number one! strong taste loving honey mustard flavor must hope like these.<br /><br />price wise...i see much deal here. purchased $ grocery shipping. would given product stars (easily) price. taste fabulous -- disappointed.",
          "amaz tast best chip evercannot believe wonderful chip is! slightly spicy taste gives chip extra punch flavor. family offically addicted.",
          "tast goodtaste like stale. order again. coffee year annerversery reception hall it. stuff tasted nothing, like douwe egberts hall. possibly stale coffee.",
          "salt kettl chipgood wish also baked. found baked salt potato chips anywhere. wish someone would post.",
          "goodgood sunflower seeds good price prefer unsalted variety, hard find.<br /><br />one thing keep mind though, expiration \"best by\" date. example, order april batch receive june \"use by\" date, may stretch consume bags seeds start going rancid you. since roasted oil unsalted, seeds may spoil readily salted variety, even refrigerated upon receipt.<br /><br />amazon seem specify \"use by\" dates food products sell, gamble purchaser. assuming amazon ship stuff \"expired\", probably ship oldest stock first, \"use by\" date item may would select choice.",
          "best sour cream onion chiprecently tried flavor/brand surprised delicious chips are. best thing lot \"brown\" chips bsg (my favorite), bought amazon shared family friends. little disappointed not, far, many brown chips bags, flavor still good. like better yogurt green onion flavor seem salty, onion flavor better. eaten kettle chips before, recommend try bag buying bulk. thicker crunchier lays fresh bag.",
          "best everoh gosh, good! like people, eating ketchup whole life never really thought anything it. hubby brought jar home. tomato flavor amazing. never buy store ketchup every again.",
          "ok miss vicki bettermiss vickies better unfortunately less widely available. sure tough right word noticeable difference two brands miss vickie's better imho.",
          "interest info bake sodaconcerned aluminum free product, product you. bad baking soda form contain aluminum. is, however concern baking powder can, depending manufacturer, contain aluminum. save hard earned money buy bob's red mill regular baking soda. arm & hammer great general cleaning purposes, natural beauty health care, brand perfect.<br /><br />just thought would like know. almost fell little digging around. :)<br /><br />p.s- let amazon.com-land feel one \"haters really know talking about\", love bob's red mill co. shall continue purchasing excellent products.",
          "crunch wowsalty like regular supermarket chips, snack overwhelm guilt! got chips, kettle chips lightly salted chips searching for.<br /><br />there cholesterol, trans fats, artificial anything -- manufacturing process, actually seem kind home-made quality.<br /><br />this excellent product!",
          "price chip lack rice tastpaid $ ounce pkg lunch today. bought brown rice \"good\" carb. soon tasted one tasted like corn chip checked ingredients. name deceptive - \"masa corn flour\" listed ingredients overwhelms taste. buy - get sunchips less money similar taste.",
          "mcclure bloodi mari mixtook one two get used pickle taste. aim hooked keep bottle hand",
          "thing ever addict toothes chipnever addicted anything life...until tasted chips. tried brands sea salt vinegar flavor same. got stick blue bag chips!",
          "drip oilpurchased low salt, indeed low salt. however, many, many chips bag literally dripping oil. never encountered problem potato chip brands. unappetizing, wants oil? never buy again, would recommend others.",
          "indulg biteokay, eat potato chips, anyone.<br />but spicy, would find hard eat<br />very many. makes indulgence that<br />rescues people overindulgence.",
          "acquir tastok,i read reviews ranged splendid awful. took plunge like salty, tangy flavors. no, never took leap ordered case super price. arrived quickly great shape sell date feb . umm, middle chips, ok something cannot live without. love crunch, color, trans fat. little vinegary taste, lot coming kid grew eating pickled hard-boiled eggs pickled pigs feet.<br /><br />i tried deli sandwich cold mug beer might improve experience :)",
          "aw tastpurchased read natural cure hives..um, not. nothing hives tastes awful. luckily, co-worker mine loves stuff (reminds grandmother) gave him. yucky, yucky stuff.",
          "right size tastfound much tastier plain tuna pouches there. excellent quality, need 'dress up'.<br /><br />i put micro % power minute shazam!<br /><br />i believe little heating brings flavor.",
          "differ flavorlove chips. flavor plain. sweet spicy time. drawback tad bit much salt. but, still great flavor!",
          "kettl brand potato chip new york cheddarkettle branch potato chips new york cheddar: good like kettle fried potato chips waaaay salty, burnt side, taste rancid, either cheese flavoring oil fried already old. want like brand chips try new flavors every then. but, tried sorts brands kettle cooked chips, hit spot me.",
          "price surpris\"nantucket blend coffee one favorites. suprised single box. every time ordered pack. fault reading closer. order price ( count)",
          "excel chipaunt gave bag immediately addicted. actual pieces beans chips overly salty like chips. love zip, agreed awesome without salsa, trans fat!",
          "great kidlooking less messy version licorice children, sure try these! soft, easy chew, get hands sticky gross car, summer, beach, etc. love flavos sometimes mix chocolate nice snack! great item, great price too, highly recommend!",
          "lovecoffee great organic ingredients! pesticides worry about, plus tastes good, healing effects ganoderma.",
          "lightli salt yet tastibags difficult open aid tool, scissors, even try without scissors.<br /><br />they crispy taste like chips advertised salted. definitely healthy, feel grease fingers eating them, see grease bottom bag, too.<br /><br />they high-quality chips, deserve put table.",
          "lovekettle chis best ever! used favorite flavor tried salt pepper kind sure personal preference.<br /><br />crunchy, real potato chips!",
          "delicilove chips, buy pack month. bags right size snacking prevent eating way much larger bags. jalapeno spice subtle enough overpowering still gives great amount flavor.",
          "fresh fruit dark chocolgot girlfriend birthday. fruit actually tasted fresh yummy! love dark chocolate, loved dark chocolate almonds. next time give organic version product... someone close share :)",
          "reek like chemicwish would read review purchasing two gallons oil health issues. reeks like chemical rubber smell. smell coming black rubber gasket lid. called report situation company, sabrina told would pay send sample tested lab. unbelievable. good customer service would indicate would pay product returned give full refund, including shipping. product faulty. period. never order anything company recommend anyone based horrible customer service lack responsibility ownership.",
          "low saltchips tasty expected \"low salt\" item. seem salty \"regular\" potato chip, also seem excessively greasy. comparison, cape cod reduced fat chips less salty least much potato flavor far less greasy.",
          "twizzlerbought husband currently overseas. loves these, apparently staff likes also.<br />there generous amounts twizzlers bag, well worth price. <a , strawberry, bags (pack >",
          "best matcha qualiti pricepreviously tried matcha products generally satisfied quality price. decided give pure matcha green rooibos try price seemed competitive. quality pure matcha's products surpasses others tried- stays fresh, consistent texture tastes great. quality price better others purchased quantity. highly recommend pure matcha continue purchase.",
          "lot twizzler expectdaughter loves twizzlers shipment six pounds really hit spot. exactly would expect...six packages strawberry twizzlers.",
          "gone hilloriginally produced england best chips ever tasted unfortunately since bought us conglomerate taste plain nasty. hard rather crispy, much thinner used lacking flavour , real shame.",
          "bag damag hole stainchips great...for first bags. however, first bag two, noticed remaining bags damaged. holes bag black, sticky stains outside. reviewers bought around time claiming found rodent holes bags chips.<br /><br />the chips came sealed kettle box, hard say screwed up. someone somewhere screwed up. chips health hazard holes bag. now? like game roulette.",
          "porcini mushroom excel productusing porcini mushrooms cooking twenty plus years. roland extra fancy porcinis purchased best ever used, including mushrooms bought italy transported back usa.",
          "great strong flavoragree company motto \"a natural obsession\". tried small bag local store immediately bought bulk online save percent. flavor strong, best paired food mild flavor, like steamed vegetables plain whole grain bread. otherwise compete clash food.",
          "good chipknow say others covered. like potato chips like these. get sale limit intake...if can...",
          "look differ flavororder olives lot. un-like olives there. subtle flavors brine go great cheeses. one favorite appetizer treats guests.",
          "smilesmiles... thank lord, found another healthy snack food unsalted, tastes great. almost gave finding potato chip like this. thing would ask kettle change texture. slightly hard/crunchy, problem all. would prefer softer. kettle make happen, please keep everything else same. thank you.",
          "lot popwell worth money. calculations different bags dollar amount excellent value. approx pops box. far half box found without wrappers. pretty good considering. need dum-dums go product. enjoy.",
          "awesom chipbest chips there.. nothing beat taste. like honey mustard definitely like this.. eat stop..addicting stuff",
          "burn skin lipadmit oversalted chip addictive, really think one gone far. skin literally peeled lips inside mouth eating these. surprised still market.",
          "delicibought chocolate liquor cups party! big hit. high quality good buy.",
          "cheaper ingredi lower qualitiextremely disappionted opened shipment enjoy life go bars (very berry, carmel apple, cocoa loco). boxes plain, generic design..you know, kind brands change want make products look cheaper. compared ingredients new shipment older boxes still home. guess what?! cheaper ingredients! next, taste-tested, let year old help. would eat new ones...and cannot blame him. oily bland. thought enjoy life brand actually cared using quality ingredients make good-tasting product. wrong. summary, way expensive made low-quality, unpalatable ingredients.",
          "better jalapeno kettl chipnasty, greasy rich blood, plus lacked major flavor, spicy jalapeno flavor all. dissapointed chips, always hearing great things chips telling you, yuck yuck yuck. give pain chips day. maybe better kettle chip brand staying clear chips. wish could give zero stars could.",
          "weigh oz fluid ouncgood quality nectar. tasty.<br /><br />however, expecting fluid ounces, ounces weight.<br /><br />i find ounces weight makes fluid ounces.",
          "crunchi spicilove jalapeno chips kettle must try.<br />nice cruncy kick jalapeno.<br />delicious.<br />addicting.<br />recommended.",
          "love love lovepopchips good. following weight watchers lost pounds goal. popchips salty crunchy indulgence. taste good,",
          "delicipeppermint stick delicious fun eat. dad got one christmas remembered similar one little girl. love it!",
          "great valudespite coming extremely large box, found great value. bags preserved reasonable expiration date months away. would definitely recommend.",
          "tastoffer great price great taste, thanks amazon selling product.<br /><br />staral",
          "thing need knowyes, good. however, absolutely inundated flavoring stuff, initially satisfying becomes \"too much\". certainly good waistline general nutritional issues.<br /><br />and package cannot opened without sharp implement. could pull apart top used doing. normally carry knife scissors rodent teeth. well, hungry able rip bag using car key. even then, bag *wow* thick tough.<br /><br />on package says \"krinkle cut\" chips. turns means corrugated kind, wanted. eat ripple/ridged style chips take skin roof mouth. information important.<br /><br />these good brands problems.",
          "sodaold chemist spectrophotometer pleased chemical say advertized",
          "thank review scottthought great buy, noted scott d., molasses content par. loved higher molasses content \"sugar raw\". unfortunately purchased recently higher molasses content twelve ounce bags. guess watch next crop.",
          "love kettl chip flavorreally looking forward trying chips since love cheese super disappointed! big fan kettle chips tasted somewhat stale almost plain! supposed cheddar taste cannot taste that...it annoying. recommend flavor..salt vinegar buffalo bleu favorite.",
          "great valu conveni ramengot sale roughly cents per cup, half price local grocery stores, plus rarely stock spicy flavors. things great snack office time constantly crunched sometimes cannot escape real meal. one favorite flavors instant lunch back buy every time goes sale.",
          "toast sesam oilorder arrived advertised. chances use it, awesome. flavor exactly hoped for! may take finish entire gallon, definnantly order again!",
          "delicieveryone family except one really likes taste this. addicting. includes year old.",
          "good tangiagree review, chips sore mouth tender gums. chips hard taste delightful enjoy salt/vinegar combo. unfortunately, every bag received case cooked! dark golden brown chips bag. definitely need improve that!",
          "tartcrust tarts perfect. husband loves these, crazy them. sour/tart taste. eat crust hubby takes filling. kids think great, maybe me.",
          "price cannot correcthey, description says grams - roughly ounces $ per can. way - approximate price gram can.",
          "best waferthink favorite cookies ever. really light creamy. bad longer find anywhere less two-hundred count! think need many.",
          "amaz last bitealways fan ramen quick easy meal, finding amazon decent price delivered door case amazing situation anyone find in.",
          "chip addict<a tortilla chips, red beans 'n rice, ounce bag (pack > first tasted chips visiting relatives ky. available live, ordered amazon. wow! friends family addicted them. spicy flavor grabs first bite. bag open, gone!",
          "lovelove these.........very tasty!!!!!!!!!!! infact, think addicted them.<br />buying packs bags - reasonable going target getting bag. savings $ bag. use subscribe save several product. love subscribe save!!!!!!!!!!!",
          "chocol liquor cupdelicious chocolate cups, aluminum holder. could find local store, happy find on-line.<br />most people unaware them, impressed serve little cordial liquor chocolate cup. sipping the<br />liquor, eat cup. could nicer? excellent product.",
          "forget molecular gastronomi stuff rock coffe creamerknow product title says molecular gastronomy, let scare off. looking now, food science, something earth. use make coffee creamer.<br /><br />i coffee blonde sweet - flavored creamers full bad kinds fat, honestly, hate use manufactured \"food\" items. really think good body. hand, hate using cold milk cream, like hot coffee.<br /><br />i stumbled across amazon one day got idea making creamer. also bought low-fat (non-instant) milk powder regular milk powder. non-instant lowfat milk little sweeter tastes fresher regular instant low-fat milk, dissolve good cold water - problem hot coffee. play ratios - would heavy cream, made coffee rich. also, think powder expensive use own. like mixing together.<br /><br />for flavoring, bough cocoa bean powder, vanilla bean powder, caster (superfine) sugar. mix small batches along spices like cinnamon nutmeg make flavored creamers. wanted, could use fake sweetner powder instead. make small amounts store jelly canning jars. also use little food chopper/food processor blend everything, sugar heavier sinks bottom. let settle bit opening top though.<br /><br />this stuff tastes way better storebought creamers fun experiment come flavors. going try using essential oils next see get good chocolate/orange mix.<br /><br />all ingredients mentioned online. take time experiment. maybe use low-fat milk. add flavorings. you. also, would make great housewarming/host(ess) gifts.<br /><br />i sure molecular people able tell it, sure experiment cooking - main reason bought make creamer worked great.",
          "keep dentest chairused daily basis keep gums healty teeth clean free plack.",
          "delicifirst drink mother brought back visit home brittany france thought delicious! wish bit cheaper that, love product!",
          "messag ham baseused ham base. loaded message. realize ordered return food item",
          "strawberri twizzler yummistrawberry twizzlers guilty pleasure - yummy. six pounds around son i.",
          "best chip anywherkettle chips thicker crunchier (though greasier times) chips, honey dijon flavor great. overwhelming salty taste cheaper chips have, size great adult size snack.",
          null
         ],
         "marker": {
          "color": "#CFD8DC",
          "opacity": 0.5,
          "size": 5
         },
         "mode": "markers+text",
         "name": "other",
         "showlegend": false,
         "type": "scattergl",
         "x": {
          "bdata": "uZTDQC2TFkGyhtlABxrMQBh4mkDjJKpAGkrhQPmklECY3axAfqr8QDm1p0DHiqpADl7TQDkC6UDPA9lAq5SwQLFpzkBWRMFAc3DgQAYaoUAD9ZxAdt+QQK19f0CJQJZAW53MQJkw80D8+BZBsPGUQPQfp0BW0apAgE+xQI+YzUC6C8pAVqqzQLa5zkABLL1AZvQWQTFN7UD03M9APc8CQdkwr0A/0LNAq+73QLFDuUD90qtAYF+sQOIH6UBILY5APB2rQBqfA0HXSgFB9/KoQAPy3EDnauBAKJ/6QEfv70Dv1axAhIjGQMj61kDJHLFAr6qNQAtU9EDChKJAsWC9QKIYF0EXa9JAJDfnQGYtykDMd6xAvRTCQC88k0AWwp5AyWuiQBg/DkGOOv9ADmWuQJtPf0AP+ZhAi8jhQISk5UAfxp1AXDLOQGz/7UDpE6dA6aCaQHcyn0DgCeJA1aHZQM+lA0GXqrNAImm6QJKPpUDW+MRAafm8QP6UxEB5BMRAhp/GQFkqnUDrV69AYx+AQELnBkGny7xAv6bWQOg+oUCPba5A7+7LQK4BpkDm9ghBXAmoQE7N50BwgapA7nagQKKrj0BnMtZAmPTDQIHUpkAq4cBAsaeNQHmDy0CQ/8pAJHfQQMhJBEF8R+xAFv3LQPTCp0BB6K5A6CShQCoODkHUDbJAzJ/KQEjtFkHoB7RAt1GsQIYfF0EGeM5Amh26QOXuoEBxdORAGIOiQJKpA0GRsZJAv8KnQDvHo0A8KpBAv5HKQGywq0BeeQFBBwP1QOlK60D0sqpAela+QOTYskCB57hAYnONQEPFA0GiPK5AN0WnQExEvEAftrlAIMGhQNohtkByYfpAiS2dQOPXy0CDTwJBkvuvQI8q90CuS6RAasvbQKi6lUA8zLFAwVgJQX7fzUBnxrhAhtK0QPQzkECZxaNA3uHPQMAx5ECEm55ANI3DQHWFmkCpxQBB8pwDQfBV6ECPGe9AlVHlQOH4nUD/7qRAcYEDQekJrUA+LNxAOoTKQG3GpkDfPg5BIb27QNiy40AVn7BAjLYFQZgVuUDH3+hAn7QXQU/FAUGp/dBArzerQPRwpkCrGodAQ+jnQIlSD0EGD7tAZ0L7QJlRDUGWbKRAmlmqQDVH3UBTeNJA8v2uQEjypkDERaVA8lX0QMT8wkBSUflAzYmmQO8wrUBChw1BqfOoQJ3w4kAOrdtArY+7QP5oA0FgzOFAdlfCQOE6q0AAqLlAZeeyQF6Wq0CiN6BAcaCmQOdQqUBLcr1AQDDVQJ3PDkGrZ6FA+DeXQI1e9UCd5rVAk1eeQJTVyUBL8sZAW/OpQNeM6EBCzbxAcCqlQNUW80DBWrlAGK6jQLDlB0F9f7xArBa3QPWLzUD6zcBA6reZQMuzoED/GsxABXbTQJ6MzEAhB6ZAIKaOQD7I4kDqWuVAx9ecQDStv0A0WKFA5MSoQIydtEDRZ7BAg2DMQKkkzEDFOs1AoYnEQHQOzkDmqbRAqPrEQBl7pUA0HONAaBSfQGW/DUG30A9B2G6nQGDY1EDxtQBB1WPHQKIBtkDzz39AVabDQOAVi0DTiNBAooa6QImJsUABhM5ApmkBQR2m9EDSXclAB4LdQGdazEBYkrJAIVjHQA==",
          "dtype": "f4"
         },
         "y": {
          "bdata": "BIKsvwU6Xb+FrXTAMXLmPQ5azL+p62LADTIUwOP5OsCOxhY/+0jIv+3fyb497WnAsAcDwFETQsAIcHTAob47wB+hVcDvKE3AMAKkv4k2TcBaPta+BYNAv7+Htztei9S/MWKNwPlmFD4RsVa/msM6wAEHB8DPRqa+ZJOBwD1YZsD6tce/nqlGwHUsjcDr3aTA/9pWv89Uxj1qx1vA5Utkv8AiScCsshTA84jiP12FYcAe2wDAwk8OwHBNQMCOmFDAbEv/v6IOfL8Sq8y/s0xMwOVKFz+TlVo+p4U8wNU6uz9QNLI+5Sepv70oesAzVH3A/3BKv5BiEcAQG1LAfvakwMlvVb8WogfAfCcnwJcqOsAzPjDA4pWdv4y13L6AOYjAALeOwArWKEAQQNk/QI+AwDe28js4iQnATvMUwChCCcCmvpLA9ixgwDbFt784JhvA7RsUwIWxmsCFRhe/EB50wCF7eL/UuEs/GvZdwDfio79Gb4DACRGAwMBeTMAQk4PATppzwHocR7+R/yA/4wYAvJ7sKkAt2KTAZl17wC7zo8DMQZ3AiVI9wOOmFMBmrixA+clCwAJvP8CZx2bAYWRNwLrUV8A5HMy/us+GwNV6N8BccIPAAPU7v/3gF8D9Sj3AVt+8v0T9q7815rW/d1DUPXJLTMByQ2nAq8ejwHUEp7+/VNO/K/5QwE0CWb9QTlzAPFNrwIu8Vb8ayFs/T8QVwN+clMDPzyvAasFuwFJGf7+r6Ys/hkaGPWtsecDrIFbAy0Y2wHpHS8AfW/E+IQQRwBKVhL4FkmXAPIZ9wCv5bz4OoXDApt8Hv4CqhL9z/1PAvNcmwF88pMCwMDfA7XOXwCMAd8A3+xO/NkGzPktX2j3PGbW/qDOXwEJ5Wz5KwYrAQSc5Px9J0L9vyZ2/IfkoQArQWz/4a3LAIXFWwMkATr/qaBzAfXZPvu6YSr8AIB2/widUvzJ9pL4GZ9W/hZiAv6RbQMBtQZc9bFApwG1cFL921orAJmt+v3EQ87+uwHDAnBN/wOl6YcBNlylA4ZQuwGVNIb+VXDDA/nGvvza2EcB4XUDAYt5Ov3Q34T9mg2PAjs0AwFzOZcDX5i48ZFUTPzOjoj8mn1vALZzeP1TQrb8p+InAyKcCwBZtaT3rtik/QMJ1wCWWoL9LGxfA198SwOx4T8CM8+Q/wjGKwE+XP8BlFay/lMSRwNzYO7/y6b+/FiVUwFGUhL/ubR4/WxZBwLRuAcCqkXvAhghLwAfH+7+JxYvAXtIUwKL7jMB1i6TAhnO/v901KEA6RUrAMPFdwHN0Fr+yun3AmZ6HwGhWfcDod8S/bWuPPzo2QMAm0WfA5xiKwDeZ6T/rbTPA8jubvfrcH0AsMlzAgu9/wG9nWsDXLs89rxFYv/v/hMDw59Y9GUgBwAp2xD2uEz/ApiFQwMaqEsCN9re+rvkwwPL8WMCeF4TAwoGsv3Oib8CRG4TAqwdaP3YXtL+eN2nAFXKcv8i2asBuRTLAAc8iP5gZ579o6YM+jun/v3M7JUDMp7A/nd6LwOlmz7+wzdu/h/gzP/X5icAk4YA7riacv198I7+d4MO/oxg2wIWq2787tl0//1/eP3H5KD5daVI/Cdunvwlcvz0pi4DAGT35vw==",
          "dtype": "f4"
         }
        },
        {
         "hoverinfo": "text",
         "hovertext": [
          "test truckerdrive otr...over road truck helps keep alert. sugar high & crash. autoship like. price good. seen bucks store.",
          "disappointexpecting terms company's reputation excellent home delivery products",
          "greatgot kids christmas stocking stuffers. love them. far delivery, product came good condition, timely, terrific. definitely good buy.",
          "wonderlove love love deal - way fun pick many! teas chocolates ciders well many coffees. outfits assemble samplers boring - choosing, much narrower range. sellers nice, also, answer questions via email slightly confusing ordering method (it easy). want great packaging, forget - ship fast, kups tossed loose box. cares?",
          "bestpeanut lover, you. much larger cocktail peanuts. six people christmas gift list ask every year!!",
          "good licorictwizzlers brand licorice much better well known brand.<br />if get $ $ package free s/h good deal.<br />the black cherry good taste; strawberry taste delicate barely",
          "candibought dad surprise birthday present could find else!!",
          "rudolph gingerbread houspleasantly surprised find item delivered day order, speediest delivery date. probably helps location near. everything looks described pictured happy done business seller. gingerbread house carefully packaged harm fragile pieces inside. excited give item gift.",
          "go wrongchocolate, say. great variety everything family loves. family six goes fast here. perfect variety. kit kat, reeses, take five more.",
          "work greatpurchased giveaway baby shower jungle theme! worked perfect small bags candy. purchased #. want small bags, would purchase larger bag.",
          "amazwell big red fan am, bought this. first let tell price amazing, mean else get type deal saudi arabia. everyone village loved it, course wondering next shipment get it.",
          "great chocolcourse, know delicious ghirardelli chocolate is!!!! unfortunately, purchased two gift bags online, found local store half price. lesson learned???!!!",
          "awsom kid neighborhood love usgreat product, nice combination chocolates perfect size! bags plenty, shipped promptly. kids neighborhood liked candies!",
          "great gag giftput husbands stocking christmas hit.",
          "quick arriv great basketpurchased gift mother lightning deal. happy loved basket. enjoyed cookies flavors tea included. shipped quick arrived expected.",
          "twizzlerlove candy. weight watchers cut back still craving it.",
          "greatgreat gift ages! purchased giant canes recipients loved much, kept would eat them.",
          "great productbought daughter's grad party well strawberry. loves things. great product.",
          "nice snackbought office give people something sweet snack on. bite size easier people grab couple pieces rather entire licorice stick. complaint one bags broke open shipping.",
          "one twice came brokenpreschool teacher g gingerbread unit every january. vacation christmas got back gingerbread kit found. odd. needed one preschool class needed less week. looked everywhere could find ont. one overnighted amazon nye came yesterday. pick one rudolph theme. gingerbread came broken. like unable use would need glue gun get work broken. non returnable. called amazon, nice enough order second one since spend ton money year them. one also came broken. order lot amazon things come broken. think one time returned something broken orders. two thing row?! think kit nothing shipped. say come ups overnight comes fed ed. bubble wrapped well. think gingerbread good cracks shipping breaks off. rest kit cute. first kit candies spilled mess box. second kit gingerbread broken candies bags. bad. would try something else, stay away one.",
          "tast wise star itemmouth says, \"how love thee, let count ways...\"<br />if like apple products must item. draw back, shipping cost. heavy.",
          "noth specialokay. would go way buy",
          "fabul amazonprice product certainly raises attention compairing amazon price local stores. get rotel local kroger $. dissapointing!",
          "great sweet canditwizzlers, strawberry childhood favorite candy, made lancaster pennsylvania & candies, inc. one oldest confectionery firms united states, subsidiary hershey company, company established young smylie, also make apple licorice twists, green color blue raspberry licorice twists, like all<br /><br />i keep dry cool place recommended put fridge. according guinness book records, longest licorice twist ever made measured feet ( m) weighted pounds ( kg) made & candies, inc. record-breaking twist became guinness world record july , . product kosher! thank",
          "ship greateven though international delight fans completely dissapointed product. problem shipment, creamer thinner international delight. happy :d",
          "tasti fruitsent basket father birthday. said fruit fresh sweet. happy healthy purchase!",
          "chocol heavenmother father recipient wonderful pieces chocolate heaven. believe deserved receiving these, know deserve receive these!",
          "broken bottl bottomsalsa smelled delicious, think probably - but, unfortunately, person, amazon, packer (there probably several) little \"stuffing\" work with, especially bottoms. therefore, bottoms broken three bottles. reached computer; told returns (because food item). looked customer service tag; found \"none\" new face lift. seem proud new face lift but...they least place contact emergencies! like: buy lot \"stuff\" comes styrofoam boxes. never would ship things<br />especially salsa - cardboard box stripe large bubble wrap it. matter much carrier (fed ex) careful, going break somewhere along line. especially glass container! barbara l. s.",
          "poor item packagmix poorly packaged breaks open easily shipping. nearly full bag order spilled shipping box. bags come unsealed top. tears packages.",
          "much would pay bag chocol pretzelimpulsive like me, $ ok. get wrong, quality babies good complaints. retrospect, price little ridiculous (esp. add shipping).",
          "great productthank product - use time appreciate promptness price excellent. thanks again.",
          "speedi shiphappy quick shipping needed school product daughter came roof broken corner house broken. could send back needed project.",
          "beauti fresh came easrlyv yeyfruit gift really perfect gift! everything fresh, well packed tasty looking! people received assured quite tasty tasting too. tried chocolate covered cherries ad surprised delicious were! thank you! needed something pinch came even earlier expected!so thank again! dharana,san francisco",
          "arriv fastamazed quickly arrived! cute stocking stuffer, ok far user appeal. get pay for.",
          "never arrivcancelled order. cancelled without problem. positive note...",
          "good moneycashews nice big, vast majority whole. number small pieces bottom bag, pretty expected many cashews. made absolutely excellent cashew brittle.<br /><br />my order took week arrive, pretty decent considering shipped across country. came double bagged clear plastic bags, two lb portions. highly convenient since could throw one bags freezer ready work it.<br /><br />great value price.",
          "delight sayconfection around centuries. light, pillowy citrus gelatin nuts - case filberts. cut tiny squares liberally coated powdered sugar. tiny mouthful heaven. chewy, flavorful. highly recommend yummy treat. familiar story c.s. lewis' \"the lion, witch, wardrobe\" - treat seduces edmund selling brother sisters witch.",
          "fresh whole perfectordered fair bit searching online - even ordering smaller bags. admit, bit sceptical ordered since cheap idea good (or bad) cashews would be...<br /><br />the order came pretty fast - like days. cashews fresh whole - like broken pieces. bags sealed clear tape.. first found odd turned good deal; considering second pack stayed fresh till opened them. trick actually keep air-tight box stay fresh longer.<br /><br />the negative think price went $ since bought them.",
          "delici productremember buying candy kid quality dropped years. still superb product disappointed with.",
          "overpr even gold boxreally disappointment. products included fine, real disappointment travel mug. cheap plastic cup nutritional information cookies it! basically cookie package! yeah, really want use travel mug. agree review looks like came dollar store. product description says polka dot tumbler \"definitely keeper.\" what? simply cheap packaging! something quality enjoy. known would purchased set. really looking forward using cute looking mug daily basis. like products inside basket ok, really appeared be.",
          "excel chipbought office one put down. ordering today weeks. shop either, amazon brought door!",
          "great candiwonderful candy, hard find. got huge bag put freezer. came shipped nicely sturdy box heavy plastic. great!",
          "great bargain priceglad amazon carried batteries. hard time finding elsewhere unique size. need garage door opener.<br />great deal price.",
          "awesom dealdeal awesome! arrived halloween indicated enough satisfy trick treaters. love quality product much less expensive local store's candy.",
          "time deliverigood job shipping order quickly....nothing like ace hardware took week ship",
          "product great price linepurchased dozens bags pancake mix (which great product, way). highest price seen. whole foods carries item sale $ (that canadian dollars, too, canada). even cheaper baker's box's website, company selling product amazon. two-pack charging $ less. gives? thought amazon could find competitive prices.",
          "quantitiwould even think buying product unless know price per unit. compare items online store?",
          "disappointunfortunately ordered quite previously, neglected look word: \"supreme\" offer since receiving free shipping delivered. (that husband, guests me)knew immediately different previously enjoyed. but, currently amazon featured \"supreme\" babka awaiting receive these. future, read carefully.",
          "love product disappoint shiplove flour however amazon sent book broke bag made mess. customer sevice took care problem however foolish way ship product.",
          "excelgreat service! items arrived faster expected. efficient! use seller again. highly recommend seller! thank excellent service!",
          "chocol go wronggreat serving chocolate liquor. adds touch class event elevates host supreme. able eat cup afterwards icing cake.",
          "great itemchocolate treat great gift arrived right expected to. gave girlfriend surprise gift absolutely loved it.",
          "great candi famili lovegreat candy family loved it. smaller imagined thought expensive small was. however, germany get easier here. shipping usa makes expenive. great product fun usa family receive.",
          "tast great arriv daytastes great, gives energy without jitters. love product.<br />however, wish came sort resealable jar hard plastic container instead zip-lock pouch zip-lock ripped quit working awhile. product fantastic, crazy packaging.",
          "best way buy kcuptried random sampler packs (and overloaded decafs,extra bolds, teas), great way get exactly brands style want. received order couple days exactly ordered. second order ordering item again.",
          "seriou buckpeople really paying bucks chocolates??? ummmm go grocery store bag..wow",
          "great gummialbanese gummi bears rings good tasty high quality. bears even little faces. local candy store type gummi stuff (bears, rings, snakes, balls, worms, whatever) $. twin packs pound bags screaming deal far concerned. probably pounds deep friggin' things. consumed!",
          "pretti expensbag candy online pretty expensive, cheaper order compete grocery stores, that, good combination favorite candy",
          "great stufffood daughter eat consistly. really enjoys it. packaging great. never broken (having ordered times).",
          "horribl cannot believterrible! cannot believe this, received item every single bag opened !!!! stationed afghanistan going snack team going missions. embarrassed bags opened spilt box, gross! box filled grease stains. know airplane ride way here, box insulated bubble wrap used instead paper. unhappy stale crusty chips bag us soldiers cannot enjoy now.",
          "great dealhalloween but, sent bag daughters class share. chocolate fresh enjoyed many.",
          "ador basketmak nice presentreceived quickly extremely well packaged. since smaller sized basket, would adorable present anyone likes tea, self hand. nicely assembled attention detail.",
          "home deliv twizlercandy delivered fast purchased reasonable price. home bound unable get store perfect me.",
          "horribl buyladdoos turned bad days received it. item inside fridge turned bad.",
          "issuknow everyone else got broken, received came wrapped plastic bubble wrap, single jar broken. son loves price great issues all.",
          "excel exactli expectproduct exactly advertised fresh. unfortunately, keep candy dish office going fast. need reorder keep \"demand\"",
          "fresh greasigood flavor! came securely packed... fresh delicious! love twizzlers!",
          "better price targetwatch prices this. assortment good, get gold box purchase, price was<br />$ less target.",
          null
         ],
         "marker": {
          "opacity": 0.5,
          "size": 5
         },
         "mode": "markers+text",
         "name": "0_broken_came_great",
         "text": [
          "",
          "",
          "",
          "",
          "",
          "",
          "",
          "",
          "",
          "",
          "",
          "",
          "",
          "",
          "",
          "",
          "",
          "",
          "",
          "",
          "",
          "",
          "",
          "",
          "",
          "",
          "",
          "",
          "",
          "",
          "",
          "",
          "",
          "",
          "",
          "",
          "",
          "",
          "",
          "",
          "",
          "",
          "",
          "",
          "",
          "",
          "",
          "",
          "",
          "",
          "",
          "",
          "",
          "",
          "",
          "",
          "",
          "",
          "",
          "",
          "",
          "",
          "",
          "",
          "",
          "",
          "",
          "",
          "0_broken_came_great"
         ],
         "textfont": {
          "size": 12
         },
         "type": "scattergl",
         "x": {
          "bdata": "lc63QIYGtkCMSrVAPLrDQIPSv0ALas9AMKS4QDDLo0A8bMJAGUKvQGWsw0BdLrdAZOSzQAuLvUD58cBAhoS3QFustUAapcRAC7aqQN21mUBxbMNAKw/FQAjKvkCQ88pA0NWfQMNPwECfoLxA6rGUQKIom0A0PbJA8OeyQPU0n0AQQcFAWCq0QHP7tEDMpalAdsK8QDflp0CzQbdAqsnGQHC9rkA4O7BAh3isP289uECv4alA2NbCQGUywUAw/sFAgfaaQNAVr0AOOdJAWADAQGXYtUDTOKtAtX29QFCrs0CshbNAxI+2QJSDl0A2OJlAKAG5QEE0xEAdYLBAP3CYQKublkBUkq9ARBjGQP2zvkBNCLNA",
          "dtype": "f4"
         },
         "y": {
          "bdata": "10pxv0kNT7+zKie/Q/7Qvotbdb7uCos9dBMNviGXPr9N1IC+LM4Ovx/OYr8nSZ++zo7ZvrGhZb5fJee+6XLNvRxtAr8GCwk98SIRv0cHSb+Y+9i+PPBPvwAHkL+NW8G8kaaDv9D9bD2WVXW+nwBjv4yCib8MzBK/7WV4v33hg79DnWK9C+FDv+ugaL89KTG/kGwDvKmlTb/72TS+BHiovpTtdb/wivS+F4QcQFInN74cv4a/ZfedvxnWkb/mWiG/2iCMv1Eue7/0jEk/fjYVvnlbvL6glxC/G/a0v91Z2755gNa+249rvmDAP7/LIZC/Nf1svgnszr4mrHu/ZCBLv6kZSb/vOXi/uh9HvaKah7+Ajge/",
          "dtype": "f4"
         }
        },
        {
         "hoverinfo": "text",
         "hovertext": [
          "great past way overpr likepurchased friend loves cook find paid times be. $ cans highway robbery know purchase one around $. far item itself, brand panang paste excellent. beef panang dish friend made using paste good ones thai restaurant. would recommend paste price.",
          "fantast chicken noodl soupfantastic chicken noodle soup, best ever eaten, large hearty chunks chicken,and vegetables nice large noodles. soup full bodied, seasoned right. glad amazon carries product. cannot find vermont.",
          "love hot saucnever much hot sauce fan tasted black market hot sauce. listning radio one morning creater/owner giving interview, sounded interesting. d.j.'s sampling sauce raving it, picked bottle local grocery, good ! keep bottle kitchen extra bottle hand gifts taking potlucks,barbecues party's. happy see buy online amazon.",
          "favorit rameneating ramen noodles since little kid, never found better flavor hot & spicy chicken! hot chilihead like me, sure good!",
          "rotel save daili basiuse rotel mild love product much--it saves daily basis. trying cook lower fat, healthier foods hurry, stuff makes much easier. ever notice canned tomatos weird \"tin can\" taste make spagehetti sauce whatever? reason product that. tastes good dump beans, heat eat.<br /><br />or add chili powder chili soup. also make indian dishes this, spicey spaghetti sauce. also prefer canned salsas, works things like quesadillas drain liquid off.<br /><br />none local grocery stores carry all, carry anything like it. pay amazon's inflated price order case. like paying higher price, love love love product.",
          "love stufflocal diner eat regularly. use kinds foods love it. hot, without flavor. like sauces burn taste. burn awesome flavor. surprised find amazon (just stumbled across it). would highly recommend anyone likes good hot sauce.",
          "bestmight little spicy some, stuff rocks. use milder version , best bloody caesar!<br />half mix ,half clamato!",
          "awesom cornmealbest cornmeal. made regular cornbread hot water cornbread meal outstanding. also fried oysters meal, gave great texture flovor.",
          "wast moneycondiments overpriced terrible. classic disgustingly sweet. spiced tastes like bad spicy marinara sauce chain restaurant.",
          "sweet nice kickfan newman's pineapple salsa quite while, looking comparable salsa. one best tasting salsas ever had. daughters love too. like super chunky salsa berry mango nice smooth texture small mango pieces. salsa sweet, sweet enough although mild, nice little kick it. price, steal!",
          "disappointperhaps worst bottle wine ever had. even sure would cook this. thin, body, transparent color characteristic good pinot. taste bitter - complexity expect pinot noir price. looking even low mid price pinot noir. maybe bottle sealed well went vinegar - reviews wine favorable.",
          "best around hot saucfar habanero medium sauces amazing. fiance use nearly daily picked more. goes really well sorts dishes add extra kick.<br /><br />the sauce lasts lot longer appears. thick bottle last us couple weeks heavy use. love use breakfast eggs burritos dinners soups added spice.",
          "moor marinad gluten low sodium messag freegreat product looking message gluten free product, also lower sodium marinade soy sauce there! compromise taste either, use soy sauce substitute found superior taste looks acts like good marinade should. celiac gluten intolerant, even watching salt intake, product way steak marinade too!",
          "non gmosoy sauce japan problems radiation soy bean fields. sure long contamination last. like idea product claims gmo seeds. yea pay decided take chance japan.",
          "one favoritt foodtry might like it. quite addicted, easy prepare, tastes great absorbs flavors cook with. price really good well worth purchase. like type couscous like do, give one try.it eaten hot, room temp cold salad variety greens flavors, takes flavors well mixed. cooked couscous broth oilive oil added flavor rocked taste buds big time. back more.",
          "yummieat mustard everything, hands best mustard ever tried, fact everyone tell try some, falls love well. spicy, tasty, real quality.<br />if like spicy mustard, love this.",
          "hot deliciconsume jar every two weeks this, either adding fajitas using corn chip dip. hot, awhile medium salsa suprema mild me; thought maybe would cut much ate going hot salsa ranchera. hot enough people used say \"that hot!\".<br /><br />flavor: bright forward. similarly hot salsa victoria duller taste me, guess earthy. salsa much brighter mouth. like go hotter sauces tried lose resemblance yummy salsa taste hot (this happens tabasco sauce, example).<br /><br />a drawback la victoria make larger bottle salsa ranchera salsa victoria, sell [...] sam's club. get good deal watch sales.",
          "hotspici mccormick brandhusband kind wimpy comes hot things seasoning bit spicy us. definitely makes sweat bit eating it. still edible us adding good sized dollop sour cream think would buy due heat. prefer milder mccormick's brand fajita mix. also fajitas couple different restaurants spicy mix is.<br /><br />if like super spicy burning hot might want keep mind. medium hot much.<br /><br />i gave three stars pretty easy make versatile could vary veggies put it. take plastic bag, couple tbs vegetable oil, cup water mix seasoning, water oil together add chicken strips bag let marinate minutes. meantime, says stir fry veggies (peppers onion) found easier cook chicken veggies together think affected quality taste. also used extra virgin olive oil rather vegetable oil.<br /><br />i one package use next time going add veggies maybe chopped tomato cut heat bit more.",
          "oyster saucuse frequently like asian dishes least week. love product. fast shipping, usual. would buy again.",
          "dissapointpackage came label torn cooking instructions. know normally cook couscous tried cup water cup couscous-brought boil let sit, covered . mushy tasteless.we thrown rest container.",
          "great around mixappreciate fact buy product online free shipping. great around mix good wonderful texture. thanks amazon.",
          "best hot sauc worldknow cactus tequila unique combination ingredients, flavour hot sauce makes one kind! picked bottle trip brought back home us totally blown away! realized simply could find anywhere city bummed.<br /><br />now, magic internet, case sauce ecstatic it.<br /><br />if love hot sauce..i mean really love hot sauce, want sauce tastelessly burns throat, grab bottle tequila picante gourmet de inclan. realize taste it, never want use sauce.<br /><br />thank personal, incredible service!",
          "awesom stuffworks chicken fish beef pork. fast easy makes taste excellent. plus buying bulk % box stores",
          "bestbest marinade buy far concerned---of course, everyone tastes, all, think anyone like it---i give five stars...",
          "swiss chaletservice great, meant buy swiss chalet chicken sauce marinade :)<br /><br />love sauce - yet try marinade",
          "best roast everbest way cook roast. local grocery went buisness could find product till looked here. please continue keep product available!",
          "best soy sauc eversoy sauce best ever had. thanks amazon, able find again. makes big difference using product. thanks",
          "best sauc aroundbrowsing around amazon looking gifts pleased see favorite sauce here. order shipped friends. habanero favorite, love heat tangy spiciness. also love pineapple. go wrong ordering up.",
          "fantast healthi productgrande item ! delicious fish ultimate flavor, best ever purposes ! sent case mother recently diagnosed diabetes, loves main entree cooking patties !",
          "great saucdelicious soy sauce ever tasted. surely order again. deep flavor.",
          "hot good came backgot free package bottle bloody mary mix bought seller, advertising worked..lol, tried them, shared buddies, loved them... buy more, noticed reviews yet,... well is. hot, \"burn mouth forever hot\" nice temp... perfect us..",
          "great productlove panang curry would rather avoid white rice restaurants serve it. decided try making own, product, get exactly want, hot tasty panang curry adding lots fresh veggies, tofu brown rice. hot, add spices all. great product, purchase again.",
          "great hot saucfavorite hot sauce! liketo use give anything extra flavor. loved going favorite resturants town seeing offering great product.i really enjoy putting breakfast burritos!",
          "yummitasted good. spicy. like spicy stay away this. price paid, good buy.",
          "hothot! love it, tasty little sweet. usually scoff salsas labeled hot, one lives billing.",
          "sauc shiznitsauce good anything, like adding asian food anything egg noodles, good burn strong flavor. hoping see flavors like pineapple experiment soon. buy regret",
          "best hot sauc worldknow cactus tequila unique combination ingredients, flavour hot sauce makes one kind! picked bottle trip brought back home us totally blown away! realized simply could find anywhere city bummed.<br /><br />now, magic internet, case sauce ecstatic it.<br /><br />if love hot sauce..i mean really love hot sauce, want sauce tastelessly burns throat, grab bottle tequila picante gourmet de inclan. realize taste it, never want use sauce.<br /><br />thank personal, incredible service!",
          "fantastson made this. patience precise water temperature when, half hour done, appeared risen all--i feared worse. determined polite, agreed sandwich using bread. amazing. apparently rises baking something.<br /><br />great tangy flavor (perfect meat sandwich imho) heavy all. fortunately lots deli meats, since whole loaf disappeared within hour.<br /><br />we sourdough peasant bread far; sure delicious well.",
          "tast goodgot brother jorge cruise diet decided try one myself. actually tastes pretty good.",
          "tasti hot saucfavorite hot sauce. buy locally love flavor have. hopefully flavors show amazon people enjoy! favorites medium pineapple flavored ones far. thank making flavorful hot sauce!",
          "yeeeee hawwwsouth, live sofla; sometimes get southern influence. gravy mix reviewing, pioneer country gravy de-licious!!! tried others publix brand, mc cormick, ect, best! far! chose mix water milk, + cooked, chopped sausage links, phenomenal [...]. bisquick cheese garlic bisquits (like red lobster's), served small side watercress scrambled eggs. super easy make thick! finger lickin! mmmmmmm. heard put potatoes/veggies chicken, make soups add seasoning. pioneer brand name says homestyle, american classic!",
          "hot habaneroadmit, sucker large quantity, oz, shopping hot sauces ...but seeing size bottle, reminds wing-sauce bottle sizes. plastic bottle. convenient squirt top. overall, hot tasty, made mostly jalape&ntilde;os. seen ingredients list would bought it:<br />jalapenos<br />water<br />vinegar<br />brown sugar<br />lime juice<br />fish sauce<br />cilantro<br />habanero<br />garlic<br />spice blend<br />salt<br />potassium sorbate<br />xanthan gum",
          "favoritsoft smooth texture - little one devours one...it one best meat/veg dinners found!",
          "wowtried find israeli couscous number upsacale grocery stores luck. decided try good ole amazon.com selected product. good..add herbs great side dish, add make \"pasta type\" salad.so good. hooked. great flavor easy prepare!",
          "surpris findreally like pineapple shortcakes sold here. unlike mass-production pineapple shortcakes use artificial flavoring, tasselfield's pineapple shortcakes use real pineapples makes whole world difference. even taste fibers pineapple.<br /><br />i opted traditional pineapple time. interested trying longan mango variety next time.",
          "great spici flavorreally loved spicy flavor had. found liking broth noodles usually opposite. used heat might bother like hot hot foods might enough.",
          "though kikkoman goodenjoy flavor soy really like this.<br /><br />plus hand made good ole usa.",
          "mild enough lolnothing wrong product, sure mix *lots* ingredients make edible me. (in texas called \"baby-mouth\" - spicy-hot foods.)<br /><br />for comparison, comfortable tostitos medium chunky salsa. milder rotel, mixed slightly larger cans diced tomatoes, still way hot use salsa chips. used make sort southwestern cornbread good though.",
          "surpriswatched episode \"how things made\" discovery channell saw bluegrass soy sauce featured. whim, ordered bottle. took several weeks arrive, - surprise. teenage son wanted try it, did. loved immediately. puts many things. wife pleasantly surprised liked much. past, made many trips far east developed real liking soy sauce (where virtually made). treat find handmade american product, competes (and wins), japanese/chinese national staple!",
          "best hot sauc aroundabsolutely love habenaro sauce...use eggs, sandwiches anything good kick! watched progessing popularity theis homegrown product...have nothing highes accolades chef product..get try it!",
          "easi usebest paste tried! easy use. saute meat, add veggies, paste, tin coconut milk. quick tasty! weight watchers tried using light coconut milk instead full fat. works panang paste especially add heaping tablespoon crunchy peanut butter.. yellow, green, red spicy need full fat coconut milk balance out.",
          "fantasttri-color couscous really good...full flavor fun eat. love texture. cook chicken broth add minced garlic chopped herbs (parsley, cilantro,) along red pepper flakes. end cooking, add olive oil makes wonderful side dish...highly recommend",
          "ass kickinused spicy foods south texas spicy. doubt much habanero used all. could take notch two.",
          "great hot sauc peopl runman say, salsa bomb!! different kinds. almost every meal. owner cool dude, dropped free bottles mailbox. stole first bottle friends fridge tasted hooked since. sleep hot sauce!!",
          "good great tast easi singl guysurprised good family friends laughed told bought this. ready mix little salt, pepper, spinach, cheese great easy meal!",
          "hot flavorblack market hot sauce wonderful.... husband loves habenero sauce, flavorful nice kick it. fact love medium sauce- taste yummy bit zing behind it. used everything use meal.<br /><br />i like fact many different levels spicyness. love medium & habenero. kind like \"his & package\". thank hard work guys! keep hard work.",
          "awesom sauchot sauce one favorites. perfect balance tasty spicy. smell flavors immediately open bottle. mix garlic, habanero, spices. put everything tend go one bottle week. highly recommend anyone likes hot sauce.",
          "better anyth supermarketrecently acquired bottle immediately impressed. good flavor without excessive saltiness supermarket brands. used marinades dipping sauces addition straight use cases added little something extra. quite surprise find american made soy sauce tastes good!",
          "great productordered product time kirkland signature salmon. raincoast trading co. salmon tasty, equally good quality salmon kirkland. however, raincoast arrived perfect condition, kirkland cans dented badly. recommend product anyone likes boneless skinless canned salmon.",
          "need salsa chip tast goodbest tasting tortilla chips ever had! become allergic tomatoes, love tortilla chips. much flavor chips longer miss pico de gallo. prefer eat plain. also right amount heat make flovorful, overpoweringly spicy.",
          "good soy sauc special mainli good uniqu giftpretty good regular style soy sauce. super-wonderful-better good quality soy sauce buy asian market. main value unique gift.<br /> japanese soy sauce world, types: regular, mild (usukuchi), raw fish (sashimi) light colored. bluegrass soy sauce regular style. compared kikoman (a good commercial brand widely available) bluegrass starts saltier, flat middle, ends complex & interesting flavor. kikoman less salty initially round, full flavor middle. complex ending flavors. me, initial saltiness bluegrass minus kikoman's full middle flavor plus. prefere kikoman, especially dipping sushi flavor direct. lived japan many years used standard japanese flavor. tried bluegrass blended food background flavor, soy sauce usually used.<br /> bluegrass perfectly good soy sauce. brand different flavor everyone favorite. want unique kentucky gift asian friend, different standard bottle bourbon box chocolate.",
          "great marinadfabulous marinade! love use chicken, either baked oven grill. enough flavor & flair, even used dinner parties, receive rave reviews guests!! definitely worth price! super cheap super easy! love it!",
          "love salsaone best salsas found long time stay away variety pack. two come worth money.",
          "tasti tasti tastilike lot sesame oil use salads regularly. great quality, flavor aroma. cannot beat organic!",
          "hothot all. like low star reviewer, got suckered seeing 'habenero' name oz size. people might like flavor, citrus-y fish sauce mix (according ingredient label), looking hot",
          "get votebottle arrived time sushi dinner game night planned friends. three soy sauces choose from. sampling using bluegrass! everyone enjoyed light smoothness subtle sweetness. splashing right every piece, rather dunking/dipping. friends wanted know found it. going back order right now, ordering extra bottles going make great little gift affordable unique; instead traditional bottle wine common boring.",
          "fridg want meatpretty good canned meat. sausage used dirty rice, hamburger used taco salad, chicken wild rice, pork stuffing. turkey gave neighbor eat it. various meats pretty good quality enough large portions can. large chunks fat gristle cans, experienced plenty brands canned meats. proportion liquids meat fair too, one spoonful meat rest liquid either, though need cooked shrinks quite bit due high fat content meat. none meat seasoned, all. helpful meat used flavoring. mild \"spam\"-like texture taste meats(but way better spam day), almost brine something, heavily seasoned it. plan frying anything fat meats, gave everything slightly rancid, soury taste...no idea why! due higher calories higher price, stock emergency food. buy reason.",
          null
         ],
         "marker": {
          "opacity": 0.5,
          "size": 5
         },
         "mode": "markers+text",
         "name": "1_sauce_hot_bottle",
         "text": [
          "",
          "",
          "",
          "",
          "",
          "",
          "",
          "",
          "",
          "",
          "",
          "",
          "",
          "",
          "",
          "",
          "",
          "",
          "",
          "",
          "",
          "",
          "",
          "",
          "",
          "",
          "",
          "",
          "",
          "",
          "",
          "",
          "",
          "",
          "",
          "",
          "",
          "",
          "",
          "",
          "",
          "",
          "",
          "",
          "",
          "",
          "",
          "",
          "",
          "",
          "",
          "",
          "",
          "",
          "",
          "",
          "",
          "",
          "",
          "",
          "",
          "",
          "",
          "",
          "",
          "",
          "",
          "1_sauce_hot_bottle"
         ],
         "textfont": {
          "size": 12
         },
         "type": "scattergl",
         "x": {
          "bdata": "8Gv6QLyQ7UDwDQdBA+P9QFE2+kARQgVBtHcCQZ1B8EASlwBB+ZIEQblD60BmLAdBpusAQcXBB0GuXf9Aln4BQbKJA0HW3PxAKtEGQXAy/0CtfvdAZnYHQVxB80ANmwBBV74AQVFv/EC+cwhBDXIIQYVk80AzGwlBmFcGQWqW+kD2wAZBD8v+QNDPBEHuYwhBT4kHQWoL9ECz6elAvSEJQQobDUFcDgdB7Wz0QELU/0CfLgpBzPH8QIDeB0GT+gBB1RwIQRAqB0HnaPtAsdL+QJGqBkGh9QVB81H9QLe/BkGfKwhBU0QGQaLM50DcBwJBL2IIQf+rAEE14gJB/iQCQWVLB0ExRQhBfnvtQP4KAkE=",
          "dtype": "f4"
         },
         "y": {
          "bdata": "UuHav4M9wr8AHTvA6UpBwAvGJ8AepDnAtWYvwP1gBcDJjBXAIRpHwGy+L7xUxTjA6fYTwOxXGMC3vijACnQrwCcGR8B2QTzAmmEswFy5KMAS/ei/t18+wG+Y97+kihTA9p4VwAbTx7/f+B/A5p0uwHdP77/7GSDAhPs6wOoh3r8DXDvAIcMawPUgRsAOnyzAhj8+wJwn/r/ppTnA17MzwFhZsb/Ytz3AKbLxv7kwKMBBcC/A+hI5wKHjGMDjF0DAaV0ZwLifNsDkYt2/7gcowJaDPMBl7EDAqUg7wB/rOcBEeDPAXWsYwH9S978PbkrAFKYawHVyE8AiX0rAZckdwMYMPsDsdBvAJ24DwLIfIMA=",
          "dtype": "f4"
         }
        },
        {
         "hoverinfo": "text",
         "hovertext": [
          "ridicul goodcannot say much love kettle brand potato chips. kettle brand large variety unique flavors, quality chips blows potato chips water. ingredients list printed bag thing really bad oil frying chips in. love filled nasty chemicals. ordered cheddar sour cream krinkle cut ones great torn <a brand potato chips fully loaded baked potato, (pack > jalapeno flavor. know jalapeno flavor good way better. include liquid smoke instead actual bacon fine since vegetarian. ordered give guests coming town wedding spring cannot guarantee many left. fiance love these. packaging perfect anyone giving kids take school lunches, handing gift bags, even portion control.",
          "best chip evertitle says all. great flavor, hint spice, excellent crunch. eat kettle chips truck load house, like flavors one far away favorite, never enough bags get us next shipment. wish amazon could get larger bags subscribe save! buy make sure enough everyone otherwise may get enough yourself!!!",
          "tang pack punchdaughter autism craves hot, spice pungent foods. absolute favorite chips! calls sour chips wants lunch time. love crispy kettle way cooked.",
          "sweet salti tangi way snackkettle brand chips probably best potato chips tasted thus far. thick, bite love creative flavors. favorite kettle chip happens honey dijon. think great combination sweet, salty tangy, perfect one snack attacks know exactly want. especially love curled chips extra texture crunch. bags perfect anyone problem controlling portions (like me!).",
          "bad littl hard get usehusband likes lot. bit different get used less greasy salty taste usual chips buy. browner would like see chips pretty sturdy texture. bad, though. takes getting used eating chips better health. calories fat, however.",
          "tastinice case chips quite tasty. definitely enjoy kettle sea salt black pepper. wish bigger bags :)",
          "quit bestpast couple years eaten reviewed several kinds styles chips, best ever big disappointments. eaten lantchips varieties, way best group; kettle chips rightly salted irritated pringles products. kettle good flavor small size overwhelming oiliness takes away flavors. all, good choice--amazon stock lantchips time days choice.",
          "yummi chipdelicious. oz bags bit big school lunches, definitely serving.",
          "bite backwant like kettle contain corn oil soybean oil (which gmo, also kids allergic corn soy), darnit, things bite back! plus side, sharpness may keep mindlessly enjoying many. minus side, mouthful cuts scratches worth it. hard crunchy? wrong simply light crispy? vastly prefer lay's texture, suffer kettle due absense gmos corn/soy. wish would come something less harsh mouth, though.",
          "addictbest potato chips ever tasted. easy go half bag without stopping. texture/crunchiness perfect, salt vinegar combination. know taste much better chips ever had, do. and, judging nutrition facts, seem healthier, too. somewhat fibrous good bit potassium vitamin c, could skin potatoes chips bit thicker normal.<br /><br />and like these, kettle chips great.",
          "chip make fatenjoy ever step. gained lbs within month buying pack full sized bags. damn it! warn this! tastes awesome though. finish crash diet order another box (case?). :-)",
          "chang chip tast horriblloved chips chips would buy. discovered england back quickly became fan. year ago picked bag sale local supermarket. finding odd sale much took advantage it. opening bag found chips even close kettle chips used to. uniform whitish yellow color, flavor way off, lovely extra crisp brown chips gone completely disappointed. e-mailed kettle following: \"what happened? bought bag chips day different taste; tastes \"cheaper\". know else put it... also noticed chips seemed less cooked see browner colored chips flavor. hoping nothing changed ingredients process used produce product. get weird batch? buying kettle chips years wondering.\" receive reply: \"thanks letting us know experience kettle brand® chips. sounds like may received bag slipped inspections, apologize.our potatoes vary seasonally could account variation color-but chips still taste great!thanks providing us \"best before\" code bag. really helps passing comments staff.<br />we sending coupons replace purchase kettle brand® flavors nut butters, believing great experience next purchase! case buy product again, suggest avoiding best date (if still it) rare instance another bag case slipped inspections time.<br />thanks letting us know expect coupons arrive within weeks. please let know help.\" well next bag good. since time picked bags chips like \"bad\" bag pretty sure changed product reduce cost. research found kettle bought private equity company. cookie cutter management processes probably employed kettle. acquire company high quality brand recognition, sell product mass merchants, lower quality/cost product increase margin finally sell company customer base starts realize brand longer quality brand. increased profits make company valuable paper make nice profit investors. customer employees lose course unsuspecting buyer exploited brand. stay away kettle chips longer same...",
          "bag salt chip adknow case chips received what, everyone allowed sample chips (in buffet style setting) agreed slightly salty side.<br />one person jokingly stated would terrific melting ice snow, due amount salt these.<br /><br />we ordered expectations would similar lay's kettle mesquite potato chips, kettle brands outback bbq chips exact opposite.<br /><br />sorry folks, better expectations chips little salty side.<br /><br />we still looking forward amazon finally getting lay's kettle mesquite potato chips stock.<br />these got star, bbq powder used flavorful enough unique.",
          "yummikettle foods, inc. makes best tasting potato chips ever eaten. variety flavors, classic barbeque unique spicy thai find right flavor mouth. taste wonderful, all-natural chips cooked safflower sunflower oil zero cholesterol.<br /><br />but gogreenmart&more product week? kettle foods, inc. \"green giant\", company highlighted environmental practices. convert waste oils biodiesel power company cars. roof-top solar panel system creates annually production offset % additional you.s. energy usage buying renewable energy credits. efforts future care present rejuvenate neighboring acre wetland eco-system. recent building construction, earned gold rating leadership energy environmental design (leed).<br /><br />now mouth thank environment.",
          "awesom deliciamong best chips ever eaten! first came upon visited costplus world market store opelika, al, tiger town mall, . big fan dijon-flavored anything, decided give chips try. hooked. probably ended buying dozen bags within months' time. searched part alabama (the northwestern part state) could find them. later tried find world market hoover, patton creek shopping center, carry flavor. however, learned available amazon.com, also available prime shipping - bought soon read \"kettle chips honey dijon, bags (pack /><br />you get pretty big box, filled bags delicious morsels. last quite while, re-order, very, soon! suggest buy them, bulk form, enjoy - disappointed! go great hamburgers hot dogs - perfect spring coming summer's outdoor activities cook-outs!<br /><br />take word it, chips hidden gem lost world snack foods! buy today, fall love like me!",
          "great tast chipsecond purchase kettle potato chips love much first time tried them. bought carton bags. kettle chips bag enough single size serving snack meal. chips delicious, baked fried lightly salted sea salt. fat, preservatives, nothing artificial use real food ingredients. could ask great tasting chip!",
          "best chipsperiodneed salt hide taste potato chips. chips prove it. taste potato comes through, instead masked. ok, still snack food, salt trans-fats mean healthiest potato chips get. low-salt diet (like am), available means eat chips, kettle best.",
          "garbagwaste money kettle brand potato chips. bought case these, case cheddar sour cream. cases ended garbage can.",
          "complet ripopening numerous bags found none chips flavoring them. completely plain gross. even happen?",
          "delicinow, done side-by-side comparison, chips still taste like real deal. snack sized bags well regular brand grocery store work for. portion control reduced fat? yes, please! subscribe & save much cheaper grocery store.",
          "awesomlooking probably already know like chips.<br />this great deal problems going stale.<br />the bags great size snack help avoid over-eating.",
          "disgustchips nasty. thought someone spilled drink bag, chips soaked grease. nasty!!",
          "overfribought brand trial since tired pingos.<br /><br />it claims natural. argument this. point % bag over-fried brown color. really suffer eating over-fried chips. open bags looks like same. throw away them. know bad luck every bag selling same. sure never buy brand more.",
          "made mistakmay sound rediculous, actually ordered wrong brand potato chips ordered kettle-brand jalapeno chips. time placed order, could remember name jalapeno chips recently discovered liked, kettle-brand chips packaged similarly-colored bag. but, worked best really like kettle-brand jalapeno chips, happily munch away upcoming tv football games. run (probably sometime next year!), likey purchase miss vicky brand jalapeno chips, plan try flavors kettle-brand chips. imho, kettle-brand chips excellent recommend potato chip 'affection-ados'.<br /><br />sincerely,<br /><br /> § homiedog §",
          "tastichips come large box individually wrapped bags chips. bags strong - much thicker than, say, lay's potato chip bags. inside tasty kettle cooked chips, salted right. appear cooked actual kettle fashion, cooked others, gives authentic, non-manufactured feel. people may like that.<br /><br />i reccomend them!",
          "yowzahme, kettle best brand market. really know turn humble potato something fit gods! think anything could top salt pepper chips, new favorite. flavors pure real. go great everything highly addictive! hope come low fat version; low fat chips excellent need flavors.",
          "one bite becom chippoisseuraddicted salty tangy flavors, opened first bag sea salt & vinegar kettle brand chips knew perfect complement vegetable trays cucumber, carrot, celery cherry tomatoes. skip dip; balance tangy chips alternating bites raw vegetable.<br /><br />as oregonian, proud share delectable snacks friends, especially living outside state experienced gourmet chips. tell kettle brand potato chips microbrews beer.<br /><br />kettle brand potato chips unmistakable--a light gold color, rich flavor amazing crunch. kettle brand chips also healthier snacking option major chip brands. kettle brand chips trans fats, message artificial flavors colorings. company also line organic potato chips products certified kosher.<br /><br />i also recommend <a chips honey dijon</a> <a chips spicy thai</a>.<br /><br />annette solomon, reporter salem statesman journal recently noted glass wine goes nicely chips. solomon wrote, \"...you could missing wonderful pairing. chips spicy, would want select semi-sweet white wine. also, moderate amount acid subdue strong flavors ginger, lime, garlic cilantro without over-powering them. classically, german-style riesling fits parameters perfectly.\"",
          "great chipkettle chips, really careful. flavors nauseating. said, make fantastic plain chips. thick cuts potato, fried dark golden brown. crunchy lightly salted sea salt. cannot recommend chips enough. regret it.<br /><br />some people say burnt not. website: \"take quick look see immediate difference: kettle brand® potato chips beautiful tawny gold. cooking, natural sugars select potatoes caramelize, creating chips light gold deep amber. results flavors deep rich colors, artisanal display every bag\"<br /><br />some also said chips oily, true. explain website: \"at kettle foods exclusively use expeller pressed high monounsaturated sunflower and/or safflower oil make kettle brand® products. oils naturally free trans fatty acids hydrogenated way. taken extra step sending products independent third party labs test presence trans fats results indicate \"trans fat free\" meaning none detected. see zero trans fats listed packaging.\" oiliness natural happens quality oil used.<br /><br />you find chips natural potato flavor. also fan unsalted potato chips. us watching salt intake, unsalted chips best get. period.",
          "eat yearfound years ago health food store. bought one bag found stopping store week get chips. new york cheddar flavor good, hard time eating whole bag.",
          "excel balanc tast crunchi moistursimply fell love chips refused share friends. :)) experience lot cheese-favored chips salty little greasy side. ny cheddar kettle really changed mind. thanks amazon great discounts buy store anymore.",
          "puckerlove kettle brand chips!<br />i love honey dijon years decided try flavors.<br /><br />sea salt & vinegar chips tangy, sour, make lips pucker eat many time. got big bags steal amazon ($ what?!?).<br /><br />personally, flavor much me, mom & aunt love hate potato chips.",
          "buy eat happiachieve potato chip nirvana? simple: buy chips, get tomorrow, eat them!<br />repeat.<br /><br />why?<br /><br />best \"old school\" bbq flavor there<br />kettle quality<br />incredible price amazon<br /><br />did mention delicious terrific bargain?",
          "crunchi tastichips right amount crunch enjoy taste. chips consistent fairly even distribution seasoning. like size bags, right amount chips.",
          "love chip thick crunchichips thick crunchy. absolutely love them. taste perfect. like buy smaller bags cannot trust large bag taste good.",
          "chip make weak kneechips remind long obsolete brand chips could get middle school. far tastiest chips impossible walk past aisle without picking trademark blue bag putting bag clip bag!",
          "bestwrite many reviews say kettle brand chips best ever tasted. every flavor dynamite. feeling iffy honey dijon, would recommend cheddar beer, absolutely amazing. healthy! (besides lil fat) eaten lot chips day kettle takes cake. enjoy, eat fast.",
          "wrong flavor got countri bbq instead chili chipotlexcited thinking favorite discontinued kettle flavor, disappointed opened box found substitution. keeping would ordered bags flavor. good bbq chip could get flavor grocery store. oh favorite food items always get discontinued??? one star substitution. country bbq start chip, chip longed for.",
          "burntbags lot overcooked brown pieces. also felt greasy. keep wiping fingers napkin.",
          "one bite becom chippoisseuraddicted salty tangy flavors, opened first bag sea salt & vinegar kettle brand chips knew perfect complement vegetable trays cucumber, carrot, celery cherry tomatoes. skip dip; balance tangy chips alternating bites raw vegetable.<br /><br />as oregonian, proud share delectable snacks friends, especially living outside state experienced gourmet chips. tell kettle brand potato chips microbrews beer.<br /><br />kettle brand potato chips unmistakable--a light gold color, rich flavor amazing crunch. kettle brand chips also healthier snacking option major chip brands. kettle brand chips trans fats, message artificial flavors colorings. company also line organic potato chips products certified kosher.<br /><br />i also recommend <a chips honey dijon</a> <a chips spicy thai</a>.<br /><br />annette solomon, reporter salem statesman journal recently noted glass wine goes nicely chips. solomon wrote, \"...you could missing wonderful pairing. chips spicy, would want select semi-sweet white wine. also, moderate amount acid subdue strong flavors ginger, lime, garlic cilantro without over-powering them. classically, german-style riesling fits parameters perfectly.\"",
          "deliciseriously delicious, especially like plain potato chips. concern oily. understand \"kettle chips\" \"fried\" (small batches all) open bag (that another thing, strong bag! need scissors!) coating oil inside bag chips themselves. suggest blot/shake paper towels consuming. either way, yummy potato taste, satisfying crunch. delicious!",
          "c h pc h ph r b c k r db r b e c egetting worried, read reviews here. specifically, \"one star\" reviews, always go, see faults reviewers find merchandise would prevent buying it.<br /><br />wow! sure seemed hate kettle chips, backyard barbecue bags, (pack ), bought ounce bags, liked lot, decided subscribe....and then, good measure, got orders ounce bags.<br /><br />yes...i love potato chips....especially kettle chips, backyard barbecue flavour....but others seemed really hate them...or least, hate changed.<br />but realized talking flavours! amazon, deep wisdom, obviously seen fit put comments concerning flavours kettle, (and brands of?????) potato chips, together!<br /><br />of course, advantages, potato-chip lovers, (like me!), enjoy eating several flavour, brand varieties. so, comparisons made easily. also, potato-chip lovers, person favourite flavour reviewing, are, sort \"united nations potato chip lovers\"....all different, united love potato chips! (the rest world really benefit example tightly-knit, ever...er,...expanding...group here, think! : ) -- first realizing these<br />different flavour reviews together, little confusion dismay.... least begin with.... (amazon mentioned \"kettle potato chip review forum\"! : )<br /><br />i happy report kettle chips, backyard barbeque flavour, totally delicious! (at least one-ounce bags...hopefully product ounce bags taste same!) definitely chips adults, however -- and/or children whose stronger-than-adult taste buds withstand strong flavour chips. strongest flavour ever had...that jalapeno pepper chip far strong even me!<br />these backyard barbeque chips kettle, however, right amount sweetness, (with honey powder, onion sugar), take edge stonger flavours<br />(paprika, chili pepper, cayenne pepper, natural smoke flavour), less, (they come list ingredients sweeteners.)<br /><br />the complete list ingredients kettle backyard barbecue chips, (in bags, hopefully, ounce bags well), follows:<br /><br />potatoes<br />vegetable oil, (safflower sunflower oil),<br />honey powder, (dried cane sugar, honey),<br />rice powder<br />sugar<br />salt<br />onion powder<br />tomato powder<br />paprika<br />torula yeast<br />garlic powder<br />chili pepper<br />citric acid<br />cayenne pepper<br />paprika oleoresin, (colour)<br />natural smoke flavour<br /><br />naturally cooked, natural ingredients. combination true taste treat!<br /><br />of course, ptato chips, moderation key.<br />potatoes contain lot potassium....which gives energy othr good things....but much damage kindneys. vegetable oil great -- much oil, (as well much starch, potatoes), hurt eyes. natural smoke flavour yummy....but it, (as well sugar), -- large amounts -- linked cancer production<br /><br />as far starch potatoes oil go, this<br />can ameliorated, (a bit), drinking tea...which good eyes. far potassium, (energy - good, much -- bad kidneys), sugar natural smoke flavour, (too much leading cancer production) -- thing good everything.....m e r n...!<br /><br />twice three times month, allow go call \"potato chip diet\". eat one large bag, (or equivalent small ones), potato chips day. supplement tea, coffee, lemonade, well several servings carnation instant breakfast essentials, (i like dark chocolate flavour) adds fewer calories would normally eat, normal three meals day plus snacks. also teaches eat s-l-o-w-l-y, one big bag, (or many little bags), never lasts long would like. anyway, excercise sensible eating, rest month, (and keeping scale nearby, weighing least twice day, every day), taken ten pounds last three months! : )<br /><br />these backyard barbeque flavour potato chips kettle,<br />are totally scrumptious. except jalapino chips, (which tasted good, far spicy taste buds), yet meet potato chip like eat. kettle backyard barbeque flavour potato chips, combination potatoes, sweetness, spices, truly become one top five favourites....if first favourite, all!<br /><br />flavoured potato perfection!",
          "one bite becom chippoisseuroregonian, make point sharing oregon-made snacks friends visit state. tell kettle brand potato chips microbrew beer.<br /><br />kettle brand potato chips unmistakable--a light gold color, rich flavor amazing crunch. kettle brand chips also healthier snacking option major chip brands. kettle brand chips trans fats, message artificial flavors colorings. company also line organic potato chips products certified kosher.<br /><br />annette solomon, reporter salem statesman journal noted glass wine goes nicely spicy thai chips. solomon wrote, \"...you could missing wonderful pairing. chips spicy, would want select semi-sweet white wine. also, moderate amount acid subdue strong flavors ginger, lime, garlic cilantro without over-powering them. classically, german-style riesling fits parameters perfectly.\"<br /><br />i also recommend <a chips honey dijon</a> <a chips sea salt & vinegar</a>.<br /><br />the honey dijon chips bring terrific balance salty, tangy, sweet crunchy. brands tried use much mustard flavor, overpowers honey dijon pairing. honey dijon chips make great side dish bbq plate baked beans, coleslaw potato salad grilled meat. naturally, also go great beer.<br /><br />the sea salt & vinegar chips perfect complement vegetable trays cucumber, carrot, celery cherry tomatoes. skip dip; balance tangy chips alternating bites raw vegetable.<br /><br />in summary, highly recommend kettle brand chips, great buy amazon.com.",
          "conveni low costsubscribed - one case every three months. comes $ month convenience favorite chips handy whenever want. seems frito-lay managed crowd every chip vendor pretty much local stores best way ensure steady supply items want rather items frito-lay wants have. two ounce bags larger might used buying subway (for example) find works well - large enough good snack own, even share single bag lunch. size perfect ensuring fantastically crunchy chips always fresh - chip clip needed!<br /><br />the problem? subscribed four cases year yummy chips always pantry makes really easy increase ones kettle chip consumption. definitely hide case kids!",
          "best chiptried herrs, utz, wise, pringles, lays etc....but kettle tasted best. quantity salt used optimum required.<br /><br />although say serving size ounce, finish whole packet time. total calories ounce bag. slightly higher side. still ok, compromised taste.<br /><br />only issue packets burnt chips, taste bad. kettle take care packing ensure burnt chips there.<br /><br />thanks amazon get bags bucks free shipping using coupon.",
          "creami chiveyreally love kettle brand chips, rather disappointing. little sour cream onion flavor.",
          "best chip everlove kettle chips lightly salted feel guilty eating them! used buy whole foods buying amazon saved us money. purchased least times happy chips delivery.",
          "love first bite tonguepuck tang crunchfirst discovered kettle chips sea salt vinegar shopping trader joe's daughter mindy. could believe tasty were; best chip ever eaten. love first bite, munching ever since.<br /><br />other things favor: thicker chips, crumble devouring them; delightfully crunchy; salt-and-vinegar combination heavenly. tried create original line describe palate-pleasing taste treat, could beat manufacturer said: tongue-puckering tang crunch. poetic?<br /><br />as health values, since kettle chips peeled preparation, getting nutrition, potassium vitamin c. mother would approve that, fact hand-cooked small batches.<br /><br />i often enjoy kettle chips afternoon snack favorite soda iced tea, also delicious tuna sandwich hot dog lunch. well, actually kettle chips go perfect everything ... except \"sweets,\" course.<br /><br />my problem delicious cannot stop eating them. reason chose smaller packets; figured could last almost month, good girl, kept appetite control--and hid kids! sake fewer calories, try hard succeeded far. easy, ...<br /><br />have told much love them?<br /><br />reviewed by: betty dravis, />millennium babe: prophecy",
          "chip bag cooklike kettle chips really disappointed order cooked. bought bigger sized bag costco chips cooked perfectly. know different.<br />will never buy chips again.",
          "tastigreat price excellent chip. cents ounce bag bargain well tasty chip. everyone let try impressed commented good taste. yet find kettle chip disappointed!",
          "one bite becom chippoisseuraddicted salty tangy flavors, opened first bag sea salt & vinegar kettle brand chips knew perfect complement vegetable trays cucumber, carrot, celery cherry tomatoes. skip dip; balance tangy chips alternating bites raw vegetable.<br /><br />as oregonian, proud share delectable snacks friends, especially living outside state experienced gourmet chips. tell kettle brand potato chips microbrews beer.<br /><br />kettle brand potato chips unmistakable--a light gold color, rich flavor amazing crunch. kettle brand chips also healthier snacking option major chip brands. kettle brand chips trans fats, message artificial flavors colorings. company also line organic potato chips products certified kosher.<br /><br />i also recommend <a chips honey dijon</a> <a chips spicy thai</a>.<br /><br />annette solomon, reporter salem statesman journal recently noted glass wine goes nicely chips. solomon wrote, \"...you could missing wonderful pairing. chips spicy, would want select semi-sweet white wine. also, moderate amount acid subdue strong flavors ginger, lime, garlic cilantro without over-powering them. classically, german-style riesling fits parameters perfectly.\"",
          "chip snob alertfeels strange review chips, compelled absolute favorite chips. kettle lots flavors always go back regular lightly salted.<br /><br />they thicker sometimes greasy bottom bag, plus often looked burned. actually burned. something much sugar potato makes dark. love open bag find browned chips.<br /><br />lays wise place become chip snob thanks kettle.<br /><br />like edy's breyer's ice cream, products worth money. best best.",
          "chipchips greasy taste burnt-there grease bottom bag chips saturated (especially bottom bag. even trans fat free, need lot less greasy.",
          "disappointordered kettle chips following flavvors<br />salt & fresh ground pepper<br />tuscan cheese<br />n.y. cheddar hers<br /><br />they tasted me. variety pack suggest order ordering large size.<br /><br />i wish could return unopened bags.",
          "yummi tumminew york cheddar flavor favorite kettle brand potato chips. flavorful crunchy make mouth happy. unfortunately, may opposite backside, mom eat entire bag empty stomach may spend afternoon bathroom.<br /><br />i still give stars.<br /><br />also, online price amazon better anywhere else seen them. combined amazon prime getting great deal chips.",
          "stale rancid oil tast like even tiniest bit salt flavor chip...you absolutely forget these. confirmed reviewers, chips total garbage. like chewing styrofoam packaging \"peanuts\". positively awful, hyperbole exaggeration. never buy anything kettle brand ever again! reportedly great \"premium\" brand, literally mass market chip ever tried tastes better these. stale rancid tasting, virtually salty taste whatsoever. completely awful!",
          "bestchips okay. personally, find flavor combination greasy chip somewhat strange. necessarily bad kind chip going able three four chips flavor loses novelty.",
          "best chip ever tastfantastic tasting potato chips. love individual bags, great kids adults too. trans fat, cholesterol, artifical stuff.<br />low sodium high potassium, great people like hbp.<br />only problem amazon stock times price high.",
          "delici alwayoh, love chips! hard find am, find them, usually $ per bag less. great cheap amazon.",
          "crunchi salti sweetfin superbowl snack scooorhoney dijon chips bring terrific balance salty, tangy, sweet crunchy. brands tried use much mustard flavor, overpowers honey dijon pairing.<br /><br />these chips make great side dish bbq plate baked beans, coleslaw potato salad grilled meat. naturally, also go great beer.<br /><br />as oregonian, proud share delectable snacks friends, especially living outside state experienced gourmet chips. tell kettle brand potato chips microbrews beer.<br /><br />kettle brand potato chips unmistakable--a light gold color, rich flavor amazing crunch. kettle brand chips also healthier snacking option major chip brands. kettle brand chips trans fats, message artificial flavors colorings. company also line organic potato chips products certified kosher.<br /><br />i also recommend kettle chips flavors: <a chips sea salt & vinegar</a> <a chips spicy thai</a>.<br /><br />annette solomon, reporter salem statesman journal recently noted glass wine goes nicely chips. solomon wrote, \"...you could missing wonderful pairing. chips spicy, would want select semi-sweet white wine. also, moderate amount acid subdue strong flavors ginger, lime, garlic cilantro without over-powering them. classically, german-style riesling fits parameters perfectly.\"",
          "delici crisp chip good flavoralways fan kettle chips. open bag kettle chips know going get quality. chips exception live name printed package.<br /><br />the new york cheddar chips subtle flavor them. taste cheddar them; smack face like supermarket brand chips might. taste lingers well definite plus!<br /><br />another aspect kettle chips fact every chip nice crisp, crunch mouth. top burnt chips bags since purchase. negative might flavoring chips uneven. chips might pack nice cheddar punch another might taste rather plain. big flaw happens getting seasoned ruin bag all.<br /><br />overall quality chips fantastic. flavor great not' disappointed , especially cheddar lover!",
          "pretti good could betterglad find one ounce size bag seems bit less full. hard find single serving chip bags vend well. sometimes wide. plump air. bag size good. bbq flavor .",
          "aw sometim awproblem. order case - good, half time best kettle chip, best! get case worse - potatos mealy old throw order again, expensive made good fresh potatos best - last case prompted write - potatos weird - like almost sour going bad - even wrote company makes - want best kettle chip try ones get best try again!<br />i, done ordering creeping using soured potatos either noticing caring.",
          "great dealbackyard bbq kettle chips great deal promo code. nice larger size bag. kettle chips grocery store ounces polish one family lunch! arrived fresh crumbles chips amazon grocery been. great flavor natural!",
          "mayb worst chip everperhaps worst chips ever gone mouth.<br /><br />for entire life sour cream & onion (and case \"& chive\") chips favorite. recently kettle brand honey dijon mustard took slot. found sour cream & onion try them.<br /><br />as soon opened bag chips smelled powdered milk. indeed chip coated powdered sour cream awful. tastes like rancid milk. sour, like sour cream rancid. powdery texture also extremely unappealing. basically hated chips. would recommend chips anyone unless particular affinity powdery, chalky texture chip, rancid (and onion flavor) hard time believing person exists.<br /><br />i plan contacting kettle sharing thoughts them. hopefully reassess seasoning otherwise wonderful kettle style chips.",
          "use favorit chipkettle brand chips used good...oily, crunchy, flavorful. suspect company bought recipe changed worse. better big name brand chip. try good health kettle style olive oil chips instead. good kettle brand was. r.i.p., kettle brand chips. :(",
          "greatlove chips. eaten alone, since crisp tasty dip. every one introduced chips to, loves them. expiration date months now, ordering bags come near going stale.",
          null
         ],
         "marker": {
          "opacity": 0.5,
          "size": 5
         },
         "mode": "markers+text",
         "name": "2_chips_kettle_potato",
         "text": [
          "",
          "",
          "",
          "",
          "",
          "",
          "",
          "",
          "",
          "",
          "",
          "",
          "",
          "",
          "",
          "",
          "",
          "",
          "",
          "",
          "",
          "",
          "",
          "",
          "",
          "",
          "",
          "",
          "",
          "",
          "",
          "",
          "",
          "",
          "",
          "",
          "",
          "",
          "",
          "",
          "",
          "",
          "",
          "",
          "",
          "",
          "",
          "",
          "",
          "",
          "",
          "",
          "",
          "",
          "",
          "",
          "",
          "",
          "",
          "",
          "",
          "",
          "",
          "",
          "",
          "",
          "2_chips_kettle_potato"
         ],
         "textfont": {
          "size": 12
         },
         "type": "scattergl",
         "x": {
          "bdata": "GWGhQBHHm0BQMrxAvvi1QNJdnUAFnZZAH9edQLqEnECUpqJA5S+hQPCcmkAxpphAtdqYQCIfuUAMdJ1AztKbQFZFn0BIsplAK2igQNXupEDVyKJA04CkQAf0lUAfhZ9Ax06RQFeIrUAvQLdA73C2QFtPokCqgppAM1m0QO62m0AiyKdAJNKmQKSln0BTkLtA3iSTQFi7okDqVLdA8cOdQNf/m0CFGrtAksKcQH8PlUAGqKhA11qaQEQRuUAEZJNAM/CTQPIWt0BEqZtAHdykQG4EkkCecptA2oqeQNvMp0D7j6BAFTukQEv7t0APTZhAlrKcQKKMm0DGNZNACxirQMOUn0BF4qNAKauiQA==",
          "dtype": "f4"
         },
         "y": {
          "bdata": "/WV8wIRPMMByWYnAx2uPwAwOV8Di83fAJZ92wKcuPMA7JIPAsyOEwHtaJMB1FG7ACLOEwOZUjcC0gSXAd3+AwEVbgsApKXnAYXQxwNFuMMDVkibAo7pgwODQYcDdtXjATcZqwIvohMA+447AujyPwJJUJsC/j3nAfzGFwKvXcsCljS7AxeMqwIFZaMAiU4bADXNcwKILYMDUY4/AHuiCwEWCdMAyxozA0HQwwJnqYsAUoILAiOBvwPqEjMDwFVnA4CBhwLu5j8DUz3bAZP9fwOf6UsD1JXnAbc9+wKpqasBZ62zA1sMkwBiAjcAdGHXAJmQtwInedMDjWkHAOaCAwJIzf8DhwR7Ay8RpwA==",
          "dtype": "f4"
         }
        },
        {
         "hoverinfo": "text",
         "hovertext": [
          "make best babi fooddaughter loved stuff. natural made well. good mix things get older too! beats gerber.",
          "babi likewhatever reason, son really likes flavor. fan myself, one eating it. time get variety vegetables baby one sitting, happy mom.",
          "love fresh food feederproduct amazing. know people little ones use love them!! super easy clean use. ordering these, impression per package...fyi-they not!! one per...",
          "mom dad bewar plastic foodwanted post found small bits plastic food feeding month old. plastic!!! food!!!! baby food!!! please careful buy considering it.<br /><br />my daughter loves food-- actually favorite. first time noticed plastic months.",
          "earth best rice lentil dinnerdaughter's favorite first foremost. love get lentils, many stage vegetarian choices.",
          "good best flavorlove earth's best organic baby food, tastiest one. tried think pretty gross. daughter still eats it, much enthusiasm flavors. got decent amount protein, important us vegetarian family.",
          "great teethloved product fruits food want new baby choke on. also used put ice baby teething. worked great this, well food. like bananas though-impossible get clean!",
          "yummi earth best flavorreceived dinner variety pack tried first time today. always try baby foods make sure right temperature (i put bowl microwave seconds) taste ok. tasted this, made face yucky! added sweet potatoes dash cinnamon. credit, ( month old) daughter ate bites, nearly enthusiastically flavors. like mixture organic vegetables beans protein.",
          "good iceproduct impossible wash actually get cleaned. could get food pieces save life. tried scrubbing even washed dishwasher suggests.",
          "great place startwould love say time make son's food everyday. case. honestly, make time, days, time/energy get done. enter product. bought baby food, read reviews people saying fruit it, like dessert, yadda yadda yadda. truth is, yes, bit fruit it, sweet all. fruit merely brings flavors naturally add anything else. great product enter proteins baby's diet. consistency smooth enough wanted add cereal also, baby choke it. highly recommend.",
          "found shred plastic babi foodnormally love earth's best products (as son). however, tonight would given half jar thought would try since new flavor realized little pieces soft shredded plastic it. appalled! first child experience kind thing, called poison control. said would ok knew fine, got really angry. looked online found earth's best actually known plastic time still selling it. buy earth's best! really disappointing.",
          "babi likeeat baby liked it. said savory sweet reminded fine dining tuscany. also like jarred foods know recycle never become waste. learned telling everyone - glass recycles forever. recycle nothing common stop reading here. even hard thing anymore. nobody else building recycles drives crazy. rinse put different bin still put trash day. stop lazy.",
          "love love lovebought set two son months, started taking us whenever went eat. cut cantaloupe, apple, banana (even used sweet potatoes times)-- whatever could get restaurant-- would keep son busy long enough could actually eat! great overly worried choking big chunks, got try new foods. would hesitate buy again.",
          "geat productson loves best earth's baby food favorite seems vegetable turkey. smiles every mouthful.<br /><br />i would recommend product anyone looking healthy feeding organic way. food feed son earth's best.",
          "babi favorit stage food far great constiplike earth's best baby food line organic ingredients. amazon great prices (especially subscribe) free delivery doorstop, convenient busy mom. daughter like lot baby foods, eat one. reviewers stated, bit runnier eb's stage foods, add oatmeal it. also bit bland, add dash cinnamon heating up. added bonus, works wonders digestive tract! problems constipation months, sometimes going days give suppository, discovered food makes poop every time (i also started giving sippy cup water meals day help fiber). rated instead stars main ingredients sweet potatoes apricots rather sweet potatoes chicken. wish chicken protein.",
          "babi like oneearths best eats most, one little thicker original chicken/sweet potato favorite runny.",
          "organ tastiwould continue buy moving home made finger foods away glass jars...shattered many. like flavors though. great textures too.",
          "babi lilli say thumblittle girl cannot get enough this! like organic contains fruit, veggies, protein grains one tasty meal. wish came larger portions since month old always wants jars.",
          "awawful! thought food supposed taste good! eat ice cream afterwards get taste mouth, bad.",
          "repeat deliveri broken jar great product thoughliked getting one twin olds interesting ingredients, particularly zucchini garbanzo beans. like fact vegetarian yet believe complete protein since also brown rice. list ingredients looks excellent green color naturally.<br /><br />the babies liked it. liked everything carrots.<br /><br />i subscription one really like ingredients fact giving babies food naturally green.<br /><br />ingredients per label: water, organic corn, organic zucchini, organic green beans, organic brown rice, organic carrots, organic garbanzo beans, organic canola oil.<br /><br />this calories, % protein, % vitamin a, % vitamin c, % calcium % iron. informed percentage daily needs met based adult.",
          "son favorit dinnerson's favorite dinner! best seems best combo protein (%) , vitamin (%) c (%). runnier dinners great start solids protein it. love love love brand flavor. think purchased jars far.",
          "best babkanever life tasted good babka crazy good! real babka! gram mother use make",
          "protein vitaminearth's best turkey vegetable dinner hits spot apples turkey. add cranberries want take next level. cannot find non-sweetened non-dried cranberries even better food stores.<br /><br />apples, carrots turkey taste good old growing twin girls. babies love carrots since sweet taste, made great addition. whole barley flour absorbs water give acceptable consistency.<br /><br />the ingredients per label: water, organic apples, organic carrots, mechanically separated organic turkey, organic whole barley flour.<br /><br />in addition % protein % vitamin a, % calcium % iron.<br /><br />i pleased babies like food introduced many foods earth's best. informed percentage daily needs met based adult.",
          "highli recomendgreat taste. great ingredients. great texture. absolutely delicious! little smaller may still hungry meal. give one year old son breakfast still little hungry more. either taste good wants more.",
          "great tast picki babi thin compar otherdaughter big fan baby food, especially proteins, love one! flavor right, sweet savory, strong chicken flavor. almost like plain sweet potatoes sharp, thus good first protein offer, good picky eaters. nephews niece also liked flavor, pretty safe bet keep hand know particular baby's preferences.<br />something wish known quite bit runnier stage earth's best, especially chicken. added quite bit rice cereal thicken daughter gotten tired runny texture, liked fine, extra step. however runnier texture makes workable younger babies gagging/texture problems.",
          "good flavor runni thoughbaby loved one, progressed cut one runny move spoon quickly way grabby hands, over! think could use little less water maybe little potato make consistency turkey dinner one.",
          "great eat whole food clean veggi brushslightly different version - different brand. son started using around six months, really enjoys it. get messy eats something sticky juicy like banana watermelon, whatever... anyway, also trouble cleaning it, tried scrubbing nail vegetable brush. works pretty well. takes time, much would take run food food mill blender, cut up, clean him, chair, floor, dog, me, well get picture.",
          "organ tastimonth olds time write great review, like flavors, textures great, jars open easily. great go snack.",
          "good foodchocolate moose & mickey moose,<br /><br />our nice owner bought great food us. love much, gained lbs. eat mickey's food looking! skin fur much better too. :)",
          "could useloved mold! wished could used one occasion, last. use make + suckers daughter's first birthday. going way mold could salvaged that. would liked kept use occasions, price matter much. served main purpose :)",
          "antioxid smoothibear amazon's work copy lakewood website:<br />---------------------------------------<br />nutrition facts<br /> upc /><br />serving size oz<br />serving size ml<br />amount per serving<br />calories calories fat />% daily value*<br />total fat />saturated fat />trans fat />cholesterol />potassium />sodium />total carbohydrate />dietary fiber />sugars />protein /><br />omega , omega , omega , vitamin %, vitamin c %, calcium %, iron %, vitamin e %, vitamin (thiamin) %, vitamin (riboflavin) %, niacin %, vitamin %, folate %, magnesium %, zinc %, phosphorous %, vitamin k />*percent daily values based calorie diet<br /><br />ingredients<br />certified organic juice blend (organic acai, organic apple, organic concord grape, organic grape, organic pomegranate, organic blackberry, organic blueberry, organic red tart cherry, organic acerola cherry concentrate); organic goji berry, natural fiber (organic guar, xanthan, carrageenan, sodium alginate organic locust bean), organic rose hip.<br /><br />gluten free* casein free gmo free*<br />% fruit juices gluten-free<br />---------------------------------------<br /><br />this excellent lakewood juice- call juice thick odwalla drink like smoothie. it, good value. considering pay much one ingredients it. personal use add kombucha, maximizing longevity way, tried many one best kombucha. say glass servings fruit lakewood website. quite tasty sweet, thick textured even tiny bits seed reminiscent banana smoothie. ingredient list somewhat confusing note acerola cherry concentrate, everything else fresh pressed. acai high orac scale anti-oxidants, rose hips also high, everything else mid high range fruit. pomegranate many beneficial properties beyond anti-oxidants well, noteworthy fighter heart disease alzheimer's type dementia. considering price goji berries really like inclusion drink, albeit lesser level.<br /><br />by way: amazon day wait shipping.",
          "absolut lovegreat idea!!!! daughter love it.<br />i think difficult wash, mean, like toss water it... but, come on!!!!<br />absolutely recommend it!",
          "dessert nutrit enoughtwin old babies treat one dessert. first earth's best jar loved straight sweet potatoes. water, sweet potatoes first ingredient one, followed apricot puree. dessert right there. comes chicken brown rice flour (not good brown rice though).<br /><br />this meal babies around age mine probably almost going love instantly. almost babies love sweet potatoes starters. add apricot puree really much one could discourage babies that. recommend flavor brand.<br /><br />ingredients per label: water, organic sweet potatoes, organic apricot puree, mechanically separated organic chicken, organic brown rice flour.<br /><br />the rice flour absorbed water gave real nice consistency, sweet potatoes gave nice color.<br /><br />nutrition per label: calories, % protein, % vitamin a, % vitamin c, % calcium % iron.<br /><br />this one vitamin earth's best jars tried. informed percentage daily needs met based adult.",
          "wonder ideadifficult cleanlove, love, love idea product little one loves, loves, loves use it. gets fresh fruit tasty things worry choking. drawback bits food get stuck mesh seams impossible get out. granted, foods difficult others much problem. bananas however, pretty much destroyed couple them. love product, think next time get one removable replaceable mesh bags.",
          "babi favorit dinnerrice lentil dinner son's absolute favorite. know gobbles every time. enjoys earth's best foods found couple eat (anything much apple) personal taste issue brand particular combination. varieties tend runny one great consistency right jar.",
          "greatbaby loves rice lentil one favorite things eat. going somewhere able warm food eat one cold.",
          "lovetwin girls, loved vegetable turkey dinner. one favorite baby foods. great price.",
          "garbanzo bean give horribl gafair one twins got gas horrible. night screaming gas pains. garbanzo beans ideal food young babies.",
          "impressmunchkin fresh food feeder okay product, kind like sucking food cloth. daughter interested little while, eventually lost interest. may introduce back see reacts.",
          "babi likeusually make baby's food.... easy, steam fruits & veggies puree.... sometimes enough time cook buy earth's best baby foods....baby likes fruits veggies far like one. refused eat it. tried understood why, would eat either... tastes nasty.... poor baby.... immediately made homemade potato, zucchini, & asparagus puree loved it. would recommend flavor!",
          "favoritdaughter outgrowing baby food still eat this. tried foods like texture them. really good likes it, keep buying it.",
          "daughter favorit jar foodmonth old absolutely loves one...by far, favorite jarred baby food. like lentils add bit protein average baby food, ready introduce meats yet.<br /><br />i subscribe & save, brings price $. fair price - amazing deal, roughly equivalent sale prices grocery store. bigger issue particular blend hard find - go whole foods. regular grocery store target carry earth's best, blend. daughter likes much, though, would still buy even price bit higher store prices. good one!",
          "toss jarthree jars came form edible babies. rest filled clump spongy mush would mix water. also brown color yellowish brown like jars good mixture.<br />pretty disappointing waste money.",
          "banana runtbesides smaller runts, look consistency. unfortunately, taste nothing like banana runts...nor even taste good. yucky stuff. trying return vendor.",
          "runni oddtasttriplets eat this, eventhe one eat anything. consistency way runny well stay spoon.",
          "jar babi food son atemonth month, son barely ate solid food. picky. tried many different flavor various brands baby food would actually finish whole jar. expect like since green vegetable scent it, guessed wrong.<br />now month old pretty healthy eater. current favorite seems tofu, still loves corn, zucchini, brown rice carrot ingredients this. highly recommend try baby food.<br /><br />also, earth's best makes best baby foods toddler foods fabulous well. son really like snacks gerber brand, likes products earth's best. foods taste great(even us adult) good too.",
          "babi love plasticdaughter's favorite baby food far. ones eat rarely eat kinds. however, taste bland, adult least. put unfinished portion fridge, may become sort watery point throw out. unique others combination vegetables has, especially zucchini.<br />i update review today, saw little pieces thin stretchy plastic two jars baby food. plastic baby food? notified earth's best sending pieces plastic testing, giving baby food more, even though likes it, us.",
          "runnibaby loves sweet potatoes. essentially mix food sweet potatoes eat them; case could good bad thing depending wanted mix there... horribly runny, like spooning formula mouth. ick.",
          "one favoritone son's favorite baby foods. bit sweetness, sweet. runny flavors, use deeper spoon one, add little rice cereal thicken up.",
          "anni homegrown organ whole wheat shell white cheddar macaroni chees ozproduct made annie's inc. berkely, ca--made usa. product maintains excellent organic integrity, stored % recycled paperboard packaging.<br /><br />the manufacturers also support family farms - use organic milk, butter, yogurt. product takes approximately min. prepare. product contains dairy wheat, exposed equipment also processes egg soy products.<br /><br />the ingredients include organic whole wheat pasta, organic valley organic cheddar cheese (organic cultured pasteurized milk, salt, non-animal enzymes), organic whey, salt, sodium phosphate.<br /><br />this mildly flavored whole wheat macaroni & cheese dinner. mac cheese wonderful comfort food. pasta firm, excellent flavor.<br /><br />there artificial flavors, synthetics colors, preservatives. pasta produced without antibiotics, synthetic hormones, persistent pesticides.<br /><br />this pasta simple make wonderful texture. servings per box ( oz). serving contains cal., g fat, sat. g fat, mg cholest., mg sodium, g carb., g fiber, g sugars, g protein.<br /><br />however, cheese envelop exactly sufficient even add butter, milk, yogurt. add wonderful rich smooth cheese flavor accompanies mac cheese, add organic cheese.<br /><br />the cheese packet falls flat flavor contain sufficient amount coat pasta. give mac cheese packaging, maintain organic integrity, texture, flavor.",
          "babi favorit dinnersix month old baby loves earth's best sweet potato chicken dinner - favorite. seems love earth's best foods - fruits, vegetables, dinners. consistency food makes easy eat - thick, thin.",
          "son loveson loves rice lentil jars. liquid consistency peas brown rice jars. order subscribe save + amazon mom always arrives nicely packaged.",
          "plastic foodwow, shocked find clear plastic pieces jars. posters say notified earth's best august still selling without checking recalling!! earth's best little guy. taking business elsewhere sad organic company selling baby food plastic bpa jars. got better get business.",
          "son favorit dishlove fact turkey offered. son's favorite dish. issues good balance nutrients.",
          "son loveson really enjoys earth's best lentil! eats entire jar dinner always wants more. product shipped quickly.",
          "one son favoritson started eating around months old; months old one favorites. unfortunately, carry local grocery store (they carry varieties earth's best; one favorites, spinach/potatoes spaghetti cheese); carry whole foods buy there. glad find amazon! get tired ringing gazillion little jars store.<br /><br />we use base mix things - bits cooked broccoli, small pieces meat. also started adding spices introduce new flavors.",
          "yumalways try food feed daughter one actually pretty good. daughter loves it. gets excited make",
          "acquir tastthing marmite like hate it, love cannot live without it. much \"an english thing\" language even adopted trade name metaphor (as \"victoria beckham marmite\" meaning like her...etc.). amazon done world favor making weird wonderful stuff available affordable price. last time looked, $ jar british stores l.a.county, costs england. amazon supplier quick efficient, enough marmite last end year (or would have, decide send one two jars son japan!). good job, amazon!",
          "meh daughter eat everyth els thingintroduced daughter earth's best organic turkey vegetable dinner months. bit early, advanced, weeks overdue. loved first. but, bought every kind least favorite. tried well. them, also least favorite.",
          "littl wateri food eblittle baby picky eat sometimes. one watery others, keep mind. reviewing baby food objective since children different, hope letting know consistency texture help.",
          "twin love one subscript price fairtwins love one right start loaded lentils (see ingredients below). introduced months old months. glad eating something green could get eat one peas tried months, got eat peas later months.<br /><br />their favorite vegetable sweet potato also tried sweet potato cinnamon. love fruit varieties.<br /><br />i glad love one lentils brown rice form complete protein, although view ingredients shows lentils one prime ingredients.<br /><br />this one also carrots heard babies like carrots. know would like without carrots. seen one - lentils brown rice - local stores, glad get here. along others, get one subscription. course, twins one forced buy bulk busy great get delivered.<br /><br />the packaging excellent. ordered unbelievable number cases jars different types one jar arrive broken.<br /><br />ingredients per label: water, organic apples, organic carrots, organic brown rice, organic lentils, organic canola oil.<br /><br />this calories, % protein, % vitamin a, % vitamin c, % calcium % iron.<br /><br />i informed daily intake percentage based adult.",
          "fun paintcookies fun paint tasty eat!<br />the kids really care much, might been<br />more fun could eaten them.<br /><br />they really fun coloring them!",
          null
         ],
         "marker": {
          "opacity": 0.5,
          "size": 5
         },
         "mode": "markers+text",
         "name": "3_organic_baby_food",
         "text": [
          "",
          "",
          "",
          "",
          "",
          "",
          "",
          "",
          "",
          "",
          "",
          "",
          "",
          "",
          "",
          "",
          "",
          "",
          "",
          "",
          "",
          "",
          "",
          "",
          "",
          "",
          "",
          "",
          "",
          "",
          "",
          "",
          "",
          "",
          "",
          "",
          "",
          "",
          "",
          "",
          "",
          "",
          "",
          "",
          "",
          "",
          "",
          "",
          "",
          "",
          "",
          "",
          "",
          "",
          "",
          "",
          "",
          "",
          "",
          "",
          "",
          "",
          "3_organic_baby_food"
         ],
         "textfont": {
          "size": 12
         },
         "type": "scattergl",
         "x": {
          "bdata": "EG+TQACmm0AuBZFAV9uSQMkDnEB9TZhAjOiYQJyVn0BfL5tAUaibQJMlkUC6/ZBAheqYQOG6mkA9zZhAuB+fQJ31kkAZXZhAmYOjQGcFmkBC6ZhAh96gQI0UmkDxKp5APH+aQMQEpkDUMZhAbAGUQCxBjEAAFpFAX+ikQJmbk0BFEppA6jKaQJaEnEBCSpxAPuOaQBrVmEDZ0pNADMSZQNbdlkCCMZZAnsmTQNTnpkD5HKVAJoeWQPGAlkDPvaNAZiOaQK/OmUBgZZ9AVyeaQNWRkkBrGZtAckacQMDimEBDiZVAfW2vQKtZm0BP/pdArriaQPh8mEBM9plA",
          "dtype": "f4"
         },
         "y": {
          "bdata": "90X5PyvdAECITck/JFjWP36AE0AehglAb6HoP8uB9T/+o98/FOPmP7bUsD9DXrM/ITLwP2doG0B/3wxAa2wGQAja1j/Z4QxAiRjnP7ljEkBTXghAUR4EQBinGEBkTP0/37j+P5T4A0AUOuc/PmHmP4jl8z/zCeg/YL4dQKyu7T+prBNA1uXJPwjyCkAmqhBAwBIcQMMHCkA2WNc/K/cAQN3M8D/y9fY/fefxP6mR8j//OgBA4urwPwNr4z+ySwFA+qf1P2/uE0CSIgVAl94MQA1oyz/h+RpAuMEOQMRP6D9w5u4/vwWpPsB3G0AmQ/M/L4sSQJHTZj8qRfk/",
          "dtype": "f4"
         }
        },
        {
         "hoverinfo": "text",
         "hovertext": [
          "tea reviewlove, love green tea. hard find area places internet charge big price usually get many boxes merchant. definitely order seller again!! thanks!! depend green tea fix everyday!",
          "best tea everexcellent tea. one best ever had. especially great prepare samovar.",
          "better tast expectheard great things sassafras wanted try it. worried taste turned lot better anticipated. actually going order continue drinking time. trust fda!!",
          "lovebought dad. years would complain tea since . finally, many nights drinking tea annoyed, bought tea would shut up.",
          "favorit earl grey tealifetime tea drinking, honestly say best earl grey ever tasted. ordered number times, batch consistently excellent. even given gift, container superb keeping loose tea fresh. metal canister inner lid lifted attached knob, tea stays dry fresh length time takes use up. favor, like earl grey, treat tea.",
          "love tea tast budlove aroma taste fruit vanilla combo, addition ginseng added energy boost rounds tea nicely me. sweet tea, makes wonderful healthy alternative desert dinner.<br /><br />i see others like it, really matter personal taste...different courses different horses!",
          "new rooibo teagave tea try add variety tea habit. glad did. somewhat sweet almost minty taste wonderful aroma. nice reddish color. tea probably taste factor wonderful japanese green matcha tea had, look forward experiencing purported health benefits rooibos read about.",
          "nice flavor tea purist black tea addictgrew yunnan tea child - always mother's favorite - happy find economical source quality great \"large volume\" habitual tea drinker like me. tea daily regular tea. yunnan nice brew dark need much time. aromatic flavorful without additives. want something flowery yet subtle earl grey yunnan keemun may nice option explore.",
          "best earl grey everpros:<br />- extremely fragrant<br />- full bodied<br />- steeped twice<br />- nice air-tight container<br />- organic<br /><br />cons:<br />- price<br /><br />the tao tea, blue flower earl grey black tea best earl grey ever tasted, would recommend anyone.<br /><br /><a tao tea, blue flower earl grey black tea, loose leaf, tins (pack >",
          "best breakfast tea evertea surpassed breakfast teas tea-drinking household. love really starts morning right. perhaps caffeine old favorites?? taste wonderful without additions remain tea choice morning often throughout day.",
          "break easilifirst ball worked pretty well, looked little beaten up. since then, ~half fallen pieces hot water (all sitting bit). mind rate failure, tea pretty good fairly tolerant steeped long time (especially considering white tea).",
          "horridpossible give product zero stars, would done so. huge fan twinings teas, excited try new blend. arriving home grocery, immediately started kettle enjoy cup prepping dinner. sorting, washing, chopping items, hot water added bag steep. preparation continued, distinctly odor hit me. thought one ingredients must rancid! hunted around almost four minutes realized tea. even cleaning up, airing kitchen, roommate later came asked smell. save money purchase twinings product.",
          "realli nice tasttrying several wu yi teas. like one particularly subtle citrus taste. also natural sweetness.<br /><br />the ingredients include organic wu-li cliff oolong tea ( mg), organic black tea ( mg), organic green tea extract ( mg), proprietary blend ( mg), plus ginseng (panax), orange peel, lemon grass, guarana. ingredients: natual orange citrus flavors.<br /><br />my goal drink tea less coffee. enjoying trying different kind tea every day. coming back one.",
          "nice tealove strong, full bodied quality tea typically drink assam, irish breakfast early grey tea, reviewer noted price per pound discouraging. searching quality full bodied tea bitter palatable price point, certainly fits bill. unlike teas tend better one form another, i.e. iced vs. hot, tea excellent forms. would certainly recommend anyone prefers smooth full bodied quality tea cost arm leg.",
          "best tea everdinner friends & family \"the saloon\" \"rte entertainment complex\" sanford fl. besides awesome staff (ask keith) fabulous food (the escargot must) serve china mist tea. time chose tropical organic green -- doubt best flavored tea ever had.",
          "tao tea getkind tea good ....!taste smell wear like tea ,and feel like thing chemical.",
          "even seem littl overprlooks pretty, contents minute seem high quality. plastic cup tea looks like came dollar store. basket nice, though.",
          "delici consist good qualitiused maybe half dozen bags tea last year delicious, consistently good quality black tea. mainly use several numi teas tea blends making kombucha.",
          "tea flavortea flavor all. whole brunch artifial flavors. returnable. wasted + bucks.",
          "best tea ever freah bright cleanone best teas ever tasted... clean, bright, fresh...<br /><br />great delivery...again quality... try it...",
          "beauti present pretti good tealooking exotic tea drinking experience like white jasmine tea, numi's flower jewel worth look. size gum-ball, jewels slowly open water form flower shape around central amaranth flower. meant decorative glass teapot must preparing tea.<br /><br />decorative mean tasteless. white tea, flavor mild, rich soothing. jasmine wonderful overpower tea. stronger jasmine teas, one quite balanced tasty. used small glass pot preparing able get yummy infusions jewel flavor scent began fade. white tea tips plentiful high quality get bitter seeped long periods.<br /><br />i must deduct points though high price tea ratio fragility flower jewels. pouring hot water directly cause pieces fall infusion flower starts fall apart, though fair main flower shape remains fairly intact. even come box starting missing central flower bits leaf. better packaging might solve this.<br /><br />if want tea experience looks good tastes smells, entertaining want conversation piece, numi tea flower jewel short list.",
          "wonder tealove tea. helps curb eating day. mom given friends try.",
          "delici teadrinking tea long time now. used purchase doctor's office available elsewhere. glad buy amazon.com. drink tea throughout day like folks drink coffee. wonderful taste.",
          "great deal great teafirst taste tea saved trip home santa cruz, hotel restaurant stale powder tea bags. needed fix! tourist stop giant artichoke beckoned, chinese breakfast / yunnan black tea set straight.<br /><br />other reviewers said tastes odd. flavor strong bit smoky, like darjeeling, earthier. like darjeeling earl grey, enough flavor -- milk sugar needed. expensive box teabags. finding loose large quantities price fantastic! arrived promptly, well-sealed, true label -- unlike \"loose\" tea actually cut up, whole leaves unfurl. ahhh.",
          "disappointdrinking tea past years, usually buying box two visiting large metropolitan areas, many middle-eastern stores carry loose ahmad teas, usually $ pound box. always considered unremarkable robust tea, enough aroma taste, beautiful reddish color, perhaps good enough tea drink own, decent base mixes.<br />this tea, however, nothing sort. freshly opened package almost characteristic tea smell, brewed tea weak, flat tasteless. somehow seem product anymore. so, get lot tea money, quality might well drink lipton bags, much worse.",
          "best teaalways amazes dozens reviews extolling fine qualities tea. drunk pretty much every day last five years never get tired it. excellent morning tea, smooth without insipid, almost impossible ruin oversteeping. use decent water. like little stevia it, wimp. brings natural sweetness malty, slightly floral style. bought another two pounds.",
          "everi day green teadrinking royal king % natural organic green tea ( tea bags x each) every day tea several years now. buy boxes time save shipping. many years used drink coffee morning till night. finally realized drinking much coffee healthy me. finally resolved improve health stopped drinking coffee together. tried many alternative drinks replace coffee habit. found green tea good tasting also health benefits. green tea one drinks actually makes healthier (coffe drinks not) - healthier drink quality cold water. opinion, price, royal king % natural organic green tea one best tasting teas. green tea beautiful golden color, taste bright fresh. recommend adding tiny amount y.s. organic bee farms raw honey tea add sweetness health benefits too. also give treat much expense tea (tribute xi hu long jing) fantastic tea practical drink every day tea (although would could afford it).<br /><br />cons: latest shipment package shown amazon page different one shipped. one shipped displays \"naturally high polyphenol catechins\" (a key contributive element possible health effects tea), whereas amazon package displays \"caffene free\". sure green tea caffene free not. con sometimes tea bag rips open unwrap string around tea bag. string seems stuck tea bag put bag hot water unstick it.",
          "great productgreat tasting tea looking good sassafras tea forever.finally. ordering product .<br />thanks kim:d",
          "love teastarted drinking power slim tea hcg diet help curb cravings. since liked well, tried others hooked! satisfying drink time. energy gives extra pick-me-up afternoons helps keep going day, matter long.",
          "hard find teapurchased tea neighbor present, looking sassafras tea long time, realize hard find! absolutely loves it, made great surprise christmas gift.",
          "great organ tea great price<a organic tea chinese breakfast yunnan black tea, loose leaf, oz bag (pack brew iced tea refrigerator half-gallon tea. excellent. resealable bags work well, unopened protect large stash, making easier manage subscription.",
          "ahmad teaahmad tea excellent looseleaf tea eith hot making iced tea. great flavor lingering aftertaste.",
          "great tast diet tea natur ingredipoland spring driver gave us new tea try and<br />our family really enjoyed it. looked ingredients quite pleased<br />with natural ingredients calories.",
          "bestknow cannot make tea good. granted, south know never enjoyed tea sweet without sweet. tastes crisp.",
          "kfirst tasted sassafras tea local restaurant really liked it. started looking grocery stores online teabag form. several weeks investigation called restaurant asked used make tea. told pappy's sassafras concentrate. looked online found amazon.com. ordering also saw sassafras teabags. thought would order box try. dissapointed. taste like flat rootbeer expecting. like black licorice, hate, mild rootbeer undertone. also distinctive red color get steeping sassafras root.<br /><br />i never real sassafras tea made root know teabags like real thing not. bottom line: buy teabags again.",
          "fragrant teadrink tea plain (without sugar milk), pleasant aroma.<br /><br />the price amazon cheaper local grocery store. one reviewer right, think herbal smell make aroma. label \"imperial blend\" kind implied herb.<br /><br />i exactly black tea drinker, tea surprise, affordable too. usually prefer white chinese tea, like white peony, expensive, requires lower temperature water. black tea, aroma kind remind 'softness' white tea.",
          "get storetried despite review found exactly tea buy either russian italian groceries.",
          "excel teatea tastes almost good tea would get indian restaurant. much better getting teabag making english way, lot water bit milk. creamy tasty. criticism enough sachets box. . since directions say use one sachet water (approximately half cup), enough good cup tea, use two. means one box good enough five cups tea. delicious after-dinner drink! would buy sachets box.",
          "could give rate onestartea carries flavor one would expect smell: terrible. invigorates like puncture wound, revival that, drinking, discover still alive.<br /><br />well, one tea bag enough me. mother-in-law said, \"oh, smells kind like wine.\" okay, kind like wine, hint rot moldy aftertaste. likes it, whole box.",
          "delicibought tea alternative pricey teavana black teas. cup every morning, smooth refreshing tea.",
          "sass teacare product all, thought tea sisters use drink elementary school. found tea use drink actually came root particular type tree.",
          "excel loos tealike ceylon tea variety, certainly enjoy appreciate tea.<br /><br />i happy find ahmad teas available (thanks amazon!) surprised negative review + years drinking ahmad teas even disappointed. superb quality ahmad teas remained consistent throughout years.<br /><br />the current deal pack good (cheaper find locally).<br /><br />highly recommended.<br /><br />note: listing's description confusing. packet tea weighs grams, equals pounds ounces.",
          "everyday cup teahi, black tea everyday. done past years habit mine. ahmad tea one favorite brands highly recommend like black tea. think going remain favorite next years :)",
          "real teaherbal additives blend destroy real tea taste. people like herbal taste. not.",
          "delicitea best tea ever had. first tasted norway, find states. every morning.",
          "good anytim hot teaenjoying tea years. tea good mornings, afternoons evenings. local store went buisiness....thanks amazon! use bodum tea press prepare pot.",
          "great tast green tea great dealdelicate green tea smooth light taste subtle floral tones bitter aftertaste.<br /><br />in + years drinking ahmad teas even disappointed. superb quality ahmad teas remained consistent throughout years.<br /><br />i happy find ahmad teas available (thanks amazon!) stores carry area quite miles away. current deal pack superb (much cheaper find locally).<br /><br />this great tasting tea, happy recommend.",
          "tast better loos leaf rooibotried normal red tea waited review. flavor still rings head earthier rooibos tea less frity. color muddy water, grittiness viscosity well. well worth every penny.",
          "fine tast full lea great valuread reviews purchasing pleased did. purchased numi teas gave generally happy theri products.",
          "good english sellbetter england. know why. maybe nostalgia part.",
          "great teahardly ever write reviews tea quite excellent. decided try without sweetener added taste enhancers. flavorful without overpowering. great pleasure fine tea like loose reasonably priced. first try continued drink comes. see leaves soaked premium tea.",
          "favorit teatried literally dozens teas since introduced russian custom preparing drinking tea, ahmad imperial blend probably favorite due fact equally delicious hot iced. buy three-packs needed amazon go rapidly. family loves friends homes too, try one box love too.",
          "mediocr cheaptaste harsh lesser grade yunnan. ok drink, really enjoy. make hurry able fully enjoy tea anyway.",
          "sassafrass teagrew ohio lived woods sassafrass trees plentiful. would dig tender roots \"bark\" trees delightful tea. purchased breezy morning sassafrass tea although quite good expensive average size tea bags shipping much product. good bargain. switched pappy's extract.",
          "sassafra tea bagchild facorite memory drinking sassafras tea made fresh sassafras granddad. never seen tea bag before. found get taste remember needed bags per cup. bags rather fragile really great product buy again. plus shipping time great.",
          "great tea pricedelicious tea!<br /><br />i becoming tea geek really exploring stuff like, earl grey amongst top, especially bergamot.<br /><br />the problem find amount bergamot added usually little, much.<br /><br />this one perfect! really like balance flavor. add anything tea, part teaspoon cup minutes ready.<br /><br />tastes like expensive tea priced like lipton. definitely recommend fans earl grey kick!",
          "wonder teanumi winner tea! husband, son often share wonderful tea dinner. pleasant reason love it, turn bitter longer steeping, like teas do!",
          "sweet soothwonderful warm flavored tea, especially colder weather.<br />this tea sweet,soothing chamomile fragrance. subtle sweet.it one better chamomile teas.<br />if find hard sleep times, cup sweet chamomile tea may help.<br />if really like sweet taste try bigelow chamomile mango herbal tea.<br />i highly recommend both.",
          "great well balanc earl greytea tin guarding aroma well.<br />the taste beautiful: malva flowers soften taste amount bergamot right.<br />the first time used much tea soaked long (i used reference darjeeling ftgfop first flush).<br />since save quantity tea leaves soak tea two minutes.<br />a delight: best earl grey ever had. price competitive.",
          "ahmad loos imperi blend tea great pricefriend would drinking tea years introduced tea months ago. even took store bought pound. $. retail store little $ shipping online merchant, think great. drinking earl grey, english breakfast, irish breakfast, lapsang souchong, assam, etc. $. shipping. aside lapsang souchong, think great replacement rest. everything looking strong, full-bodied black tea enough character keep becoming boring. current favorite afternoon tea. unless extremely jaded tea snob, love it.",
          "good tasten teaordered on-line received days (). tea excellent price right me.",
          "best ahmad teatried variety ahmad tea. particularly like brand, easier come across. imperial blend, believe, complex yet well balanced ones tried. full body like good cup assam, means overpower delightful, clean taste darjeerling, complete long lasting note bergamot. enjoy best evening. gives satisfying relaxing finish busy day.<br /><br />for interested specifics: use teaspoons lose tea stainless steel infuser oz mug, let steep water min, take infuser out, drink without sugar milk savor sophistication.",
          null
         ],
         "marker": {
          "opacity": 0.5,
          "size": 5
         },
         "mode": "markers+text",
         "name": "4_tea_teas_earl",
         "text": [
          "",
          "",
          "",
          "",
          "",
          "",
          "",
          "",
          "",
          "",
          "",
          "",
          "",
          "",
          "",
          "",
          "",
          "",
          "",
          "",
          "",
          "",
          "",
          "",
          "",
          "",
          "",
          "",
          "",
          "",
          "",
          "",
          "",
          "",
          "",
          "",
          "",
          "",
          "",
          "",
          "",
          "",
          "",
          "",
          "",
          "",
          "",
          "",
          "",
          "",
          "",
          "",
          "",
          "",
          "",
          "",
          "",
          "",
          "",
          "",
          "",
          "",
          "4_tea_teas_earl"
         ],
         "textfont": {
          "size": 12
         },
         "type": "scattergl",
         "x": {
          "bdata": "fggVQUNJGUFmCRNBbRoZQTaVHkGtyxlBOqcaQSZ6HUHeEx9BtCEYQci0GEFJLR1Bz+sdQZ8oHEFCbRhBNz4dQUaYF0Fp6BdBirgZQYHRGEH+/hlBMlMXQZvxF0FQ1xZBerwcQevYGUGhtBNB9NIUQcguF0HqVBNByVAdQaaOHUEZmBlB+HgZQaoRE0H6Yh1BGcEYQSV4G0HFexxBz5IYQSaDEkExdhxBLu0YQcMMG0Hr5RZBq2EZQQKCHEH7jxpBIaUXQfKevEAk4xlBQdQbQU9VHkG6+hJB1ZgTQYIZHkH1zxhBzEQeQc89HkGSrRlBdwIVQQxbHUFImxhB",
          "dtype": "f4"
         },
         "y": {
          "bdata": "oaSRQEvFjkA3rpNAKjOLQOCkjUDK0oRA8XqUQBm2j0BqkY1A4QiMQGjii0CelodA4WGTQKCMkEAUP49AUPePQD4ui0CHpYpAxD2GQGssi0A6x4pAucyAQGZ1i0BSh4xAf5WWQBeWi0D2K4VAgIaSQBg9f0BrH5RAUWCUQC+1kkAYv4VAJ4yKQOavlEAefI9A6yOUQMg2jUCM03tANQeLQFbFlECR95ZAvbGLQM0xhkDXvohAQGeMQA+Nk0ApPpVAViKNQI7r9z4d/4lA0lmVQAHRkEB31ZRAGb+TQMR4jUD40IlAzZGNQLsPjEAnr5JAv0uRQCu5lUD53otA",
          "dtype": "f4"
         }
        },
        {
         "hoverinfo": "text",
         "hovertext": [
          "wast moneyfelt energized within five minutes, lasted minutes. paid $ drink. could drunk cup coffee saved money.",
          "excel coffebrand coffee available local stores time -- believe company local. drinking quite time tired it. particularly fond turtle sundae flavors good. cannot say bad one.<br /><br />as turns out, less expensive order amazon show front door run local walmart get it. brainer. try it, like rich, flavored coffee, like it.",
          "drink love latin america aromalearning latin american south american coffees distinct \"coffee\" caramelish finish. peets coffee fanatics learned weavers roaster roaster peet's hooked ! already reviewd french organic blend, must say coffee perfect afternoon drink.<br />met weavers team warner brothers party gave half pound french roast. since fans.<br />you dissapointed !",
          "save grace green mountain coffereceived keurig elite christmas, excited break open sample pack pods try different blends flavors. pods box, four green mountain coffee brand. would never tried anything company before, researched online, largest range keurig pods even bought competitors produce coffee brand names well.<br /><br />unfortunately, immediately disappointed quality coffee. tried dark magic, decaf breakfast blend underwhelming, say least. almost completely set writing green mountain altogther.<br /><br />we one gm pod left mindset waste-not-want-not, figured would give one last go around forgetting completely. glad did.<br /><br />the nantucket blend perfectly pleasing cup coffee. nice flavorful without thick pungent (unlike gm blends tried). added flavored creamer almost measures go-to caribou blend pods. almost. all, standard cup coffee which, anything new exciting, pleasing definitely one better keurig options able test out. run pods accumulated, probably pick box well.<br /><br />now know green mountain completely disappointing definitely open trying coffees (with promotion getting bewer ordered <a mountain coffee golden french toast, k-cup portion pack keurig k-cup brewers, > try well) see goes there.<br /><br />if looking go-to choice, cup!",
          "great tast health benefitlike people mentioned, coffee great taste. tried different instant coffees before, one one better ones. another one favorites, want try (though organic), 'africafe pure instant coffee'",
          "brew excel cup coffe quickli easiliprimary point review note packaging less expensive size offered folger. get coffee less money.<br /><br /> recently started drinking coffee lapse many years. since know many cups day would use, wanted avoid fuss coffeemaker. particularly like instant coffee. delighted find folger's bags.<br /><br /> brew nice tasting cup coffee. kind coffee expert, know special terms might used. know let bag seep bit minute, sure tastes good. thanks much better half, also learned bags produce least two good cups coffee.<br /><br /> convenient, easy, tasty. intend take travel alternative in-room coffee makers (yeck!) vending machines.<br /><br />jerry",
          "simpl convenilive dorms without kitchen making cup coffee really easy this. especially need stay late study wake hours sleep. like making tea tastes decent enough. starbucks good enough sugar cream.",
          "coffeem coffe creamer hazelnutlove convenience singles. best creamer around.taste like big bottle. stick purse take work.",
          "okcoffee finely processed flavor alright. nescafe mount hagen better - bought try something two, probably get again. slight \"vitaminy\" taste, overwhelming. also bit pricey get.",
          "bavarian creme flavor oilmake coffee creamer part commercial coffee creamer, vanilla, butter creme, almond bavarian creme flavors rest milk. tastes wonderful half price store-bought!<br /><br />it excellent!",
          "delishfast, easy definitely delicious. makes great cup coffee easy make. good purchase. continue order here.<br />thanx...",
          "nopot fresh coffekeep regular bags decaf bags home times.<br />never drink old coffee. best way make iced coffee.",
          "smooth coffe highli recommendgreen mountain \"nantucket blend\" k-cups make good cup coffee <a elite gourmet single-cup home-brewing system</a>. smooth tasting brew wife prefers <a people, donut shop k-cups keurig brewers (pack ) [amazon frustration-free packaging</a>] generally drink morning.<br /><br />these good \"small\" \"large\" cup settings well.<br /><br />highly recommended!<br /><br />cfh",
          "bestchocolate covered espresso beans wonderful! chocolate dark rich \"bean\" inside delightful blend flavors enough caffine really give zing.",
          "tastilove coffee. wish came already ground grinder use blender instead. worth it. many flavored coffees tried seem flavored odor reach coffee, one manages both.",
          "make dayalways strict peet's coffee lover, reticent switch brands weaver's heart!! taste clean strong, ethos correct (organic, baby) even packaging zen appropriate. still caffeinated heart!",
          "fantast coffe best everbrother bought pound coffee christmas. told \"weaver\" original roaster pete's coffee, eventually split started roaster. well let tell stuff delicious! never married brand coffee, usually would buy starbucks lb bag costco, whatever looked good trader joes, weavers class own. subscribing guarantee stuff delivered regularly. try it!!",
          "note rate coffe sellercoffee good but, me, nothing special. buy nice, mellow blend, favorite daily coffee, nabob, must shipped canada. however, first order canadian company, taking long time delivered (still gotten it).<br /><br />the reason three stars quality coffee fact description product mention fact \"kona coffee\" actually % kona. look carefully photo disc, see information, legal disclaimer saying product may match exactly description. fault reading carefully, happy see thought % kona careful. bought % kona local store know product tassimo discs, read product title ordered.<br /><br />as said, coffee tastes good, amount coffee usual amount, neither small cups european coffees extra large size, would recommend coffee. aware blended coffee % kona. expect come flash, amazon prime delivered it.",
          "great tastgreat work, pop instant bag minute make coffee. best tasting coffee. easy make without mess.",
          "roast smooth brewroast home stove-top popcorn popper (but outside, course). beans (coffee bean direct green mexican altura) seem well-suited method. first second cracks distinct, roasted beans medium slightly dark great results every time. aroma strong persistent. taste smooth, velvety, yet lively.",
          "conveni far better instant coffethink coffee bags good fresh ground fresh brewed coffee, taste far better instant coffee. work, water cooler hot water dispenser. brewed hot water like tea bag making tea tastes far better instant coffee. highly recommend coffee lover access hot water access coffee maker. individual wrapped sealed bags allow take one tiny tea like bag pocket purse early morning meetings.",
          "strictli bestbest coffee ever had. light taste full bodied. pleased packaging, resealable keeps stay fresher much longer unlike brands construction stays intact. must say displeased purchase, must buy!",
          "excelnice flavor, bitter. really like coffee. searching coffee pleases whole family's tastes one.",
          "great coffe terribl priceone best choices, opinion. also adore amazon, need negotiate better price tassimo disks. available bedbath & beyond $. always get % brings $ --- $ (before % readily available coupons) months ago. again, excellent blend full flavor - bitter - think favorite.",
          "convenicannot kind coffee maker work, forced buy in-house coffee shop starbuck's across street. economy, one wants pay high prices, started coffee club. us buy coffee bags separate creamer enjoy fresh, hot, tasty coffee every day without paying coffee shop prices. thanks folgers!!!",
          "treat best coffego ahead drink brands served neighborhood cafe must make sure stash weaver's peru organic whole bean home serve friends family deserve best coffee. go back corner cafe people drink average coffee know better, take along travel mug filled weaver's coffee home enjoy real cup joe. er, weaver's.",
          "nantucket blend kcupone green mountains best blends coffee opinion,love everyday blend, perfect stregnth, excellent blend!",
          "ye real excel coffeyes, cup right now. went town looking coffee invited non profit organization banquet besides delicious food top amazing delicious coffee. paid extra bucks get right way worth money. highly recommend.",
          "one better tdisctried % available t-discs, kona blend one best regular/unflavored coffees tassimo. nice smooth flavor overpowering, pleasant aroma. personally, would enjoy stronger/bolder. however, bit mild, goes well breakfast and/or (gluten-free) baked goodies. find mildly perplexing product available tassimodirect, subscription service available. originally found (dead bats from) beyond, used % coupon, happy final price.",
          "bad instant healthi coffebought coffee much cheaper ganocafe organic reishi mushroom well healthy antioxidants. expect taste good, actually does! days $ totally worth it. sisters take ganocafe introducing less expensive similar coffee. follow product weeks. :)",
          "great beanordered coffee themed wedding. arrived fight friends smelled tasted good. literally hide box wedding! big hit wedding day none left put tables. great tasting product lowest price seen!",
          "good coffelove ordering whole bean coffee amazon. like much first product review. say usually big fan flavored coffee, thought would give try. husband started grinding up, could smell throughout house. sometimes flavored coffees, smell taste not. however, one. going order another flavor company give try.",
          "best tassimotried many tassimo flavors. far favorite. normal cup coffee starbuck's house blend cuisinart pot one two days week use tassimo. coffee rich stong. understand current price $ disks hope lowered amazon. now, buy elsewhere.",
          "best coffebest coffee ever had. run american pavilion cannes weaver's far away popular coffee sponsor! hundreds people come pavilion every day looking american coffee disappointed. booming business year! buy it! happy did! julie",
          "kona tassimocoffee's available tassimo kona richest flavor fantastic aroma by<br />far favorite.",
          "good tast cup joebold blend great taste. flavor comes bursting through. usually brew & drink organic sumatra mandeling bj's. use blend exclusively, get cup rivals complex flavor tassimo brewer fantastic. come amazon add subscription service.",
          "good stuff\"these delicious! chocolate excellent espresso bean perfect roast purpose. crunchy bitter.\"<a covered espresso beans pounds</a>",
          "expens onlincoffee fanatic always stayed away never liked instant coffee assumption would similar. really enjoy starbucks via instant coffee - drink much, rather expensive thought would give try. wife pleasantly surprised taste. think equals fresh brewed acceptable. bought first pack local grocery store $. seemed little high figured would check online find best price. started calculating online prices, charging $ bucks count. would suggest check local grocery stores might able find cheaper. / = . per single. online price $ / = . (shipping calculated in). looking supposed discount coffee supplier, get case boxes $, sales tax free shipping...sounds like great deal?? x = singles $ / = . per single - expensive all.",
          "perfect workpurchased coffee mate singles use work along coffee \"tea\" bags. great require refrigeration.",
          "favoritgreen mountain favorite brand. nantucket favorite coffee green mountain. smooth flavor. strong weak.",
          "ricor forevdrunk ricore since mother allowed drink caffeine. love stuff milk.<br />it much smoother tastier instant coffee milk. french live us,<br />and bring back boxes ricore every opportunity. savora another hidden gem bring<br />back. check out.",
          "guest loveroast large cast iron pan grill (about bag time). smell wonderful roasted beans taste delicious too. importantly, coffee smooth; bitter aftertaste. numerous occasions, send roasted beans home friends like much.",
          "bitterbitter tasting coffee even enhanced cream and/or honey. definately cup coffee. oh, say bitter?",
          "great machinnever huge coffee fan. however, mother purchased little machine talked trying latte macciato. coffee shop better one like products, (as usually non-coffee drinker!).<br />the little dolche guesto machine super easy use prepares really good coffee/latte/cappuccino/etc less minute (if water heated up). would recommend dolce gusto anyone. good price i'am getting one myself! :)",
          "citi steam much steam brewhusband disappointed coffee, weak, watery cup coffee. definite waste $.",
          "good coffelooking replacement timothy's kona blend longer carried amazon. coffee green mountain nice, strong enough me. like milder coffees, one you.",
          "besttrue seattle coffee addict, never better coffee candy.",
          null
         ],
         "marker": {
          "opacity": 0.5,
          "size": 5
         },
         "mode": "markers+text",
         "name": "5_coffee_blend_cup",
         "text": [
          "",
          "",
          "",
          "",
          "",
          "",
          "",
          "",
          "",
          "",
          "",
          "",
          "",
          "",
          "",
          "",
          "",
          "",
          "",
          "",
          "",
          "",
          "",
          "",
          "",
          "",
          "",
          "",
          "",
          "",
          "",
          "",
          "",
          "",
          "",
          "",
          "",
          "",
          "",
          "",
          "",
          "",
          "",
          "",
          "",
          "",
          "",
          "5_coffee_blend_cup"
         ],
         "textfont": {
          "size": 12
         },
         "type": "scattergl",
         "x": {
          "bdata": "rC7vQEYw7UC13e9AJS7pQDyd/0DV9fJArgnwQDWS/UDZ2OZAF6L8QKR780BSve9APSTqQFCT40BVEe9AGYH1QAn18EAkhepAlr7zQKWA5kAmcfNAHsfpQDbG60AgretAXDzyQEOf7EB8KulAxUjtQAGW6kBzHgFBy73mQHXl60Cla+pAuDjsQODO6EBgNuxAazrjQL1P8UCFpfJARZ7oQLkS9UCBV+ZAKs/9QFTc8UC70etAG8fpQJ8J7EDFw+5A",
          "dtype": "f4"
         },
         "y": {
          "bdata": "VmkZQEVLEUDVaxhAjqIMQP3CKEDDdyBA4IEdQCqS4T8wgv4/QNTbP1I7HEB+yiRA+awNQOSyAkDCCQpAur4iQK5pHECV/wlA9DohQPWlB0BifiNAP7QEQF54C0CzQuo/thwgQKfdEkAJOA1A+FkVQMyQ7D9hNidAKiUKQBwZDkDUaPA/RX4SQBEj7j98wQ5AXlADQDDHDkBqDyFAhb0JQN6fBUCghAdAKQ4dQE+eHkBX+hBAKvINQOVyEUBllg9A",
          "dtype": "f4"
         }
        },
        {
         "hoverinfo": "text",
         "hovertext": [
          "excel sweetnersweetner best, brings true flavors ever add to. great health benefts.",
          "sugar rawlove sugar. also get muscavado sugar great use place regular white sugar. recommend!",
          "go sweetnerglad introduced brand sweetner replace sugar, much better. really like sweetens herbal sweet teas without use much, used place pancake syrup too. learning use first thing learn, learned use it, became hooked. would even look sugar more. highly reccomend want clean fresh taste feel foods.if purchase sweetner, take advantage ship save, save lots money long run.",
          "agav nectarsave little money buying larger quantities, opposed smaller bottles. like taste agave, cross honey/maple. good pies, cereal, frozen yogurt, etc.",
          "healthi stuffstuff great low glycemic. substitute sugar body great favor. size economical shipping fast, too. got mine soon.",
          "healthi sweetenordered product two times happy delivery product. works great cooking, baking substitute sugar chai lattes.",
          "great way replac sugarreally like product taste great coffee tea, lost weight cutting sugar replacing honey agave nectar.",
          "yummiusing agave nectar several months found staple home. madhava agave nectar good tasting, good buy!",
          "sugarfrecareful eat many one day, one chemicals laxative!!! lololol!!!",
          "yummigot mum diabetic needs watch sugar intake, father simply chooses limit unnecessary sugar intake - one sweet tooth - loved toffees, would never guess sugar-free great eat pretty much guilt free! impressed ordered (w dark chocolate) take office eat instead snacking sugary sweets.<br />these excellent!",
          "eco sugargreat able get sugar way.its good eat going use sugar least processed unhealthy state top sugar body,and helping fair trade farmers.it good thing around.i happy get amazon.",
          "best price agav nectar foundlow glycemic index diet help control blood sugar hormone levels. nutritionist recommended agave nectar sweetener since gi index low opposed honey low sugar . tried supermarkets, health food stores wholesale clubs. prices usually around $ bottle $ . used like honey - substitute every sugar reduce liquids /><br />i also use carrot cake recipe (equal substitution) instead sugar substitute whole wheat flour instead white flour decrease liquids. delicious would never know actually good you.",
          "sugar substitutfinally found natural sugar substitute added benefit low glycemic index. agave delicious! recommended many friends, economical purchase bottles.",
          "lieused buy sugar years. eat much sugar, still. sugar called turbinado sugar, misleading. picked brand says real turbinado sugar, brands (in local food store) sugar brown colored caramel something.<br /><br />how find out? needed sweet water days ago. put sugar raw glass. water became brown bottom glass got pure white sugar crystals!!!!! shame producer! try put sugar mouth seconds spit pure white crystals well.<br /><br />i wondering consumers hold company liable practice.",
          "caramel flavor excel bake top tip use agavwant find good flavor substitute maple syrup, barley malt, brown rice syrup, nicely. use madhava's agave nectar baked goods time, always pleased results. time writing this, amazon stock vendor. however, stock, priced well /><br />other baking, used top waffles, pancakes, small doses ( teaspoon) added oatmeal. little goes long way.<br /><br />using agave nectar: use less agave nectar would another sweetener (depending taste recipe. recipes dried fruit need much less), cut heat oven degrees f; oil recipe, cut (alternately, use tablespoon two sifted coconut flour absorb liquid -- use much recipe dry). additionally, baking, make sure mix wet ingredients prior adding dry. bakers might already know this, remember read recipes first sugar typically added dry ingredients (unless beaten butter first).<br /><br />agave nectar crystalize like sugars do, able substitute corn syrup making hard candy. however, highly recommend baking. makes everything moister.<br /><br />if looking less caramel flavor, need use light version product (equally good applications).",
          "great substitut sweetenusing diet guided low-glycemic eating months, fair success. amber agave nectar become primary sweetener low glycemic effect blood sugar. taste mellow,and sweetening power higher sugar [so use less], without \"twang\" honey. one thing tried (still using sugar) making kombucha - still use sugar, sure would good idea introduce raw element kombucha. actually, may over-caution nothing related actual chemistry circumstance.<br /><br />our primary uses sweetening yogurt, using little baking do, use salad dressings, fruit desserts, etc. limiting sweets consumption,we use lot this, nice need it. plan try using homemade jams later season. buy subscription, cost % less local walmart % less health food store brand. \"best by\" date bottles received may .",
          "awesom sugarlove sugar. tastes much better overly sweet tasting \"regular\" sugar. used quite baking items always turn good. price amazon set good makes easy use everyday stuff.",
          "sugar rawreally enjoy product. hard time finding affordable store. found look further, sugar use. thanks much.",
          "sweet successawesome product ordered many times. honey-like flavored, lower glycemic sweetener great coffee tea.",
          "cough medicinlooking secret ingredient robitussin believe found it. got addition root beer extract ordered (which good) made cherry soda. flavor medicinal.",
          "good contain could betterused buy wholesome sweetners agave like little better, switched became expensive. cheeper option. taste same, seems little less sweet find use get right sweetness coffee. like container. pour well, pour better squeeze bottle, sticky mess counter every day. fine price. continue shipped every month.",
          "bestlove product! best natural sweetener ever tried, tried many. use also pancake syrup substitute honey peanut butter honey sandwich. last long time, good value.",
          "sugarsugar raw, flavor profile much better white sugar suppose better something. wish bags resealable.",
          "manufactur problem diminish productused liked sugar raw many years, introduced starbucks. recent purchase, however, disappointing. sugar lighter color crystal size maybe regular size. large crystals something always really liked sugar raw. enhanced quality mixed drinks lattes. called hotline complain told problem recent sugar crop result less molasses sugar. many complaints similar nature. this, claimed, also reduced crystal size. said problem go away newer crop. representative said new-crop sugar digit date code (without spaces) ends \"\" letters. trailing digits date code using julian calendar. (my recent bad-purchase space initial sequence numbers ended \"\"). bottom line: current product much better much cheaper products. get better crop, go back purchasing sugar raw.",
          "agav syruplove stuff. sweetens without affecting blood glucose levels. could figure make tequila would set. kidding.",
          "great littl treatgreat - described. used bee-themed party, use \"to go\" packs honey coffee tea.",
          "good productuse raw sugar, seem little smaller normal crystals still good. buy again.",
          "warn warn alcohol sugarbuyer beware please! sweetener everybody. maltitol alcohol sugar undigestible body. know short time consuming one unsuspecting many cannot digest extreme intestinal bloating cramping massive amounts gas person experience. nausea, diarrhea & headaches also experienced. learned lesson hard way years ago fell love sugar-free chocolates suzanne sommers used sell. thought would found sugar-free chocolate nirvana first taste bliss short lived terrible side effects maltitol kicked in. discomfort unlike anything ever felt before. blew like balloon painful abdominal cramping. symptoms passed, unpleasant. though hard believe low calorie sweetener could culprit, symptoms gone stopped eating chocolate. hunch something maltitol unfortunately confirmed year later purchased delicious sugar-free popcorn local market. taste amazing looking label wondering could possibly make yummy, new sugarfree treat taste good, heart sank followed little asterisk next sugarfree sweetener* bottom label read \"maltitol\" tiny little letters! thank goodness would eaten little. still ended side-effects much shorter duration. people use maltitol heart's content others, like me, bad reaction it. case like me, ... ...it maltitol!",
          "greatreally love sugar price-wise much cheaper buy amazon compared anywhere else.",
          "great buyfirst time ever used agave nectar -- great. keeps blood sugar stable. great buy also!",
          "stuffstuff buy big box stores. nothing healthy it. carbs sugars. save money get something least taste.",
          "never use white sugarsugar good. use coffee, cereal, etc week never go back white sugar, white sugar taste terrible. plus read, raw sugar contains lot minerals missing diets.<br /><br />the product delivered fast well-packaged. complaint price. wish could find raw sugar cheaper. would happy buy bulk, cheapest found.",
          "could gooddisappointed product could see many calories time ordered it. received see calories per tablespoon. granulated sugar calories per tablespoon. could agave nectar better sugar?",
          "great stufflove using sweeten tea, coffee, etc. tastes much better low glycemic sweeteners - bitter aftertaste.",
          "sugar rawproduct exactly advertised. savings! least half retail price. easy store individual packaging.",
          "low carb angel food puffdiappointed flavor texture mix. usually like low carb things tried, diappointed specific one.",
          "excel perfectdelicious sugar. pretty light brown color delicious aroma. granules quite big, however -- bigger plain refined sugar. makes difficult cream butter sugar together. use recipe melt sugar first baking it, use brew beer plan boil melt it, great product. would perfect sugar granules bit finer.",
          "good product terribl agricultur practic\"sugar raw\"(tm) please harvest cane w/o burning<br />to delivered to: hc&s<br />dear \"sugar raw\" folks,<br /><br />we buy product care environment. would like know care too. burn cane fields maui, adds worsens climate change. smoke burning damaging lungs workers, workers' children residents maui.<br /><br />we love product want change no-burn harvesting continue buy it, knowing contributing global warming lung disease.<br /><br />[...]",
          null
         ],
         "marker": {
          "opacity": 0.5,
          "size": 5
         },
         "mode": "markers+text",
         "name": "6_sugar_agave_use",
         "text": [
          "",
          "",
          "",
          "",
          "",
          "",
          "",
          "",
          "",
          "",
          "",
          "",
          "",
          "",
          "",
          "",
          "",
          "",
          "",
          "",
          "",
          "",
          "",
          "",
          "",
          "",
          "",
          "",
          "",
          "",
          "",
          "",
          "",
          "",
          "",
          "",
          "",
          "",
          "6_sugar_agave_use"
         ],
         "textfont": {
          "size": 12
         },
         "type": "scattergl",
         "x": {
          "bdata": "mwEOQVzzEEHkqQ9BlVIUQaHtDkEw1Q5BfGsRQQywFEFeFxBB0kcQQX0GEEH1qhNBfX8TQZLDEEGGqxJBZ0cRQVpaEEF7/g9BARQPQRx3DkG7lw5BNdAPQYBiEEGLCBBBPu8SQeeoD0Hsrw9BZEYRQQCZDkEmIRRBUNEOQTqgEEGJMRRBtDUNQZ0VD0FUfA5BLqQRQcfDD0GYkxBB",
          "dtype": "f4"
         },
         "y": {
          "bdata": "rBQCQFmO0D9THPE/0zH5P6RT4z/A5vw/NvvyP3kg/D/SNdo/IPjTPxb/zT+I3PQ/6XH0P2iPzT+3m+8/No/1PxiIzT/jy8s/PHkGQNfLGECLVfY/K24AQPzEuD/N0sQ/k+T6P+4jDUBGMsg/ePT/P9W+wz9oOvg/Ij/jP88MzT+1APQ/zYoHQI0qwj/Qh9s/dOrTP4CGyz/iV+g/",
          "dtype": "f4"
         }
        },
        {
         "hoverinfo": "text",
         "hovertext": [
          "dog love foodspaniel tried several foods years, one eat without \"people food\" added (of course, still treat occasionally). went month tooth-cleaning appointment, vet told us take home teeth need cleaning another months, least. specially designed teeth health needs, loves it. actually cheaper fancy pet store! could ask?",
          "great dog allergidog ton allergies environmental food. prescription dog food tested see allergies has. got test back, learned allergic something prescription brand. finally found dog food done well this! still environmental triggers, happy finally eat something know pain.",
          "bestexcellent, lo-fat, lo- calorie treat dogs. german shorthair pointer-and treats favorite( organic peanut butter cookies smaller dogs, loves them-and weight-control like them!)",
          "ehhhremind dog treats made using pumpkin cinnamon. kind bland favorite back nature product. finace really loves three stars come from.",
          "huge successmale maltese dog enjoying old roy's puppy biscuits walmart. could find them. desperate find treat would measure up. ordered six bags peanut butter crossed fingers.<br /><br />they arrived, little guy loves them. gets one heart-shaped biscuit bedtime. sleeps crate. hears touch bag treats, beats path crate high excitement. big hit him. well worth price. high quality even smell peanuts them.",
          "great dog foodyear old basenji/jack russell mix loves dog food. noticeably healthier energetic since switched standard dog foods earlier year. despite higher cost natural dog foods, find eats significantly less natural balance dog foods still stays happy full. normal dog foods, would eat cups dog food day (the recommended serving size), whereas eats cup cup natural balance dog food day. take account, actually getting \"bang buck\" natural dog foods since buy much last long normal dog foods... healthier, happier dog, boot! add fact get free, shipping amazon prime... sold!!",
          "perfect english bulldog allergienglish bulldog skin allergies summer got age . vet recommended wean food previous owner gave (iams lamb rice) onto new kind. second one tried, working ever since. dogs need limited diet sensitive additives proteins commonly found commercial dog food (like chicken beef).",
          "high qualiti gave dog wick garecommendation bought puppies (lhasa/bichon mix lhasa/poodle mix) continue food since weaned. somewhat expensive food cannot say terribly pleased loaded stuff headed home.<br /><br />let say this, small dogs before. never seen gas issues. consistently foul gas. consistently. usually sitting laps but, know. dogs.<br /><br />when got first bag stuff, purchased amazon. great price since got lb bag price (i think) lb bag petco. but, continued gas. mean, loved food, get wrong loved would mix water would like soft food. somehow made gas worse think give responsible speed chowed down- cannot blame food gluttony.<br /><br />eventually, switched food. farting. think due high fat content undoubtedly necessary small puppies. need diet. think advised keep much longer useful (they said year). yeah right, try dealing gas long. around mos age switched puppychow. much better. granted, like much, humans like whole lot better.",
          "convenifood get pet store. delivered door! price slightly less.",
          "badfed golden retriever hated it. would eat it, did, gave terrible diarrhea. buying again. also super expensive.",
          "great food dog sensit stomachstandard poodle pomeranian wonderful food. switched different food (due price) couple times end going right back natural balance.",
          "eukanuba puppi small breed dog foodultimate puppy food. kibbles great small breeds. high digestible nutrients opposed fillers companies use. less waste results high quality ingredients. hunting, training, showing handling various breeds dogs nearly years, multiple national champions. highly satisfied eukanuba's quality results obtained feeding foods. recent purchases wag, amazon.com. prices best found good shipping immediately items stock.",
          "fast great servicfast great service, cavashon loves low fat dog food. thanks. arrived great condition, thank thank thank",
          "yummigreat healthy chew wk old beagle, rio. loves taste sure beats arm.",
          "better life dognatural balance dry dog food lamb meal brown rice recipe wonders jack russell. awful food allergy's food last hope last food could find something allergic to. problem eating dry normally mix natural balance dry lamb brown rice natural balance wet lamb brown rice.. seems like better. started feeding dog (a bichon) loves it. dog allergy's stomach issue.. want dog eat better food-- it! see difference pet.",
          "royal canin cockerbest dog food market today. numerous ear problems cocker spaniel cleared since taking food.",
          "great dealroyal canin recommended dog, since line dog food specific breed, difficult find stores. petsmart petco carried cocker spaniel formula smaller bags much expensive per ounce ratio. finding larger bag great deal. cocker loves food too!",
          "happi dogbought one year old cocker. however dogs love it. coats look better, would less, eat less, use bathroom less, cocker used one chronic ear since time puppy gave problems. seems cleared up, smell. eyes give less problems. old yorkie eats less, used throw time sensitive tummy. black lab mix, hot spots would lick fur off. great changes matter month. mix roughly naturals dog food blend. great.<br /><br />sept />i love breed specific food, however went place next bi-monthly order shocked price hike month! paid<br />$ aug bag sept price $, difference $ price! huge amount go considering assuming price gouge; due speculation crops :( look local vet product. get large bag less petco well discounts offer. order larger bag ask.",
          "perfect cockerfather could longer take care beloved year old cocker spaniel, decided take family. brought nyc ear eye discharge. also slightly overweight. check vet ruled infection, decided try royal canin based numerous good reviews.within week ear eye problems gone dropped good amount weight. going food feeding her!",
          "great stomach problemshepherd/collie mix ibs. vet recommended limited ingredient food. really helped symptoms likes it. always buy amazon...it $ cheaper free shipping!",
          "great dog foodgreat dog food, dog severs allergies brand one feed him.",
          "healthi dog foodhealthy dog food. good digestion. also good small puppies. dog eats required amount every feeding.",
          "great foodthree dogs love food! bought specifically one dogs food allergies works great him, hot spots tummy problems.<br />i love ships right door free shipping.",
          "great dog foodgolden retriever one picky dogs ever met. experimenting various types food, found loves natural balance. really like natural balance fact multiple flavors dry wet varieties. mix dry food little wet food golden loves it. furthermore, like mixing flavors time think meal day day might get little boring, figured not. tend stay away fish type though smells...<br /><br />additionally, started purchasing amazon petco wet food box couple cans. came home surprise realized could save $ time bought dog food buy amazon.<br /><br />all all, definitely recommend give stamp approval natural balance dog food. never eaten it, dog seems love it.",
          "dog loveconvinced human animal crackers. look taste exactly like human ones (yes, tasted it) contain sugar, one last ingredients nutrition facts either. ill give dog small amounts.",
          "mmmmm mmmmm goodfood great - ages dogs. year old puppy. soft hardly ever get sick. food good especially amazon prime shipping :)",
          "buster love dog foodtired many different dog foods yrs cocker spaniel. came upon breed specific dog food & figured would try it. dog loves food always finishes food. used yr & tired it. seen significant change (for better) him, active well.<br /><br />i buy brand food now.<br /><br />buster gives paws & give stars.",
          "great foodgreat food! love idea one food ages & breeds. ît's real convenience well really good product. dogs eat less, almost gas, poop regular perfect consistency, else mom ask for!!",
          "great allergi sensit dog food dog lovepup experienced allergies forms hotspots itching dog foods. cheap 'you buy anywhere' food crazy preservatives cause health problems pets. food works wonders reducing allergies dog loves food.<br />this message ramsey frankenstein approved.",
          "natur balanc lamb ricedogs like flavors tried dog food, reason itching increased tried lamb rice. itchy dogs giving limited ingredient dog food try help. duck sweet potato cut itching significantly, tried lamb rice started itching again. like natural balance quality ingredients.",
          "increas dog itchawesome dog food. however, given \"boston\", severe reactions food ingredients; itching increased violent jumping bed night, scratching. soon changed different formula, scratching stopped. glad natural balance choices. guess try each, find best pet.",
          "good qualiti dog foodbought several vitality canned dog food products found good quality. product looks like stew processed meat smells better. labrador finicky appreciates product better most.",
          "happi dogyear old cocker spaniel loves food good -- needs lose pounds trick. glad found amazon. hard find elsewhere.",
          "great foodfood especially designed cocker spaniels range health issues...i using product three dogs happy it. also packaged well result stays fresh long period time. great product!",
          "ferret loveferret loves rabbit; nice high protein treat addition regular evo ferret diet. price reasonable compared local pet store, often item stock.",
          "good healthi dog foodpleased natural balance dog food. dogs issues dog foods past someone recommend natural balance grain free since possible allergic grains. since switching issues. also helpful different kibble size larger/smaller sized dogs.",
          "dog lovehealthy mixed llasa, tibetan terrier adores them. healthy breath smell teeth good shape products. great healthy product.",
          null
         ],
         "marker": {
          "opacity": 0.5,
          "size": 5
         },
         "mode": "markers+text",
         "name": "7_dog_food_dogs",
         "text": [
          "",
          "",
          "",
          "",
          "",
          "",
          "",
          "",
          "",
          "",
          "",
          "",
          "",
          "",
          "",
          "",
          "",
          "",
          "",
          "",
          "",
          "",
          "",
          "",
          "",
          "",
          "",
          "",
          "",
          "",
          "",
          "",
          "",
          "",
          "",
          "",
          "",
          "7_dog_food_dogs"
         ],
         "textfont": {
          "size": 12
         },
         "type": "scattergl",
         "x": {
          "bdata": "STxAP9pnKz8XU0k/MVBOP+MGhT+HtC8/pcMeP9VCeD+vNZw/HdiDP7KjUz8YEUE/eoFmP1tkcj9eCyo/sJaKP6UakT/oeok/b2+GP/ZiUT+TukE/BW87P7yxNz+7SDU/GmxQP5/Bdj+KiE0/FjZQP4iwJj8ZYiY/f8QmP2pcQj931HI/nbyCP3obiz+nTDE/tVBZP/uWWT8=",
          "dtype": "f4"
         },
         "y": {
          "bdata": "IpcnQCRmLEBxMClA68knQFgsJkBDEC1AeBEuQBJKLkBLDiFAZh8mQCKhLECsPitAaionQHNJIECvYy1AMj0kQBMlI0BWFydA3SImQPGJLkCicSpAQAgrQPIKLkBCxyxAqVUnQKBIJUB16ylAv30rQE2dLkBGhC9APxAvQK4KMECKiClAQ4gkQF0MJ0BnISxA5xIhQBNyKUA=",
          "dtype": "f4"
         }
        },
        {
         "hoverinfo": "text",
         "hovertext": [
          "sureenergy junkie sure works not, know taste greatest. drink steaz energy drink think get results. like products natural others.",
          "low carb altern gatoradus low carb diet little tablets thing.<br /><br />two years ago started cycling many years heart arrhythmia longer rides high heat. drinking plain water little research thought electrolytes might issue. gatorade option loaded carbohydrates looked around low-carb alternative. \"zero carb\" sports drinks help do? one day ran across bike shop tried tube them.....voila!...problem solved!!<br /><br />i shared two friends particular whose problems leg cramps resolved using these.<br /><br />these guys got right -- superbly formulated simply work.....",
          "besttried energy shots one one really makes feel good energized without sides effects all, also best taste, others taste like medicine, one tea fresh taste. love it.",
          "great energibought husband said best energy shots there. takes one mornings works hard day. good stuff!",
          "great sourc electrolytproduct serves well source electrolytes long run bike ride.<br />i tried flavors really like grapefruit flavor... after-taste actually like slight carbonation.<br />i use hammer products really like whole product line.",
          "best energi shot smooth organwant organic energy shot, choices one steaz assorted flavors guayaki. guayaki yerba mate actually steaz energy shot energy drinks, use sambazon acai, similarities ingredients.<br /><br />great energy burst + hours steaz energy shot, withdrawals headaches afterwards. plan drinking one every day lunch work. help cut iced coffees, helping calorie intake.<br /><br />already ordering subscribe save, per month. great value.",
          "healthproduct great job clearing kidneys. helped make husband feel lots better even though early renal failure.",
          "rocket bottlfeeling extremely tired around late afternoon. software engineer, entirely unacceptable! so, asked nice lady counter local whole foods market, something give extra energy need get day.<br /><br />she excitedly returned suspicious little green bottle. three hours drinking whatever was, brain still working unnatural speeds. summarize experiences: believe works.<br /><br />she explain needed drink plenty water it, personally feel helped energy level. feeling tired day hate coffee, give shot - preferably eat anything.<br /><br />woot!",
          "best energi shotchemical sensitive well sugar-free. using product year. use maybe week most. drink bottle boost energy hour two depending feel. going replace a.m. coffee sweet early afternoon start fade. drink full bottle workout. drinking guayaki yerba mate teas years. compared many toxic energy boosters highly recommend this. product clean leave nasty chems behind body. try judge review - everyone body reacts differently.",
          "aluminum freebaking soda works great cooking health reasons. take acid indigestion heart burn. tsp half glass water gone. use make body alkaline, great changing ph level body!",
          "favorit energi shot naturtried energy, red rain, nos, energy shots. favorite terms taste effect. plus, somewhat reassuring know natural ingredients used. sometimes wonder really putting body brands. purchase box every months past years.",
          "relax almost like someth smokecould believe told relaxing beverage was. seriously, drink getting ready nap bedtime. plans drive perform activity recommended.<br /><br />i feel arms legs almost tingle relaxation. short time eyes start get droopy another place.<br /><br />love stuff.",
          "excel productlif saverson acid reflux since birth every medication available improvement, older gentleman came work place told product automatically ordered him. really expecting better results things tried. surprise! heartburn symptoms since day starting eating one piece ginger morning. eat anything actually enjoy it. product god send him. thank it!",
          "great product help sleeplooking \"natural\" ways help us sleep since always seem overloaded stress busy schedule. yes, would probably better served taking yoga class, good second choice. helps fall asleep stay asleep. drank half first night plenty me. minutes, ready bed! woke refreshed sleepy-drug hangover, huge bonus.<br /><br />i gave product stars (instead deserves) packing job marginal best. product arrived broken bottles, price $ loss! bottles glass wrap one layer small-bubbled bubble wrap around case placed larger box extra room move around box. big packing fail, product awesome.",
          "good stuffproducts takes pretty good, leave gittery. subscibe save well prime membership pay $ shot. wife tried drinks like going style. moderate mine make effective use weight training. recommend product anyone looking healthier alternative high sugar unnatural products everywhere still gives results awesome energy drink.",
          "best energi shot ever tastfirst found steaz berry energy shots local organic market. bought two bottles, cost three dollars each. fell love instantly. drink delicious -- taste yerba mate acai juice, like slightly bitter fruity chocolate honey tea. sensitive sucralose (splenda) many energy drinks days; also hate taste. love steaz actual sugar artificial sweeteners. rush gives slow even. several medical conditions, including fibromyalgia, saps energy causes intense pain. like steaz helps clear away fatigue fog get things done. caffeine jitters, even though mg caffeine bottle.<br />it becoming expensive buy bottles separately stores, started looking online bulk price. thrilled found pack amazon. signed amazon prime specifically product, hah!",
          "cannot handl caffeinyes, probably healthier energy starbucks shots looking avoid caffeine overload, still you. energy drinks cannot made w/ high dosage caffeine. believe caffeine content guayaki shot ml - probably lower un-healthy energy shot drinks believe people avoid top brands b/c contain much caffeine and/or sugar. react well caffeine, guayaki good buy either. definitely feel energy boost w/ full guayaki shot w/ caffeine side effects - irritability, nervousness, mood-swings. caffeine overdose stopped drinking coffee. looks even organic energy drinks still safe.<br /><br />now sensitive caffeine, great buy. loaded w/ sugar. taste easy pleasant. loaded w/ bunch chemicals like shots starbucks drinks. energy boost lasts hours. takes minutes kick probably depends body/weight.<br /><br />side note - want feel energized day, protein drink first thing morning stay away heavy, fattening foods day make feel sluggish sleepy!",
          "tast good provid energipurchased sale. terms energy provides, works, taste leaves something desired. tried mixing water make drinkable.",
          "natur energi boostlooking energy boost without artificial sweeteners chemicals, great option. taste decent nice smooth uplift without jitters.",
          "fantast natur energilooking natural energy shot works, found it. steaz energy shot favorite!<br /><br />i recently gastric bypass surgery, tons sugar no-no. also allergic sucralose (splenda) energy drinks out.<br /><br />i tried bazi energy shots work well steaz, definitely taste well. taste almost like coca-cola--not bad all.<br /><br />if looking natural energy, give try.",
          "great energi drink without artifici ingrediuse product daily, provides steady stream energy. get jittery crash. also helps practice portion control acts slight appetite suppressant.",
          "allday energipretty good product. taste best definitely worse either. gives pretty smooth energetic kick.",
          "like stuffget really early work work get super tired middle afternoon. drinking one hour energy, usually extra strength, day. worked well, gave jittery feeling, almost headachy quite. husband got try skeptical, works well better hour energy give jittery almost-headache feeling.<br /><br />i mind taste--it reminds inside fig newton (mmm). price ok, amazon anyway. grocery store almost $ each, yike!<br /><br />and organic--so feel good it, right? feeling good!",
          "flavor get better energi greatbuying drinking year now, energy boost excellent, continuous, ~ effect. recent shipments seem improved flavor slightly well, perhaps getting used it. drink flavor, heinous fake flavors found other, non-organic energy shots.",
          "aw bare describfirst time really misled reviews amazon. like energy, find rain ok thought would try product based reviews. boy sorry! gagged getting one bottle even nose pinched (really). leaves worst medicinal taste mouth afterwards. tic tacs get rid it! worst all, within hour yawning drowsy. unless really like things taste weird tea-flavored cough syrup work, buy this! know bottles. big fail",
          "stuff workenergy shot truly work! terrible after-taste first, know expect, getting used it. always water handy chaser...which helps! glad found something gives energy need without chemicals found beverages. helped kick addiction diet coke aspartame-laced caffeinated beverages. yay!!!",
          "hammer nutrit fizz rockused endurolyte product several years pill powder form. long desert rides dirt bike always found camelbak water heavily laced endurolyte powder, overly tasty, quite effective, never got cramp several hundred mile rides. desert racing buggy, camelbaks always laced powder. fizz...what great product! firstly, hammer's endurolyte product great, endurance athlete's world use products. second convenient, handly tablets dissovle fizz. third tastes great! imagine getting nice cool drink body starving hydration electrolytes rather getting \"salty\" taste, get refreshing lemon-lime mango! camelbaks always get fizz now. also drop tablet bottled water whenever exercise nice flavored water chock full electrolytes. cannot recommend product hammer product highly enough.",
          "kleri tea work greatproduct works wonders stomach issues. would buy need more. :)",
          "great natur energifantastic product, wish readily available stores. taste greatest, oz. shot, gone second. tastes, less, like concentrated sweet tea. record, hour energy, tastes far worse. put taste results. got caffeine, equivalent big red bulls monsters. cannot stand sucralose sugar substitutes, one shot sized energy drinks sugar it. sugar , horrible. used drink . red bulls day caffeine, gives far better energy, much subtle. preference black coffee, cannot drink cups day anymore. overall, steaz right; real organic ingredients moderate amounts, create big results.",
          "way better guayakitried guayaki energy shots like taste either them! one natural caffeine tastes much better. like cold sure. husband take road trips little cooler ice waters make stops coffee! especially turnpikes way expensive. worth $[...] per shot. normally split them. really sensitive caffeine, even natural kind get little weird drink whole thing coffee me. husband drinks whole shot gets nice wake boost. would recommend sinthetic shots there. feel good putting body! ordering soon sure =)",
          "great prevent crampstuff really works preventing cramping middle latter stages rides. pop water bottle set. flavor fine goes easy.",
          null
         ],
         "marker": {
          "opacity": 0.5,
          "size": 5
         },
         "mode": "markers+text",
         "name": "8_energy_shot_caffeine",
         "text": [
          "",
          "",
          "",
          "",
          "",
          "",
          "",
          "",
          "",
          "",
          "",
          "",
          "",
          "",
          "",
          "",
          "",
          "",
          "",
          "",
          "",
          "",
          "",
          "",
          "",
          "",
          "",
          "",
          "",
          "",
          "",
          "8_energy_shot_caffeine"
         ],
         "textfont": {
          "size": 12
         },
         "type": "scattergl",
         "x": {
          "bdata": "NYgLQTNeDUGl9wVB8b4HQZpdDUE17gVBfooKQVpUCkF7uQVBJqMOQf6lBUGy/gpBl78RQQ0CC0FLcw1BlYUFQXIQB0EhQwhBdeMFQav1CkFAoQVBJ5oFQbSiCkGoqQVBuaIHQfUEDEGhiw1BRpURQcDOBUEoFwZBYLsNQWGqCUE=",
          "dtype": "f4"
         },
         "y": {
          "bdata": "4U9EQMeQP0BfcEdA9fVJQC9XPUBqm0ZAbghJQFabSUCQuERAwKkqQJ9fSEDE1EhAsdcsQDB2SEC7MkFAJHNGQB4SSEAw80NAcxhFQJ0XRkA/10ZAc9VEQCJUSUCEnUdA0cs9QLWpRUB1cT1ATI0/QDKMPUAONEZAbRk/QDYdQ0A=",
          "dtype": "f4"
         }
        },
        {
         "hoverinfo": "text",
         "hovertext": [
          "chocol one much betterrecently stopped eating number allergens (dairy, soy, nuts) one snacks fit dietary restrictions. unfortunately, pretty gross - miserable texture cardboard flavored berry. threw away. would recommend cocoa ones much tastier also allergen free.",
          "great snacklike eating whenever need energy boost.<br />it everything searching a, \"to go snack\".<br />fiber plus chocolate never bad thing!!!",
          "best barfavorite bars ever. combo raisons dark choc wonderful! filling! hard find stores. thankful subsrcibe save!",
          "perfect sizeallergies family, ended working great. negative reactions ingredients though buy many pre packaged foods, work 'on-the-go'. family tried several varieties prefer cocoa loco bars; almost like tootsie roll me-though cannot eat tootsie rolls, great substitute occasional craving. family prefers berry bars eat miss breakfast, need healthy snack, son take cross country running meets. dense filling-not 'soft bar' always eat liquid drink time.",
          "advertisproduct arrived labeled jumbo salted peanuts...the peanuts actually small sized unsalted. sure error vendor intended represent product \"jumbo\".",
          "great snackson loves \"fruit bars\" smaller typical wheat fruit bars. suggestion get child like first try chocolate ones... son favors (chocolate) ones berry ones...",
          "new granola barbuying quaker oats granola bars nature valley chewy bars better tasting, make great snack go. chocolate, peanuts raisins...it get better.",
          "perfect glutenfre chocol chip cookimade chocolate chip cookies brm garbanzo bean flour results fantastic! brown sugar chocolate mask bean taste reviews mentioned. friends could discern difference classic cccs. texture, body, elasticity (meaning reduced tendency fall apart occurs gluten-free flours) nice chewy -- cccs made regular flour. added bonus -- high protein fiber level (i calculate g fiber/cookie) fills satisfied smaller servings glycemic index significantly lower.<br /><br />i highly recommend flour even cccs thing make it.",
          "berri snack barrecently diagnosed gluten-intolerant, looking products allow resume semblance former life. snack bars fit bill. mouth-feel traditional snack bar, pleasant tart-sweet fruit flavor.",
          "good berri flavor excel pricefirst peanut free product bought son. thought tasty. kids liked too. reason think strawberry bars. love soft texture non crumbly state. makes clean car rides. since like apple chocolate bars best. berry always left last. amazon wonderful price wish could subscribe item.",
          "omg buyomg would love cookies except chocolate mixed makes taste medicinal. degusting even strong enough word. horrible horrible mistake...an expensive mistake....they advertised peanut butter cookies bought since everyone else peanut butter chocolate cookies wanted plan peanut butter cookies....however received found chocolate peanut butter ones thought okay try omg almost threw taste. horrible, horrible, disgutingly, medicinal taste. buy!!! zero stars would rate zero instead star.",
          "absolut vileimagine taking kids' playground chalk, perhaps tan colored one grinding powder plenty chunks. scoop put mouth.<br /><br />that disgusting bar is.<br /><br />i idea rating flavorful, none. done nutritional coaching years watched healthy foods progress painfully bad barely edible excellent.<br /><br />this neanderthal-era gluten free bar bad want go local grocery store, take boxes shelf hide different part store (perhaps, trash compactor?) protect people experience daughter product.<br /><br />save money ridiculously expensive spend anything else.<br /><br />\"enjoy life\" bars? ill better putting garbage mouth.",
          "great bar glutenfre dietwant really good snack bar try these, healthy taste good granola bar, without gluten!! buy regularly.",
          "good berri flavorson multiple food allergies really enjoys bars. find good berry taste. also nice chewyness.",
          "child loveson severe allergies. item loves convenience me. feel good giving taste great!",
          "pretti good overalnew food allergies. son diagnosed severe fa since still breastfed, drastically alter diet.<br /><br />before learning brand, stuck eating chicken breasts potatoes every meal. stumbled upon local whole foods, excited try it.<br /><br />overall, really like them. got pretty good texture, taste heft. dense want gag two bites also light eat whole box (which really big).<br /><br />i know alot people complain size/packaging agree somewhat. bar ounce calories... par many breakfast bars. like berry flavor best, closest real, non fa specialty flavor. overally, grateful bars tote several diaper bag car know really need quick snack, left stranded.",
          "berri wariok, husband eats car. keep celiac snack. (hard find roaming around.) eat otherwise. definitely raspberry, kind dry.<br /> never tried snack bars, honesty may norm. know.<br /> like enjoy life's products.<br /> gf, message related products aspartates.",
          "love snacksure review something subjective taste, suffice say like chocolate graham cracker, like (it taste exactly like either those, closest analogy me). sticks cracker kind, dipped chocolate, one end left normal cracker get fingers covered chocolate eating.<br /><br />here nitty gritty details - boxes contain two individually sealed packets, contain probably sticks. packets really cleverly designed, little slit cut folded part, grab sides pull, opens package without hassle - got love japanese product design! :) another nice design touch open properly grabbing-side stick right top.<br /><br />each packets calories ( fat), sodium - terms snacks pretty good option. contain milk, wheat, soybeans sheanut - issue you, want pass. also says packaging facility manufactured also processes eggs peanuts - product use either them, disclosure nice particularly sensitive either.<br /><br />overall great snack great price - pack really packets, quite snacks. one note, live hot climate, order summer melt together (in shipping)! duh! :)",
          "miraclscotties full hot spots used within week hot spots gone. smell kind strong, bad. tolerablel.",
          "yummi smallbrand granola bars really good. berry favorite. however, bars almost ridiculously small. yeah, gluten free, food lot dense food, honestly, normal sized, good tasting granola bars? really tiny. so, taste great bar small.",
          "cannot go wronglooking great gluten free snack sorry chose product. favorite flavor apple nut.",
          "yum yummi yummiernature valley nut lovers variety pack perfect. although sure peanut butter bar, excellent. loved roasted almond, roasted pecan peanut butter.<br /><br />i definately buy seller again. quick shipping fresh.",
          "cannot find anywher elsfiance loves dark chocolate nut granola bars grocery stores around us carry anymore! again, amazon came could happier.",
          "fanrefer picture posted above. bar half size think going be...it literally two-bite bar. deceptive advertising. fact ridiculously expensive reason one star. year old son ate one like them. ate one agreed husband. could give away! everyone different tastes tasty treat far concerned.",
          "fun poppingcrispi stick dip chocol special treat manga fan find local wait till fallpocky plain fun eat. discovered snacks anime convention (though would heard seen manga characters eating them). very, slim sticks biscuity stuff (the flavor cross waffle cones pretzels) charming tiny popping crispness. chocolate flavor, nice non-bitter, non-dark, generically pleasing choco-taste, seems popular (given fast sell cons), prefer flavor strawberry like strawberry ice cream. nice.<br /><br />this means health food (it category cookie, got fat sugar non-healthful ingredients). hey, junk food. know supposed occasional habitual diet. unless really prone binge-eating cannot stop whole one smaller boxes huge calorie splurge stick reasonable number. chocolate pocky sticks set back calories grams fat, saturated. would recommend scarfing multiple boxes. fact, nibble slowly fun cool texture effect.<br /><br />if love flavor coconut-chocolate together (like almond joy) try coconut chocolate ones. really good, oh man. hubby says taste reminds girl scout 'caramel delights\" cookies are, turn, similar old yes yes cookies (from seventies so).<br /><br />anyway, read manga seen anime young folks eating stick-looking treats, seen footage cute japanese girls nibbling skinny little stick treats, eating. :) fun treats.<br /><br />however, crazy hot summer, would recommend look local retailer wait fall's cooler weather. might get sticky, clumped mess pocky sticks deep summer weather. (look local stores specialize japanese anime manga likely carry japanese snacks like these. south florida, tate's comics variety flavors..and fresh melted).",
          "great tast size smallerlove them. sweet right. allergy free food great book. hope non ingredients contains corn...that too. however appreciate fact opened new box cut off. size less charge. effect decision buying again. toddler need real size bar please",
          "someth changdaughter extensive food allergies infant/toddler bought bars consistently. still nut egg allergy like trust manufacturer know food safe. unfortnately last times purchased bars (all varieties) hard rock daughter eat them. tried thought might break tooth. subscribe save; cancelled several boxes one family eat. agree previous post. want love bars love everything company stands (and actually really like cookies), something changed bars even appetizing. hope address issue certainly try something enhance taste address issue texture. total bummer - better past something changed taste, along new packaging!!",
          "cannot take smellproduct says gave stars. however, issues product, namely, family members cannot take smell. taste horrible put lotion cream rubbed skin. weeks ago though since changed sheets, scent still bed. ultimately, stopped using made smell way like. smells like indian spice work me, scent-wise, may work fine someone else.",
          "go nut asskickin peanutstock last time looked. go vermont country store weston find along jaw harp, cranberry horseradish sauce, fartless black bean salsa, apple cider jelly, newton's cradle art motion staple vermont maple syrup.<br /><br />back ass kickin peanuts. hot. activate perspiration glands behind ears arms. requires beverage advertised, glass cold milk, box kleenex since make nose run. look like ordinary peanuts already giving ideas work. suspect people hitting goodies absence, especially colleague greg. going take work earliest opportunity empty contents ordinary planters peanuts can, see whose crying whose nose running return.<br /><br />the shaken ensure spices evenly distributed. important wash hands consumption touch eyes.<br /><br />you go nuts ass-kickin' peanuts.<br /><br />p.s. sharing peanuts, deliberately, probably give greg jaw harp christmas. insulted.",
          "small goodtasty, convenient bars people celiac disease. seem gotten smaller time, taste convenience outweigh reduction size (and price).",
          null
         ],
         "marker": {
          "opacity": 0.5,
          "size": 5
         },
         "mode": "markers+text",
         "name": "9_bars_bar_chocolate",
         "text": [
          "",
          "",
          "",
          "",
          "",
          "",
          "",
          "",
          "",
          "",
          "",
          "",
          "",
          "",
          "",
          "",
          "",
          "",
          "",
          "",
          "",
          "",
          "",
          "",
          "",
          "",
          "",
          "",
          "",
          "",
          "9_bars_bar_chocolate"
         ],
         "textfont": {
          "size": 12
         },
         "type": "scattergl",
         "x": {
          "bdata": "Qz+iQBcGo0CAH6lA8mefQFzFo0DAGZ5Ag8qkQEgOsEAqCKRAcJSsQMEcn0BjiKNA2kekQKC6pUA3oalApJeeQDV+okBy0J5AM6+qQFxQpEBkaqdAQcGqQGWaq0DdgKFAKoGdQLIYoEBNDqVAAlCqQEZ5pEBWrKJAObmkQA==",
          "dtype": "f4"
         },
         "y": {
          "bdata": "F7zzPujN8T5PyiU/KtQbP5LlRD6rFYw/lW02P1sjLD9TdTU/h47YPo3guD5fB0M/35s+P4gBTD/41oY/pKIUP8DoJD+zg5w+oy+OP1AmOT+0xQw/ufW6Pp1wCD/u9CE/ERuEPnqTGj9dv14/UYeLPxAUkz7/ojg/yiUiPw==",
          "dtype": "f4"
         }
        },
        {
         "hoverinfo": "text",
         "hovertext": [
          "hearti oatmealseems little wholesome supermarket brands, somewhat mushy quite much flavor either. pass muster kids, probably buy again.",
          "funni tastcannot eat oats, funny taste them. kids also think taste funny. husband thinks ok, pounds oats eat own!",
          "great tast convenireally like mccann's steel cut oats find cook often.<br />this tastes much better grocery store brands convenient.<br />anything keeps eating oatmeal regularly good thing.",
          "oatmeal oatmeal lovermccann's makes oatmeal every oatmeal connoisseur, whether one likes raw pellet state cooks half hour, sloth addled instant, done microwave three minutes. good, sure, beauty instant variety available different flavors well regular.<br /> variety pack allows different tastes explored, well giving chance experience difference mccann's well-known oatmeals. personally like mccann's cooks thicker body top brand america. apples & cinnamon, though, tends little liquidy may want experiment amount water add. microwave oatmeal cooks one minute twenty-seven seconds, also watch get handle much time water use.<br /> bad thing -- consider bad thing -- offering buy lot end six ten-count boxes. good whole family oatmeal-eaters, single person alone -- well, love oatmeal.",
          "mushiflavors good. however, see differce oaker oats brand - mushy.",
          "wife favorit breakfastordered wife reccomended daughter. almost every morning likes flavors. happy, happy!!!<br /><a instant irish oatmeal, variety pack regular, apples & cinnamon, maple & brown sugar, boxes (pack >",
          "great way orderbag oatmeal seemed like way much, time went found uses it. many recipes make weekly running out! high quality oatmeal much cheaper better anything found grocery store.",
          "great irish oatmeal hurriinstant oatmeal become soggy minute water hits bowl. mccann's instant oatmeal holds texture, excellent flavor, good time. mccann's regular oat meal excellent, too, may take bit longer prepare time morning. best instant brand ever eaten, close second non-instant variety.<br /><br />mccann's instant irish oatmeal, variety pack regular, apples & cinnamon, maple & brown sugar, boxes (pack )",
          "good way start dayvisiting friend nate morning coffee , came storage room ( packet mccanns instant irish oatmeal .) suggested try use ,in stash . sometimes nate dose give chance say , ended trying apple cinn . found tastefull made water powdered milk . goes good o.j. coffee slice toast ready take world...or day least.. jerry reith...",
          "satisfimccann's instant irish oatmeal, variety pack regular, apples & cinnamon, maple & brown sugar, boxes (pack /><br />i fan mccann's steel-cut oats, thought would give instant variety try. found hardy meal, sweet, great folks like (post-bariatric surgery) need food palatable, easily digestible, fiber make bloat.",
          "love gluten free oatmealus celiac disease product lifesaver could better getting almost half price grocery health food store! love mccann's instant oatmeal - flavors!!!<br /><br />thanks,<br />abby",
          "would buy oatmeal mcann tast greatvariety packs taste great!<br /><br />i every morning. $ cents per meal, understand everyone earth buying stuff up.<br /><br />maple brown sugar terrific, followed apples cinnamon, followed regular. get tired ole thing, taste great.<br /><br />i boil water small pot, empty packet bowl, pour boiling water, watch expand size!<br /><br />taste really good takes minutes prepare.<br /><br />not sure everyone earth this. convenient, healthy, quick, excellent quality, extremely cheap...",
          "good hot breakfastmccann's oatmeal good quality choice. favorite apples cinnamon, find none overly sugary. good hot breakfast minutes, excellent.",
          "mm mm oatproduct fresh, good getting complaints anymore.<br /><br />that worth large quantity shipping charges.<br /><br />hey, oatmeal. favorite!",
          "oatmealelse need know? oatmeal, instant (make half cup low-fat milk add raisins;nuke seconds). expensive kroger store brand oatmeal maybe little tastier better texture something. still oatmeal. mmm, convenient!",
          "good instantgood instant oatmeal best oatmeal brand. uses cane sugar instead high fructouse corn syrup, better sweetness, doctors say form sugar better you. great cold morning time make mccann's steel cut oats. apple cinnamon best maple brown sugar regular good too. plus require doctoring actually tell three flavors apart.",
          "rave review roll oathoneyville rolled oats delicious product. using make product designed increase enrich milk production lactating mothers.<br />the oats shipped timely fashion amazing thing paid $ shipping oats! encourage anyone likes oats order honeyville rolled oats. flavor rest.",
          "good qualiti deliv time human ediblbetter organic oats advertised elsewhere. takes lots water. minute oats, oatmeal cookies come right, crumbly soggy. (instant oats place, cookies).",
          "good next time order varieti packreally like maple brown sugar flavor. regular fine brown sugar added. apples cinnamon flavor ok. quick, easy satisfying breakfast order brand again, variety. get maple brown sugar.",
          "anoth husband favorithard get husband eat breakfast school. takes two bars happy so. often hard find flavor local grocery stores. again, amazon.com came reasonable price. now, came keep husband's breakfast ready runs door mornings. often like bar evening night snack.",
          "best instant oatmealmccann's instant oatmeal great must oatmeal scrape together two three minutes prepare it. escaping fact, however, even best instant oatmeal nowhere near good even store brand oatmeal requiring stovetop preparation. still, mccann's good gets instant oatmeal. even better organic, all-natural brands tried. varieties mccann's variety pack taste good. prepared microwave adding boiling water convenient extreme time issue.<br /><br />mccann's use actual cane sugar instead high fructose corn syrup helped decide buy product. real sugar tastes better harmful stuff. one thing like, though, mccann's use thickeners. oats plus water plus heat make creamy, tasty oatmeal without need guar gum. convenience product. maybe guar gum why, sitting bowl while, instant mccann's becomes thick gluey.",
          "likeoatmeal good. mushy, soft, like it. quaker oats way go.",
          "foodgreatmccann's oatmeal every morning ordering amazon able save almost $ per box.<br />it great product. tastes great healthy",
          "goodgood oatmeal. like apple cinnamon best. though would follow directions package since always comes soupy taste. could since like oatmeal really thick add milk top of.",
          "good oatmeal second baghappy quality product price. like reviewer, would prefer plastic liner preserve freshness. however, continue buy product regardless quality oatmeal good price.<br /><br />edit: bag, quality continues high.",
          "love oatgood quality oats. package came time. oats worked well recipes. admit, single person bought oats boyfriend breakfast food- lasted us year.<br /><br />otherwise excellent buy.",
          null
         ],
         "marker": {
          "opacity": 0.5,
          "size": 5
         },
         "mode": "markers+text",
         "name": "10_oatmeal_oats_instant",
         "text": [
          "",
          "",
          "",
          "",
          "",
          "",
          "",
          "",
          "",
          "",
          "",
          "",
          "",
          "",
          "",
          "",
          "",
          "",
          "",
          "",
          "",
          "",
          "",
          "",
          "",
          "",
          "10_oatmeal_oats_instant"
         ],
         "textfont": {
          "size": 12
         },
         "type": "scattergl",
         "x": {
          "bdata": "kJYnQUF/I0H7RydBNOcmQbf6JEETeSNBIt0nQbWUJkF0oyNB8XwlQYIlJ0FXIyRBayokQW2AKEEq5CZBNqklQYOPKEE3+SZBOS8jQW8qoECsoSZBOWYlQRDgJ0FWvyNBP74oQcEoKEFL0CJB",
          "dtype": "f4"
         },
         "y": {
          "bdata": "jXdov4uuR794XGS/MDtiv3tkbr/UP02/Cx5qv80nXr9YKUi/UmZavwNNX7/4FFK/tOBPv6S2cb/NImS/9M1Zv4HzdL9e2GS/QBRHv97lmT/822C/jy9zv4ocZ7+UelG/uL93v0Q5bb/pkUu/",
          "dtype": "f4"
         }
        },
        {
         "hoverinfo": "text",
         "hovertext": [
          "deliciousyet companion touchgreat chips, great price. odds yourself. like fish chips soaked malt vinegar, love these. best salt vinegar chips ever (and love flavor, mind you). spectacular deli sandwiches own. since found s&v palatable intelligent species know afternoon snack mine, unless course run another heavy brained, hearty breathed like mind. -summary- like taste bitter sweet salty vinegar crispy chip boot pucker sight handily bagged morsels. first time committed whole case chips again. mmmmm... vinegar...",
          "great price tangi expectchips tangy hoped expected. poore brothers better choice \"hard-core\" salt n vinegar fans.",
          "aw tastunless really really really like vinegar - avoid! chips called \"vinegar sea salt\" - \"sea salt vinegar\".",
          "best glutenfre dairyfre chipfavorite gluten-free dairy-free flavored chips. many salt vinegar chips contain dairy nice find ones eat. vinegar flavor really intense good.",
          "defacto standard salt vinegar chipalways liked salt vinegar chips time stronger flavor bottom bag. these, vinegar overflowing right first chip stop finished bag. addictive. like salt vinegar, ultimate chips. nothing else compares.",
          "boulder salt malt vinegar chip way betterdecent, want realllly good salt vinegar chip, try boulder's salt malt vinegar chips. awesome.",
          "salt vinegar chipgreat value like package size vinegary enough me. order brand again. great chips otherwise.",
          "great dealdeal healthiest salt use. box last family year problem. iodized sea salt raise blood pressure regular salt will.",
          "love sea salt vinegar alreadihappen to, like me, better sea salt vinegar chip found country.",
          "salti vinegaristrongest tasting salt vinegar chips had. could still vinegar flavor, think close going get without dousing vinegar powder myself.<br /><br />i side side cape cod salt vinegar twice flavorful. additionally, reviewers said, quite good bit potassium (somewhere neighbor % rda per serving).",
          "heavi vinegarusually love kettle chips, love salt & vinegar, chips way vinegary me! typical kettle chip crunch, aggressively flavored taste.",
          "suprem salt vinegarhands-down absolute best salt & vinegar chips buy. great, strong flavor left addicted. certainly favorite chips. highly recommend trying them!",
          "deliciloved kettle brand sea salt vinegar chips since first time tried them. fact able find on-line great price, wonderful. would definitely make purchase again. quick simple snack lunch goes great cold sandwich.",
          "best salt vinegartried lot s&v chips best! real sea salt real vinegar! mouth-watering flavor & crispiness. faint heart - flavor authentic! :)",
          "tast terribl way strongunless like salt vinegar chips salty eating actual pinches salt drinking actual vinegar, doubt like chips. saltiest & sourest chips ever had, reason stops throwing away paid full boxes like waste food. brown chips especially bad, besides salty sour, also taste overcooked burnt. unless rare kind take kind extreme taste, like chips.<br /><br />i actually high tolerance sour taste, bag chips bit difficulty. normal people, please try home.",
          "tangi delici snacklove salt vinegar potato chips, one choose. flavor zippy tart, unpleasant chemical aftertaste like less \"natural\" versions snack. bags right share lunch. chips little greasy, given stars instead .",
          "gourmet power salt vinegar chipkettle brand chips crunchy. would say regular plain old lays potato chips \"soft\" end \"soft/crunchy\" spectrum. ruffles brand potato chips used considered crunchiest, kettle brand chips far crunchy. tender mouth bad teeth (dentures) might want steer clear kettle brand. otherwise, love chips. sea salt & vinegar chips super tangy. enjoy taking swigs vinegar bottles time time. dissapointed salt & vinegar chips either chips soft and/or vinegar taste whimpy and/or chemically. rest assured kettle sea salt & vinegar gourmet flavor. vinegar flavor chemical flavor could never called whimpy!",
          "best salt vinegar chipsalt & vinegar chips favorite flavor think tried every brand there. far best. also like sodium content high like others excessively greasy. seem right balance salt vinegar taste.",
          "give watermelon citron sea saltcannot live without citron falksalt, wonderful watermelon, fish, almost food requiring salt world does. try red juicy watermelon, wonderful experience.",
          "far favorit chipfar favorite chips, extremely crunchy (similar kettle style chips), extreme vinegar flavor differentiates lesser fried potato snacks. tried several brands salt vinegar none come close.",
          "vinegar tastfirst time tried sea salt & vinegar chips. taste. make sure like salt & vinegar ordering. may suprise never tried before. stick salt black pepper chips.",
          null
         ],
         "marker": {
          "opacity": 0.5,
          "size": 5
         },
         "mode": "markers+text",
         "name": "11_vinegar_salt_chips",
         "text": [
          "",
          "",
          "",
          "",
          "",
          "",
          "",
          "",
          "",
          "",
          "",
          "",
          "",
          "",
          "",
          "",
          "",
          "",
          "",
          "",
          "",
          "11_vinegar_salt_chips"
         ],
         "textfont": {
          "size": 12
         },
         "type": "scattergl",
         "x": {
          "bdata": "8sWpQM9Pr0CgfaRASv6pQG7fpECFbaRAemSlQMVOo0BbIaVA//elQEz5sECoy6VAoLekQJb8pEB6bqdAcLWwQOEIskB0rKVAY9mjQIPhsUA9faRA5FeoQA==",
          "dtype": "f4"
         },
         "y": {
          "bdata": "kpWewDdJoMDsSq3AjzGowDV8rcCHv63A9ESswAsuqsCxJ63A372rwFBxmMCxmqvAAXqpwBucrMBugpTAOfiawNXOmMAArazAKPitwI69mMDOMK3A7y+mwA==",
          "dtype": "f4"
         }
        },
        {
         "hoverinfo": "text",
         "hovertext": [
          "great fat cat senior citizenthree cats, youngest eleven years old, another fifteen oldest is, well ancient. vet told us ten years ago. youngest blob. lays down, looks like footstool. two arthritic skinny.<br /><br />since success canidae platinum senior dogs, figured would give try cats. would low ash purina one urinary tract formula entire lives thankfully ut problems.<br /><br />buster, youngest, still blob six months plus felidae senior overweight cats. however, two much active tell really \"feeling better\" since changed food felidae. even prissy, ancient one started play tease dogs getting chase her, purina one, wanted sleep.<br /><br />i think get cat fairly early weight problems, effective.<br /><br />however, glucosamine certainly help older fur balls happier life.",
          "cat lovestarted cat felidae platinum weeks ago loves it. older cat, somewhat overweight, grouchy temperament. first mixed previous food figured -- ate felidae left old food! felidae ten days now, old food entirely, much sweeter, happier cat. think must agree better easily digested, something. case, happy purchaser felidae. agree previous reviewer cats like it. clearly, mine does.",
          "nearli kill catmuch good thing? worked kibble time, slowly shifting percentage felidae national junk-food brand bowl natural. time, cats could keep down. mess. moved on.",
          "simpli wild chick brown rice catgot free another order placed. could believe much cats loved it. buy sure.",
          "calori yummitastes good apparently cat thinks -- constantly poking furry face around every time pop open one these. absolutely nothing bad say these. know people complained poor packaging believe must fixed b/c problems -- fact, securely bubble wrap these, place air-cushioned box arrives perfectly every time.",
          "best cat foodstarted buying noticed year old cat already starting lose \"spunk\" decided time start buying \"real\" cat food...not garbage super markets. found pet store million choices, sure brands good one went try first great purchase. cat past months active kitten coat became sooo soft. mainly, loved taste even more! highly recommend brand friends family animals!",
          "cat go nearcat go day, probably longer, tryed it, walk right stuff every time, even know hungery. absolutely interest. swear would rather die starvation even take wiff it!!",
          "far goodheard little product local pet store, tried small bag cats years respectively. female, younger one took right away, older male, unfortunately weaned junk cat food corn meal etc... it, would usually refuse diet change, actually liked too. older male overweight trying switch soft food doctor's request, totally refused it. posh cat all. still consumes many calories, fatty, least know eating good food. course, know product seems cost feline food market, cannot see feeding animals lousy alternatives there, marketed healthy. commercials show cats eating vegetarian diet mostly corn meal? right? stay now, stay tuned.<br /><br />i updating review months using cat food two cats. upgraded stars really good food two them. garfield still eats little much, big cat exercise much, let us face it. female cat years old couple months healthy. tiny, happy agile. tried chicken version holistic select, garfield seemd miss sardine version went back one. ordered duck version update try it.",
          "great fooddone lot research find best food cat, excellent food. also according holistic veterinarian. put probiotics kibble last step, important me. best thing cat loved immediately stop mixing old food would eat holistic select.",
          "yay barleyright mostly sprouting cats eat grass. love it. rotate around wheatgrass rye",
          "cat fan new foodcats happily eating felidae platinum two years. got new bag shape food different. tried new food first put bowls bowls sit full kitties touch food. noticed similar reviews related formula changes past. unfortunately, need find new food cats eat.",
          "cat love diet food better regular foodone boys needed lose weight not. put food floor chubby guy, protein-rich, by-product food higher skinny boy jump. higher food sits going stale. really go food. chubby boy losing ounce week.",
          "palat healthieducated feline nutrition, allowed cats become addicted dry cat food. always offered canned dry, wish would fed premium quality canned food limited dry food. two year old cats two year old cats. good quality dry foods eat wellness innova. innova's manufacturer recently purchased procter&gamble. began looking replacement. offering several samples (from local holistic pet store) holistic select one (other usual wellness innova) would eat. finicky cats, recommend trying holistic select. good quality food palatable finicky eaters.",
          "holist select cat foodcats thrive extremely well dry cat food. definitely much less hair ball throw ups fur great. fit weight. vendor ships extremely fast. one top amazon suppliers book!",
          "wonder food perfect allerg kittione cats allergic fish beef. formula one eat, much better ingredients prescription diets available vet. kitties active, soft shiny fur, neither fat. dry food reduces tartar buildup teeth, also.",
          "better averag expens averagfed cats lot stuff. boy cats picky eaters. loved purina. loved nutro. loved iams. love whatever feed them.<br /><br />this review based we, affectionate owners love. certain age, instructed vet consider senior foods- lower carb foods, catties fatties. tried types food. evinced change. made litter super-stink. small kibble cats barfed chew swallow it...<br /><br />this felidae done trick. problems speak of. consistent litter bearable nose. cats love it. kibble sized appropriate chewing. kicker:<br />after feeding cats felidae, demeanor improved. coats super soft lush- new improvements directly attribute food. loyal felidae consumers.<br /><br />additionally, absence corn product feed seems lessen remove reactions friends cat-allergies.",
          "perfect cat food older catcat food recommended vet year old cleo cat trouble keeping food loosing weight. stopped problems. eat much since seems satisfied eating helps justify added price. aids digestion since the...ok sorry...smells gone ya know mean. add anyone experiencing problems cats see lot benifits cat food.",
          "chang formula make cat sickcanidae, felidae also changed formula. cats like change comes food. change without putting label. noticed color food changed smell. (as notice also reviewd canidae, happened time dogs issues.)<br /><br />prior change food almost lost two cats moved new home. cats get \"upset\" change enviorment, loud noise stop eating. depends cat. two stopped eating lost lot weight. took vet took months get back normal. year since better. formula food changed.<br /><br />we started noitce eating much started bug us. asked shop owner feed store knowledge change food. customers yelling dogs food making dogs sick. right away changed cats food started chowing suffered one bit like dogs have.<br /><br />cats sensitve animals changes thier food could cause stop eating. anyone thinking purchasing food it! rescued fixed cats, none picky eaters change formula could death found change formula.<br /><br />i urge anyone problems go consumer affairs website also fda website write letter let know affected animal. canidae care change affected animals, tell buy it. horrible!",
          "good felin utiyear old male cat chronic urinary tract infections. feed dry food combination wet food (with water added it) uri ease. combination seems keeps uti's control. switch another type dry food, uti gets worse. cats seem enjoy food well. expensive seems best solution me.",
          "healthi loveholistic vet recommended this, along brands. tried all, cats prefer (especially sardine version). best part coats soft clean eyes clear. (and want rude, say delicately can) waste far less odorous cats eat mcdonalds junk found stores, definite plus me! health benefits obvious - highly recommend holistic select!",
          null
         ],
         "marker": {
          "opacity": 0.5,
          "size": 5
         },
         "mode": "markers+text",
         "name": "12_cats_cat_food",
         "text": [
          "",
          "",
          "",
          "",
          "",
          "",
          "",
          "",
          "",
          "",
          "",
          "",
          "",
          "",
          "",
          "",
          "",
          "",
          "",
          "",
          "12_cats_cat_food"
         ],
         "textfont": {
          "size": 12
         },
         "type": "scattergl",
         "x": {
          "bdata": "upqkP8B3pT+xxKM/4KGhP3WZqz+K36Y/eiykPyChpj9bKKY/0fCnPxqkpz+Mt6U/IiWsP+Ixrj/jC6Q/onqmP9UwpD83FaY/0tOlP3CXpD/2fKY/",
          "dtype": "f4"
         },
         "y": {
          "bdata": "icJ8QFsTfEC/mnxA+q91QKGGe0D7tXhA1Up8QP+IekC3fn1ABhl5QN+afEDNrXpAWdh5QC5keUD+RHpAlTB8QOILe0DLFXtAZIt9QGD0fECmHntA",
          "dtype": "f4"
         }
        },
        {
         "hoverinfo": "text",
         "hovertext": [
          "goodchips good!! could stop eating them. last long.<br /><br />the reason gave stars, instead , think bags little hard open. sure need make potato chip bag sturdy, may need scissors hand open much easier.",
          "chip tast goodchips good. ended eating whole bag day good. glad dextrose like lays do.",
          "yummi chipbest chips ever eaten. everyone family loves them. sweet spicy- crispy....really good. delivery perfect, crushed chips. fantastic overall.",
          "great healthi snackgood tasting light chip value nutrition. everyone get munchies....is good alternative eating potato chips!",
          "organ yummi chip askchips great snack want junk assiciated chips. try like them.",
          "tasti chipmany \"healthy\" products taste good. taste good first try go downhill. chips one occasion tasty. served guests twice times wanted know get them. also nice something gluten-free friends borderline diabetic...but would eat anyway.",
          "realli good chipchips salty hint sweet. crisp crunchy. best chips ever had!",
          "great chipeat many chips, love. great buy arrived quick packed great. expiration date ways away, awhile enjoy great natural potato flavor. love brown russet, hardy flavor fit description tee.",
          "chip kiss saltchips delectably delicious. low sodium diet. give totally something truely love snack. chips bursting flavor, cannot really tell missing salt. kiss worth chip, beleive me, total makeout!!!",
          "huge fan chiplove chips unique taste incredible crispy texture. used get henry's san diego, ca moved ordering amazon since. running constantly!",
          "surpris differkettle chips look, feel taste like lays. chips used favorite crinkle cut hefty. now, longer favorite.",
          "yumhusband love chips! personally think flavor perfect. try yourself!",
          "fanfreakintastchips fanfreakintastic. doubt best chips ever had. nice sweet smoky flavor little bit-o-heat. oh ya baby.",
          "oooh yummilove chips! little weird review potato chips. chips great. crunch right, plus right amount salt. salty bland. little oily ok. best thing oz package. buy larger bag harder resist eating all. oz package allows little \"portion control\". sure use scissors open, chips packaged freshness open easily. enjoy!",
          "yolilove chips whole family hooked them. chips eat",
          "awesombest chips ever had... sure beat anything else even cooked way better name brands. tangy crisp satisfy craving time! chips buy thank amazon letting buy online bulk save money time!",
          "amaz chiprarely eat chips saw tried them. really amazing. love cheddar too, chips really thin crunch delicious flavor. recommend them.",
          "pretti good tast chiptook get used chips pretty good healthy you. sure eaten family friends.",
          null
         ],
         "marker": {
          "opacity": 0.5,
          "size": 5
         },
         "mode": "markers+text",
         "name": "13_chips_them_good",
         "text": [
          "",
          "",
          "",
          "",
          "",
          "",
          "",
          "",
          "",
          "",
          "",
          "",
          "",
          "",
          "",
          "",
          "",
          "",
          "13_chips_them_good"
         ],
         "textfont": {
          "size": 12
         },
         "type": "scattergl",
         "x": {
          "bdata": "3iatQGGirkB7KLJALZewQFCrrkCle7NAf6GxQPOgq0ABuadAblaqQMC/skBJlLNAH5ysQFW6rEDcurFAvIKsQL0SuEChILBAZnOvQA==",
          "dtype": "f4"
         },
         "y": {
          "bdata": "sqc6wDFPP8CjtETAk1dGwDcnRMC8iELApi0+wJXfOsAOhFzAh9tBwN+vT8D5hFTAZTlJwLOHRsAJSkHAfJ1DwI+aQ8CqxkPAQoVFwA==",
          "dtype": "f4"
         }
        },
        {
         "hoverinfo": "text",
         "hovertext": [
          "uniqu schrumshist tasti tortilla chipplocky's red beans rice tortilla chips really tasty. shared bags daughter iraq. said ummm good. good too. artificial stuff.",
          "plocki sweet smokey chipotl whole grain tortilthink plocky's brand whole cut quality found lack taste somewhat little greasy.",
          "low qualitiknow long sat back shelf somewhere, old would cook. throw half out, skins damaged, clear sign dried beans past prime. cannot even return ask refund, food returnable. find different brand use. now, fifty servings beans throw away.",
          "perfect tortilla chip goodhusband (who, mexican, picky tortilla chips) absolutely love these! texture light crispy, rather thick crunchy. actually usually prefers hearty, cruncy chip (like el ranchero), flavor fantastic thilled them. bean, rice corn base makes incredibly flavorful, touch onion garlic addition that. go embarrassing amount them. never, ever like plain chips, eat without anything else, although particularly amazing fresh salsa. highly recommend these!",
          "plocki three grain tortilla chiplove these. cannot always get local stores, keep stocked even though always buying out. strong enough dip condiment, great flavor grain texture.",
          "best tortilla chip ever eatencannot say enough good things plocky's chips!! purchased flavor black bean flavor <a tortilla chips, black beans 'n rice, bags (pack > love them! taste better well known brands satisfying. never eaten tortilla chip make feel guilty afterwards. plocky's...i always eat less feel satisfied. actually prefer eaten themselves..no dips...and keep bag desk work. even lunch time grab something. bring work share friends love too. fan plocky's chips continue purchase amazon.",
          "tastichips perfect snacking without salsa. texture brittle thin, like plocky's chips.<br /><br />the downside: spice minimal.",
          "music palatlike plockys<br />they like us.<br />plockys plockys.<br />mean fuss.<br />taste good.<br />and healthy too.<br />plockys plockys.<br />grab bag two.<br />thank plockys!!",
          "plocki rice bean tortilla chipbought chips, wanted try tasty. sure is! unique different flavor right thickness.<br /><br />it remains crunchy, spicy flavorful hint tabasco paprika sauce heat. rice granules embedded tortilla chips. however, spices lacking chip. liked much.<br /><br />i would recommend anyone wants try red beans rice tortilla chips. go ahead-- put ingredients nachos except cheese. maybe el pastor, shredded meat, tomatoes, etcetera.",
          "excel tortilla chipchips truly amazing. all. light, crisp, great tasting, nice texture, natural... low fat sodium! need say more? recently bought bag regular grocery store, could belive taste buds. excited saw amazon, decided buy case!",
          "black bean never tast goodfantastic chips ever had! could eat whole bag myself! made lots whole grain beans, make complete protein, qualms feeding kids snacks. great! problem them: bag small!!! need bigger bag!! :)",
          "plocki tortilla chipstasti healthichips ones found tasty healthy. fewer fat calories plus higher fiber want good taste nutrition--the perfect blend!",
          "best tortilla chip everlike chips salsa quacomole better cips market. even great themselves. order long available. thank making accessable.<br /><br /> shelly kenyon",
          "best kept secretlove product. different flavors fantastic. family likes grain best. corn tortilla chips house!",
          "plocki tortilla chip red bean n riceordered black beans rice,which really. really love, stock. week, finally opened package kicked tried earlier. little kick swallow let know hint hot pepper sort. took pot luck night came home empty bag. used them, another bag, garnish salad took pot luck came home empty salad bowl!<br />we definitely order again.<a tortilla chips, red beans 'n rice, bags (pack >",
          "delici chipplocky's chips made several whole grains touch sweetness. little lower fat sodium regular tortilla chips. flavor performs tortilla chip ever eaten. hold great salsas dips. nothing wimpy them. wish company made bigger bag! love them. usually found organic foods section grocery, seem difficult obtain shelf always empty. order case. glad disappear fast.",
          null
         ],
         "marker": {
          "opacity": 0.5,
          "size": 5
         },
         "mode": "markers+text",
         "name": "14_tortilla_plockys_beans",
         "text": [
          "",
          "",
          "",
          "",
          "",
          "",
          "",
          "",
          "",
          "",
          "",
          "",
          "",
          "",
          "",
          "",
          "14_tortilla_plockys_beans"
         ],
         "textfont": {
          "size": 12
         },
         "type": "scattergl",
         "x": {
          "bdata": "1OXKQB6yykB6bsNA5tDJQNzgy0Ayj8pAaTTMQLftyUCv+slA41LEQPBbxUDjo8tAggjPQEeV0ED2JcdA8qrGQFnCyUA=",
          "dtype": "f4"
         },
         "y": {
          "bdata": "iBchwAhGJMBnuB/AzHkhwBzTIcC6FiTAjXopwD9LJcBtHiXA+U8qwIG/IsBfSiPAkOAZwIBMFcAMcSLAIXktwO78IsA=",
          "dtype": "f4"
         }
        },
        {
         "hoverinfo": "text",
         "hovertext": [
          "son love make easi enough adult supervis age neat projectreally easy project family fun anytime christmas. put icing cookies stack. ice outside decorate. great ages. strawberry licorice rope looks like stuck together find end unwind.<br /><br />* caution ** small hard candy decorations swallowing hazard.<br /><br />comes everything need except bowls spoons.<br />contains :<br />cookie pieces<br />large bag yellow colored icing ( east mix fork, add water slowly get thin)<br />small white icing bag (you add water slowly)<br />green color add small amount white<br /> clear decorator<br /> plastic decorator tips ( save reuse)<br />small bead candy decoration hazard)<br />strawberry licorice rope<br /> small tube orange writing icing<br />hard candy wreath decoration \" diameter<br />gummy spongebob \" tall<br />gummy patrick \" tall<br /><br />icing set hard go eat pried apart pieces. cookies get little softer middle.<br /><br />make anytime year. leave wreat patrick cut spongebob's head look like chirstmas.",
          "doubl pleasurlike oreo's oreo cakester, got try double stuff cakesters!!! best!! side note: shipping slow, maybe chances better.",
          "worst frost everglad found reduced rack . taste bad way could frost cake. stuck knife,ran strings,what mess. thought gotten bad batch.my gds birthday cake looks like crap. would buy mess. horrible",
          "cute cute cutesurprised find taiwan-shaped pineapple cakes, cute!<br />i never found pineapple cake like local asian supermarkets, ordered here. lovely pastries made dragon boat festival party much fun. friends think good idea order mid-autumn festival party.",
          "swedish pearl belgian pearlsugar sweet, denied. advertised, melt baked either. however, liege waffles/gaufres larger pebbles belgian pearl do. grains smaller, think pretzel salt, seed pearls.",
          "easi lookeasy looks, came enough yellow frosting, frosting stick well. year old like making though.",
          "disappointdisappointed product thought would bigger.<br />also, come enough icing. use own.",
          "perhap someth wrong batchopened immediately became concerned saw looked like dried white crust, rather fluffy frosting. package recommended stirring use, gave try crust indescribable gelatinous goo. best equate white version blue goop mother serves dinner \"better dead\" (no raisins though!).<br />i tried stir together end result gelatinous goo white crusties it. lifting knife spread long strings goo trailed knife.<br />i opted making frosting instead - easy! little sprectrum palm shortening, lot powdered sugar, tiny splash vanilla, tiny bit salt, rice milk needed consistency, beat minutes, fluffy 'butter' cream frosting thought would get cherrybrook.<br /><br />i wonder overheated store (whole foods) something...<br />i read positive reviews frosting mix, maybe try next time.",
          "make fresh fruit tart light beautipacket glaze secret making european style fresh fruit tarts. make one pie auction church, friend requested something \"strawberry\" offered. make amazing relatively \"healthy\" fruit tarts baking base, layering uncooked, fresh, sliced fruit, pouring made-up contents one packets. harden room temperature, hold fruit together slice tart, let beauty arranged fruit show through. also seen glaze used cheesecakes, hold fruit topping place. personally, like cheesecake (too rich me) fruit glazed cheesecake gorgeous, admit. this, slice fruit layer cheesecake still springform pan. pour glaze, let set remove springform. clear layer fruit top cheesecake. cherries, strawberries sliced mangos nice, best one ever used thin slices lemons, gently poached sugar syrup layered cake.<br /><br />i use base sponge cake, baked shallow form, bases pate sucre (a kind french pastry bit like sugar cookie) works well fluted, straight-sided forms. also make mini-tarts muffin pan, pre-baking mold layer pie crust (even commercial crust works, though again, prefer pate sucre, holds shape better substantial better crumb.) blind-bake muffin tins lined pate, pop fill fresh fruits (berries great) pour glaze. people put layer creme patisserie, pastry cream like custard stabilized flour, fruit happen think taste best.<br /><br />if get baking, glaze must-have shelf. ingredients vegan: tapioca starch, carrageenan, dextrose, cream tartar, locust bean gum, looking make vegan tofu cheesecake, use top, well use fruit tarts nut crust base.",
          "buy frosthonestly say worst frosting ever bought. kind generous call frosting, consistency rubber cement. since time crunch, luxury going back store different frosting, forged ahead decorated cake it. horrible experience, bad enough put us cake decorating forever. spread easily chewing gum, stuck everything came contact with, got crumbs cake mixed it. top this, even taste good. time done decorating, knew way could feed mess family. ended going store anyway buy pre-made cake. cake, took twice long decorate stuff gooey, used centerpiece. really ugly centerpiece, cracked peeled frosting dried.",
          "fluffi soft delici sugari sweetcould wait try ; cinnamon coffee cake made fresh eggs, creamy sour cream, madagascar bourbon vanilla topped filled cinnamon streusel. ; cinnamon coffee cake available online $. now, fair share cinnamon coffee cakes, but, let tell fantasicakes cinnamon coffee cake really \"takes cake\" size, price, quality taste.<br />the cake arrived fast carefully packaged arrived almost perfect condition. also comes large tub white icing drizzle top, serving. could believe large size actually fed family us enjoy breakfast, three days. cake thick almost solid sponge cake type consistency really moist filling. flavors die sticky cinnamon outside sweet cinnamon vanilla swirled throughout inside cake. icing really tops beautifully gives moist sticky sweet flavor. pair cake morning coffee got perfect breakfast treat!",
          "worst frost everproduct disappointment! reviewers said, gluey, sticky texture akin elmer's glue edible food product. flavor sickening sweet. actually thought frosting spoiled. bad! save time $$ (i paid $) make frosting go another brand. cherrybrook cake cookie mixes good. hard believe even sell this.",
          "cherrybrook kitchen vanilla frostrecently purchased sale local grocery store... know sale!<br /><br />this fluffy, creamy white frosting would expect find opening jar. now, expecting like betty crocker, pretty bad. like others said, gluey/tacky mess would completely ruin cake tried spread on. reminds taffy quite hit right stage candy making process. taste great either, sickeningly sweet (even frosting). thing might used frosting cinnamon buns? still think would right consistency...",
          "spongetastson sb fanatic excited find holiday season every year version gingerbread. knew reading reviews would enough yellow frosting whipped edible glue (water confectionery sugar) hold levels gingerbread make pineapple save yellow frosting outside - worked great. really fun idea enjoyed creating. licorice worthless though...",
          "big disappointlove cherrybrook kitchen tried almost products. excited try ready spread frosting, usually keep needed ingredients hand box frosting. picky eater, especially item contains sugar... horrible! consistency absolutely nothing like regular canned frosting. light fluffy. gooey. cannot even imagine trying spread cake - would rip pieces thick gooey. even try cake, taste texture off-putting. seriously, waste money!",
          null
         ],
         "marker": {
          "opacity": 0.5,
          "size": 5
         },
         "mode": "markers+text",
         "name": "15_cake_frosting_fruit",
         "text": [
          "",
          "",
          "",
          "",
          "",
          "",
          "",
          "",
          "",
          "",
          "",
          "",
          "",
          "",
          "",
          "15_cake_frosting_fruit"
         ],
         "textfont": {
          "size": 12
         },
         "type": "scattergl",
         "x": {
          "bdata": "glCKQDa4j0BDzIJAdwoKQTQYgkDv44RAs5aDQJJChEB+iIBA9paCQEnfg0A+yoNAzX2CQBNdiEB/S4NADHKOQA==",
          "dtype": "f4"
         },
         "y": {
          "bdata": "GUeWviJDc7+bzte+lmsvwJRv8jkK2MW+bPXMvtvIqr6eohO94TbbvnRZxb79G9e+YQ27vgJomL6Xf82+mSUGvw==",
          "dtype": "f4"
         }
        },
        {
         "hoverinfo": "text",
         "hovertext": [
          "happen recip changwho, like me, order kettle spicy thai chips amazon hard find locally, probably aggrieved know recipe changed. like regular potatoe chips. paid husband gets eat like spicy thai, fine him.<br /><br />yuck!!!",
          "excel thaiflavor chiphesitant buy local grocery store, lunds, sale, bought bag. found going beyond simply-flavored chips, like cheddar vinegar, usually results disappointment. tried thai asian-inspired chips target, archer farms, awful. kettle spicy thai chips awesome...so much so, considering buying bulk amazon. taste complicated stimulates different parts palate. taste sensations prevalent real thai food baked chip...sweet, salty, spicy. sour too? know, well-made well-balanced chip addicting.",
          "habit formtook one said good russet potato chip flavoring? sudden, within seconds, spread senses taste buds happy. close thai food potato chip get. chips spicy enough satisfy craving spice hint sweetness makes habit forming. flavoring included garlic, ginger, jalapeno, cilantro spices, felt great eat these. buy again. treat.",
          "spici thaisaw spicy thai chips, knew try them. love spicy love thai food, not? first off, chips super spicy. actually taste sort sweet first, many degrees flavor. spiciness lingering taste bites afterwards. would say definitely good, unique chip. absolutely hate sweet chips, would try different flavor since little sweet.",
          "uniqu flavor fan thai foodkettle brand potato chips spicy thai flavor really taste like food eaten thai restaurant. ingredients listed include garlic powder, onion powder, parsley, jalapeno, \"spices.\" sure spices are, sure tastes like lemongrass me...yum. chips thick cut crunch. come seriously heavy-duty bag. tried open like regular chip bags pulling two sides apart; way! bag thick wondered plastic. started looking scissors decided company put chips bag nice must provided way open it. sure enough, small slit top simple directions \"tear here.\" easy. think that.",
          "chip awesom bestthink chips awesome best along poor brothers salt vinager chips. buy spicy thai chips smaller bag might much flavor (at bottom bag) larger bag least experience last time bought amazon like . would suggest trying spicy thai bag bigger ounces.",
          "spici thai chiptotally orgasmic. chips best spicy chip ever tasted. signed subscribe save option. case contained , full sized bags) chips. price per unit equals $ per package. even cost plain chips. add free shipping fast delivery, deal steal. run like stole something computer order spicy thai chips. p.s. even paid going price $, still ahead curve. enjoy",
          "best chip evereasily best potato chip ever had. look ingredients: ginger types hot pepper. go wrong?<br /><br />obviously, like spicy food. but, like spicy food, probably love these. hot-with-a-hint-of-sweetness flavor combo prevalent lot thai food.",
          "kettl food spici thai chipspicy thai chips used best tasting chips market. however, kettle foods changed ingredients used, ginger important missing. notice removed \"ginger attitude\" bag. sadly, changing ingredients ruined chips me. good anymore spice level virtually non-existent.<br /><br />here original new ingredient listings:<br /><br />original ingredients<br />select potatoes, safflower and/or sunflower oil, honey powder (evaporated cane syrup, honey)salt, garlic powder, jalapeno pepper, ground ginger, onion powder, habanero pepper, dried parsley, citric acid, cilantro extract, ginger oil, cayenne pepper, white pepper, lime oil.<br /><br />new ingredients<br />potatoes, safflower and/or sunflower oil, sugar, dried cane syrup, salt, maltodextrin, yeast extract, spices, garlic powder, onion powder, dried parsley, jalapeno powder, citric acid, natural flavors, lime extract<br /><br />i assuming changed ingredients order cut costs new owner, blue diamond. might want get rid \"great taste naturally\" bags consider maltodextrin natural.<br /><br />great job kettle! way ruin great thing!",
          "tangi spici sweet ohkettle chips spicy thai potato chips perfect amount sweet, savory spicy-- everything would want good meal better yet...a potato chip. since kettle-cooked, chips uniquely shaped sometimes bit over-browned. are, however, sliced perfectly, thick, thin, actually get great crunch bite without breaking tooth off. flavor tremendous, although would describe thai. vague, sweet tangy flavor kick, every get great big hit ginger. like spice all, really overly spicy, people handle them. fact chips absolutely artificial ingredients trans fat makes fabulous addition muncher's snack cupboard.",
          "great hot new flavorgreat fan potato chips thai food. happy kettle chips decided meld two great loves together! (what concept.....) chips spicy enough, without burning hole tongue. also, nice hint sweetness makes habit forming (careful!). while, treat definitely worth indulging in.",
          "kettl sold chip horriblused eat spicy thai flavor time. message makes body unhappy one flavored chips message free. changed whole recipe make them. instead real food ingredients like used mostly processed chemical garbage, bunch salt message stuffed label \"yeast extract\". removed message label know well did.<br /><br />the worst part though taste horrible. instead crisp, oily full character...say cooked like...a kettle something instead color uniformity baked lays. spicy thai flavor tastes like sour cream onion ranch gone rancid.<br /><br />what shame, kettle chips me. seems slowly moving one flavor time new cheap ingredient list manufacturing method. fooled paying premium price chips premium product anymore.",
          "tangi goodtangy prevents eating many, handful two trick. crisp savory.",
          "likeamazon's suggestion star review \"i like it.\" said, gave star review spicy thai chips. chips perfect people enjoy spicy chip, whose taste buds appreciate added sweetness ginger flavor. thing really dislike chips (along rest flavors) serving size half bag. really? eat half save rest later??? me...",
          null
         ],
         "marker": {
          "opacity": 0.5,
          "size": 5
         },
         "mode": "markers+text",
         "name": "16_thai_spicy_chips",
         "text": [
          "",
          "",
          "",
          "",
          "",
          "",
          "",
          "",
          "",
          "",
          "",
          "",
          "",
          "",
          "16_thai_spicy_chips"
         ],
         "textfont": {
          "size": 12
         },
         "type": "scattergl",
         "x": {
          "bdata": "QHXRQFMK1EBy3NJAsBvWQGKO0UDnActA2EDVQDGw1UCU69BAZT7SQA+o1UDZrM5AU/bJQHRu00Ax69FA",
          "dtype": "f4"
         },
         "y": {
          "bdata": "q46SwPtElcB2bZTAxGeWwIJik8A2F4zAk+WVwOchlsAP65LA9GiVwOU0lsDF6ZDAVOuSwMlKlMDrxZPA",
          "dtype": "f4"
         }
        },
        {
         "hoverinfo": "text",
         "hovertext": [
          "minti flavorone best mint chocolate syrup ever far. others pale flavor comparison. seven ingredients sauce, including organic natural mint flavor. past used ice cream heavy flavors like butterscotch, chocolate chips, oreo cookies, caramel et al, mint flavor mint chocolate sauces pale. buy plain vanilla chocolate ice cream minty flavor santa cruz organic mint chocolate syrup really stands overpower flavor ice cream. calories. mint flavor apparent taste, use sparingly, oz container last bit longer syrups used.",
          "love greattiny altoids great quick breath freshening small box great portability. full, compact.<br /><br />i run yet, probably couple months, cannot wait buy again.",
          "great lunchlittle guys tasty refreshing.<br /><br />i usually eat salads lunch terrible things breath. eat lunch (because small) find sufficiently resolves problem.<br /><br />they sugar free (sugar actually help smelly bacteria grow) great tasty enough almost think part lunch.<br /><br />this good bulk value buy would highly recommend mints themselves. cheers!",
          "altoid smalleven small containers, fill up. little tins less half filled price charged seems rip-off. exotic ingredient costly gold contained tiny squares? cereal ploy, filled factory settled transport.<br />can manufacturers honest dealings?",
          "nice littl mint priceylike better regular altoids, even costly, would better like them.",
          "loveloved wintergreen altoid smalls much, come write review. packaging small convenience, altoids smaller well square shape, blue hue, even delicious taste opinion. definitely prefer regular-size altoids continue purchasing them! highly recommended!",
          "wintergreenhard find wintergreen smalls [sugar free] stores red smalls [peppermint --such common flavor]. wintergreen refreshing absolutely delicious. driving cross country, someone cuts off, turn daughter hand say \"wintergreen me!\" pulls one out, puts hand, right world.",
          "altoidreceived shown. mother law likes walgreens quit carrying them. great could get amazon.",
          "altoid mini mint tinlittle tins sugar free mine mints great deal.there perfict go.fifty mints per tin right amount cary along.and safer teeth ones sugar.the price twelve dollars resonable.also great shareing.if looking mint try ones.you glad did.",
          "breath mintme, nothing like regular altoids breath mints. pleasant-tasting little candies cute convenient tin, far goes. mintiness strong, wintergreens definitely weaker peppermint minis. dragon-breath person, still, one mints small effect breath. four five freshen breath short - maybe minutes. point, think icebreakers frost mints best sugar free breath mints.",
          "altoid smallswintergreenpros:<br />+packaging, shipping, price<br />+sold year expiration date (enough eat/share boxes)<br />+not \"fresh\" like regular wintergreen powdery form. real mint!<br /><br />cons: none!",
          "mint awesomhuge supply them. still working plenty spare. much effective buying one grocery store every time want mint.",
          "love reusabl containlove, use empty containers medicine/advil purse, desk, suitcase. also line felt keep earrings. perfect little size disguise small valuables traveling love mints. tiny powerful without burning mouth.",
          null
         ],
         "marker": {
          "opacity": 0.5,
          "size": 5
         },
         "mode": "markers+text",
         "name": "17_mint_mints_breath",
         "text": [
          "",
          "",
          "",
          "",
          "",
          "",
          "",
          "",
          "",
          "",
          "",
          "",
          "",
          "17_mint_mints_breath"
         ],
         "textfont": {
          "size": 12
         },
         "type": "scattergl",
         "x": {
          "bdata": "gkQBQZJYAkELr/1AU0sCQZ47AkHzzAJBQfcCQamAAUFRtgFB0BgCQSM1AkFHzwFBc4zPQGer/0A=",
          "dtype": "f4"
         },
         "y": {
          "bdata": "Ry/aPlnutD7fMpw+c6ylPkANrz4V36I+zvibPkb/mD41wrc+QgC4PhOPsz7ODbQ+zjpEvkGgmT4=",
          "dtype": "f4"
         }
        },
        {
         "hoverinfo": "text",
         "hovertext": [
          "pockieveryone loves pocky say lying lol. pocky arrived good condition minimal melting broken pieces.",
          "disappointproduct strong after-taste crayola crayons!<br /><br />i process trying different brands coconut oils cooking purposes. upon opening plastic container, aroma crayons immediately fills room, flavor permeates food cooked it.<br /><br />i suspect source problem plastic used plastic container experienced brands purchased.<br /><br />to date, favorite coconut oil distributed barleans. flavor fantastic. however, supply gallon-sized tub,and dr. mercola best product size category.",
          "yummipocky incredibly good snack, that, impressed asia's packaging. stupidly ordered something easy melt chocolate dead heat summer. top package dessert pocky ordered degree weather melted liquid goo. t_t course expecting pocky boxes melted away, took special care put pocky box reading \"protect heat\" pocky arriving perfect condition! (well, stick together bit). love asia anything now.",
          "happi pocki stickmany purchses made amazon past december, pleased pocky chocolate cream covered biscuit sticks (pack ). arrived time, 'hit' surprised gift. sure keep refridgerated.",
          "good stuffbought pocky vacation enjoyed living asian stores shop internet. guys family seem like better ladies reason. bit insanity, search pocky commercials youtube!",
          "pocki stick togethindividual pocky sticks separately packaged melt stick together shipped.",
          "awsomlooooove pocky, got lucky's could stop, like chocolate laced crack. anywho, product good, sad thing shipped stored hot room chocolate melted together partially, take much effort take apart sticks.<br /><br />great product, great price merchant!",
          "choclatfirst time ordered came melted amazon quick remedy situation sending another product great thank",
          "chocol meltchocolate stick melted sticks stuck oneanother. product concept good better buying supermarket directly get someone visiting japan.",
          "goodlooked like perfect snack trail mix. unfortunately, arrived solid mass melted chocolate. left pantry days, opened room temperature still gooey. fridge breaking hunks ever since. taste good me, chocolate grainy melting solidifying again. order online again, see store would pick up.",
          "great tast snackif get japanes pockibought back january never got around reviewing them. heard many people rave japanese snack called pocky figured would try out. like description states, biscuit stick covered chocolate. would say taste mind boggling easy eat virtually mess, well, long chocolate melt. anyways, case anyone wondering, ordered seller named asia (). believe took around weeks actually get (maybe imported) did, came well packed damaged whatsoever. definitely considering re-stocking future cannot find local store<br /><br />edit: oct , /><br />*****inquire type pocky seller finalizing purchase*****<br /><br />so decided restock could fight craving anymore. unfortunately batch time good (ordered different seller cheaper amazon prime). received picture shown front page ( per pack japanese pocky), per pack pocky~ish thing thailand. opinion, giant pack compared smaller packs definitely step back. packaging fine ordered october weather bit cooler aka melted chocolate arriving front door. sticks coated type thick chocolate bit bitter taste, similar dark chocolate milk chocolate. original japanese pocky melted almost immediately mouth, one melts slowly sits mouth.<br /><br />personally like taste dark chocolate used pocky flavor. also terrible self control buy things come small portions order a) eat everything b) avoid making fridge mess cluttering tons opened items. honestly say overeating comes batch pocky stomach dislike much. change original rating still holds true japanese pocky rate thailand pocky would . taste \"terrible\" definitely liking. possible uploading pictures received.",
          "tastthink pocky get stored rightly. chocolate falling biscuit stick, taste should. many stick together, whenever want split up, becomes messy. need clean desk every time it.",
          null
         ],
         "marker": {
          "opacity": 0.5,
          "size": 5
         },
         "mode": "markers+text",
         "name": "18_pocky_chocolate_melted",
         "text": [
          "",
          "",
          "",
          "",
          "",
          "",
          "",
          "",
          "",
          "",
          "",
          "",
          "18_pocky_chocolate_melted"
         ],
         "textfont": {
          "size": 12
         },
         "type": "scattergl",
         "x": {
          "bdata": "a6qUQORCjkBU15VA/kGVQIwomEDFnpRAUW+UQLJOk0Cy5pNAWbSWQBcSmEDapJRAftKUQA==",
          "dtype": "f4"
         },
         "y": {
          "bdata": "X2Ybvn8Pmz01OgG+9B70veSDTr3Bsdq9ajolvq6ubL5q0J694X8FvtI6qLxeIcO9kOzLvQ==",
          "dtype": "f4"
         }
        },
        {
         "hoverinfo": "text",
         "hovertext": [
          "tastimints really strong great taste. also convenient size carry pocket purse.",
          "great gumlove flavor cannot find shelves anymore. gum tasted fresh actually way better used buy stores!",
          "nice taffigot wild hair taffy ordered five pound bag. taffy enjoyable many flavors: watermelon, root beer, melon, peppermint, grape, etc. complaint bit much red/black licorice-flavored pieces (just particular favorites). me, kids, husband, lasted two weeks! would recommend brand taffy -- delightful treat.",
          "nasti flavorcandy red , flavor . plan chewy . would never buy",
          "wonder tasti taffitaffy good. soft chewy. flavors amazing. would definitely recommend buying it. satisfying!!",
          "amazbest flavor ever! addicted! good far best. could live these! need anymore say....",
          "cuttiest gum centurigum super sick.tatooes killin.flavor spankin'.this brings back bomb diggity memories yo.peace out.",
          "good flavorstrawberry twist long-lasting pleasant flavor sweet-but, excessively so. delivery timely price right. supieror trident flavors! though, spearmint bad either. next pick would blueberry",
          "bigger brandgrape gummy bears hard find area. fact pretty much anyone talk grape gummy bears think lying. bought ... : ) bears little bit bigger brands kind sour kick, nothing strong. love grape flavored candy/soda pretty good. another company makes grape gummy bears little bit better opinion, well worth price. like use gummy bears home made popsicles flavored sports drink. salt sports drink makes softer popsicles, gummy bears awesome frozen. delicious!",
          "great flavorbought allot different flavors happens one favorites getting soon",
          "odd fake flavor recommendtrident \"strawberry twist\" sugarless gum disappointing, taste consistency. strawberry flavor artificial tasting and, though guess good thing, long lasting. gum also gets \"stringy\" fairly quickly.<br /><br />i chew lot gum, buying flavor again.<br /><br />not recommended!<br /><br />cfh",
          null
         ],
         "marker": {
          "opacity": 0.5,
          "size": 5
         },
         "mode": "markers+text",
         "name": "19_bears_gummy_gum",
         "text": [
          "",
          "",
          "",
          "",
          "",
          "",
          "",
          "",
          "",
          "",
          "",
          "19_bears_gummy_gum"
         ],
         "textfont": {
          "size": 12
         },
         "type": "scattergl",
         "x": {
          "bdata": "QRPeQKB37UCKCd9AjSjmQNx34UDXQuVA9ePrQAEL6EAjxuBAHL7lQH4770A37OVA",
          "dtype": "f4"
         },
         "y": {
          "bdata": "3Q4sPp3NKzwzH/k9gMNxvtAXQz6WQ4i+FWKaPT3gLb66K1y7nJR+vnEZdz0Jp928",
          "dtype": "f4"
         }
        },
        {
         "hoverinfo": "text",
         "hovertext": [
          "good chip great pricechips quite tasty price right. packaged well, would buy again.",
          "good buyreal good product.i love chips customers cannot go wrong wit best",
          "good chipbought sale amazon. nice crispy thick chips. definitely great buy catch sale.",
          "broken chip tastilove chips ordered florida. case chips came without packing inside. bags box cushioning all. needless say chips broken would order again. great item cannot package aid minimal chip breakage one wasting money.",
          "boxochipchips great deal. kettle special deal case chips. hard find vegas favorite flavor. shipping fast, sooner expected.",
          "great chipalways pleased amazon's packaging. chips never crushed broken, always fresh. really liked brand/flavor chips. tasty!",
          "great dealknew family already liked chips brainer take advantage great price good chips. price per bag cannot beat order subscribe save good thing always change delivery interval notice go quicker slower anticipated.",
          "crisplove chips, bought them, stock entire school year. chips taste great, packages sealed good condition arrived. box hand tatters, holes complely squished... know result customs voyage, receive bit disgruntling given falling apart. luckily, victims within. chips be.",
          "stop carri chipfirst time ate chips aruba . could find area (ct) imagine joy found amazon. love hope continue carry them. prices terrific too. pay $ aruba run $ bag buy case amazon. good job!!!! problem is, everybody wants steal bags case comes in, ok...sharing good.",
          "best deal everbest deal ever. delivery fast, chips delicious fresh. love it:)",
          null
         ],
         "marker": {
          "opacity": 0.5,
          "size": 5
         },
         "mode": "markers+text",
         "name": "20_chips_deal_good",
         "text": [
          "",
          "",
          "",
          "",
          "",
          "",
          "",
          "",
          "",
          "",
          "20_chips_deal_good"
         ],
         "textfont": {
          "size": 12
         },
         "type": "scattergl",
         "x": {
          "bdata": "tBuWQO5pl0BY8JdAMwOUQPzVlUA615RAOcaYQMYjlUDQWJVAfVKXQPlFlkA=",
          "dtype": "f4"
         },
         "y": {
          "bdata": "5/YCwNYpCcBO8gjA38jjv2+1D8DIXey/WB4MwHrr5L+wUfi/yFkGwA1lAcA=",
          "dtype": "f4"
         }
        },
        {
         "hoverinfo": "text",
         "hovertext": [
          "tradit caramel loveridea good caramel. flavors ginger pistachio dominated. chocolate walnut orange honey varieties. missed mix rich, buttery, dairy flavor caramelized sugar expect caramels.",
          "heavenli actionbest caramel/chocolate combination ever tasted. caramel liquid complements ghiradelli chocolate perfectly. try brew attempting lose weight - end addict like me.<br /> ghiradelli product far better caramello/hershey product every way. caramello chocolate lacks refined taste ghiradelli squares, caramello caramel harder sublime taste. comparing two like comparing warren buffett terms wealth. unfortunately caramello bar regard.<br /> least try ghiradelli.",
          "great caramelalthough enjoy flavor ordered tiny bit more, chocolate walnuts one, still enjoyable flavor. wonderful service ms. das, including hand signed coupon discount future orders, along samples couple caramel flavors. would order chocolate walnut flavor sure, along das food's gourmet salt.",
          "caramel chocolgood quality brand chocolate many flavours one. tasty fast delivery",
          "candicertainly best caramels ever had. wish came bigger pieces. finished whole box one sitting! certainly buy again.",
          "like countri cadburicadbury chocolate uses different formula country manufactured. new zealand uses cream australia, etc. version hershey expect england, australia new zealand cadbury. melt tongue like countries tastes differently.<br /><br />if looking silky smooth easy melting chocolate find non hershey version.<br /><br />hershey missed opportunity introduce high quality cadbury chocolate usa.",
          "amazingli true flavorpleased these- sure would able replicate autumn classic flavors caramel apples, figured werther's good bet. diabetic, wolfing real caramel apple mood strikes cannot happen often would like so. tasty enough get 'carb budget' real thing. made sugar alcohols, wise limit many eaten day unless going near home turbo-flush toilet. (tmi???) pack last while, definitely 'will reorder'. :)",
          "creamimind, fine caramel creamy melting. grainy. flavor fine, although little sweet taste.",
          "differ tast made uk made india versionus made version cadbury chocolate distinct taste uk version chocolate eating since childhood. like new taste. friends india -- buy chocolate either made uk india; otherwise disappointed was.",
          "none greaterbest chocolate world, critic's humble opinion, made united states. best chocolate united states made california, ghirardelli chocolate company. surely best chocolate one find many stores, malls, etc. throughout united states. actual stores rare, kroger, wal-mart, martin's (formerly ukrops) long list grocery stores many malls stock products.<br /><br />i never encountered milk chocolates caramel filling surpass quality these. chocolates deserving poetry. eat quickly, take time savor every moment eating every one. choice you.",
          null
         ],
         "marker": {
          "opacity": 0.5,
          "size": 5
         },
         "mode": "markers+text",
         "name": "21_chocolate_caramel_ghiradelli",
         "text": [
          "",
          "",
          "",
          "",
          "",
          "",
          "",
          "",
          "",
          "",
          "21_chocolate_caramel_ghiradelli"
         ],
         "textfont": {
          "size": 12
         },
         "type": "scattergl",
         "x": {
          "bdata": "R4/dQA3I40CakdpASAjZQM3N2kAQ7OFAWv3bQO4n3ECcbOFAfejgQMAD3kA=",
          "dtype": "f4"
         },
         "y": {
          "bdata": "cWZOP1YkTD94fD4/R+o9P0FqST8mbF8/gM5FP71hRz9dMVM/KAdTP9+ESz8=",
          "dtype": "f4"
         }
        }
       ],
       "layout": {
        "annotations": [
         {
          "showarrow": false,
          "text": "D1",
          "x": 0.5271468758583069,
          "y": -0.41332244873046875,
          "yshift": 10
         },
         {
          "showarrow": false,
          "text": "D2",
          "x": 6.327780723571777,
          "xshift": 10,
          "y": 5.425378799438477
         }
        ],
        "height": 750,
        "shapes": [
         {
          "line": {
           "color": "#CFD8DC",
           "width": 2
          },
          "type": "line",
          "x0": 6.327780723571777,
          "x1": 6.327780723571777,
          "y0": -6.252023696899414,
          "y1": 5.425378799438477
         },
         {
          "line": {
           "color": "#9E9E9E",
           "width": 2
          },
          "type": "line",
          "x0": 0.5271468758583069,
          "x1": 12.128414154052734,
          "y0": -0.41332244873046875,
          "y1": -0.41332244873046875
         }
        ],
        "template": {
         "data": {
          "bar": [
           {
            "error_x": {
             "color": "rgb(36,36,36)"
            },
            "error_y": {
             "color": "rgb(36,36,36)"
            },
            "marker": {
             "line": {
              "color": "white",
              "width": 0.5
             },
             "pattern": {
              "fillmode": "overlay",
              "size": 10,
              "solidity": 0.2
             }
            },
            "type": "bar"
           }
          ],
          "barpolar": [
           {
            "marker": {
             "line": {
              "color": "white",
              "width": 0.5
             },
             "pattern": {
              "fillmode": "overlay",
              "size": 10,
              "solidity": 0.2
             }
            },
            "type": "barpolar"
           }
          ],
          "carpet": [
           {
            "aaxis": {
             "endlinecolor": "rgb(36,36,36)",
             "gridcolor": "white",
             "linecolor": "white",
             "minorgridcolor": "white",
             "startlinecolor": "rgb(36,36,36)"
            },
            "baxis": {
             "endlinecolor": "rgb(36,36,36)",
             "gridcolor": "white",
             "linecolor": "white",
             "minorgridcolor": "white",
             "startlinecolor": "rgb(36,36,36)"
            },
            "type": "carpet"
           }
          ],
          "choropleth": [
           {
            "colorbar": {
             "outlinewidth": 1,
             "tickcolor": "rgb(36,36,36)",
             "ticks": "outside"
            },
            "type": "choropleth"
           }
          ],
          "contour": [
           {
            "colorbar": {
             "outlinewidth": 1,
             "tickcolor": "rgb(36,36,36)",
             "ticks": "outside"
            },
            "colorscale": [
             [
              0,
              "#440154"
             ],
             [
              0.1111111111111111,
              "#482878"
             ],
             [
              0.2222222222222222,
              "#3e4989"
             ],
             [
              0.3333333333333333,
              "#31688e"
             ],
             [
              0.4444444444444444,
              "#26828e"
             ],
             [
              0.5555555555555556,
              "#1f9e89"
             ],
             [
              0.6666666666666666,
              "#35b779"
             ],
             [
              0.7777777777777778,
              "#6ece58"
             ],
             [
              0.8888888888888888,
              "#b5de2b"
             ],
             [
              1,
              "#fde725"
             ]
            ],
            "type": "contour"
           }
          ],
          "contourcarpet": [
           {
            "colorbar": {
             "outlinewidth": 1,
             "tickcolor": "rgb(36,36,36)",
             "ticks": "outside"
            },
            "type": "contourcarpet"
           }
          ],
          "heatmap": [
           {
            "colorbar": {
             "outlinewidth": 1,
             "tickcolor": "rgb(36,36,36)",
             "ticks": "outside"
            },
            "colorscale": [
             [
              0,
              "#440154"
             ],
             [
              0.1111111111111111,
              "#482878"
             ],
             [
              0.2222222222222222,
              "#3e4989"
             ],
             [
              0.3333333333333333,
              "#31688e"
             ],
             [
              0.4444444444444444,
              "#26828e"
             ],
             [
              0.5555555555555556,
              "#1f9e89"
             ],
             [
              0.6666666666666666,
              "#35b779"
             ],
             [
              0.7777777777777778,
              "#6ece58"
             ],
             [
              0.8888888888888888,
              "#b5de2b"
             ],
             [
              1,
              "#fde725"
             ]
            ],
            "type": "heatmap"
           }
          ],
          "histogram": [
           {
            "marker": {
             "line": {
              "color": "white",
              "width": 0.6
             }
            },
            "type": "histogram"
           }
          ],
          "histogram2d": [
           {
            "colorbar": {
             "outlinewidth": 1,
             "tickcolor": "rgb(36,36,36)",
             "ticks": "outside"
            },
            "colorscale": [
             [
              0,
              "#440154"
             ],
             [
              0.1111111111111111,
              "#482878"
             ],
             [
              0.2222222222222222,
              "#3e4989"
             ],
             [
              0.3333333333333333,
              "#31688e"
             ],
             [
              0.4444444444444444,
              "#26828e"
             ],
             [
              0.5555555555555556,
              "#1f9e89"
             ],
             [
              0.6666666666666666,
              "#35b779"
             ],
             [
              0.7777777777777778,
              "#6ece58"
             ],
             [
              0.8888888888888888,
              "#b5de2b"
             ],
             [
              1,
              "#fde725"
             ]
            ],
            "type": "histogram2d"
           }
          ],
          "histogram2dcontour": [
           {
            "colorbar": {
             "outlinewidth": 1,
             "tickcolor": "rgb(36,36,36)",
             "ticks": "outside"
            },
            "colorscale": [
             [
              0,
              "#440154"
             ],
             [
              0.1111111111111111,
              "#482878"
             ],
             [
              0.2222222222222222,
              "#3e4989"
             ],
             [
              0.3333333333333333,
              "#31688e"
             ],
             [
              0.4444444444444444,
              "#26828e"
             ],
             [
              0.5555555555555556,
              "#1f9e89"
             ],
             [
              0.6666666666666666,
              "#35b779"
             ],
             [
              0.7777777777777778,
              "#6ece58"
             ],
             [
              0.8888888888888888,
              "#b5de2b"
             ],
             [
              1,
              "#fde725"
             ]
            ],
            "type": "histogram2dcontour"
           }
          ],
          "mesh3d": [
           {
            "colorbar": {
             "outlinewidth": 1,
             "tickcolor": "rgb(36,36,36)",
             "ticks": "outside"
            },
            "type": "mesh3d"
           }
          ],
          "parcoords": [
           {
            "line": {
             "colorbar": {
              "outlinewidth": 1,
              "tickcolor": "rgb(36,36,36)",
              "ticks": "outside"
             }
            },
            "type": "parcoords"
           }
          ],
          "pie": [
           {
            "automargin": true,
            "type": "pie"
           }
          ],
          "scatter": [
           {
            "fillpattern": {
             "fillmode": "overlay",
             "size": 10,
             "solidity": 0.2
            },
            "type": "scatter"
           }
          ],
          "scatter3d": [
           {
            "line": {
             "colorbar": {
              "outlinewidth": 1,
              "tickcolor": "rgb(36,36,36)",
              "ticks": "outside"
             }
            },
            "marker": {
             "colorbar": {
              "outlinewidth": 1,
              "tickcolor": "rgb(36,36,36)",
              "ticks": "outside"
             }
            },
            "type": "scatter3d"
           }
          ],
          "scattercarpet": [
           {
            "marker": {
             "colorbar": {
              "outlinewidth": 1,
              "tickcolor": "rgb(36,36,36)",
              "ticks": "outside"
             }
            },
            "type": "scattercarpet"
           }
          ],
          "scattergeo": [
           {
            "marker": {
             "colorbar": {
              "outlinewidth": 1,
              "tickcolor": "rgb(36,36,36)",
              "ticks": "outside"
             }
            },
            "type": "scattergeo"
           }
          ],
          "scattergl": [
           {
            "marker": {
             "colorbar": {
              "outlinewidth": 1,
              "tickcolor": "rgb(36,36,36)",
              "ticks": "outside"
             }
            },
            "type": "scattergl"
           }
          ],
          "scattermap": [
           {
            "marker": {
             "colorbar": {
              "outlinewidth": 1,
              "tickcolor": "rgb(36,36,36)",
              "ticks": "outside"
             }
            },
            "type": "scattermap"
           }
          ],
          "scattermapbox": [
           {
            "marker": {
             "colorbar": {
              "outlinewidth": 1,
              "tickcolor": "rgb(36,36,36)",
              "ticks": "outside"
             }
            },
            "type": "scattermapbox"
           }
          ],
          "scatterpolar": [
           {
            "marker": {
             "colorbar": {
              "outlinewidth": 1,
              "tickcolor": "rgb(36,36,36)",
              "ticks": "outside"
             }
            },
            "type": "scatterpolar"
           }
          ],
          "scatterpolargl": [
           {
            "marker": {
             "colorbar": {
              "outlinewidth": 1,
              "tickcolor": "rgb(36,36,36)",
              "ticks": "outside"
             }
            },
            "type": "scatterpolargl"
           }
          ],
          "scatterternary": [
           {
            "marker": {
             "colorbar": {
              "outlinewidth": 1,
              "tickcolor": "rgb(36,36,36)",
              "ticks": "outside"
             }
            },
            "type": "scatterternary"
           }
          ],
          "surface": [
           {
            "colorbar": {
             "outlinewidth": 1,
             "tickcolor": "rgb(36,36,36)",
             "ticks": "outside"
            },
            "colorscale": [
             [
              0,
              "#440154"
             ],
             [
              0.1111111111111111,
              "#482878"
             ],
             [
              0.2222222222222222,
              "#3e4989"
             ],
             [
              0.3333333333333333,
              "#31688e"
             ],
             [
              0.4444444444444444,
              "#26828e"
             ],
             [
              0.5555555555555556,
              "#1f9e89"
             ],
             [
              0.6666666666666666,
              "#35b779"
             ],
             [
              0.7777777777777778,
              "#6ece58"
             ],
             [
              0.8888888888888888,
              "#b5de2b"
             ],
             [
              1,
              "#fde725"
             ]
            ],
            "type": "surface"
           }
          ],
          "table": [
           {
            "cells": {
             "fill": {
              "color": "rgb(237,237,237)"
             },
             "line": {
              "color": "white"
             }
            },
            "header": {
             "fill": {
              "color": "rgb(217,217,217)"
             },
             "line": {
              "color": "white"
             }
            },
            "type": "table"
           }
          ]
         },
         "layout": {
          "annotationdefaults": {
           "arrowhead": 0,
           "arrowwidth": 1
          },
          "autotypenumbers": "strict",
          "coloraxis": {
           "colorbar": {
            "outlinewidth": 1,
            "tickcolor": "rgb(36,36,36)",
            "ticks": "outside"
           }
          },
          "colorscale": {
           "diverging": [
            [
             0,
             "rgb(103,0,31)"
            ],
            [
             0.1,
             "rgb(178,24,43)"
            ],
            [
             0.2,
             "rgb(214,96,77)"
            ],
            [
             0.3,
             "rgb(244,165,130)"
            ],
            [
             0.4,
             "rgb(253,219,199)"
            ],
            [
             0.5,
             "rgb(247,247,247)"
            ],
            [
             0.6,
             "rgb(209,229,240)"
            ],
            [
             0.7,
             "rgb(146,197,222)"
            ],
            [
             0.8,
             "rgb(67,147,195)"
            ],
            [
             0.9,
             "rgb(33,102,172)"
            ],
            [
             1,
             "rgb(5,48,97)"
            ]
           ],
           "sequential": [
            [
             0,
             "#440154"
            ],
            [
             0.1111111111111111,
             "#482878"
            ],
            [
             0.2222222222222222,
             "#3e4989"
            ],
            [
             0.3333333333333333,
             "#31688e"
            ],
            [
             0.4444444444444444,
             "#26828e"
            ],
            [
             0.5555555555555556,
             "#1f9e89"
            ],
            [
             0.6666666666666666,
             "#35b779"
            ],
            [
             0.7777777777777778,
             "#6ece58"
            ],
            [
             0.8888888888888888,
             "#b5de2b"
            ],
            [
             1,
             "#fde725"
            ]
           ],
           "sequentialminus": [
            [
             0,
             "#440154"
            ],
            [
             0.1111111111111111,
             "#482878"
            ],
            [
             0.2222222222222222,
             "#3e4989"
            ],
            [
             0.3333333333333333,
             "#31688e"
            ],
            [
             0.4444444444444444,
             "#26828e"
            ],
            [
             0.5555555555555556,
             "#1f9e89"
            ],
            [
             0.6666666666666666,
             "#35b779"
            ],
            [
             0.7777777777777778,
             "#6ece58"
            ],
            [
             0.8888888888888888,
             "#b5de2b"
            ],
            [
             1,
             "#fde725"
            ]
           ]
          },
          "colorway": [
           "#1F77B4",
           "#FF7F0E",
           "#2CA02C",
           "#D62728",
           "#9467BD",
           "#8C564B",
           "#E377C2",
           "#7F7F7F",
           "#BCBD22",
           "#17BECF"
          ],
          "font": {
           "color": "rgb(36,36,36)"
          },
          "geo": {
           "bgcolor": "white",
           "lakecolor": "white",
           "landcolor": "white",
           "showlakes": true,
           "showland": true,
           "subunitcolor": "white"
          },
          "hoverlabel": {
           "align": "left"
          },
          "hovermode": "closest",
          "mapbox": {
           "style": "light"
          },
          "paper_bgcolor": "white",
          "plot_bgcolor": "white",
          "polar": {
           "angularaxis": {
            "gridcolor": "rgb(232,232,232)",
            "linecolor": "rgb(36,36,36)",
            "showgrid": false,
            "showline": true,
            "ticks": "outside"
           },
           "bgcolor": "white",
           "radialaxis": {
            "gridcolor": "rgb(232,232,232)",
            "linecolor": "rgb(36,36,36)",
            "showgrid": false,
            "showline": true,
            "ticks": "outside"
           }
          },
          "scene": {
           "xaxis": {
            "backgroundcolor": "white",
            "gridcolor": "rgb(232,232,232)",
            "gridwidth": 2,
            "linecolor": "rgb(36,36,36)",
            "showbackground": true,
            "showgrid": false,
            "showline": true,
            "ticks": "outside",
            "zeroline": false,
            "zerolinecolor": "rgb(36,36,36)"
           },
           "yaxis": {
            "backgroundcolor": "white",
            "gridcolor": "rgb(232,232,232)",
            "gridwidth": 2,
            "linecolor": "rgb(36,36,36)",
            "showbackground": true,
            "showgrid": false,
            "showline": true,
            "ticks": "outside",
            "zeroline": false,
            "zerolinecolor": "rgb(36,36,36)"
           },
           "zaxis": {
            "backgroundcolor": "white",
            "gridcolor": "rgb(232,232,232)",
            "gridwidth": 2,
            "linecolor": "rgb(36,36,36)",
            "showbackground": true,
            "showgrid": false,
            "showline": true,
            "ticks": "outside",
            "zeroline": false,
            "zerolinecolor": "rgb(36,36,36)"
           }
          },
          "shapedefaults": {
           "fillcolor": "black",
           "line": {
            "width": 0
           },
           "opacity": 0.3
          },
          "ternary": {
           "aaxis": {
            "gridcolor": "rgb(232,232,232)",
            "linecolor": "rgb(36,36,36)",
            "showgrid": false,
            "showline": true,
            "ticks": "outside"
           },
           "baxis": {
            "gridcolor": "rgb(232,232,232)",
            "linecolor": "rgb(36,36,36)",
            "showgrid": false,
            "showline": true,
            "ticks": "outside"
           },
           "bgcolor": "white",
           "caxis": {
            "gridcolor": "rgb(232,232,232)",
            "linecolor": "rgb(36,36,36)",
            "showgrid": false,
            "showline": true,
            "ticks": "outside"
           }
          },
          "title": {
           "x": 0.05
          },
          "xaxis": {
           "automargin": true,
           "gridcolor": "rgb(232,232,232)",
           "linecolor": "rgb(36,36,36)",
           "showgrid": false,
           "showline": true,
           "ticks": "outside",
           "title": {
            "standoff": 15
           },
           "zeroline": false,
           "zerolinecolor": "rgb(36,36,36)"
          },
          "yaxis": {
           "automargin": true,
           "gridcolor": "rgb(232,232,232)",
           "linecolor": "rgb(36,36,36)",
           "showgrid": false,
           "showline": true,
           "ticks": "outside",
           "title": {
            "standoff": 15
           },
           "zeroline": false,
           "zerolinecolor": "rgb(36,36,36)"
          }
         }
        },
        "title": {
         "font": {
          "color": "Black",
          "size": 22
         },
         "text": "<b>Documents and Topics</b>",
         "x": 0.5,
         "xanchor": "center",
         "yanchor": "top"
        },
        "width": 1200,
        "xaxis": {
         "visible": false
        },
        "yaxis": {
         "visible": false
        }
       }
      }
     },
     "metadata": {},
     "output_type": "display_data"
    }
   ],
   "source": [
    "# Reduce dimensionality of embeddings, this step is optional but much faster to perform iteratively:\n",
    "reduced_embeddings = UMAP(n_neighbors=10, n_components=2, min_dist=0.0, metric='cosine').fit_transform(embeddings)\n",
    "topic_model.visualize_documents(docs, reduced_embeddings=reduced_embeddings)"
   ]
  },
  {
   "cell_type": "code",
   "execution_count": 13,
   "id": "b04ef07b",
   "metadata": {},
   "outputs": [
    {
     "data": {
      "application/vnd.plotly.v1+json": {
       "config": {
        "plotlyServerURL": "https://plot.ly"
       },
       "data": [
        {
         "marker": {
          "color": "#D55E00"
         },
         "orientation": "h",
         "type": "bar",
         "x": [
          0.025009441347028222,
          0.027343077260221223,
          0.027666195187414814,
          0.031240234127674498,
          0.03352797478866827
         ],
         "xaxis": "x",
         "y": [
          "product  ",
          "candy  ",
          "great  ",
          "came  ",
          "broken  "
         ],
         "yaxis": "y"
        },
        {
         "marker": {
          "color": "#0072B2"
         },
         "orientation": "h",
         "type": "bar",
         "x": [
          0.026223314093099987,
          0.030044484464175007,
          0.0345813941941576,
          0.060121375179820975,
          0.06278018553427313
         ],
         "xaxis": "x2",
         "y": [
          "salsa  ",
          "soy  ",
          "bottle  ",
          "hot  ",
          "sauce  "
         ],
         "yaxis": "y2"
        },
        {
         "marker": {
          "color": "#CC79A7"
         },
         "orientation": "h",
         "type": "bar",
         "x": [
          0.029230768324090193,
          0.03512824497723733,
          0.03522556520953396,
          0.05864864110694947,
          0.0735780438073332
         ],
         "xaxis": "x3",
         "y": [
          "br  ",
          "brand  ",
          "potato  ",
          "kettle  ",
          "chips  "
         ],
         "yaxis": "y3"
        },
        {
         "marker": {
          "color": "#E69F00"
         },
         "orientation": "h",
         "type": "bar",
         "x": [
          0.034814725760303394,
          0.03650924402586792,
          0.037894091702927894,
          0.04338401869603104,
          0.05305246857944978
         ],
         "xaxis": "x4",
         "y": [
          "one  ",
          "earths  ",
          "food  ",
          "baby  ",
          "organic  "
         ],
         "yaxis": "y4"
        },
        {
         "marker": {
          "color": "#56B4E9"
         },
         "orientation": "h",
         "type": "bar",
         "x": [
          0.025609387432046483,
          0.02716442966461218,
          0.02716442966461218,
          0.033104049531163,
          0.16323281195237505
         ],
         "xaxis": "x5",
         "y": [
          "ahmad  ",
          "grey  ",
          "earl  ",
          "teas  ",
          "tea  "
         ],
         "yaxis": "y5"
        },
        {
         "marker": {
          "color": "#009E73"
         },
         "orientation": "h",
         "type": "bar",
         "x": [
          0.026475817902261393,
          0.027014682818423723,
          0.036024982270317495,
          0.03654973387629984,
          0.13820083920455067
         ],
         "xaxis": "x6",
         "y": [
          "mountain  ",
          "kona  ",
          "cup  ",
          "blend  ",
          "coffee  "
         ],
         "yaxis": "y6"
        },
        {
         "marker": {
          "color": "#F0E442"
         },
         "orientation": "h",
         "type": "bar",
         "x": [
          0.031259441356848064,
          0.04109981578496512,
          0.046921373262457516,
          0.04722841625641403,
          0.11733400989012309
         ],
         "xaxis": "x7",
         "y": [
          "raw  ",
          "nectar  ",
          "use  ",
          "agave  ",
          "sugar  "
         ],
         "yaxis": "y7"
        },
        {
         "marker": {
          "color": "#D55E00"
         },
         "orientation": "h",
         "type": "bar",
         "x": [
          0.036703421498087946,
          0.037933081226982704,
          0.045028041056368096,
          0.0906751480034346,
          0.13844469243957686
         ],
         "xaxis": "x8",
         "y": [
          "loves  ",
          "balance  ",
          "dogs  ",
          "food  ",
          "dog  "
         ],
         "yaxis": "y8"
        }
       ],
       "layout": {
        "annotations": [
         {
          "font": {
           "size": 16
          },
          "showarrow": false,
          "text": "Topic 0",
          "x": 0.0875,
          "xanchor": "center",
          "xref": "paper",
          "y": 1,
          "yanchor": "bottom",
          "yref": "paper"
         },
         {
          "font": {
           "size": 16
          },
          "showarrow": false,
          "text": "Topic 1",
          "x": 0.36250000000000004,
          "xanchor": "center",
          "xref": "paper",
          "y": 1,
          "yanchor": "bottom",
          "yref": "paper"
         },
         {
          "font": {
           "size": 16
          },
          "showarrow": false,
          "text": "Topic 2",
          "x": 0.6375000000000001,
          "xanchor": "center",
          "xref": "paper",
          "y": 1,
          "yanchor": "bottom",
          "yref": "paper"
         },
         {
          "font": {
           "size": 16
          },
          "showarrow": false,
          "text": "Topic 3",
          "x": 0.9125,
          "xanchor": "center",
          "xref": "paper",
          "y": 1,
          "yanchor": "bottom",
          "yref": "paper"
         },
         {
          "font": {
           "size": 16
          },
          "showarrow": false,
          "text": "Topic 4",
          "x": 0.0875,
          "xanchor": "center",
          "xref": "paper",
          "y": 0.4,
          "yanchor": "bottom",
          "yref": "paper"
         },
         {
          "font": {
           "size": 16
          },
          "showarrow": false,
          "text": "Topic 5",
          "x": 0.36250000000000004,
          "xanchor": "center",
          "xref": "paper",
          "y": 0.4,
          "yanchor": "bottom",
          "yref": "paper"
         },
         {
          "font": {
           "size": 16
          },
          "showarrow": false,
          "text": "Topic 6",
          "x": 0.6375000000000001,
          "xanchor": "center",
          "xref": "paper",
          "y": 0.4,
          "yanchor": "bottom",
          "yref": "paper"
         },
         {
          "font": {
           "size": 16
          },
          "showarrow": false,
          "text": "Topic 7",
          "x": 0.9125,
          "xanchor": "center",
          "xref": "paper",
          "y": 0.4,
          "yanchor": "bottom",
          "yref": "paper"
         }
        ],
        "height": 500,
        "hoverlabel": {
         "bgcolor": "white",
         "font": {
          "family": "Rockwell",
          "size": 16
         }
        },
        "showlegend": false,
        "template": {
         "data": {
          "bar": [
           {
            "error_x": {
             "color": "#2a3f5f"
            },
            "error_y": {
             "color": "#2a3f5f"
            },
            "marker": {
             "line": {
              "color": "white",
              "width": 0.5
             },
             "pattern": {
              "fillmode": "overlay",
              "size": 10,
              "solidity": 0.2
             }
            },
            "type": "bar"
           }
          ],
          "barpolar": [
           {
            "marker": {
             "line": {
              "color": "white",
              "width": 0.5
             },
             "pattern": {
              "fillmode": "overlay",
              "size": 10,
              "solidity": 0.2
             }
            },
            "type": "barpolar"
           }
          ],
          "carpet": [
           {
            "aaxis": {
             "endlinecolor": "#2a3f5f",
             "gridcolor": "#C8D4E3",
             "linecolor": "#C8D4E3",
             "minorgridcolor": "#C8D4E3",
             "startlinecolor": "#2a3f5f"
            },
            "baxis": {
             "endlinecolor": "#2a3f5f",
             "gridcolor": "#C8D4E3",
             "linecolor": "#C8D4E3",
             "minorgridcolor": "#C8D4E3",
             "startlinecolor": "#2a3f5f"
            },
            "type": "carpet"
           }
          ],
          "choropleth": [
           {
            "colorbar": {
             "outlinewidth": 0,
             "ticks": ""
            },
            "type": "choropleth"
           }
          ],
          "contour": [
           {
            "colorbar": {
             "outlinewidth": 0,
             "ticks": ""
            },
            "colorscale": [
             [
              0,
              "#0d0887"
             ],
             [
              0.1111111111111111,
              "#46039f"
             ],
             [
              0.2222222222222222,
              "#7201a8"
             ],
             [
              0.3333333333333333,
              "#9c179e"
             ],
             [
              0.4444444444444444,
              "#bd3786"
             ],
             [
              0.5555555555555556,
              "#d8576b"
             ],
             [
              0.6666666666666666,
              "#ed7953"
             ],
             [
              0.7777777777777778,
              "#fb9f3a"
             ],
             [
              0.8888888888888888,
              "#fdca26"
             ],
             [
              1,
              "#f0f921"
             ]
            ],
            "type": "contour"
           }
          ],
          "contourcarpet": [
           {
            "colorbar": {
             "outlinewidth": 0,
             "ticks": ""
            },
            "type": "contourcarpet"
           }
          ],
          "heatmap": [
           {
            "colorbar": {
             "outlinewidth": 0,
             "ticks": ""
            },
            "colorscale": [
             [
              0,
              "#0d0887"
             ],
             [
              0.1111111111111111,
              "#46039f"
             ],
             [
              0.2222222222222222,
              "#7201a8"
             ],
             [
              0.3333333333333333,
              "#9c179e"
             ],
             [
              0.4444444444444444,
              "#bd3786"
             ],
             [
              0.5555555555555556,
              "#d8576b"
             ],
             [
              0.6666666666666666,
              "#ed7953"
             ],
             [
              0.7777777777777778,
              "#fb9f3a"
             ],
             [
              0.8888888888888888,
              "#fdca26"
             ],
             [
              1,
              "#f0f921"
             ]
            ],
            "type": "heatmap"
           }
          ],
          "histogram": [
           {
            "marker": {
             "pattern": {
              "fillmode": "overlay",
              "size": 10,
              "solidity": 0.2
             }
            },
            "type": "histogram"
           }
          ],
          "histogram2d": [
           {
            "colorbar": {
             "outlinewidth": 0,
             "ticks": ""
            },
            "colorscale": [
             [
              0,
              "#0d0887"
             ],
             [
              0.1111111111111111,
              "#46039f"
             ],
             [
              0.2222222222222222,
              "#7201a8"
             ],
             [
              0.3333333333333333,
              "#9c179e"
             ],
             [
              0.4444444444444444,
              "#bd3786"
             ],
             [
              0.5555555555555556,
              "#d8576b"
             ],
             [
              0.6666666666666666,
              "#ed7953"
             ],
             [
              0.7777777777777778,
              "#fb9f3a"
             ],
             [
              0.8888888888888888,
              "#fdca26"
             ],
             [
              1,
              "#f0f921"
             ]
            ],
            "type": "histogram2d"
           }
          ],
          "histogram2dcontour": [
           {
            "colorbar": {
             "outlinewidth": 0,
             "ticks": ""
            },
            "colorscale": [
             [
              0,
              "#0d0887"
             ],
             [
              0.1111111111111111,
              "#46039f"
             ],
             [
              0.2222222222222222,
              "#7201a8"
             ],
             [
              0.3333333333333333,
              "#9c179e"
             ],
             [
              0.4444444444444444,
              "#bd3786"
             ],
             [
              0.5555555555555556,
              "#d8576b"
             ],
             [
              0.6666666666666666,
              "#ed7953"
             ],
             [
              0.7777777777777778,
              "#fb9f3a"
             ],
             [
              0.8888888888888888,
              "#fdca26"
             ],
             [
              1,
              "#f0f921"
             ]
            ],
            "type": "histogram2dcontour"
           }
          ],
          "mesh3d": [
           {
            "colorbar": {
             "outlinewidth": 0,
             "ticks": ""
            },
            "type": "mesh3d"
           }
          ],
          "parcoords": [
           {
            "line": {
             "colorbar": {
              "outlinewidth": 0,
              "ticks": ""
             }
            },
            "type": "parcoords"
           }
          ],
          "pie": [
           {
            "automargin": true,
            "type": "pie"
           }
          ],
          "scatter": [
           {
            "fillpattern": {
             "fillmode": "overlay",
             "size": 10,
             "solidity": 0.2
            },
            "type": "scatter"
           }
          ],
          "scatter3d": [
           {
            "line": {
             "colorbar": {
              "outlinewidth": 0,
              "ticks": ""
             }
            },
            "marker": {
             "colorbar": {
              "outlinewidth": 0,
              "ticks": ""
             }
            },
            "type": "scatter3d"
           }
          ],
          "scattercarpet": [
           {
            "marker": {
             "colorbar": {
              "outlinewidth": 0,
              "ticks": ""
             }
            },
            "type": "scattercarpet"
           }
          ],
          "scattergeo": [
           {
            "marker": {
             "colorbar": {
              "outlinewidth": 0,
              "ticks": ""
             }
            },
            "type": "scattergeo"
           }
          ],
          "scattergl": [
           {
            "marker": {
             "colorbar": {
              "outlinewidth": 0,
              "ticks": ""
             }
            },
            "type": "scattergl"
           }
          ],
          "scattermap": [
           {
            "marker": {
             "colorbar": {
              "outlinewidth": 0,
              "ticks": ""
             }
            },
            "type": "scattermap"
           }
          ],
          "scattermapbox": [
           {
            "marker": {
             "colorbar": {
              "outlinewidth": 0,
              "ticks": ""
             }
            },
            "type": "scattermapbox"
           }
          ],
          "scatterpolar": [
           {
            "marker": {
             "colorbar": {
              "outlinewidth": 0,
              "ticks": ""
             }
            },
            "type": "scatterpolar"
           }
          ],
          "scatterpolargl": [
           {
            "marker": {
             "colorbar": {
              "outlinewidth": 0,
              "ticks": ""
             }
            },
            "type": "scatterpolargl"
           }
          ],
          "scatterternary": [
           {
            "marker": {
             "colorbar": {
              "outlinewidth": 0,
              "ticks": ""
             }
            },
            "type": "scatterternary"
           }
          ],
          "surface": [
           {
            "colorbar": {
             "outlinewidth": 0,
             "ticks": ""
            },
            "colorscale": [
             [
              0,
              "#0d0887"
             ],
             [
              0.1111111111111111,
              "#46039f"
             ],
             [
              0.2222222222222222,
              "#7201a8"
             ],
             [
              0.3333333333333333,
              "#9c179e"
             ],
             [
              0.4444444444444444,
              "#bd3786"
             ],
             [
              0.5555555555555556,
              "#d8576b"
             ],
             [
              0.6666666666666666,
              "#ed7953"
             ],
             [
              0.7777777777777778,
              "#fb9f3a"
             ],
             [
              0.8888888888888888,
              "#fdca26"
             ],
             [
              1,
              "#f0f921"
             ]
            ],
            "type": "surface"
           }
          ],
          "table": [
           {
            "cells": {
             "fill": {
              "color": "#EBF0F8"
             },
             "line": {
              "color": "white"
             }
            },
            "header": {
             "fill": {
              "color": "#C8D4E3"
             },
             "line": {
              "color": "white"
             }
            },
            "type": "table"
           }
          ]
         },
         "layout": {
          "annotationdefaults": {
           "arrowcolor": "#2a3f5f",
           "arrowhead": 0,
           "arrowwidth": 1
          },
          "autotypenumbers": "strict",
          "coloraxis": {
           "colorbar": {
            "outlinewidth": 0,
            "ticks": ""
           }
          },
          "colorscale": {
           "diverging": [
            [
             0,
             "#8e0152"
            ],
            [
             0.1,
             "#c51b7d"
            ],
            [
             0.2,
             "#de77ae"
            ],
            [
             0.3,
             "#f1b6da"
            ],
            [
             0.4,
             "#fde0ef"
            ],
            [
             0.5,
             "#f7f7f7"
            ],
            [
             0.6,
             "#e6f5d0"
            ],
            [
             0.7,
             "#b8e186"
            ],
            [
             0.8,
             "#7fbc41"
            ],
            [
             0.9,
             "#4d9221"
            ],
            [
             1,
             "#276419"
            ]
           ],
           "sequential": [
            [
             0,
             "#0d0887"
            ],
            [
             0.1111111111111111,
             "#46039f"
            ],
            [
             0.2222222222222222,
             "#7201a8"
            ],
            [
             0.3333333333333333,
             "#9c179e"
            ],
            [
             0.4444444444444444,
             "#bd3786"
            ],
            [
             0.5555555555555556,
             "#d8576b"
            ],
            [
             0.6666666666666666,
             "#ed7953"
            ],
            [
             0.7777777777777778,
             "#fb9f3a"
            ],
            [
             0.8888888888888888,
             "#fdca26"
            ],
            [
             1,
             "#f0f921"
            ]
           ],
           "sequentialminus": [
            [
             0,
             "#0d0887"
            ],
            [
             0.1111111111111111,
             "#46039f"
            ],
            [
             0.2222222222222222,
             "#7201a8"
            ],
            [
             0.3333333333333333,
             "#9c179e"
            ],
            [
             0.4444444444444444,
             "#bd3786"
            ],
            [
             0.5555555555555556,
             "#d8576b"
            ],
            [
             0.6666666666666666,
             "#ed7953"
            ],
            [
             0.7777777777777778,
             "#fb9f3a"
            ],
            [
             0.8888888888888888,
             "#fdca26"
            ],
            [
             1,
             "#f0f921"
            ]
           ]
          },
          "colorway": [
           "#636efa",
           "#EF553B",
           "#00cc96",
           "#ab63fa",
           "#FFA15A",
           "#19d3f3",
           "#FF6692",
           "#B6E880",
           "#FF97FF",
           "#FECB52"
          ],
          "font": {
           "color": "#2a3f5f"
          },
          "geo": {
           "bgcolor": "white",
           "lakecolor": "white",
           "landcolor": "white",
           "showlakes": true,
           "showland": true,
           "subunitcolor": "#C8D4E3"
          },
          "hoverlabel": {
           "align": "left"
          },
          "hovermode": "closest",
          "mapbox": {
           "style": "light"
          },
          "paper_bgcolor": "white",
          "plot_bgcolor": "white",
          "polar": {
           "angularaxis": {
            "gridcolor": "#EBF0F8",
            "linecolor": "#EBF0F8",
            "ticks": ""
           },
           "bgcolor": "white",
           "radialaxis": {
            "gridcolor": "#EBF0F8",
            "linecolor": "#EBF0F8",
            "ticks": ""
           }
          },
          "scene": {
           "xaxis": {
            "backgroundcolor": "white",
            "gridcolor": "#DFE8F3",
            "gridwidth": 2,
            "linecolor": "#EBF0F8",
            "showbackground": true,
            "ticks": "",
            "zerolinecolor": "#EBF0F8"
           },
           "yaxis": {
            "backgroundcolor": "white",
            "gridcolor": "#DFE8F3",
            "gridwidth": 2,
            "linecolor": "#EBF0F8",
            "showbackground": true,
            "ticks": "",
            "zerolinecolor": "#EBF0F8"
           },
           "zaxis": {
            "backgroundcolor": "white",
            "gridcolor": "#DFE8F3",
            "gridwidth": 2,
            "linecolor": "#EBF0F8",
            "showbackground": true,
            "ticks": "",
            "zerolinecolor": "#EBF0F8"
           }
          },
          "shapedefaults": {
           "line": {
            "color": "#2a3f5f"
           }
          },
          "ternary": {
           "aaxis": {
            "gridcolor": "#DFE8F3",
            "linecolor": "#A2B1C6",
            "ticks": ""
           },
           "baxis": {
            "gridcolor": "#DFE8F3",
            "linecolor": "#A2B1C6",
            "ticks": ""
           },
           "bgcolor": "white",
           "caxis": {
            "gridcolor": "#DFE8F3",
            "linecolor": "#A2B1C6",
            "ticks": ""
           }
          },
          "title": {
           "x": 0.05
          },
          "xaxis": {
           "automargin": true,
           "gridcolor": "#EBF0F8",
           "linecolor": "#EBF0F8",
           "ticks": "",
           "title": {
            "standoff": 15
           },
           "zerolinecolor": "#EBF0F8",
           "zerolinewidth": 2
          },
          "yaxis": {
           "automargin": true,
           "gridcolor": "#EBF0F8",
           "linecolor": "#EBF0F8",
           "ticks": "",
           "title": {
            "standoff": 15
           },
           "zerolinecolor": "#EBF0F8",
           "zerolinewidth": 2
          }
         }
        },
        "title": {
         "font": {
          "color": "Black",
          "size": 22
         },
         "text": "Topic Word Scores",
         "x": 0.5,
         "xanchor": "center",
         "yanchor": "top"
        },
        "width": 1000,
        "xaxis": {
         "anchor": "y",
         "domain": [
          0,
          0.175
         ],
         "showgrid": true
        },
        "xaxis2": {
         "anchor": "y2",
         "domain": [
          0.275,
          0.45
         ],
         "showgrid": true
        },
        "xaxis3": {
         "anchor": "y3",
         "domain": [
          0.55,
          0.7250000000000001
         ],
         "showgrid": true
        },
        "xaxis4": {
         "anchor": "y4",
         "domain": [
          0.825,
          1
         ],
         "showgrid": true
        },
        "xaxis5": {
         "anchor": "y5",
         "domain": [
          0,
          0.175
         ],
         "showgrid": true
        },
        "xaxis6": {
         "anchor": "y6",
         "domain": [
          0.275,
          0.45
         ],
         "showgrid": true
        },
        "xaxis7": {
         "anchor": "y7",
         "domain": [
          0.55,
          0.7250000000000001
         ],
         "showgrid": true
        },
        "xaxis8": {
         "anchor": "y8",
         "domain": [
          0.825,
          1
         ],
         "showgrid": true
        },
        "yaxis": {
         "anchor": "x",
         "domain": [
          0.6000000000000001,
          1
         ],
         "showgrid": true
        },
        "yaxis2": {
         "anchor": "x2",
         "domain": [
          0.6000000000000001,
          1
         ],
         "showgrid": true
        },
        "yaxis3": {
         "anchor": "x3",
         "domain": [
          0.6000000000000001,
          1
         ],
         "showgrid": true
        },
        "yaxis4": {
         "anchor": "x4",
         "domain": [
          0.6000000000000001,
          1
         ],
         "showgrid": true
        },
        "yaxis5": {
         "anchor": "x5",
         "domain": [
          0,
          0.4
         ],
         "showgrid": true
        },
        "yaxis6": {
         "anchor": "x6",
         "domain": [
          0,
          0.4
         ],
         "showgrid": true
        },
        "yaxis7": {
         "anchor": "x7",
         "domain": [
          0,
          0.4
         ],
         "showgrid": true
        },
        "yaxis8": {
         "anchor": "x8",
         "domain": [
          0,
          0.4
         ],
         "showgrid": true
        }
       }
      }
     },
     "metadata": {},
     "output_type": "display_data"
    }
   ],
   "source": [
    "topic_model.visualize_barchart()"
   ]
  }
 ],
 "metadata": {
  "kernelspec": {
   "display_name": "env",
   "language": "python",
   "name": "python3"
  },
  "language_info": {
   "codemirror_mode": {
    "name": "ipython",
    "version": 3
   },
   "file_extension": ".py",
   "mimetype": "text/x-python",
   "name": "python",
   "nbconvert_exporter": "python",
   "pygments_lexer": "ipython3",
   "version": "3.11.9"
  }
 },
 "nbformat": 4,
 "nbformat_minor": 5
}
