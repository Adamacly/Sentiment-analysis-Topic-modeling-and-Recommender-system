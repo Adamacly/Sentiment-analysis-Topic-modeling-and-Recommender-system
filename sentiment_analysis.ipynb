{
 "cells": [
  {
   "cell_type": "code",
   "execution_count": 7,
   "id": "b40bc0e2",
   "metadata": {},
   "outputs": [],
   "source": [
    "# Import libraries\n",
    "import pandas as pd\n",
    "import numpy as np\n",
    "\n",
    "%matplotlib inline"
   ]
  },
  {
   "cell_type": "code",
   "execution_count": 3,
   "id": "46cabc08",
   "metadata": {},
   "outputs": [],
   "source": [
    "#from transformers import pipeline\n",
    "\n",
    "# Initialisation du pipeline pour l'analyse de sentiment avec RoBERTa\n",
    "#analyse_sentiment = pipeline(\"sentiment-analysis\", model=\"cardiffnlp/twitter-roberta-base-sentiment\")\n",
    "\n",
    "# Exemple de texte\n",
    "#texte = \"I absolutely loved this movie!! 😍 But the ending was disappointing.\"\n",
    "\n",
    "# Analyse du sentiment\n",
    "#resultat = analyse_sentiment(texte)\n",
    "\n",
    "# Affichage des résultats\n",
    "#print(\"Texte : \", texte)\n",
    "#print(\"Résultats de l'analyse de sentiment : \", resultat)"
   ]
  },
  {
   "cell_type": "code",
   "execution_count": 9,
   "id": "af7134fa",
   "metadata": {},
   "outputs": [],
   "source": [
    "df = pd.read_csv('data/reviews_cleaned.csv')"
   ]
  },
  {
   "cell_type": "code",
   "execution_count": 4,
   "id": "149d6c07",
   "metadata": {},
   "outputs": [
    {
     "name": "stderr",
     "output_type": "stream",
     "text": [
      "c:\\Users\\ADAMA\\Desktop\\Projet text mining\\env\\Lib\\site-packages\\tqdm\\auto.py:21: TqdmWarning: IProgress not found. Please update jupyter and ipywidgets. See https://ipywidgets.readthedocs.io/en/stable/user_install.html\n",
      "  from .autonotebook import tqdm as notebook_tqdm\n",
      "c:\\Users\\ADAMA\\Desktop\\Projet text mining\\env\\Lib\\site-packages\\huggingface_hub\\file_download.py:143: UserWarning: `huggingface_hub` cache-system uses symlinks by default to efficiently store duplicated files but your machine does not support them in C:\\Users\\ADAMA\\.cache\\huggingface\\hub\\models--siebert--sentiment-roberta-large-english. Caching files will still work but in a degraded version that might require more space on your disk. This warning can be disabled by setting the `HF_HUB_DISABLE_SYMLINKS_WARNING` environment variable. For more details, see https://huggingface.co/docs/huggingface_hub/how-to-cache#limitations.\n",
      "To support symlinks on Windows, you either need to activate Developer Mode or to run Python as an administrator. In order to activate developer mode, see this article: https://docs.microsoft.com/en-us/windows/apps/get-started/enable-your-device-for-development\n",
      "  warnings.warn(message)\n",
      "Device set to use cpu\n"
     ]
    },
    {
     "name": "stdout",
     "output_type": "stream",
     "text": [
      "[{'label': 'POSITIVE', 'score': 0.9988656044006348}]\n"
     ]
    },
    {
     "name": "stderr",
     "output_type": "stream",
     "text": [
      "Error while downloading from https://cdn-lfs.hf.co/siebert/sentiment-roberta-large-english/8fb5f08fb0c5a9742e52fabe39b4eac08babf23d4491e100b6d367b78dbc9405?response-content-disposition=inline%3B+filename*%3DUTF-8%27%27model.safetensors%3B+filename%3D%22model.safetensors%22%3B&Expires=1748195381&Policy=eyJTdGF0ZW1lbnQiOlt7IkNvbmRpdGlvbiI6eyJEYXRlTGVzc1RoYW4iOnsiQVdTOkVwb2NoVGltZSI6MTc0ODE5NTM4MX19LCJSZXNvdXJjZSI6Imh0dHBzOi8vY2RuLWxmcy5oZi5jby9zaWViZXJ0L3NlbnRpbWVudC1yb2JlcnRhLWxhcmdlLWVuZ2xpc2gvOGZiNWYwOGZiMGM1YTk3NDJlNTJmYWJlMzliNGVhYzA4YmFiZjIzZDQ0OTFlMTAwYjZkMzY3Yjc4ZGJjOTQwNT9yZXNwb25zZS1jb250ZW50LWRpc3Bvc2l0aW9uPSoifV19&Signature=Z0Stmyp0tF1auynawUIeLaLEGnIGf0OD%7EiwnxbFV%7EzPSqtpMl0oIiMQ5M1zeYuYudGUK9R5C3FDdza1kSjBnu1NmaULOBhVFqds6%7E937n7xWH2TcnYcLYeTq9opxeUkZep%7ENMfhPoLZyESSN533dEmiP%7E6YDqPBs6LVbuuFUxgF95Xl%7EjoBjIGf2vJMMT-VEcSlMbx6RU88pWl5VUtnSNVX0BJDopql35vuLXvh49M-Ij2XyMw9YhLk2Et5Y2VbKWUdkmC9krFeobzHdLD2fi7LxmFWUTbwnxBfMTDrswFoP1OMqVSRCv43K1Da-LCRiM7fxlaR%7EzG3dwSiTsaLB3A__&Key-Pair-Id=K3RPWS32NSSJCE: HTTPSConnectionPool(host='cdn-lfs.hf.co', port=443): Read timed out.\n",
      "Trying to resume download...\n"
     ]
    }
   ],
   "source": [
    "from transformers import pipeline\n",
    "#import tensorflow as tf\n",
    "import torch\n",
    "\n",
    "sentiment_analysis = pipeline(\"sentiment-analysis\", \n",
    "                              model=\"siebert/sentiment-roberta-large-english\", \n",
    "                              framework=\"pt\"\n",
    "                              )\n",
    "\n",
    "print(sentiment_analysis(\"I love this!\"))"
   ]
  },
  {
   "cell_type": "code",
   "execution_count": 5,
   "id": "809a9888",
   "metadata": {},
   "outputs": [
    {
     "name": "stdout",
     "output_type": "stream",
     "text": [
      "Torch disponible : True\n"
     ]
    }
   ],
   "source": [
    "from transformers.utils import is_torch_available\n",
    "import torch\n",
    "print(\"Torch disponible :\", is_torch_available())"
   ]
  },
  {
   "cell_type": "code",
   "execution_count": 11,
   "id": "639d5a1d",
   "metadata": {},
   "outputs": [
    {
     "name": "stdout",
     "output_type": "stream",
     "text": [
      "[{'label': 'POSITIVE', 'score': 0.9987357258796692}]\n"
     ]
    }
   ],
   "source": [
    "print(sentiment_analysis(df[\"Text\"][0]))"
   ]
  },
  {
   "cell_type": "code",
   "execution_count": 12,
   "id": "7317332b",
   "metadata": {},
   "outputs": [
    {
     "name": "stdout",
     "output_type": "stream",
     "text": [
      "Sentiment: POSITIVE, Score: 0.9987357258796692\n"
     ]
    }
   ],
   "source": [
    "def detect_sentiment(text):\n",
    "    \"\"\"\n",
    "    Fonction pour détecter le sentiment d'un texte.\n",
    "    \"\"\"\n",
    "    result = sentiment_analysis(text)\n",
    "    return result[0]['label'], result[0]['score'] \n",
    "\n",
    "sentiment, score = detect_sentiment(df[\"Text\"][0])\n",
    "print(f\"Sentiment: {sentiment}, Score: {score}\")"
   ]
  }
 ],
 "metadata": {
  "kernelspec": {
   "display_name": "env",
   "language": "python",
   "name": "python3"
  },
  "language_info": {
   "codemirror_mode": {
    "name": "ipython",
    "version": 3
   },
   "file_extension": ".py",
   "mimetype": "text/x-python",
   "name": "python",
   "nbconvert_exporter": "python",
   "pygments_lexer": "ipython3",
   "version": "3.11.9"
  }
 },
 "nbformat": 4,
 "nbformat_minor": 5
}
